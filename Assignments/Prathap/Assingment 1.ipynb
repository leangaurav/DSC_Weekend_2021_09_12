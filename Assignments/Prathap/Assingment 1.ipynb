{
 "cells": [
  {
   "cell_type": "code",
   "execution_count": 3,
   "id": "dd94d93d",
   "metadata": {},
   "outputs": [
    {
     "name": "stdout",
     "output_type": "stream",
     "text": [
      "6 23\n"
     ]
    }
   ],
   "source": [
    "#1\n",
    "s1='Gaurav'\n",
    "s2='leangaurav.me@email.com'\n",
    "print(len(s1),len(s2))"
   ]
  },
  {
   "cell_type": "code",
   "execution_count": 8,
   "id": "866305fb",
   "metadata": {},
   "outputs": [
    {
     "name": "stdout",
     "output_type": "stream",
     "text": [
      "7\n"
     ]
    }
   ],
   "source": [
    "#2\n",
    "x='prathap'\n",
    "print(len(x))"
   ]
  },
  {
   "cell_type": "code",
   "execution_count": 10,
   "id": "e01b8ad3",
   "metadata": {},
   "outputs": [
    {
     "name": "stdout",
     "output_type": "stream",
     "text": [
      "17\n",
      "3\n"
     ]
    }
   ],
   "source": [
    "#3\n",
    "a=10\n",
    "b=7\n",
    "print(a+b)\n",
    "print(a-b)\n"
   ]
  },
  {
   "cell_type": "code",
   "execution_count": 12,
   "id": "e6351de3",
   "metadata": {},
   "outputs": [
    {
     "name": "stdout",
     "output_type": "stream",
     "text": [
      "s1+s2\n"
     ]
    }
   ],
   "source": [
    "#4\n",
    "s1='ab'\n",
    "s2='de'\n",
    "s3='s1+s2'\n",
    "print(s3)"
   ]
  },
  {
   "cell_type": "code",
   "execution_count": 14,
   "id": "f1660947",
   "metadata": {},
   "outputs": [],
   "source": [
    "#5\n",
    "#same as 4"
   ]
  },
  {
   "cell_type": "code",
   "execution_count": 17,
   "id": "7ffb374e",
   "metadata": {},
   "outputs": [
    {
     "name": "stdout",
     "output_type": "stream",
     "text": [
      "abababab\n"
     ]
    }
   ],
   "source": [
    "#6\n",
    "s1='ab'*4\n",
    "print(s1)"
   ]
  },
  {
   "cell_type": "code",
   "execution_count": 19,
   "id": "978fae8a",
   "metadata": {},
   "outputs": [
    {
     "name": "stdout",
     "output_type": "stream",
     "text": [
      "ab\n",
      "ab\n",
      "ab\n",
      "ab\n",
      "\n"
     ]
    }
   ],
   "source": [
    "#7\n",
    "s1='ab\\n'*4\n",
    "print(s1)"
   ]
  },
  {
   "cell_type": "code",
   "execution_count": 31,
   "id": "900f373b",
   "metadata": {},
   "outputs": [
    {
     "name": "stdout",
     "output_type": "stream",
     "text": [
      "XY\n",
      "XY\n",
      "XY\n",
      "XY\n",
      "XY\n",
      "\n"
     ]
    }
   ],
   "source": [
    "#8\n",
    "s=\"XY\"'\\n'\n",
    "n=5\n",
    "print(s*n,)\n"
   ]
  },
  {
   "cell_type": "code",
   "execution_count": 37,
   "id": "2b3c8362",
   "metadata": {},
   "outputs": [
    {
     "name": "stdout",
     "output_type": "stream",
     "text": [
      "gaurav\n",
      "None\n"
     ]
    }
   ],
   "source": [
    "#9\n",
    "res=print('gaurav')\n",
    "print(res)\n"
   ]
  },
  {
   "cell_type": "code",
   "execution_count": 42,
   "id": "8c0cb2c5",
   "metadata": {},
   "outputs": [
    {
     "name": "stdout",
     "output_type": "stream",
     "text": [
      "<class 'int'>\n"
     ]
    }
   ],
   "source": [
    "#10\n",
    "res=len('leangaurav.me@email.com')\n",
    "print(type(res))"
   ]
  },
  {
   "cell_type": "code",
   "execution_count": 45,
   "id": "25a9c1d9",
   "metadata": {},
   "outputs": [
    {
     "name": "stdout",
     "output_type": "stream",
     "text": [
      "<class 'str'> 30\n"
     ]
    }
   ],
   "source": [
    "#11\n",
    "s1='gaurav'\n",
    "s2='leangaurav.me@email.com'\n",
    "s3= s1+'\\n'+s2\n",
    "print(type(s3),len(s3))"
   ]
  },
  {
   "cell_type": "code",
   "execution_count": null,
   "id": "4e41cf14",
   "metadata": {},
   "outputs": [],
   "source": [
    "#12\n",
    "math.sqrt"
   ]
  },
  {
   "cell_type": "code",
   "execution_count": 52,
   "id": "d1cacc56",
   "metadata": {},
   "outputs": [
    {
     "name": "stdout",
     "output_type": "stream",
     "text": [
      "the square root of 645 2.1213203435596424\n"
     ]
    }
   ],
   "source": [
    "#13\n",
    "import math\n",
    "print('the square root of 645',math.sqrt(4.5))"
   ]
  },
  {
   "cell_type": "code",
   "execution_count": 54,
   "id": "6f80e1bb",
   "metadata": {},
   "outputs": [
    {
     "name": "stdout",
     "output_type": "stream",
     "text": [
      "7.0\n"
     ]
    }
   ],
   "source": [
    "#14\n",
    "a=1\n",
    "b=2\n",
    "c=3\n",
    "d=4\n",
    "print(a+b+c+d/4)"
   ]
  },
  {
   "cell_type": "code",
   "execution_count": 56,
   "id": "2dc666cd",
   "metadata": {},
   "outputs": [
    {
     "name": "stdout",
     "output_type": "stream",
     "text": [
      "Help on built-in function abs in module builtins:\n",
      "\n",
      "abs(x, /)\n",
      "    Return the absolute value of the argument.\n",
      "\n"
     ]
    }
   ],
   "source": [
    "#15\n",
    "help(abs)"
   ]
  },
  {
   "cell_type": "code",
   "execution_count": 61,
   "id": "e7e7b39a",
   "metadata": {},
   "outputs": [
    {
     "ename": "NameError",
     "evalue": "name '_name_' is not defined",
     "output_type": "error",
     "traceback": [
      "\u001b[1;31m---------------------------------------------------------------------------\u001b[0m",
      "\u001b[1;31mNameError\u001b[0m                                 Traceback (most recent call last)",
      "\u001b[1;32m<ipython-input-61-9f92399f3f63>\u001b[0m in \u001b[0;36m<module>\u001b[1;34m\u001b[0m\n\u001b[0;32m      1\u001b[0m \u001b[1;31m#16\u001b[0m\u001b[1;33m\u001b[0m\u001b[1;33m\u001b[0m\u001b[1;33m\u001b[0m\u001b[0m\n\u001b[0;32m      2\u001b[0m \u001b[0mname\u001b[0m\u001b[1;33m=\u001b[0m \u001b[1;34m'king'\u001b[0m\u001b[1;33m\u001b[0m\u001b[1;33m\u001b[0m\u001b[0m\n\u001b[1;32m----> 3\u001b[1;33m \u001b[0mprint\u001b[0m\u001b[1;33m(\u001b[0m\u001b[0m_name_\u001b[0m\u001b[1;33m)\u001b[0m\u001b[1;33m\u001b[0m\u001b[1;33m\u001b[0m\u001b[0m\n\u001b[0m",
      "\u001b[1;31mNameError\u001b[0m: name '_name_' is not defined"
     ]
    }
   ],
   "source": [
    "#16 #17 #18 #19- refering others work \n",
    "name= 'king'\n",
    "print(_name_)"
   ]
  },
  {
   "cell_type": "code",
   "execution_count": null,
   "id": "c1ebba5e",
   "metadata": {},
   "outputs": [],
   "source": []
  }
 ],
 "metadata": {
  "kernelspec": {
   "display_name": "Python 3",
   "language": "python",
   "name": "python3"
  },
  "language_info": {
   "codemirror_mode": {
    "name": "ipython",
    "version": 3
   },
   "file_extension": ".py",
   "mimetype": "text/x-python",
   "name": "python",
   "nbconvert_exporter": "python",
   "pygments_lexer": "ipython3",
   "version": "3.8.8"
  }
 },
 "nbformat": 4,
 "nbformat_minor": 5
}
