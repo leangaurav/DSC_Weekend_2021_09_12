{
 "cells": [
  {
   "cell_type": "code",
   "execution_count": 5,
   "metadata": {},
   "outputs": [
    {
     "name": "stdout",
     "output_type": "stream",
     "text": [
      "Enter string s1 :abc\n",
      "Enter string s2 :def\n",
      "post swaaping string s1 is : def\n",
      "string s2 is : abc\n"
     ]
    }
   ],
   "source": [
    "# 1. WAP to input 2 strings and swap the strings \n",
    "\n",
    "a=input(\"Enter string s1 :\")\n",
    "b=input(\"Enter string s2 :\")\n",
    "c=a\n",
    "a=b\n",
    "b=c\n",
    "print(\"post swaaping string s1 is :\" ,a)\n",
    "print(\"string s2 is :\",b)"
   ]
  },
  {
   "cell_type": "code",
   "execution_count": 10,
   "metadata": {},
   "outputs": [
    {
     "name": "stdout",
     "output_type": "stream",
     "text": [
      "random numbers are : 8 22 19 10\n",
      "Avg of all these numbers is : 14.75\n"
     ]
    }
   ],
   "source": [
    "#2. WAP to generate 4 random numbers in the range 0-26 and print their average \n",
    "\n",
    "import random as rr\n",
    "n1=rr.randrange(1,27)\n",
    "n2=rr.randrange(1,27)\n",
    "n3=rr.randrange(1,27)\n",
    "n4=rr.randrange(1,27)\n",
    "print(\"random numbers are :\" , n1,n2,n3,n4)\n",
    "print(\"Avg of all these numbers is :\" , (n1+n2+n3+n4)/4)\n"
   ]
  },
  {
   "cell_type": "code",
   "execution_count": 1,
   "metadata": {},
   "outputs": [
    {
     "name": "stdout",
     "output_type": "stream",
     "text": [
      "enter a string:AbcdEF\n",
      "C\n",
      "c\n"
     ]
    }
   ],
   "source": [
    "#3. WAP to generate and print a random uppercase or lowercase alphabet. \n",
    "from random import randrange\n",
    "s = input(\"enter a string:\")\n",
    "index = randrange(len(s))\n",
    "print(s[index].upper())\n",
    "print(s[index].lower())"
   ]
  },
  {
   "cell_type": "code",
   "execution_count": 18,
   "metadata": {},
   "outputs": [
    {
     "name": "stdout",
     "output_type": "stream",
     "text": [
      "Enter P : 100\n",
      "Enter R : 5.5\n",
      "Enter T : 1\n",
      "5.5\n"
     ]
    }
   ],
   "source": [
    "# WAF get_si() that takes Principle, Rate and Time as arguments and returns the Simple Interest. \n",
    "\n",
    "def get_si(P,R,T):\n",
    "    si=(P*R*T)/100\n",
    "    return si\n",
    "\n",
    "P=float(input(\"Enter P : \"))\n",
    "R=float(input(\"Enter R : \"))\n",
    "T=float(input(\"Enter T : \"))\n",
    "print(get_si(P,R,T))"
   ]
  },
  {
   "cell_type": "code",
   "execution_count": 24,
   "metadata": {},
   "outputs": [
    {
     "name": "stdout",
     "output_type": "stream",
     "text": [
      "Enter P : 100\n",
      "SI is  10.0\n",
      "Total Amount is 110.0\n"
     ]
    }
   ],
   "source": [
    "#5. WAF get_amount() that takes Principle, Rate and Time as arguments and returns the Total \n",
    "# amount using the get_si() function from above to calculate the SI. \n",
    "# Also provide Rate = 10 and Time = 1 as default arguments\n",
    "\n",
    "R=10\n",
    "T=1\n",
    "def get_si(P,R,T):\n",
    "    \n",
    "    si=(P*R*T)/100\n",
    "    return si\n",
    "\n",
    "P=float(input(\"Enter Principal : \"))\n",
    "si=get_si(P,R,T)\n",
    "print(\"SI is \" , si)\n",
    "\n",
    "def get_amount(P,si):\n",
    "    A=P+si\n",
    "    return A\n",
    "\n",
    "print(\"Total Amount is\", get_amount(P,si))"
   ]
  },
  {
   "cell_type": "code",
   "execution_count": 30,
   "metadata": {},
   "outputs": [
    {
     "name": "stdout",
     "output_type": "stream",
     "text": [
      "Enter Principal : 1000\n",
      "Enter R : 10\n",
      "Enter T : 2\n",
      " CI is :  1210\n"
     ]
    }
   ],
   "source": [
    "def get_ci(P,R,T):\n",
    "    ci=P*((1+R/100)**T)\n",
    "    return ci\n",
    "\n",
    "P=float(input(\"Enter Principal : \"))\n",
    "R=float(input(\"Enter R : \"))\n",
    "T=float(input(\"Enter T : \"))\n",
    "CI=get_ci(P,R,T)\n",
    "\n",
    "print(\" CI is : \",round(CI))"
   ]
  },
  {
   "cell_type": "code",
   "execution_count": 34,
   "metadata": {},
   "outputs": [
    {
     "name": "stdout",
     "output_type": "stream",
     "text": [
      "Enter numerator: 10\n",
      "Enter denom :3\n",
      "Quatient and remainder are : (3, 1)\n"
     ]
    }
   ],
   "source": [
    "#WAP get_q_r() taking 2 numbers as parameters \n",
    "# and returns the quotient and remainder in the form of a tuple. \n",
    "\n",
    "def get_q_r(a,b):\n",
    "    q=a//b\n",
    "    r=a%b\n",
    "    return q,r\n",
    "a=int(input(\"Enter numerator: \"))\n",
    "b=int(input(\"Enter denom :\"))\n",
    "\n",
    "print(\"Quatient and remainder are :\" ,get_q_r(a,b))\n",
    "    \n",
    "    "
   ]
  },
  {
   "cell_type": "code",
   "execution_count": 41,
   "metadata": {},
   "outputs": [
    {
     "name": "stdout",
     "output_type": "stream",
     "text": [
      "enter height of triangle : 3\n",
      "enter base of triangle: 4\n",
      "Hypotenus of trianlge is : 5.0\n"
     ]
    }
   ],
   "source": [
    "#8. WAP to find the length of hypotenuse of a right angled \n",
    "# triangle, input the height and base from user. \n",
    "import math\n",
    "def get_hyp(h,b):\n",
    "    hyp=math.sqrt((h**2)+(b**2))\n",
    "    return hyp\n",
    "\n",
    "h=int(input(\"enter height of triangle : \"))\n",
    "b=int(input(\"enter base of triangle: \"))\n",
    "hyp=get_hyp(h,b)\n",
    "print(\"Hypotenus of trianlge is :\" ,hyp)\n",
    "    "
   ]
  },
  {
   "cell_type": "code",
   "execution_count": 10,
   "metadata": {},
   "outputs": [
    {
     "name": "stdout",
     "output_type": "stream",
     "text": [
      "Enter value: 11000\n",
      "converted value = 0 day 3 hour 3 minute 20 seconds\n"
     ]
    }
   ],
   "source": [
    "#  WAP to input number of seconds and print in days , hours, minutes and seconds\n",
    "value = int(input(\"Enter value: \"))\n",
    "ss  = value % 60  \n",
    "mm   = value / 60 \n",
    "hh  = mm / 60 \n",
    "mm   = mm % 60 \n",
    "dd   = hh / 24\n",
    "print('converted value = %d day %d hour %d minute %d seconds' %(dd, hh, mm, ss))\n"
   ]
  },
  {
   "cell_type": "code",
   "execution_count": 11,
   "metadata": {},
   "outputs": [
    {
     "name": "stdout",
     "output_type": "stream",
     "text": [
      "3.7.6 (default, Jan  8 2020, 20:23:39) [MSC v.1916 64 bit (AMD64)]\n"
     ]
    }
   ],
   "source": [
    "# check your version of python interpreter without opening the interpreter\n",
    "# (which command needs to be used on the command line)\n",
    "\n",
    "import sys \n",
    "print(sys.version)"
   ]
  },
  {
   "cell_type": "code",
   "execution_count": 12,
   "metadata": {},
   "outputs": [
    {
     "name": "stdout",
     "output_type": "stream",
     "text": [
      "2 -2\n"
     ]
    }
   ],
   "source": [
    "# find output \n",
    "X =  2\n",
    "X *=  3\n",
    "X = X%4\n",
    "Y = - X\n",
    "print(X,Y)"
   ]
  }
 ],
 "metadata": {
  "kernelspec": {
   "display_name": "Python 3",
   "language": "python",
   "name": "python3"
  },
  "language_info": {
   "codemirror_mode": {
    "name": "ipython",
    "version": 3
   },
   "file_extension": ".py",
   "mimetype": "text/x-python",
   "name": "python",
   "nbconvert_exporter": "python",
   "pygments_lexer": "ipython3",
   "version": "3.7.6"
  }
 },
 "nbformat": 4,
 "nbformat_minor": 4
}
