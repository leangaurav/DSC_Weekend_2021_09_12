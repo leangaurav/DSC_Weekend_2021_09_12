{
 "cells": [
  {
   "cell_type": "code",
   "execution_count": 5,
   "metadata": {},
   "outputs": [
    {
     "name": "stdout",
     "output_type": "stream",
     "text": [
      "<class 'tuple'>\n",
      "[1, 2, 3, 4, 5]\n",
      "<class 'list'>\n"
     ]
    }
   ],
   "source": [
    "# 1. Convert a Tuple t = (1,2,3,4,5) to a list\n",
    "\n",
    "t = (1,2,3,4,5)\n",
    "print(type(t))\n",
    "l1=list(t)\n",
    "print(l1)\n",
    "print(type(l1))"
   ]
  },
  {
   "cell_type": "code",
   "execution_count": 10,
   "metadata": {},
   "outputs": [
    {
     "name": "stdout",
     "output_type": "stream",
     "text": [
      "[1, 3, 5, 7, 8, 6, 4, 2]\n"
     ]
    }
   ],
   "source": [
    "#2. WAP to join a list and a tuple:  \n",
    "L = [1,3,5,7]   \n",
    "T = (8,6,4,2) \n",
    "L1=list(T)\n",
    "#print(L1)\n",
    "L=L+L1\n",
    "print(L)\n"
   ]
  },
  {
   "cell_type": "markdown",
   "metadata": {},
   "source": [
    "Q What is the difference between List and tuple\n",
    "A \n",
    "1 Tuples are immutable objects where as Lists are mutable.\n",
    "2 Tuples requires less memory as compared to Lists\n",
    "3 Tuples are more time efficient compared to List\n",
    "4 If we have data which is supposed to be static, then tuple is good."
   ]
  },
  {
   "cell_type": "code",
   "execution_count": 15,
   "metadata": {},
   "outputs": [
    {
     "name": "stdout",
     "output_type": "stream",
     "text": [
      "list ['a', 'd', 'c', 'A', 'C']\n",
      "reversed string ['C', 'A', 'c', 'd', 'a']\n"
     ]
    }
   ],
   "source": [
    "# 4. Print the list in reverse order  \n",
    "l = ['a', 'd', 'c', 'A', 'C']\n",
    "print(\"list\",l)\n",
    "print(\"reversed string\" , l[::-1])\n"
   ]
  },
  {
   "cell_type": "code",
   "execution_count": 11,
   "metadata": {},
   "outputs": [
    {
     "name": "stdout",
     "output_type": "stream",
     "text": [
      "elements in ODD indexes  [11, 21, 31, 41]\n"
     ]
    }
   ],
   "source": [
    "# 5. Print elements at Odd indexes from a list (Do not use loop)\n",
    "l = [10,11,20,21,30,31,40,41]\n",
    "\n",
    "print(\"elements at ODD indexes \", l[1::2])"
   ]
  },
  {
   "cell_type": "code",
   "execution_count": 21,
   "metadata": {},
   "outputs": [
    {
     "name": "stdout",
     "output_type": "stream",
     "text": [
      "  \n",
      "list a - [1, 2, 3, 4, 5]\n",
      "list b - [1, 2, 3, 4, 5]\n",
      " \n",
      "string a -  pyhton\n",
      "list b - ['p', 'y', 'h', 't', 'o', 'n']\n",
      "\n",
      "list a ==> 2030923860040 [1, 2, 3, 4, 5, 6]\n",
      "list b ==> 2030922880008 [1, 2, 3, 4, 5, 6]\n"
     ]
    }
   ],
   "source": [
    "# 6. How many ways you can copy a list \n",
    "\n",
    "# using copy() method \n",
    "print(\"  \")\n",
    "a = [1,2,3,4,5]\n",
    "b = a.copy()\n",
    "print (\"list a -\", a)\n",
    "print (\"list b -\", b)\n",
    "\n",
    "#  using list() method \n",
    "\n",
    "print(\" \")\n",
    "a = 'pyhton'\n",
    "b = list(a)\n",
    "print (\"string a - \", a)\n",
    "print (\"list b -\", b)\n",
    "\n",
    "\n",
    "# using slicing  \n",
    "print()\n",
    "a = [1,2,3,4,5,6]\n",
    "b = a[:]\n",
    "print (\"list a ==>\",id(a), a)\n",
    "print (\"list b ==>\", id(b),b)\n",
    "\n",
    "\n"
   ]
  },
  {
   "cell_type": "code",
   "execution_count": 23,
   "metadata": {},
   "outputs": [
    {
     "name": "stdout",
     "output_type": "stream",
     "text": [
      "a\n",
      "5\n"
     ]
    }
   ],
   "source": [
    "# 7. predict output\n",
    "n_list = [\"Happy\",[2,0,1,5]]\n",
    "print(n_list[0][1])\n",
    "print(n_list[1][3]) "
   ]
  },
  {
   "cell_type": "code",
   "execution_count": 24,
   "metadata": {},
   "outputs": [
    {
     "name": "stdout",
     "output_type": "stream",
     "text": [
      "[1, 4, 6, 8]\n",
      "[1, 3, 5, 7]\n"
     ]
    }
   ],
   "source": [
    "# 8. predict output\n",
    "odd = [2,4,6,8]\n",
    "odd[0] = 1  \n",
    "print(odd) \n",
    "odd[1:4] = [3,5,7]\n",
    "print(odd) "
   ]
  },
  {
   "cell_type": "code",
   "execution_count": 30,
   "metadata": {},
   "outputs": [
    {
     "name": "stdout",
     "output_type": "stream",
     "text": [
      "[1, 3, 5, [7, 9]]\n",
      "[1, 3, 5, [7, 9], 11, 13]\n"
     ]
    }
   ],
   "source": [
    "# 9. predict output\n",
    "odd = [1,3,5]\n",
    "odd.append([7,9]) # appends new item as list\n",
    "print(odd) \n",
    "odd.extend([11,13]) # append new items separately\n",
    "print(odd) "
   ]
  },
  {
   "cell_type": "code",
   "execution_count": 31,
   "metadata": {},
   "outputs": [
    {
     "name": "stdout",
     "output_type": "stream",
     "text": [
      "<class 'tuple'>\n",
      "<class 'int'>\n",
      "<class 'int'>\n",
      "<class 'tuple'>\n"
     ]
    }
   ],
   "source": [
    "# 10 predict output \n",
    "x = 1,2,3; print(type(x))\n",
    "x = (1); print(type(x))\n",
    "x = 1; print(type(x))\n",
    "x = 1,; print(type(x))"
   ]
  },
  {
   "cell_type": "code",
   "execution_count": 46,
   "metadata": {},
   "outputs": [
    {
     "name": "stdout",
     "output_type": "stream",
     "text": [
      "[1, 2, 3]\n",
      "[4, 5, 6]\n",
      "[7, 8, 9]\n",
      "\n",
      "1 2 3\n",
      "4 5 6\n",
      "7 8 9\n"
     ]
    }
   ],
   "source": [
    "# 11 try to repesent a matrix with following data in python\n",
    "\n",
    "\n",
    "a=[1,2,3]\n",
    "b=[4,5,6]\n",
    "c=[7,8,9]\n",
    "\n",
    "print(a)\n",
    "print(b)\n",
    "print(c)\n",
    "\n",
    "print()\n",
    "\n",
    "print(1,2,3) \n",
    "print(4,5,6)\n",
    "print(7,8,9)"
   ]
  },
  {
   "cell_type": "code",
   "execution_count": 49,
   "metadata": {},
   "outputs": [
    {
     "name": "stdout",
     "output_type": "stream",
     "text": [
      "('s', 't', 'r', 'i', 'n', 'g')\n",
      "('g', 'n', 'i', 'r', 't', 's')\n",
      "('n', 's')\n"
     ]
    }
   ],
   "source": [
    "# 12. Predict output \n",
    "t = tuple('string')\n",
    "print(t)\n",
    "print(t[::-1]) # this will print reverse\n",
    "print(t[::2][::-2]) # this will fisr print s r n and from that it will takes n s as that is in reverse direction"
   ]
  },
  {
   "cell_type": "code",
   "execution_count": 50,
   "metadata": {},
   "outputs": [
    {
     "name": "stdout",
     "output_type": "stream",
     "text": [
      "True\n",
      "False\n",
      "1\n",
      "3\n"
     ]
    }
   ],
   "source": [
    "# 13 predict output\n",
    "t = tuple ([10,20,30,40,50,60])\n",
    "print(60 in t)\n",
    "print('60' in t)\n",
    "print(t.count(10))\n",
    "print(t.index(40))"
   ]
  },
  {
   "cell_type": "code",
   "execution_count": 53,
   "metadata": {},
   "outputs": [
    {
     "name": "stdout",
     "output_type": "stream",
     "text": [
      "Enter the string:- aba\n",
      "Entered string is a pallandrome\n"
     ]
    }
   ],
   "source": [
    "# 14 WAP a program to input a string and print if it is palindrome or not \n",
    "# palindrome string\n",
    "a=input(\"Enter the string:- \")\n",
    "a=a.lower()\n",
    "b=a[::-1]\n",
    "if a !=b:\n",
    "    print(\"Not a pallandrome\")\n",
    "else:\n",
    "    print(\"Entered string is a pallandrome\")"
   ]
  },
  {
   "cell_type": "code",
   "execution_count": 60,
   "metadata": {},
   "outputs": [
    {
     "name": "stdout",
     "output_type": "stream",
     "text": [
      "(20, 15, 10, 5)\n"
     ]
    }
   ],
   "source": [
    "# 15. Use the range method and create a tuple containing the following values: (20,15,10,5)\n",
    "a = range(20,0,-5)\n",
    "print(tuple(a))"
   ]
  },
  {
   "cell_type": "code",
   "execution_count": 63,
   "metadata": {},
   "outputs": [
    {
     "name": "stdout",
     "output_type": "stream",
     "text": [
      "string python\n",
      "coverted list from string is : ['p', 'y', 't', 'h', 'o', 'n']\n"
     ]
    }
   ],
   "source": [
    "# 16. WAP to convert string to list of charecters \n",
    "a = \"python\"\n",
    "b = list(a)\n",
    "print (\"string\", a)\n",
    "print (\"coverted list from string is :\", b)"
   ]
  },
  {
   "cell_type": "code",
   "execution_count": 67,
   "metadata": {},
   "outputs": [
    {
     "name": "stdout",
     "output_type": "stream",
     "text": [
      "<class 'list'>\n",
      "<class 'NoneType'>\n",
      "<class 'str'>\n",
      "<class 'bool'>\n"
     ]
    }
   ],
   "source": [
    "# 17. what is the return type of below.\n",
    "print(type('1 2'.split() ))\n",
    "print(type( [1,3,2].sort()))\n",
    "print(type( 'abc'.upper()))\n",
    "print(type( 1 in [1,2]))"
   ]
  },
  {
   "cell_type": "code",
   "execution_count": 66,
   "metadata": {},
   "outputs": [],
   "source": []
  }
 ],
 "metadata": {
  "kernelspec": {
   "display_name": "Python 3",
   "language": "python",
   "name": "python3"
  },
  "language_info": {
   "codemirror_mode": {
    "name": "ipython",
    "version": 3
   },
   "file_extension": ".py",
   "mimetype": "text/x-python",
   "name": "python",
   "nbconvert_exporter": "python",
   "pygments_lexer": "ipython3",
   "version": "3.7.6"
  }
 },
 "nbformat": 4,
 "nbformat_minor": 4
}
