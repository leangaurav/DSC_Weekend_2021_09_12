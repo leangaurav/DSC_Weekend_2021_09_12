{
 "cells": [
  {
   "cell_type": "code",
   "execution_count": 29,
   "metadata": {},
   "outputs": [
    {
     "name": "stdout",
     "output_type": "stream",
     "text": [
      "d\n",
      "detneirO tcejbO si nohtyP\n",
      "Python is Object Oriente\n",
      "\n",
      "''\n",
      "on is \n",
      "ne\n",
      "tar\n",
      "errny\n"
     ]
    }
   ],
   "source": [
    "#1. Guess output of each slice:   \n",
    "s='Python is Object Oriented' \n",
    "print(s[-1] )\n",
    "print(s[::-1])  # Prints reverse of string\n",
    "print(s[:-1])   # negatve indexing starting from -string length to -2\n",
    "print(s[1:1])\n",
    "print(repr(s[1:1])) # check reprsentation - its an empty string\n",
    "print(s[4:10])\n",
    "print(s[-4:-6:-1])\n",
    "s1=\"extraordinary\"\n",
    "print(s1[2:8:2])\n",
    "print(s1[::3])"
   ]
  },
  {
   "cell_type": "code",
   "execution_count": 23,
   "metadata": {},
   "outputs": [
    {
     "ename": "IndexError",
     "evalue": "string index out of range",
     "output_type": "error",
     "traceback": [
      "\u001b[1;31m---------------------------------------------------------------------------\u001b[0m",
      "\u001b[1;31mIndexError\u001b[0m                                Traceback (most recent call last)",
      "\u001b[1;32m<ipython-input-23-10b00515b966>\u001b[0m in \u001b[0;36m<module>\u001b[1;34m\u001b[0m\n\u001b[0;32m      1\u001b[0m \u001b[1;31m#2. What error do you see for following statements:\u001b[0m\u001b[1;33m\u001b[0m\u001b[1;33m\u001b[0m\u001b[1;33m\u001b[0m\u001b[0m\n\u001b[0;32m      2\u001b[0m \u001b[0ms\u001b[0m\u001b[1;33m=\u001b[0m\u001b[1;34m''\u001b[0m\u001b[1;33m\u001b[0m\u001b[1;33m\u001b[0m\u001b[0m\n\u001b[1;32m----> 3\u001b[1;33m \u001b[0mprint\u001b[0m\u001b[1;33m(\u001b[0m\u001b[0ms\u001b[0m\u001b[1;33m[\u001b[0m\u001b[1;36m1\u001b[0m\u001b[1;33m]\u001b[0m\u001b[1;33m)\u001b[0m\u001b[1;33m\u001b[0m\u001b[1;33m\u001b[0m\u001b[0m\n\u001b[0m\u001b[0;32m      4\u001b[0m \u001b[1;33m\u001b[0m\u001b[0m\n\u001b[0;32m      5\u001b[0m \u001b[1;31m# Answer is : IndexError: string index out of range\u001b[0m\u001b[1;33m\u001b[0m\u001b[1;33m\u001b[0m\u001b[1;33m\u001b[0m\u001b[0m\n",
      "\u001b[1;31mIndexError\u001b[0m: string index out of range"
     ]
    }
   ],
   "source": [
    "#2. What error do you see for following statements:  \n",
    "s=''\n",
    "print(s[1])\n",
    "\n",
    "# Answer is : IndexError: string index out of range"
   ]
  },
  {
   "cell_type": "code",
   "execution_count": 25,
   "metadata": {},
   "outputs": [
    {
     "name": "stdout",
     "output_type": "stream",
     "text": [
      "y\n"
     ]
    }
   ],
   "source": [
    "#3. Do you get any error for the following code, if not give the output: \n",
    "\n",
    "S='Python'  \n",
    "#print(s[1]) # this will give same error as we are referring to s not S\n",
    "print(S[1]) "
   ]
  },
  {
   "cell_type": "code",
   "execution_count": 31,
   "metadata": {},
   "outputs": [
    {
     "name": "stdout",
     "output_type": "stream",
     "text": [
      "6\n",
      "abc\n",
      "3\n"
     ]
    }
   ],
   "source": [
    "#4. Find output of the following\n",
    "# a\n",
    "s='a b cd'\n",
    "print(len(s))\n",
    "print(s[::2])\n",
    "print(len(s[::2])) \n"
   ]
  },
  {
   "cell_type": "code",
   "execution_count": 83,
   "metadata": {},
   "outputs": [
    {
     "name": "stdout",
     "output_type": "stream",
     "text": [
      "['a#b#c#d#']\n",
      "['a', 'b', 'c', 'd', '']\n",
      "a$b$c$d$\n"
     ]
    }
   ],
   "source": [
    "#b) \n",
    "s='a#b#c#d#'\n",
    "print(s.split())\n",
    "print(s.split('#'))\n",
    "l=s.split('#')\n",
    "s='$'.join(l)\n",
    "print(s)\n"
   ]
  },
  {
   "cell_type": "code",
   "execution_count": 51,
   "metadata": {},
   "outputs": [
    {
     "name": "stdout",
     "output_type": "stream",
     "text": [
      "nhy\n",
      "yn\n"
     ]
    }
   ],
   "source": [
    "# 4 c) \n",
    "S='Python'\n",
    "\n",
    "print(S[::-2])\n",
    "print(S[::-2][::-2])"
   ]
  },
  {
   "cell_type": "code",
   "execution_count": 52,
   "metadata": {},
   "outputs": [
    {
     "name": "stdout",
     "output_type": "stream",
     "text": [
      "False\n"
     ]
    }
   ],
   "source": [
    "# 4 d) \n",
    "print(1>2) "
   ]
  },
  {
   "cell_type": "code",
   "execution_count": 54,
   "metadata": {},
   "outputs": [
    {
     "name": "stdout",
     "output_type": "stream",
     "text": [
      "0,1,2\n"
     ]
    }
   ],
   "source": [
    "# 4 e) \n",
    "print(4%2 , 5%2 , 2%5 , sep=',')"
   ]
  },
  {
   "cell_type": "code",
   "execution_count": 80,
   "metadata": {},
   "outputs": [
    {
     "name": "stdout",
     "output_type": "stream",
     "text": [
      "ABCBADA\n",
      "3\n",
      "0\n",
      "2\n"
     ]
    }
   ],
   "source": [
    "#### 4 f) \n",
    "s='abcbada' \n",
    "s=s.upper() \n",
    "print(s) \n",
    "print(s.count('A'), end ='\\n')\n",
    "print(s.count('A',2,4) , end ='\\n')  # counts no of A b/w start element 2 to 3 as 4 is not inlcuded\n",
    "print(s.count('B', 1,4))  # 0 as string is upper"
   ]
  },
  {
   "cell_type": "code",
   "execution_count": 101,
   "metadata": {},
   "outputs": [
    {
     "name": "stdout",
     "output_type": "stream",
     "text": [
      "enter a string:Hello Python Ho are you\n",
      "string without spaces is :  HelloPythonHoareyou\n"
     ]
    }
   ],
   "source": [
    "# 5. WAP to input a string and remove all spaces from it. \n",
    "\n",
    "s=input(\"enter a string:\")\n",
    "print(\"string without spaces is : \" ,s.replace(\" \",\"\"))"
   ]
  },
  {
   "cell_type": "code",
   "execution_count": 102,
   "metadata": {},
   "outputs": [],
   "source": [
    "#What does this symbol denote: \n",
    "#[] denotes index position"
   ]
  },
  {
   "cell_type": "code",
   "execution_count": 103,
   "metadata": {},
   "outputs": [
    {
     "name": "stdout",
     "output_type": "stream",
     "text": [
      "['__add__', '__class__', '__contains__', '__delattr__', '__dir__', '__doc__', '__eq__', '__format__', '__ge__', '__getattribute__', '__getitem__', '__getnewargs__', '__gt__', '__hash__', '__init__', '__init_subclass__', '__iter__', '__le__', '__len__', '__lt__', '__mod__', '__mul__', '__ne__', '__new__', '__reduce__', '__reduce_ex__', '__repr__', '__rmod__', '__rmul__', '__setattr__', '__sizeof__', '__str__', '__subclasshook__', 'capitalize', 'casefold', 'center', 'count', 'encode', 'endswith', 'expandtabs', 'find', 'format', 'format_map', 'index', 'isalnum', 'isalpha', 'isascii', 'isdecimal', 'isdigit', 'isidentifier', 'islower', 'isnumeric', 'isprintable', 'isspace', 'istitle', 'isupper', 'join', 'ljust', 'lower', 'lstrip', 'maketrans', 'partition', 'replace', 'rfind', 'rindex', 'rjust', 'rpartition', 'rsplit', 'rstrip', 'split', 'splitlines', 'startswith', 'strip', 'swapcase', 'title', 'translate', 'upper', 'zfill']\n"
     ]
    }
   ],
   "source": [
    "#  WAP to print all methods(functions/operations) available in a string (Hint : dir()) \n",
    "\n",
    "print(dir(str))"
   ]
  },
  {
   "cell_type": "code",
   "execution_count": 115,
   "metadata": {},
   "outputs": [
    {
     "data": {
      "text/plain": [
       "True"
      ]
     },
     "execution_count": 115,
     "metadata": {},
     "output_type": "execute_result"
    }
   ],
   "source": [
    "# Write statement to check if rstrip method is available in the str class. (Hint : Use the find function or in) \n",
    "s=str(dir(str))\n",
    "#print(s)\n",
    "bool(s.find('rstrip')) # to check if is true\n",
    "\n"
   ]
  },
  {
   "cell_type": "code",
   "execution_count": 107,
   "metadata": {},
   "outputs": [
    {
     "data": {
      "text/plain": [
       "0"
      ]
     },
     "execution_count": 107,
     "metadata": {},
     "output_type": "execute_result"
    }
   ],
   "source": [
    "s='abcd'\n",
    "s.find('a')"
   ]
  },
  {
   "cell_type": "code",
   "execution_count": 130,
   "metadata": {},
   "outputs": [
    {
     "name": "stdout",
     "output_type": "stream",
     "text": [
      "*****\n",
      "  *  \n",
      "  *  \n",
      "  *  \n",
      "  *  \n",
      "*     *\n",
      "* * * *\n",
      "*  *  *\n",
      "*     *\n",
      "  ____\n",
      " |    |\n",
      " o    |\n",
      "/|\\   |\n",
      "/ \\   |\n",
      "______|\n"
     ]
    }
   ],
   "source": [
    "#9. WAP to store the following patterns in a string variable and then print them:   \n",
    "a=\"*\"*5+\"\\n\"+\"  *  \"+\"\\n\"+\"  *  \"+\"\\n\"+\"  *  \"+'\\n'+\"  *  \"\n",
    "print(a)\n",
    "\n",
    "b=\"*     *\"+\"\\n\"+\"* * * *\"+'\\n'+\"*  *  *\"+'\\n'+\"*     *\"\n",
    "print(b)\n",
    "\n",
    "c=\"  ____\"+\"\\n\"+\" |    |\"+\"\\n\"+\" o    |\"+\"\\n\"+\"/|\\   |\"+\"\\n\"+\"/ \\   |\"+\"\\n\"+\"______|\"\n",
    "print(c)"
   ]
  },
  {
   "cell_type": "code",
   "execution_count": 134,
   "metadata": {},
   "outputs": [
    {
     "name": "stdout",
     "output_type": "stream",
     "text": [
      "enter a string :-i m good\n",
      "string with space replaced with new line is :- \n",
      " i\n",
      "m\n",
      "good\n"
     ]
    }
   ],
   "source": [
    "# 10. WAP to input a string and replace all space with new lines (\\n) and print again. \n",
    "s=input(\"enter a string :-\")\n",
    "print(\"string with space replaced with new line is :-\",\"\\n\",s.replace(\" \",\"\\n\"))"
   ]
  },
  {
   "cell_type": "code",
   "execution_count": 140,
   "metadata": {},
   "outputs": [
    {
     "name": "stdout",
     "output_type": "stream",
     "text": [
      "Enter Your Full Name :- James Bond\n",
      "First Name is :  James  and have length 5\n",
      "Last Name is :  Bond  and have lengh 4\n"
     ]
    }
   ],
   "source": [
    "#11. WAP to input complete name(first and last name separated by space) and \n",
    "#print first and last name separately along with their length in upper case. \n",
    "\n",
    "s=input(\"Enter Your Full Name :- \")\n",
    "s1=s.split(\" \")\n",
    "print(\"First Name is : \",s1[0], \" and have length\",len(s1[0]))\n",
    "print(\"Last Name is : \", s1[1] ,\" and have lengh\" , len(s1[1]))"
   ]
  },
  {
   "cell_type": "code",
   "execution_count": 149,
   "metadata": {},
   "outputs": [
    {
     "name": "stdout",
     "output_type": "stream",
     "text": [
      "Enter a string:Python\n",
      "First Half is : PYT\n",
      "Second Half is :  HON\n"
     ]
    }
   ],
   "source": [
    "#12. WAP to input a string and split it into 2 halves. The string can be of any length \n",
    "s=input(\"Enter a string:\")\n",
    "h=(len(s))//2\n",
    "print(\"First Half is :\" ,s[:h].upper())\n",
    "print(\"Second Half is : \" , s[h:].upper())"
   ]
  },
  {
   "cell_type": "code",
   "execution_count": 148,
   "metadata": {},
   "outputs": [
    {
     "name": "stdout",
     "output_type": "stream",
     "text": [
      "16.0\n"
     ]
    }
   ],
   "source": [
    "print(256**0.5)"
   ]
  }
 ],
 "metadata": {
  "kernelspec": {
   "display_name": "Python 3",
   "language": "python",
   "name": "python3"
  },
  "language_info": {
   "codemirror_mode": {
    "name": "ipython",
    "version": 3
   },
   "file_extension": ".py",
   "mimetype": "text/x-python",
   "name": "python",
   "nbconvert_exporter": "python",
   "pygments_lexer": "ipython3",
   "version": "3.7.6"
  }
 },
 "nbformat": 4,
 "nbformat_minor": 4
}
