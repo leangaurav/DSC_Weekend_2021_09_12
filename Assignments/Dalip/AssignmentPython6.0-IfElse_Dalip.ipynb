{
 "cells": [
  {
   "cell_type": "code",
   "execution_count": 2,
   "metadata": {},
   "outputs": [
    {
     "name": "stdout",
     "output_type": "stream",
     "text": [
      "enter n1:7\n",
      "enter n2:2\n",
      "False\n"
     ]
    }
   ],
   "source": [
    "# WAP to input 2 numbers and check whether the first is divisible by the second and print true or false depending on the \n",
    "# divisibily \n",
    "n1=int(input(\"enter n1:\"))\n",
    "n2=int(input(\"enter n2:\"))\n",
    "\n",
    "if n1%n2==0:\n",
    "    print(\"True\")\n",
    "else:\n",
    "    print(\"False\")"
   ]
  },
  {
   "cell_type": "code",
   "execution_count": 12,
   "metadata": {},
   "outputs": [
    {
     "name": "stdout",
     "output_type": "stream",
     "text": [
      "enter string: aba\n",
      "Palindrome\n"
     ]
    }
   ],
   "source": [
    "# in the palidrome example , make the code case sensitive \n",
    "s=input(\"enter string: \")\n",
    "s=s.lower()\n",
    "\n",
    "if s[::-1]==s:\n",
    "    print(\"Palindrome\")\n",
    "else:\n",
    "    print(\"Not a palindrome\")"
   ]
  },
  {
   "cell_type": "code",
   "execution_count": 16,
   "metadata": {},
   "outputs": [
    {
     "name": "stdout",
     "output_type": "stream",
     "text": [
      "Enter 1st side : 5\n",
      "Enter 2nd side : 5\n",
      "Enter 3rd side : 6\n",
      " It is an isosceles triangle\n",
      "\n"
     ]
    }
   ],
   "source": [
    "# WAP to input the sides of a traingle and print whether equilateral(all sides equal ), isosceles(2 sides are equal)\n",
    "# , or scalene (no sides equal)\n",
    "\n",
    "a = int(input(\"Enter 1st side : \"))\n",
    "b = int(input(\"Enter 2nd side : \"))\n",
    "c = int(input(\"Enter 3rd side : \"))\n",
    "\n",
    "if  a == b == c:\n",
    "    print (\"It is an equilateral triangle\")\n",
    "else:\n",
    "    if ((a == b) or (b == c) or (a == c)):\n",
    "        print (\"It is an isosceles triangle\")\n",
    "    else:\n",
    "        print (\"It is an scalene triangle\")\n",
    "print ( )"
   ]
  },
  {
   "cell_type": "code",
   "execution_count": 17,
   "metadata": {},
   "outputs": [
    {
     "name": "stdout",
     "output_type": "stream",
     "text": [
      "enter the number 7\n",
      "Odd\n"
     ]
    }
   ],
   "source": [
    "# WAP to input a number and print if its even or odd\n",
    "\n",
    "n = int(input(\"enter the number \"))\n",
    "if n%2==0:\n",
    "    print(\"Even\")\n",
    "else:\n",
    "    print(\"Odd\")"
   ]
  },
  {
   "cell_type": "code",
   "execution_count": 23,
   "metadata": {},
   "outputs": [
    {
     "name": "stdout",
     "output_type": "stream",
     "text": [
      "enter the age : 100\n",
      "Senoir Citizen\n"
     ]
    }
   ],
   "source": [
    "# WAP to input age and print respective text depending on the age ranges as presented in table\n",
    "n = int(input(\"enter the age : \"))\n",
    "\n",
    "if n in range(0,13):\n",
    "    print(\"Child\")\n",
    "elif n in range(13,18):\n",
    "    print(\"Teen\")\n",
    "elif n in range(18,51):\n",
    "    print(\"Adult\")\n",
    "elif n in range(51, 101):\n",
    "    print(\"Senoir Citizen\")\n",
    "else:\n",
    "    print(\"Congratulations\")"
   ]
  },
  {
   "cell_type": "code",
   "execution_count": 34,
   "metadata": {},
   "outputs": [
    {
     "name": "stdout",
     "output_type": "stream",
     "text": [
      "enter year : 2020\n",
      "2020 is leap year\n"
     ]
    }
   ],
   "source": [
    "# WAP to input year(check if user enters valid year. \n",
    "# Should be 4-digit number and should not be negative) and print whether leap year or not. \n",
    "\n",
    "y=int(input(\"enter year : \"))\n",
    "\n",
    "if len(str(y)) > 4:\n",
    "    print(\" Enter valid year\")\n",
    "if y%4==0 and y%100!=0 or y%400==0:\n",
    "    print(\"{0} is leap year\".format(y))\n",
    "else:\n",
    "    print(\"{0} is not a leap year\".format(y))\n"
   ]
  },
  {
   "cell_type": "code",
   "execution_count": 36,
   "metadata": {},
   "outputs": [
    {
     "name": "stdout",
     "output_type": "stream",
     "text": [
      "enter the string : AbcdE\n",
      "ABCDE\n"
     ]
    }
   ],
   "source": [
    "# WAP to input a string and convert it to upper case if number of charecters is odd and convert to lower case other wise\n",
    "\n",
    "s = input(\"enter the string : \")\n",
    "\n",
    "if  len(s)%2 == 0:\n",
    "    print(s.lower())\n",
    "else:\n",
    "    print(s.upper())"
   ]
  },
  {
   "cell_type": "code",
   "execution_count": 37,
   "metadata": {},
   "outputs": [
    {
     "name": "stdout",
     "output_type": "stream",
     "text": [
      "enter a string: hegg\n",
      "Non-Veg\n"
     ]
    }
   ],
   "source": [
    "# WAP to input a string and print Veg if the string doesn't contain the word egg. otherwise print Non-Veg.\n",
    "\n",
    "s = input(\"enter a string: \")\n",
    "\n",
    "s = s.lower()\n",
    "\n",
    "if  'egg' in s:\n",
    "    print(\"Non-Veg\")\n",
    "else:\n",
    "    print(\"Veg\")\n"
   ]
  },
  {
   "cell_type": "code",
   "execution_count": 41,
   "metadata": {},
   "outputs": [
    {
     "name": "stdout",
     "output_type": "stream",
     "text": [
      "1******\n",
      "True\n",
      "2******\n",
      "True\n",
      "3******\n",
      "Weired\n",
      "4******\n",
      "[4, 3, 2, 1]\n"
     ]
    }
   ],
   "source": [
    "# 9. Give output of \n",
    "print(\"1******\")\n",
    "if not 1:\n",
    "    print (\"False\")\n",
    "else:\n",
    "    print(\"True\")\n",
    "\n",
    "print(\"2******\")\n",
    "if 1:\n",
    "    print (\"True\")\n",
    "else:\n",
    "    print (\"False\")\n",
    "\n",
    "print(\"3******\")\n",
    "if \"a\" > \"A\":\n",
    "    print(\"Weired\")\n",
    "else:\n",
    "    print(\"Makes sense\")\n",
    "\n",
    "print(\"4******\")\n",
    "a = [1,2,3,4]\n",
    "if 1 > 1:\n",
    "    a = a[::-1]\n",
    "else:\n",
    "    a = a[-1::-1]\n",
    "print(a)"
   ]
  },
  {
   "cell_type": "code",
   "execution_count": 44,
   "metadata": {},
   "outputs": [
    {
     "name": "stdout",
     "output_type": "stream",
     "text": [
      "Enter Subject1 marks  40\n",
      "Enter Subject2 marks  45\n",
      "Enter Subject3 marks  55\n",
      "Enter Subject4 marks  50\n",
      "Enter Subject5 marks  65\n",
      "Grade-F\n"
     ]
    }
   ],
   "source": [
    "# WAP to input marks in 5 subjects and print the grade as per following logic:\n",
    "\n",
    "M1 = int(input(\"Enter Subject1 marks  \"))\n",
    "M2 = int(input(\"Enter Subject2 marks  \"))\n",
    "M3 = int(input(\"Enter Subject3 marks  \"))\n",
    "M4 = int(input(\"Enter Subject4 marks  \"))\n",
    "M5 = int(input(\"Enter Subject5 marks  \"))\n",
    "\n",
    "total = M1+M2+M3+M4+M5\n",
    "perctg = ((total/500)*100)\n",
    "\n",
    "perctg = int(perctg)\n",
    "\n",
    "if perctg in range(90, 101):\n",
    "    print(\"Grade-A\")\n",
    "elif perctg in range(80, 90):\n",
    "    print(\"Grade-B\")\n",
    "elif perctg in range(60,80):\n",
    "    print(\"Grade-C\")\n",
    "else:\n",
    "    print(\"Grade-F\")"
   ]
  },
  {
   "cell_type": "code",
   "execution_count": 62,
   "metadata": {},
   "outputs": [
    {
     "name": "stdout",
     "output_type": "stream",
     "text": [
      "enter your age 40\n",
      "enter your salary450000\n",
      "22500.0\n"
     ]
    }
   ],
   "source": [
    "age = int(input(\"enter your age \"))\n",
    "salary = float(input(\"enter your salary\"))\n",
    "\n",
    "if  age in range (0, 60):\n",
    "        if  salary in range (0, 250001):\n",
    "            tax = 0 \n",
    "        elif salary in range (250000, 500001):\n",
    "            tax = ((salary/100)*5)\n",
    "        elif salary in range (500000, 1000001):\n",
    "            tax = ((salary/100)*10)\n",
    "        else:\n",
    "            tax = ((salary/100)*15)\n",
    "else:\n",
    "        if  salary in range (0, 250001):\n",
    "            tax = 0 \n",
    "        elif salary in range (250000, 500001):\n",
    "            tax = ((salary/100)*3)\n",
    "        elif salary in range (500000, 1000001):\n",
    "            tax = ((salary/100)*8)\n",
    "        else:\n",
    "            tax = ((salary/100)*12)\n",
    "            \n",
    "print(tax)"
   ]
  },
  {
   "cell_type": "code",
   "execution_count": 63,
   "metadata": {},
   "outputs": [
    {
     "name": "stdout",
     "output_type": "stream",
     "text": [
      "10\n",
      "10\n",
      "10\n",
      "OMG\n"
     ]
    }
   ],
   "source": [
    "# try stamtements \n",
    "print( 20 if not 1 == 1 else 10 )\n",
    "print( 30 if not 1 == 1 else 20 if 'a' < 'A' else 10)\n",
    "print( 40 if not 1 == 1 else 30 if 'a' < 'A' else 20 if '' else 10)\n",
    "print( 'No' if not 1 == 1 else ('No' if 'a' < 'A' else ('OMG' if 'Oh!!' else no )))"
   ]
  },
  {
   "cell_type": "code",
   "execution_count": 67,
   "metadata": {},
   "outputs": [
    {
     "name": "stdout",
     "output_type": "stream",
     "text": [
      "Enter height in cm: 170\n",
      "Enter weight in kg: 76\n",
      "OverWeight.\n"
     ]
    }
   ],
   "source": [
    "#WAF:bmi() that takes the weight in kg and height in cm of a person. Calculates and returns the BMI \n",
    "\n",
    "def calc_bmi(height, weight):\n",
    "    BMI = weight / (height/100)**2\n",
    "    return BMI\n",
    "\n",
    "\n",
    "height = float(input(\"Enter height in cm: \"))\n",
    "weight = float(input(\"Enter weight in kg: \"))\n",
    "\n",
    "\n",
    "BMI = calc_bmi(height, weight)\n",
    "\n",
    "if BMI <= 18.4:\n",
    "    print(\"Underweight.\")\n",
    "elif BMI <= 24.9:\n",
    "    print(\"Healthy.\")\n",
    "elif BMI <= 29.9:\n",
    "    print(\"OverWeight.\")\n",
    "elif BMI <= 34.9:\n",
    "    print(\"Severely OverWeight.\")\n",
    "elif BMI <= 39.9:\n",
    "    print(\"Obese.\")\n",
    "else:\n",
    "    print(\"Severely Obese.\")"
   ]
  },
  {
   "cell_type": "code",
   "execution_count": 73,
   "metadata": {},
   "outputs": [
    {
     "name": "stdout",
     "output_type": "stream",
     "text": [
      "Enter age of Person 1 : 33\n",
      "Enter age of Person 2 : 45\n",
      "Enter age of Person 3 : 55\n",
      "Person 3 is the oldest\n",
      "Person 1 is youngest\n"
     ]
    }
   ],
   "source": [
    "# Take input of age of 3 people by user and determine oldest and youngest among them \n",
    "p1 = int(input(\"Enter age of Person 1 : \"))\n",
    "p2 = int(input(\"Enter age of Person 2 : \"))\n",
    "p3 = int(input(\"Enter age of Person 3 : \"))\n",
    "\n",
    "if p1>=p2 and p1>=p3:\n",
    "    print(\"Person 1 is oldest\")\n",
    "elif p2>=p1 and p2>=p3:\n",
    "    print(\"Person 2 is oldest\")\n",
    "else:\n",
    "    print(\"Person 3 is the oldest\")\n",
    "\n",
    "if p1<=p2 and p1<=p3:\n",
    "    print(\"Person 1 is youngest\")\n",
    "elif p2<=p1 and p2<=p3:\n",
    "    print(\"Person 2 is youngest\")\n",
    "else:\n",
    "    print(\"Person 3 is the youngest\")\n",
    "    \n",
    "\n"
   ]
  },
  {
   "cell_type": "code",
   "execution_count": 75,
   "metadata": {},
   "outputs": [
    {
     "name": "stdout",
     "output_type": "stream",
     "text": [
      "enter a number : 37\n",
      "Not Divisible\n"
     ]
    }
   ],
   "source": [
    "# WAP to input a number and check if number is divisible by both 5 and 7 \n",
    "\n",
    "n = int(input(\"enter a number : \"))\n",
    "\n",
    "if n%5==0 and n%7==0:\n",
    "    print(\"Numbers is divisible by 5 and 7\")\n",
    "else:\n",
    "    print(\"Not Divisible\")"
   ]
  }
 ],
 "metadata": {
  "kernelspec": {
   "display_name": "Python 3",
   "language": "python",
   "name": "python3"
  },
  "language_info": {
   "codemirror_mode": {
    "name": "ipython",
    "version": 3
   },
   "file_extension": ".py",
   "mimetype": "text/x-python",
   "name": "python",
   "nbconvert_exporter": "python",
   "pygments_lexer": "ipython3",
   "version": "3.7.6"
  }
 },
 "nbformat": 4,
 "nbformat_minor": 4
}
