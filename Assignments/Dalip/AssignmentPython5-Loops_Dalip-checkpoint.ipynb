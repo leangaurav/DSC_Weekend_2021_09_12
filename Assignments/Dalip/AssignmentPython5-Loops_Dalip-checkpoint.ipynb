{
 "cells": [
  {
   "cell_type": "code",
   "execution_count": 11,
   "metadata": {},
   "outputs": [
    {
     "name": "stdout",
     "output_type": "stream",
     "text": [
      "Enter a number6\n",
      "Numbers are\n",
      "1\n",
      "2\n",
      "3\n",
      "4\n",
      "5\n",
      "6\n"
     ]
    }
   ],
   "source": [
    "#1. WAP to print first n natural numbers (input n from user). \n",
    "n =int(input(\"Enter a number\"))\n",
    "print(\"Numbers are\")\n",
    "for i in range(1,n+1):\n",
    "    print(i)"
   ]
  },
  {
   "cell_type": "code",
   "execution_count": 12,
   "metadata": {},
   "outputs": [
    {
     "name": "stdout",
     "output_type": "stream",
     "text": [
      "enter a number :5\n",
      "sum of number upto entered value is  15\n"
     ]
    }
   ],
   "source": [
    "# WAP to print sum of first n natual numbers \n",
    "\n",
    "n=int(input(\"enter a number :\"))\n",
    "sum = 0\n",
    "for i in range(1,n+1):\n",
    "    sum=sum+i\n",
    "\n",
    "print(\"sum of number upto entered value is \" , sum)"
   ]
  },
  {
   "cell_type": "code",
   "execution_count": 37,
   "metadata": {},
   "outputs": [
    {
     "name": "stdout",
     "output_type": "stream",
     "text": [
      "enter a number from which numbers need to be printed in reverse :5\n",
      "5\n",
      "4\n",
      "3\n",
      "2\n",
      "1\n"
     ]
    }
   ],
   "source": [
    "#WAP to print first n natural numbers in reverse order. \n",
    "n=int(input(\"enter a number from which numbers need to be printed in reverse :\"))\n",
    "for i in range(n ,0,-1):\n",
    "    print(i)\n",
    "    i=i-1"
   ]
  },
  {
   "cell_type": "code",
   "execution_count": 4,
   "metadata": {},
   "outputs": [
    {
     "name": "stdout",
     "output_type": "stream",
     "text": [
      "enter a number : 4\n",
      "factorial is :  24\n"
     ]
    }
   ],
   "source": [
    "### 4. WAP to input a number and print its factorial. \n",
    "n=int(input(\"enter a number : \"))\n",
    "fact=1\n",
    "i=1\n",
    "while i<=n:\n",
    "    fact=fact * i\n",
    "    i = i+1\n",
    "print(\"factorial is : \" , fact)"
   ]
  },
  {
   "cell_type": "code",
   "execution_count": 11,
   "metadata": {},
   "outputs": [
    {
     "name": "stdout",
     "output_type": "stream",
     "text": [
      "enter a number :100\n",
      "1 1 2 3 5 8 13 21 34 55 89 "
     ]
    }
   ],
   "source": [
    "# WAP to print Fibonacci sequence till n \n",
    "\n",
    "n=int(input(\"enter a number :\"))\n",
    "a = 0\n",
    "b = 1\n",
    "while b < n: \n",
    "    print(b, end=' ') \n",
    "    c = a + b\n",
    "    a = b\n",
    "    b = c "
   ]
  },
  {
   "cell_type": "code",
   "execution_count": 39,
   "metadata": {},
   "outputs": [
    {
     "name": "stdout",
     "output_type": "stream",
     "text": [
      " Enter a number :568892889\n",
      "5,6,8,8,9,2,8,8,9,"
     ]
    }
   ],
   "source": [
    "# WAP to print all digits of a number input from user\n",
    "\n",
    "n=input(\" Enter a number :\")\n",
    "\n",
    "s=str(n)\n",
    "\n",
    "if len(s) <= 0:\n",
    "    print(\"Enter a nonzero length number\")\n",
    "\n",
    "for i in range(len(s)):\n",
    "    print(s[i] , end=\",\")"
   ]
  },
  {
   "cell_type": "code",
   "execution_count": 2,
   "metadata": {},
   "outputs": [
    {
     "name": "stdout",
     "output_type": "stream",
     "text": [
      "Enter a number :567\n",
      "sum of entered number's digits is : 18\n"
     ]
    }
   ],
   "source": [
    "# WAP to find sum of all digits of a number\n",
    "n=input(\"Enter a number :\")\n",
    "\n",
    "\n",
    "sum=0\n",
    "for i in str(n):\n",
    "     sum=sum+int(i)\n",
    "print(\"sum of entered number's digits is :\" , sum)\n"
   ]
  },
  {
   "cell_type": "code",
   "execution_count": 1,
   "metadata": {},
   "outputs": [
    {
     "name": "stdout",
     "output_type": "stream",
     "text": [
      "enter a number : 4\n",
      " Factorial sum is  34\n"
     ]
    }
   ],
   "source": [
    "#WAP to find sum of following series given n as input from \n",
    "#user 1 + 2! + 3! + 4! + 5! + ….n! \n",
    "# Where n! denotes the factorial of number n. \n",
    "\n",
    "n=int(input(\"enter a number : \"))\n",
    "\n",
    "i=1\n",
    "fact=1\n",
    "sum_fact=1\n",
    "\n",
    "while i <= n:\n",
    "    fact=fact*i\n",
    "    sum_fact=fact+sum_fact\n",
    "    i=i+1\n",
    "\n",
    "print(\" Factorial sum is \" , sum_fact)\n"
   ]
  },
  {
   "cell_type": "code",
   "execution_count": 6,
   "metadata": {},
   "outputs": [
    {
     "name": "stdout",
     "output_type": "stream",
     "text": [
      "Enter a base : 3\n",
      "Enter exponent : 4\n",
      "81\n"
     ]
    }
   ],
   "source": [
    "# WAP to input base and exponent and print result \n",
    "# without using inbuilt function pow(use for or while loop). \n",
    "\n",
    "b=int(input(\"Enter a base : \"))\n",
    "e=int(input(\"Enter exponent : \"))\n",
    "\n",
    "res=1\n",
    "\n",
    "while e!=0:\n",
    "    res=res*b\n",
    "    e=e-1\n",
    "print(res)\n",
    "    \n",
    "      "
   ]
  },
  {
   "cell_type": "code",
   "execution_count": 34,
   "metadata": {},
   "outputs": [
    {
     "name": "stdout",
     "output_type": "stream",
     "text": [
      "Enter the number of rows: 5\n",
      "* \n",
      "* * \n",
      "* * * \n",
      "* * * * \n",
      "* * * * * \n",
      " \n",
      "* * * * * \n",
      "* * * * \n",
      "* * * \n",
      "* * \n",
      "* \n",
      " \n",
      "        * \n",
      "      * * \n",
      "    * * * \n",
      "  * * * * \n",
      "* * * * * \n",
      " \n",
      "    * \n",
      "   * * \n",
      "  * * * \n",
      " * * * * \n",
      "* * * * * \n"
     ]
    }
   ],
   "source": [
    "# print the following patterns\n",
    "# a. \n",
    "n = int(input(\"Enter the number of rows: \"))  \n",
    "\n",
    "for i in range(n): # Number of rows \n",
    "    for j in range(i+1): #Number of columns\n",
    "        print(\"* \", end=\"\")\n",
    "    print()\n",
    "print(\" \")   \n",
    "\n",
    "# b. \n",
    "\n",
    "for i in range(n): # Number of rows \n",
    "    for j in range(i, n): # Number of columns \n",
    "        print(\"* \", end=\"\")\n",
    "    print() # to move cursor to next line \n",
    "print(\" \")\n",
    "\n",
    "# c. \n",
    "\n",
    "for i in range(n): # Number of rows\n",
    "    for j in range(i,n-1): # For each row print space for n-1 times \n",
    "        print(\" \", end = \" \")\n",
    "    for j in range(0,i+1): # For each row print * for I+1 times\n",
    "        print(\"*\", end=\" \")\n",
    "    print(\"\")\n",
    "print(\" \")\n",
    "\n",
    "#d. \n",
    "\n",
    "for i in range(0,n): # for each row i varies from 0 to n. \n",
    "    for j in range(0,n-i-1): # this loop is to print spaces before * print \n",
    "        print(end = \" \")\n",
    "    for j in range(0,i+1): # this loop is to print * \n",
    "        print(\"*\", end=\" \")  \n",
    "    print()"
   ]
  },
  {
   "cell_type": "code",
   "execution_count": 36,
   "metadata": {},
   "outputs": [
    {
     "name": "stdout",
     "output_type": "stream",
     "text": [
      "Enter the number of rows: 4\n",
      "1 \n",
      "2 2 \n",
      "3 3 3 \n",
      "4 4 4 4 \n",
      " \n",
      "1 \n",
      "1 2 \n",
      "1 2 3 \n",
      "1 2 3 4 \n",
      " \n",
      "4 \n",
      "3 3 \n",
      "2 2 2 \n",
      "1 1 1 1 \n",
      " \n",
      "      1 \n",
      "    2 2 \n",
      "  3 3 3 \n",
      "4 4 4 4 \n",
      " \n"
     ]
    }
   ],
   "source": [
    "# pattern in numbers\n",
    "# a. \n",
    "n = int(input(\"Enter the number of rows: \"))  \n",
    "for i in range(n): \n",
    "    for j in range(0,i+1): \n",
    "        print(i+1, end=\" \")\n",
    "    print()\n",
    "print(\" \")   \n",
    "\n",
    "\n",
    "# b.\n",
    "\n",
    "for i in range(n): \n",
    "    for j in range(0,i+1): \n",
    "        print(j+1, end=\" \")\n",
    "    print()\n",
    "print(\" \")\n",
    "\n",
    "# c.\n",
    "\n",
    "for i in range(n): \n",
    "    for j in range(i+1): \n",
    "        print(n-i, end=\" \")\n",
    "    print()\n",
    "print(\" \")   \n",
    "\n",
    "# d.\n",
    "\n",
    "for i in range(n): \n",
    "    for j in range(0, n-i-1):\n",
    "        print(\" \",end=\" \")\n",
    "    for j in range(i,-1,-1): \n",
    "        print(i+1, end=\" \")\n",
    "    print()`b\n",
    "print(\" \") "
   ]
  },
  {
   "cell_type": "code",
   "execution_count": 37,
   "metadata": {},
   "outputs": [
    {
     "name": "stdout",
     "output_type": "stream",
     "text": [
      "A \n",
      "A B \n",
      "A B C \n",
      "A B C D \n",
      "A B C D E \n",
      " \n",
      "A \n",
      "B C \n",
      "D E F \n",
      "G H I J \n",
      "K L M N O \n",
      " \n",
      "A \n",
      "B B \n",
      "C C C \n",
      "D D D D \n",
      "E E E E E \n",
      " \n",
      "        A \n",
      "      A B A \n",
      "    A B C A B \n",
      "  A B C D A B C \n",
      "A B C D E A B C D \n"
     ]
    }
   ],
   "source": [
    "# print the following charecter pattern \n",
    "# a. \n",
    "start = 65 # for A\n",
    "end = 70 # for E\n",
    "\n",
    "for i in range(start, end): \n",
    "    for j in range(start, i + 1):\n",
    "        print(f\"{chr(j)}\", end=\" \")\n",
    "    print()\n",
    "print(\" \")\n",
    "\n",
    "#b.\n",
    "start = 65 # for A\n",
    "end = 70 # for E\n",
    "k = start \n",
    "for i in range(start, end): \n",
    "    for j in range(start,i+1):\n",
    "        print(f\"{chr(k)}\", end=\" \")\n",
    "        k +=1\n",
    "    print()\n",
    "print(\" \")\n",
    "\n",
    "# c.\n",
    "start = 65 # for A\n",
    "end = 70 # for E\n",
    "for i in range(start, end): \n",
    "    for j in range(start,i+1):\n",
    "        print(f\"{chr(i)}\", end=\" \")\n",
    "    print()\n",
    "print(\" \")\n",
    "\n",
    "\n",
    "# d.\n",
    "start = 65 # for A\n",
    "end = 70 # for E\n",
    "n=6   \n",
    "\n",
    "for i in range(start,end): # outer loop for 5 rows \n",
    "    n = n -1\n",
    "    for j in range(n,1,-1): # loop # 1 to print spaces for each row     syntax  ===> range(start, stop[, step])\n",
    "        print(\" \",end=\" \")\n",
    "    for j in range(start,i+1): # loop # 2 to print actual alphabet values\n",
    "        print(chr(j),end=\" \")\n",
    "    for j in range(start,i): # loop # 3 to print again alphabet starting from 65\n",
    "        print(chr(j),end=\" \")\n",
    "    print()"
   ]
  }
 ],
 "metadata": {
  "kernelspec": {
   "display_name": "Python 3",
   "language": "python",
   "name": "python3"
  },
  "language_info": {
   "codemirror_mode": {
    "name": "ipython",
    "version": 3
   },
   "file_extension": ".py",
   "mimetype": "text/x-python",
   "name": "python",
   "nbconvert_exporter": "python",
   "pygments_lexer": "ipython3",
   "version": "3.7.6"
  }
 },
 "nbformat": 4,
 "nbformat_minor": 4
}
