{
 "cells": [
  {
   "cell_type": "code",
   "execution_count": 2,
   "metadata": {},
   "outputs": [
    {
     "name": "stdout",
     "output_type": "stream",
     "text": [
      "enter the string :- python\n",
      "Individual characters from given string:\n",
      "p  y  t  h  o  n  "
     ]
    }
   ],
   "source": [
    "# 1. WAP to input a string and print individual charecters in the string using for loop \n",
    "\n",
    "s = input(\"enter the string :- \")\n",
    "   \n",
    "print(\"Individual characters from given string:\");  \n",
    "\n",
    "for i in range(len(s)):  \n",
    "    print(s[i], end=\"  \");  "
   ]
  },
  {
   "cell_type": "code",
   "execution_count": 4,
   "metadata": {},
   "outputs": [
    {
     "name": "stdout",
     "output_type": "stream",
     "text": [
      "enter the string :- hema\n",
      "ASCII  value for each caharacter:\n",
      "104 101 109 97 "
     ]
    }
   ],
   "source": [
    "# 2. WAP to input a string and print the ASCII value of each charecter in the string \n",
    "\n",
    "s = input(\"enter the string :- \")\n",
    "\n",
    "\n",
    "print(\"ASCII  value for each caharacter:\")\n",
    "\n",
    "for i in range(0, len(s)):  \n",
    "    print(ord(s[i]), end = ' ')"
   ]
  },
  {
   "cell_type": "code",
   "execution_count": 7,
   "metadata": {},
   "outputs": [],
   "source": [
    "# 3. WAF that takes a list of numbers form users as arugument and returns the sum of only odd numbers(use only for loop.\n",
    "# no need to use if statement)"
   ]
  },
  {
   "cell_type": "code",
   "execution_count": 23,
   "metadata": {},
   "outputs": [
    {
     "name": "stdout",
     "output_type": "stream",
     "text": [
      "Enter the list :-  11 12 13 14 15\n",
      "('11', '12', '13', '14', '15')\n",
      "enter a no to serach in tuple:14\n",
      "no is present at  3\n"
     ]
    }
   ],
   "source": [
    "# WAP to input a list of numbers and store in a tuple. Now input another number and print the\n",
    "# index of this number in the tuple. [Use index function] \n",
    "\n",
    "l=input(\"Enter the list :-  \")\n",
    "l=l.split(\" \")\n",
    "t=tuple(l)\n",
    "print(t)\n",
    "\n",
    "n=int(input(\"enter a no to serach in tuple:\"))\n",
    "\n",
    "print( \"no is present at \" , t.index(str(n)))"
   ]
  },
  {
   "cell_type": "code",
   "execution_count": 47,
   "metadata": {},
   "outputs": [
    {
     "name": "stdout",
     "output_type": "stream",
     "text": [
      "List is :  [92, 47, 63, 42, 53, 36, 77, 16, 68, 69]\n",
      "sum of list is :  563\n",
      "average is :  56.3\n",
      "92 63 53 77 68 "
     ]
    }
   ],
   "source": [
    "# #Create a list of 10 random numbers and then print the list, sum of all numbers and average. Use\n",
    "# a for loop. Also print elements at only even indexes in the list. \n",
    "import random as rd\n",
    "l = [rd.randrange(10,100) for i in range(0,10)]\n",
    "print(\"List is : \" , l)\n",
    "print(\"sum of list is : \" ,sum(l))\n",
    "avg=sum(l)/len(l)\n",
    "print(\"average is : \" ,avg)\n",
    "\n",
    "for k in range(0,len(l),2):\n",
    "    print(l[k], end=' ')\n",
    "        \n",
    "\n",
    "\n"
   ]
  },
  {
   "cell_type": "code",
   "execution_count": 52,
   "metadata": {},
   "outputs": [
    {
     "name": "stdout",
     "output_type": "stream",
     "text": [
      "List is :  [82, 57, 52, 41, 87, 94, 23, 24, 66, 12]\n",
      "sum of list elemnts is  538\n"
     ]
    }
   ],
   "source": [
    "# WAP to input 10 numbers repeatedly (using range based for loop) and store them in a list. Print\n",
    "# the list and sum of numbers in the list. \n",
    "\n",
    "import random as rd\n",
    "l = [rd.randrange(10,100) for i in range(0,10)]\n",
    "print(\"List is : \" , l)\n",
    "\n",
    "sum=0\n",
    "for i in range(0,len(l)):\n",
    "    sum=sum+l[i]\n",
    "print(\"sum of list elemnts is \" , sum)"
   ]
  },
  {
   "cell_type": "code",
   "execution_count": 54,
   "metadata": {},
   "outputs": [
    {
     "name": "stdout",
     "output_type": "stream",
     "text": [
      "enter a number6\n",
      "1 X 6 = 6\n",
      "2 X 6 = 12\n",
      "3 X 6 = 18\n",
      "4 X 6 = 24\n",
      "5 X 6 = 30\n",
      "6 X 6 = 36\n",
      "7 X 6 = 42\n",
      "8 X 6 = 48\n",
      "9 X 6 = 54\n",
      "10 X 6 = 60\n"
     ]
    }
   ],
   "source": [
    "#WAP to input a number and print its table. Ex: if user enters the number as 7, output should be\n",
    "\n",
    "n=int(input(\"enter a number\"))\n",
    "\n",
    "for i in range(1,11):\n",
    "    print(i,\"X\",n,\"=\" ,i*n)"
   ]
  },
  {
   "cell_type": "code",
   "execution_count": 57,
   "metadata": {},
   "outputs": [
    {
     "name": "stdout",
     "output_type": "stream",
     "text": [
      "enter string : Why loops are harder\n",
      " No od spaces in string are 3\n"
     ]
    }
   ],
   "source": [
    "# WAP to print total number of spaces in a string (Use for loop to iterate over the string. \n",
    "# Don’t use count function\n",
    "\n",
    "s= input(\"enter string : \")\n",
    "count=0\n",
    "for i in range(len(s)):\n",
    "    if s[i]==\" \":\n",
    "        count=count+1\n",
    "print(\" No od spaces in string are\" , count)\n"
   ]
  },
  {
   "cell_type": "code",
   "execution_count": 65,
   "metadata": {},
   "outputs": [
    {
     "name": "stdout",
     "output_type": "stream",
     "text": [
      "enter string : i am\n",
      "No of vowels are : 2\n"
     ]
    }
   ],
   "source": [
    "# WAP to input a string and count number of vowels in the string. \n",
    "# [Note: it should work for both capital and small alphabets] \n",
    "\n",
    "s=input(\"enter string : \")\n",
    "s=s.lower()\n",
    "count=0\n",
    "for i in s:\n",
    "    if i in 'aeiou':\n",
    "        count=count+1\n",
    "print(\"No of vowels are :\" , count)\n"
   ]
  },
  {
   "cell_type": "code",
   "execution_count": 68,
   "metadata": {},
   "outputs": [
    {
     "name": "stdout",
     "output_type": "stream",
     "text": [
      "enter string: Its getting harder now\n",
      "_ts g_tt_ng h_rd_r n_w\n"
     ]
    }
   ],
   "source": [
    "# WAP to input a string and replace all vowels with ‘_’.\n",
    "s=input(\"enter string: \")\n",
    "s=s.lower()\n",
    "count=0\n",
    "for i in s:\n",
    "    if i in 'aeiou':\n",
    "        s=s.replace(i,\"_\")\n",
    "print(s)"
   ]
  },
  {
   "cell_type": "code",
   "execution_count": 73,
   "metadata": {},
   "outputs": [
    {
     "name": "stdout",
     "output_type": "stream",
     "text": [
      "*****\n",
      "*****\n",
      "*****\n",
      "*****\n",
      "*****\n",
      "\n",
      "1\n",
      "22\n",
      "333\n",
      "4444\n",
      "55555\n",
      "\n",
      "1\n",
      "22\n",
      "333\n",
      "4444\n",
      "55555\n",
      "\n",
      "**\n",
      "***\n",
      "****\n",
      "*****\n",
      "******\n"
     ]
    }
   ],
   "source": [
    "# find output\n",
    "for i1 in range(1,6):\n",
    "    for i2 in range(5):\n",
    "        print('*',end='')\n",
    "    print()\n",
    "    \n",
    "    \n",
    "print()\n",
    "\n",
    "for i1 in range(1,6):\n",
    "    for i2 in range(i1):\n",
    "        print(i1,end='')\n",
    "    print()\n",
    "    \n",
    "print()\n",
    "\n",
    "for i1 in range(1,6):\n",
    "    print(str(i1) *i1)\n",
    "\n",
    "print()\n",
    "\n",
    "\n",
    "for i1 in range(1,6):\n",
    "    for i2 in range(i1+1):\n",
    "        print('*',end='')\n",
    "    print()\n",
    "\n",
    "    "
   ]
  },
  {
   "cell_type": "code",
   "execution_count": null,
   "metadata": {},
   "outputs": [],
   "source": [
    "# Generate a list of 10 random number(between 10-50) and print the list and sum of all elements.\n",
    "# Now take the list and remove the five largest elements from the list and print the list and its sum\n",
    "# again.\n",
    "# Ex: Consider a list l = [10, 50, 18, 19, 30, 45, 49, 45, 44, 23]\n",
    "# After deleting, the list will contain [10, 18, 19, 30, 23]"
   ]
  }
 ],
 "metadata": {
  "kernelspec": {
   "display_name": "Python 3",
   "language": "python",
   "name": "python3"
  },
  "language_info": {
   "codemirror_mode": {
    "name": "ipython",
    "version": 3
   },
   "file_extension": ".py",
   "mimetype": "text/x-python",
   "name": "python",
   "nbconvert_exporter": "python",
   "pygments_lexer": "ipython3",
   "version": "3.7.6"
  }
 },
 "nbformat": 4,
 "nbformat_minor": 4
}
