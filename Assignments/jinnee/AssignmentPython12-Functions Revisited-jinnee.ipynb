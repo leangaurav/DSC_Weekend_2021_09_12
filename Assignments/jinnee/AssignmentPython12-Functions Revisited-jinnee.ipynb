{
 "cells": [
  {
   "cell_type": "code",
   "execution_count": 9,
   "id": "59effd55",
   "metadata": {},
   "outputs": [
    {
     "name": "stdout",
     "output_type": "stream",
     "text": [
      "[4]\n",
      "100\n"
     ]
    }
   ],
   "source": [
    "# Write lambdas to:\n",
    "# a. Square a number x2\n",
    "\n",
    "# Answer 1\n",
    "\n",
    "a = [2]\n",
    "r = map(lambda x : x**2, a)\n",
    "print(list(r))\n",
    "\n",
    "# Answer 2\n",
    "\n",
    "f = lambda x : x**2\n",
    "\n",
    "print(f(10))\n"
   ]
  },
  {
   "cell_type": "code",
   "execution_count": 11,
   "id": "992faf4c",
   "metadata": {},
   "outputs": [
    {
     "name": "stdout",
     "output_type": "stream",
     "text": [
      "0.1\n"
     ]
    }
   ],
   "source": [
    "# b. Inverse a number 1/x\n",
    "\n",
    "f = lambda x : 1/x\n",
    "\n",
    "print(f(10))\n"
   ]
  },
  {
   "cell_type": "code",
   "execution_count": 12,
   "id": "82aadfbb",
   "metadata": {},
   "outputs": [
    {
     "name": "stdout",
     "output_type": "stream",
     "text": [
      "-10\n"
     ]
    }
   ],
   "source": [
    "# c. Negate a number \n",
    "\n",
    "f = lambda x : -x\n",
    "\n",
    "print(f(10))\n"
   ]
  },
  {
   "cell_type": "code",
   "execution_count": 15,
   "id": "d4d02726",
   "metadata": {},
   "outputs": [
    {
     "name": "stdout",
     "output_type": "stream",
     "text": [
      "87\n"
     ]
    }
   ],
   "source": [
    "# Use reduce function and an appropriate lambda to find the maximum number in a list\n",
    "\n",
    "from functools import reduce\n",
    "\n",
    "a = [2, 43, 6, 87, 5]\n",
    "\n",
    "r = reduce(lambda x,y : x if x>y else y, a)\n",
    "print(r)\n"
   ]
  },
  {
   "cell_type": "code",
   "execution_count": 32,
   "id": "44b5a506",
   "metadata": {},
   "outputs": [
    {
     "name": "stdout",
     "output_type": "stream",
     "text": [
      "[1, 4, 16]\n",
      "[1.0, 0.25, 0.0625]\n",
      "[-1.0, -0.25, -0.0625]\n"
     ]
    }
   ],
   "source": [
    "# Write a function map_multiple that takes a list of functions/lambdas as first argument and a\n",
    "# sequence type as second argument.\n",
    "#The function picks first lambda from list, applies it to first element, then applies the second\n",
    "# function to the result of first one and ….\n",
    "# Similarly it does for each element and generates a mapping of input to output\n",
    "#            def map_multiple(functs, sequence):\n",
    "             # write definition here\n",
    "# Ex: let list of lambdas be from question 1 and the list on numbers be [1,2,4]\n",
    "# So first function gives [1, 4, 16]\n",
    "# Second gives [1, 0.25, 0.0625]\n",
    "# Third gives [-1, -0.25, -0.0625]. Which is the final result. \n",
    "\n",
    "# Answer 1:\n",
    "    \n",
    "seq = [1,2,4]\n",
    "\n",
    "def map_multiple(funct, sequence):\n",
    "    res = []\n",
    "    for v in sequence:\n",
    "        res.append( funct(v))\n",
    "    return res\n",
    "    \n",
    "def square(x):\n",
    "    return x**2\n",
    "\n",
    "def inverse(x):\n",
    "    return 1/x\n",
    "\n",
    "def negate(x):\n",
    "    return -x\n",
    "\n",
    "r = map_multiple(square, seq)\n",
    "print(r)\n",
    "\n",
    "i = map_multiple(inverse, r)\n",
    "print(i)\n",
    "\n",
    "n = map_multiple(negate, i)\n",
    "print(n)\n"
   ]
  },
  {
   "cell_type": "code",
   "execution_count": 43,
   "id": "0063ba01",
   "metadata": {},
   "outputs": [
    {
     "name": "stdout",
     "output_type": "stream",
     "text": [
      "[1, 4, 16]\n",
      "[1.0, 0.25, 0.0625]\n",
      "[-1.0, -0.25, -0.0625]\n"
     ]
    }
   ],
   "source": [
    "# Answer 2:\n",
    "    \n",
    "seq = [1,2,4]\n",
    "\n",
    "m = map(lambda x : x**2, seq)\n",
    "m1= list(m)\n",
    "print(m1)\n",
    "\n",
    "n = map(lambda x : 1/x, m1)\n",
    "n1=list(n)\n",
    "print(n1)\n",
    "\n",
    "o = map(lambda x : -x, n1)\n",
    "o1=list(o)\n",
    "print(o1)\n"
   ]
  },
  {
   "cell_type": "code",
   "execution_count": 44,
   "id": "d12a766c",
   "metadata": {},
   "outputs": [
    {
     "name": "stdout",
     "output_type": "stream",
     "text": [
      "[-1.0, -0.25, -0.0625]\n"
     ]
    }
   ],
   "source": [
    "# Answer 3:\n",
    "\n",
    "functs = [lambda x : x**2, lambda x : 1/x, lambda x : -x]\n",
    "seq = [1,2,4]\n",
    "\n",
    "ans =[]\n",
    "for num in seq:\n",
    "    res = num\n",
    "    for funct in functs:\n",
    "        res = funct(res)\n",
    "    ans.append(res)\n",
    "print(ans)"
   ]
  },
  {
   "cell_type": "code",
   "execution_count": null,
   "id": "14f5d373",
   "metadata": {},
   "outputs": [],
   "source": [
    "# Predict the output of following code:\n",
    "# 50"
   ]
  },
  {
   "cell_type": "code",
   "execution_count": 45,
   "id": "b6138149",
   "metadata": {},
   "outputs": [
    {
     "name": "stdout",
     "output_type": "stream",
     "text": [
      "[1.0, 0.5, 0.25, 0.125]\n"
     ]
    }
   ],
   "source": [
    "# Find output of following:\n",
    "# [1.0, 0.5, 0.25, 0.125]\n",
    "\n",
    "functs = [lambda x : x**0.5, lambda x : 1/x]\n",
    "l = [1, 4, 16, 64]\n",
    "\n",
    "ans =[]\n",
    "for num in l:\n",
    "    res = num\n",
    "    for funct in functs:\n",
    "        res = funct(res)\n",
    "    ans.append(res)\n",
    "print(ans)"
   ]
  },
  {
   "cell_type": "code",
   "execution_count": 132,
   "id": "cb1ea175",
   "metadata": {},
   "outputs": [
    {
     "name": "stdout",
     "output_type": "stream",
     "text": [
      "[1, 2, 3]\n"
     ]
    }
   ],
   "source": [
    "# Use filter function to filter a list of numbers and strings such that the result contains only\n",
    "# numbers. (Hint : Use isinstance method) \n",
    "\n",
    "# Answer 1 \n",
    "\n",
    "a1 = [1, 2, 3, 'abc', '456', 'def']\n",
    "\n",
    "f = filter(lambda x : isinstance(x, int), a1)\n",
    "print(list(f))\n"
   ]
  },
  {
   "cell_type": "code",
   "execution_count": 133,
   "id": "9c33cf79",
   "metadata": {},
   "outputs": [
    {
     "ename": "AttributeError",
     "evalue": "'int' object has no attribute 'isdigit'",
     "output_type": "error",
     "traceback": [
      "\u001b[1;31m---------------------------------------------------------------------------\u001b[0m",
      "\u001b[1;31mAttributeError\u001b[0m                            Traceback (most recent call last)",
      "\u001b[1;32m<ipython-input-133-e4920a6fb3b7>\u001b[0m in \u001b[0;36m<module>\u001b[1;34m\u001b[0m\n\u001b[0;32m      4\u001b[0m \u001b[1;33m\u001b[0m\u001b[0m\n\u001b[0;32m      5\u001b[0m \u001b[0mf\u001b[0m \u001b[1;33m=\u001b[0m \u001b[0mfilter\u001b[0m\u001b[1;33m(\u001b[0m\u001b[1;32mlambda\u001b[0m \u001b[0mx\u001b[0m \u001b[1;33m:\u001b[0m \u001b[0mx\u001b[0m\u001b[1;33m.\u001b[0m\u001b[0misdigit\u001b[0m\u001b[1;33m(\u001b[0m\u001b[1;33m)\u001b[0m\u001b[1;33m,\u001b[0m \u001b[0ma1\u001b[0m\u001b[1;33m)\u001b[0m\u001b[1;33m\u001b[0m\u001b[1;33m\u001b[0m\u001b[0m\n\u001b[1;32m----> 6\u001b[1;33m \u001b[0mprint\u001b[0m\u001b[1;33m(\u001b[0m\u001b[0mlist\u001b[0m\u001b[1;33m(\u001b[0m\u001b[0mf\u001b[0m\u001b[1;33m)\u001b[0m\u001b[1;33m)\u001b[0m\u001b[1;33m\u001b[0m\u001b[1;33m\u001b[0m\u001b[0m\n\u001b[0m",
      "\u001b[1;32m<ipython-input-133-e4920a6fb3b7>\u001b[0m in \u001b[0;36m<lambda>\u001b[1;34m(x)\u001b[0m\n\u001b[0;32m      3\u001b[0m \u001b[0ma1\u001b[0m \u001b[1;33m=\u001b[0m \u001b[1;33m[\u001b[0m\u001b[1;36m1\u001b[0m\u001b[1;33m,\u001b[0m \u001b[1;36m2\u001b[0m\u001b[1;33m,\u001b[0m \u001b[1;36m3\u001b[0m\u001b[1;33m,\u001b[0m \u001b[1;34m'abc'\u001b[0m\u001b[1;33m,\u001b[0m \u001b[1;34m'456'\u001b[0m\u001b[1;33m,\u001b[0m \u001b[1;34m'def'\u001b[0m\u001b[1;33m]\u001b[0m\u001b[1;33m\u001b[0m\u001b[1;33m\u001b[0m\u001b[0m\n\u001b[0;32m      4\u001b[0m \u001b[1;33m\u001b[0m\u001b[0m\n\u001b[1;32m----> 5\u001b[1;33m \u001b[0mf\u001b[0m \u001b[1;33m=\u001b[0m \u001b[0mfilter\u001b[0m\u001b[1;33m(\u001b[0m\u001b[1;32mlambda\u001b[0m \u001b[0mx\u001b[0m \u001b[1;33m:\u001b[0m \u001b[0mx\u001b[0m\u001b[1;33m.\u001b[0m\u001b[0misdigit\u001b[0m\u001b[1;33m(\u001b[0m\u001b[1;33m)\u001b[0m\u001b[1;33m,\u001b[0m \u001b[0ma1\u001b[0m\u001b[1;33m)\u001b[0m\u001b[1;33m\u001b[0m\u001b[1;33m\u001b[0m\u001b[0m\n\u001b[0m\u001b[0;32m      6\u001b[0m \u001b[0mprint\u001b[0m\u001b[1;33m(\u001b[0m\u001b[0mlist\u001b[0m\u001b[1;33m(\u001b[0m\u001b[0mf\u001b[0m\u001b[1;33m)\u001b[0m\u001b[1;33m)\u001b[0m\u001b[1;33m\u001b[0m\u001b[1;33m\u001b[0m\u001b[0m\n",
      "\u001b[1;31mAttributeError\u001b[0m: 'int' object has no attribute 'isdigit'"
     ]
    }
   ],
   "source": [
    "# Answer 2 - .isdigit is NOT working here\n",
    "\n",
    "a1 = [1, 2, 3, 'abc', '456', 'def']\n",
    "\n",
    "f = filter(lambda x : x.isdigit(), a1)\n",
    "print(list(f))\n"
   ]
  },
  {
   "cell_type": "code",
   "execution_count": null,
   "id": "715a87d0",
   "metadata": {},
   "outputs": [],
   "source": []
  },
  {
   "cell_type": "code",
   "execution_count": 130,
   "id": "df367bff",
   "metadata": {},
   "outputs": [
    {
     "name": "stdout",
     "output_type": "stream",
     "text": [
      "[1.7018, 1.4732, 1.8288000000000002, 1.397, 3.3528000000000002]\n"
     ]
    }
   ],
   "source": [
    "# Assume a list containing heights ft and inches in the form of a list of string\n",
    "# Example : l = [‘5ft10in’, ‘5ft’, ….]\n",
    "# Write a function to convert the heights to meter. Use map function along with your function to\n",
    "# convert everything to m\n",
    "\n",
    "seq = ['5ft7in', '4ft10in', '6ft', '55in', '6ft60in']\n",
    "      \n",
    "def ft_inch_to_m(v):\n",
    "    \n",
    "    if 'ft' in v:\n",
    "        if 'in' in v:\n",
    "            str1 = v.split('ft', 1)[0]\n",
    "            str2 = v.split('ft', 1)[1]\n",
    "            str3 = str2.split('in', 1)[0]\n",
    "            n1 = int(str1)*0.3048\n",
    "            n2 = int(str3)*0.0254\n",
    "            return n1+n2 #how to add 'm' to integer?\n",
    "        else: \n",
    "            str5 = v.split('ft', 1)[0]\n",
    "            n4 = int(str5)*0.3048\n",
    "            return n4 #how to add 'm' to integer?\n",
    "    else:\n",
    "        str4 = v.split('in', 1)[0]\n",
    "        n3 = int(str4)*0.0254\n",
    "        return n3 #how to add 'm' to integer?\n",
    "    \n",
    "print(list(map(ft_inch_to_m, seq)))\n"
   ]
  },
  {
   "cell_type": "code",
   "execution_count": 121,
   "id": "ebf0d145",
   "metadata": {},
   "outputs": [
    {
     "name": "stdout",
     "output_type": "stream",
     "text": [
      "[1.7018, 1.4732, 1.8288000000000002, 1.397, 3.3528000000000002]\n"
     ]
    }
   ],
   "source": [
    "# Write the implementation for the map function yourself by the name my_map()\n",
    "\n",
    "seq = ['5ft7in', '4ft10in', '6ft', '55in', '6ft60in']\n",
    "\n",
    "  \n",
    "def my_map(v):\n",
    "      \n",
    "    if 'ft' in v:       \n",
    "        if 'in' in v:\n",
    "            str1 = v.split('ft', 1)[0]\n",
    "            str2 = v.split('ft', 1)[1]\n",
    "            str3 = str2.split('in', 1)[0]\n",
    "            n1 = int(str1)*0.3048\n",
    "            n2 = int(str3)*0.0254\n",
    "            return (n1+n2) #how to add 'm' to integer?\n",
    "        else: \n",
    "            str5 = v.split('ft', 1)[0]\n",
    "            n4 = int(str5)*0.3048\n",
    "            return (n4) #how to add 'm' to integer?\n",
    "    else:\n",
    "        str4 = v.split('in', 1)[0]\n",
    "        n3 = int(str4)*0.0254\n",
    "        return (n3) #how to add 'm' to integer?\n",
    "            \n",
    "        \n",
    "res = []\n",
    "for v in seq: \n",
    "    res.append( my_map(v) )\n",
    "print(res)\n",
    "\n",
    "    "
   ]
  }
 ],
 "metadata": {
  "kernelspec": {
   "display_name": "Python 3",
   "language": "python",
   "name": "python3"
  },
  "language_info": {
   "codemirror_mode": {
    "name": "ipython",
    "version": 3
   },
   "file_extension": ".py",
   "mimetype": "text/x-python",
   "name": "python",
   "nbconvert_exporter": "python",
   "pygments_lexer": "ipython3",
   "version": "3.8.8"
  }
 },
 "nbformat": 4,
 "nbformat_minor": 5
}
