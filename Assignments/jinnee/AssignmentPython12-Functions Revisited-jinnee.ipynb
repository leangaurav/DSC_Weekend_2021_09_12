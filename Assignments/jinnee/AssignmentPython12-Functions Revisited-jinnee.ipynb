{
 "cells": [
  {
   "cell_type": "code",
   "execution_count": 9,
   "id": "59effd55",
   "metadata": {},
   "outputs": [
    {
     "name": "stdout",
     "output_type": "stream",
     "text": [
      "[4]\n",
      "100\n"
     ]
    }
   ],
   "source": [
    "# Write lambdas to:\n",
    "# a. Square a number x2\n",
    "\n",
    "# Answer 1\n",
    "\n",
    "a = [2]\n",
    "r = map(lambda x : x**2, a)\n",
    "print(list(r))\n",
    "\n",
    "# Answer 2\n",
    "\n",
    "f = lambda x : x**2\n",
    "\n",
    "print(f(10))\n"
   ]
  },
  {
   "cell_type": "code",
   "execution_count": 11,
   "id": "992faf4c",
   "metadata": {},
   "outputs": [
    {
     "name": "stdout",
     "output_type": "stream",
     "text": [
      "0.1\n"
     ]
    }
   ],
   "source": [
    "# b. Inverse a number 1/x\n",
    "\n",
    "f = lambda x : 1/x\n",
    "\n",
    "print(f(10))\n"
   ]
  },
  {
   "cell_type": "code",
   "execution_count": 12,
   "id": "82aadfbb",
   "metadata": {},
   "outputs": [
    {
     "name": "stdout",
     "output_type": "stream",
     "text": [
      "-10\n"
     ]
    }
   ],
   "source": [
    "# c. Negate a number \n",
    "\n",
    "f = lambda x : -x\n",
    "\n",
    "print(f(10))\n"
   ]
  },
  {
   "cell_type": "code",
   "execution_count": 15,
   "id": "d4d02726",
   "metadata": {},
   "outputs": [
    {
     "name": "stdout",
     "output_type": "stream",
     "text": [
      "87\n"
     ]
    }
   ],
   "source": [
    "# Use reduce function and an appropriate lambda to find the maximum number in a list\n",
    "\n",
    "from functools import reduce\n",
    "\n",
    "a = [2, 43, 6, 87, 5]\n",
    "\n",
    "r = reduce(lambda x,y : x if x>y else y, a)\n",
    "print(r)\n"
   ]
  },
  {
   "cell_type": "code",
   "execution_count": 32,
   "id": "44b5a506",
   "metadata": {},
   "outputs": [
    {
     "name": "stdout",
     "output_type": "stream",
     "text": [
      "[1, 4, 16]\n",
      "[1.0, 0.25, 0.0625]\n",
      "[-1.0, -0.25, -0.0625]\n"
     ]
    }
   ],
   "source": [
    "# Write a function map_multiple that takes a list of functions/lambdas as first argument and a\n",
    "# sequence type as second argument.\n",
    "#The function picks first lambda from list, applies it to first element, then applies the second\n",
    "# function to the result of first one and ….\n",
    "# Similarly it does for each element and generates a mapping of input to output\n",
    "#            def map_multiple(functs, sequence):\n",
    "             # write definition here\n",
    "# Ex: let list of lambdas be from question 1 and the list on numbers be [1,2,4]\n",
    "# So first function gives [1, 4, 16]\n",
    "# Second gives [1, 0.25, 0.0625]\n",
    "# Third gives [-1, -0.25, -0.0625]. Which is the final result. \n",
    "\n",
    "# Answer 1:\n",
    "    \n",
    "seq = [1,2,4]\n",
    "\n",
    "def map_multiple(funct, sequence):\n",
    "    res = []\n",
    "    for v in sequence:\n",
    "        res.append( funct(v))\n",
    "    return res\n",
    "    \n",
    "def square(x):\n",
    "    return x**2\n",
    "\n",
    "def inverse(x):\n",
    "    return 1/x\n",
    "\n",
    "def negate(x):\n",
    "    return -x\n",
    "\n",
    "r = map_multiple(square, seq)\n",
    "print(r)\n",
    "\n",
    "i = map_multiple(inverse, r)\n",
    "print(i)\n",
    "\n",
    "n = map_multiple(negate, i)\n",
    "print(n)\n"
   ]
  },
  {
   "cell_type": "code",
   "execution_count": 43,
   "id": "0063ba01",
   "metadata": {},
   "outputs": [
    {
     "name": "stdout",
     "output_type": "stream",
     "text": [
      "[1, 4, 16]\n",
      "[1.0, 0.25, 0.0625]\n",
      "[-1.0, -0.25, -0.0625]\n"
     ]
    }
   ],
   "source": [
    "# Answer 2:\n",
    "    \n",
    "seq = [1,2,4]\n",
    "\n",
    "m = map(lambda x : x**2, seq)\n",
    "m1= list(m)\n",
    "print(m1)\n",
    "\n",
    "n = map(lambda x : 1/x, m1)\n",
    "n1=list(n)\n",
    "print(n1)\n",
    "\n",
    "o = map(lambda x : -x, n1)\n",
    "o1=list(o)\n",
    "print(o1)\n"
   ]
  },
  {
   "cell_type": "code",
   "execution_count": 44,
   "id": "d12a766c",
   "metadata": {},
   "outputs": [
    {
     "name": "stdout",
     "output_type": "stream",
     "text": [
      "[-1.0, -0.25, -0.0625]\n"
     ]
    }
   ],
   "source": [
    "# Answer 3:\n",
    "\n",
    "functs = [lambda x : x**2, lambda x : 1/x, lambda x : -x]\n",
    "seq = [1,2,4]\n",
    "\n",
    "ans =[]\n",
    "for num in seq:\n",
    "    res = num\n",
    "    for funct in functs:\n",
    "        res = funct(res)\n",
    "    ans.append(res)\n",
    "print(ans)"
   ]
  },
  {
   "cell_type": "code",
   "execution_count": null,
   "id": "14f5d373",
   "metadata": {},
   "outputs": [],
   "source": [
    "# Predict the output of following code:\n",
    "# 50"
   ]
  },
  {
   "cell_type": "code",
   "execution_count": 45,
   "id": "b6138149",
   "metadata": {},
   "outputs": [
    {
     "name": "stdout",
     "output_type": "stream",
     "text": [
      "[1.0, 0.5, 0.25, 0.125]\n"
     ]
    }
   ],
   "source": [
    "# Find output of following:\n",
    "# [1.0, 0.5, 0.25, 0.125]\n",
    "\n",
    "functs = [lambda x : x**0.5, lambda x : 1/x]\n",
    "l = [1, 4, 16, 64]\n",
    "\n",
    "ans =[]\n",
    "for num in l:\n",
    "    res = num\n",
    "    for funct in functs:\n",
    "        res = funct(res)\n",
    "    ans.append(res)\n",
    "print(ans)"
   ]
  },
  {
   "cell_type": "code",
   "execution_count": 58,
   "id": "cb1ea175",
   "metadata": {},
   "outputs": [
    {
     "name": "stdout",
     "output_type": "stream",
     "text": [
      "enter a string or numbers: 1 2 3 abc 456 def\n",
      "['1', '2', '3', 'abc', '456', 'def']\n",
      "['1', '2', '3', 'abc', '456', 'def']\n"
     ]
    }
   ],
   "source": [
    "# Use filter function to filter a list of numbers and strings such that the result contains only\n",
    "# numbers. (Hint : Use isinstance method) \n",
    "# not working\n",
    "\n",
    "a = input(\"enter a string or numbers: \")\n",
    "a1 = a.split()\n",
    "print(list(a1))\n",
    "\n",
    "# f = filter(lambda x : x, isinstance['123','12','43',..], a)\n",
    "\n",
    "f = filter(lambda x : x if str.isdigit else y, a1)\n",
    "print(list(f))"
   ]
  },
  {
   "cell_type": "code",
   "execution_count": null,
   "id": "9c33cf79",
   "metadata": {},
   "outputs": [],
   "source": []
  },
  {
   "cell_type": "code",
   "execution_count": null,
   "id": "df367bff",
   "metadata": {},
   "outputs": [],
   "source": [
    "# Assume a list containing heights ft and inches in the form of a list of string\n",
    "# Example : l = [‘5ft10in’, ‘5ft’, ….]\n",
    "# Write a function to convert the heights to meter. Use map function along with your function to\n",
    "# convert everything to m\n"
   ]
  },
  {
   "cell_type": "code",
   "execution_count": null,
   "id": "41ea9cff",
   "metadata": {},
   "outputs": [],
   "source": [
    "# Write the implementation for the map function yourself by the name my_map()\n"
   ]
  }
 ],
 "metadata": {
  "kernelspec": {
   "display_name": "Python 3",
   "language": "python",
   "name": "python3"
  },
  "language_info": {
   "codemirror_mode": {
    "name": "ipython",
    "version": 3
   },
   "file_extension": ".py",
   "mimetype": "text/x-python",
   "name": "python",
   "nbconvert_exporter": "python",
   "pygments_lexer": "ipython3",
   "version": "3.8.8"
  }
 },
 "nbformat": 4,
 "nbformat_minor": 5
}
