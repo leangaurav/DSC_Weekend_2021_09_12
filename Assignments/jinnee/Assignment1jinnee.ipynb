{
 "cells": [
  {
   "cell_type": "code",
   "execution_count": 1,
   "id": "cc1cfddb",
   "metadata": {},
   "outputs": [
    {
     "name": "stdout",
     "output_type": "stream",
     "text": [
      "6 23\n"
     ]
    }
   ],
   "source": [
    "#Question 1 : Predict ouput\n",
    "#6,23\n",
    "\n",
    "#Check\n",
    "s1='Gaurav'\n",
    "s2='leangaurav.me@email.com'\n",
    "print(len(s1),len(s2))"
   ]
  },
  {
   "cell_type": "code",
   "execution_count": 2,
   "id": "c213e31d",
   "metadata": {},
   "outputs": [
    {
     "name": "stdout",
     "output_type": "stream",
     "text": [
      "enter a string:abcdefg\n",
      "7\n"
     ]
    }
   ],
   "source": [
    "#Question 2\n",
    "\n",
    "s=input(\"enter a string:\")\n",
    "print(len(s))"
   ]
  },
  {
   "cell_type": "code",
   "execution_count": 38,
   "id": "e8e4e15f",
   "metadata": {},
   "outputs": [
    {
     "name": "stdout",
     "output_type": "stream",
     "text": [
      "enter the first number:8\n",
      "enter the second number:15\n",
      "23\n",
      "7\n"
     ]
    }
   ],
   "source": [
    "#Question 3\n",
    "\n",
    "s1=int(input(\"enter the first number:\"))\n",
    "s2=int(input(\"enter the second number:\"))\n",
    "print(s1+s2)\n",
    "print(s2-s1)"
   ]
  },
  {
   "cell_type": "code",
   "execution_count": 5,
   "id": "2f598daf",
   "metadata": {},
   "outputs": [
    {
     "name": "stdout",
     "output_type": "stream",
     "text": [
      "abde\n"
     ]
    }
   ],
   "source": [
    "#Question 4 : Predict output\n",
    "#abde\n",
    "\n",
    "#Check\n",
    "s1='ab'\n",
    "s2='de'\n",
    "s3=s1+s2\n",
    "print(s3)"
   ]
  },
  {
   "cell_type": "code",
   "execution_count": 39,
   "id": "8aeb1d30",
   "metadata": {},
   "outputs": [
    {
     "name": "stdout",
     "output_type": "stream",
     "text": [
      "abde\n"
     ]
    }
   ],
   "source": [
    "#Question 5 : Predict output\n",
    "#abde\n",
    "\n",
    "#Check\n",
    "s1='ab'\n",
    "s2='de'\n",
    "s3=s1+s2\n",
    "print(s3)"
   ]
  },
  {
   "cell_type": "code",
   "execution_count": 7,
   "id": "7b91b0b2",
   "metadata": {},
   "outputs": [
    {
     "name": "stdout",
     "output_type": "stream",
     "text": [
      "abababab\n"
     ]
    }
   ],
   "source": [
    "#Question 6 : Predict output\n",
    "#abababab\n",
    "\n",
    "#Check\n",
    "s1='ab'*4\n",
    "print(s1)"
   ]
  },
  {
   "cell_type": "code",
   "execution_count": 8,
   "id": "3157aac5",
   "metadata": {},
   "outputs": [
    {
     "name": "stdout",
     "output_type": "stream",
     "text": [
      "ab\n",
      "ab\n",
      "ab\n",
      "ab\n",
      "\n"
     ]
    }
   ],
   "source": [
    "#Question 7 : Predict output\n",
    "#ab\n",
    "#ab\n",
    "#ab\n",
    "#ab\n",
    "\n",
    "#Check\n",
    "s1='ab\\n'*4\n",
    "print(s1)"
   ]
  },
  {
   "cell_type": "code",
   "execution_count": 37,
   "id": "362e818e",
   "metadata": {},
   "outputs": [
    {
     "name": "stdout",
     "output_type": "stream",
     "text": [
      "s:Hello how are you\n",
      "n:3\n",
      "Hello how are you\n",
      "Hello how are you\n",
      "Hello how are you\n",
      "\n"
     ]
    }
   ],
   "source": [
    "#Question 8\n",
    "\n",
    "s=input(\"s:\")\n",
    "n=int(input(\"n:\"))\n",
    "res=(s+'\\n')*n\n",
    "print(res)"
   ]
  },
  {
   "cell_type": "code",
   "execution_count": 40,
   "id": "9f199518",
   "metadata": {},
   "outputs": [
    {
     "name": "stdout",
     "output_type": "stream",
     "text": [
      "Gaurav\n",
      "None\n"
     ]
    }
   ],
   "source": [
    "#Question 9 : Predict output\n",
    "#Gaurav\n",
    "\n",
    "#Check\n",
    "res=print('Gaurav')\n",
    "print(res)"
   ]
  },
  {
   "cell_type": "code",
   "execution_count": 41,
   "id": "4022ebea",
   "metadata": {},
   "outputs": [
    {
     "name": "stdout",
     "output_type": "stream",
     "text": [
      "<class 'int'>\n"
     ]
    }
   ],
   "source": [
    "#Question 10 : Predict output\n",
    "#int\n",
    "\n",
    "#Check\n",
    "res=len('leangaurav.me@email.com')\n",
    "print(type(res))"
   ]
  },
  {
   "cell_type": "code",
   "execution_count": 46,
   "id": "1ca17620",
   "metadata": {},
   "outputs": [
    {
     "name": "stdout",
     "output_type": "stream",
     "text": [
      "<class 'str'> 30\n"
     ]
    }
   ],
   "source": [
    "#Question 11 : Predict output\n",
    "#String\n",
    "#29\n",
    "\n",
    "#Check\n",
    "s1 = 'Gaurav'\n",
    "s2 = 'leangaurav.me@email.com'\n",
    "s3 = s1 + '\\n' + s2\n",
    "print(type(s3), len(s3))\n"
   ]
  },
  {
   "cell_type": "code",
   "execution_count": null,
   "id": "55cbc1b2",
   "metadata": {},
   "outputs": [],
   "source": [
    "#Question 12\n",
    "#sqrt"
   ]
  },
  {
   "cell_type": "code",
   "execution_count": 51,
   "id": "901ae04b",
   "metadata": {},
   "outputs": [
    {
     "name": "stdout",
     "output_type": "stream",
     "text": [
      "enter a number:64\n",
      "square root is: 8.0\n"
     ]
    }
   ],
   "source": [
    "#Question 13\n",
    "\n",
    "s=int(input(\"enter a number:\"))\n",
    "print(\"square root is:\", s**0.5)\n"
   ]
  },
  {
   "cell_type": "code",
   "execution_count": 53,
   "id": "1ff7c35d",
   "metadata": {},
   "outputs": [
    {
     "name": "stdout",
     "output_type": "stream",
     "text": [
      "enter first number:10\n",
      "enter second number:30\n",
      "enter third number:45\n",
      "enter fourth number:15\n",
      "25.0\n"
     ]
    }
   ],
   "source": [
    "#Question 14\n",
    "\n",
    "s1=int(input(\"enter first number:\"))\n",
    "s2=int(input(\"enter second number:\"))\n",
    "s3=int(input(\"enter third number:\"))\n",
    "s4=int(input(\"enter fourth number:\"))\n",
    "res=(s1+s2+s3+s4)/4\n",
    "print(res)"
   ]
  },
  {
   "cell_type": "code",
   "execution_count": null,
   "id": "7b796744",
   "metadata": {},
   "outputs": [],
   "source": [
    "#Question 15\n",
    "#help(abs)\n"
   ]
  },
  {
   "cell_type": "code",
   "execution_count": 56,
   "id": "6dbb89ca",
   "metadata": {},
   "outputs": [],
   "source": [
    "#Question 16 \n",
    "#output from interpreter is __main__\n"
   ]
  },
  {
   "cell_type": "code",
   "execution_count": 57,
   "id": "7976bfe5",
   "metadata": {},
   "outputs": [
    {
     "name": "stdout",
     "output_type": "stream",
     "text": [
      "__main__\n"
     ]
    }
   ],
   "source": [
    "#Question 17 \n",
    "#output from script is __main__\n",
    "\n",
    "#Check\n",
    "print(__name__)"
   ]
  },
  {
   "cell_type": "code",
   "execution_count": null,
   "id": "44192018",
   "metadata": {},
   "outputs": [],
   "source": [
    "#Question 18\n",
    "#N"
   ]
  },
  {
   "cell_type": "code",
   "execution_count": 55,
   "id": "82f007a0",
   "metadata": {},
   "outputs": [
    {
     "name": "stdout",
     "output_type": "stream",
     "text": [
      "__main__\n",
      "builtins\n",
      "int\n"
     ]
    }
   ],
   "source": [
    "#Question 19 : Predict output\n",
    "# __main__\n",
    "# builtins\n",
    "# int\n",
    "\n",
    "#Check\n",
    "print(__name__)\n",
    "print(__builtins__.__name__)\n",
    "print(int.__name__)"
   ]
  },
  {
   "cell_type": "code",
   "execution_count": null,
   "id": "072383f9",
   "metadata": {},
   "outputs": [],
   "source": []
  }
 ],
 "metadata": {
  "kernelspec": {
   "display_name": "Python 3",
   "language": "python",
   "name": "python3"
  },
  "language_info": {
   "codemirror_mode": {
    "name": "ipython",
    "version": 3
   },
   "file_extension": ".py",
   "mimetype": "text/x-python",
   "name": "python",
   "nbconvert_exporter": "python",
   "pygments_lexer": "ipython3",
   "version": "3.8.8"
  }
 },
 "nbformat": 4,
 "nbformat_minor": 5
}
