{
 "cells": [
  {
   "cell_type": "code",
   "execution_count": 1,
   "id": "f9859f7b",
   "metadata": {},
   "outputs": [
    {
     "name": "stdout",
     "output_type": "stream",
     "text": [
      "enter first number:9\n",
      "enter second number:4\n",
      "false\n"
     ]
    }
   ],
   "source": [
    "# WAP to input 2 numbers and check whether the first is divisible by the second and print true or\n",
    "# false depending on the divisibility.\n",
    "\n",
    "n1 = int(input(\"enter first number:\"))\n",
    "n2 = int(input(\"enter second number:\"))\n",
    "\n",
    "if n1%n2 == 0:\n",
    "    print(\"true\")\n",
    "else:\n",
    "    print(\"false\")"
   ]
  },
  {
   "cell_type": "code",
   "execution_count": 12,
   "id": "c260f347",
   "metadata": {},
   "outputs": [
    {
     "name": "stdout",
     "output_type": "stream",
     "text": [
      "enter a string: Madam\n",
      "it is palindrome\n"
     ]
    }
   ],
   "source": [
    "# In the palindrome example, make the code case insensitive.\n",
    "# i.e. Naman should also be treated as a palindrome (HINT: first convert to either upper or lower case).\n",
    "\n",
    "s = input(\"enter a string: \")\n",
    "s1 = s.lower()\n",
    "\n",
    "r = s1[::-1]\n",
    "\n",
    "if s1 == r:\n",
    "    print(\"it is palindrome\")\n",
    "else: \n",
    "    print(\"it is not palindrome\")\n",
    "\n"
   ]
  },
  {
   "cell_type": "code",
   "execution_count": 17,
   "id": "d56f9f56",
   "metadata": {},
   "outputs": [
    {
     "name": "stdout",
     "output_type": "stream",
     "text": [
      "enter first triangle side: 7\n",
      "enter second triangle side: 9\n",
      "enter third triangle side: 7\n",
      "triangle is isosceles\n"
     ]
    }
   ],
   "source": [
    "# WAP to input the sides of a triangle and print whether equilateral(all sides equal), isosceles (2 sides equal), \n",
    "# or scalene (no sides equal).\n",
    "\n",
    "n1 = int(input(\"enter first triangle side: \"))\n",
    "n2 = int(input(\"enter second triangle side: \"))\n",
    "n3 = int(input(\"enter third triangle side: \"))\n",
    "\n",
    "if n1 == n2 == n3:\n",
    "    print(\"triangle is equilateral\")\n",
    "elif n1 == n2 or n1 == n3:\n",
    "    print(\"triangle is isosceles\")\n",
    "elif n2 == n3:\n",
    "    print(\"triangle is isosceles\")\n",
    "else:\n",
    "    print(\"triangle is scalene\")"
   ]
  },
  {
   "cell_type": "code",
   "execution_count": null,
   "id": "e600eaeb",
   "metadata": {},
   "outputs": [],
   "source": [
    "# WAP to input a number and print if it is even or odd\n",
    "# will update answer"
   ]
  },
  {
   "cell_type": "code",
   "execution_count": 21,
   "id": "ced29d5b",
   "metadata": {},
   "outputs": [
    {
     "name": "stdout",
     "output_type": "stream",
     "text": [
      "enter age: 102\n",
      "Contratulations\n"
     ]
    }
   ],
   "source": [
    "# WAP to input age and print the respective text\n",
    "# depending on the age ranges as present in the table.\n",
    "\n",
    "n = int(input(\"enter age: \"))\n",
    "\n",
    "if 0 <= n <= 12:\n",
    "    print(\"Child\")\n",
    "elif 13 <= n <= 17:\n",
    "    print(\"Teen\")\n",
    "elif 18 <= n <= 50:\n",
    "    print(\"Adult\")\n",
    "elif 51 <= n <= 100:\n",
    "    print(\"Senior Citizen\")\n",
    "elif n > 100:\n",
    "    print(\"Contratulations\")\n",
    "    "
   ]
  },
  {
   "cell_type": "code",
   "execution_count": null,
   "id": "c44f5b14",
   "metadata": {},
   "outputs": [],
   "source": [
    "# WAP to input year (check if user enters valid year. Should be 4-digit number and should not be\n",
    "# negative) and print whether leap year or not. (If really interested in why you also have to check\n",
    "# the divisibility by 400 just google the exact time it takes for the earth to revolve around the sub)\n",
    "\n",
    "# will update answer"
   ]
  },
  {
   "cell_type": "code",
   "execution_count": null,
   "id": "d1c686e9",
   "metadata": {},
   "outputs": [],
   "source": [
    "# WAP to input a string and convert it to Upper Case if number of characters is odd and convert to\n",
    "# lower case otherwise\n",
    "\n",
    "# will update answer"
   ]
  },
  {
   "cell_type": "code",
   "execution_count": 25,
   "id": "e51ac283",
   "metadata": {},
   "outputs": [
    {
     "name": "stdout",
     "output_type": "stream",
     "text": [
      "enter a string: Egg\n",
      "Non-Veg\n"
     ]
    }
   ],
   "source": [
    "# WAP to input a string and print Veg if the string doesn’t contain the word egg. Otherwise print\n",
    "# Non-Veg. As usual eggs can be both big and small.\n",
    "\n",
    "s = input(\"enter a string: \")\n",
    "\n",
    "if s.lower() != 'egg':\n",
    "    print(\"Veg\")\n",
    "else:\n",
    "    print(\"Non-Veg\")"
   ]
  },
  {
   "cell_type": "code",
   "execution_count": null,
   "id": "f54cdb74",
   "metadata": {},
   "outputs": [],
   "source": [
    "# Give output of:\n",
    "\n",
    "# will update answer"
   ]
  },
  {
   "cell_type": "code",
   "execution_count": null,
   "id": "2e053545",
   "metadata": {},
   "outputs": [],
   "source": [
    "# WAP to input marks in 5 subjects and print the grade as per following logic:\n",
    "\n",
    "# will update answer"
   ]
  },
  {
   "cell_type": "code",
   "execution_count": null,
   "id": "e2c10350",
   "metadata": {},
   "outputs": [],
   "source": [
    "# WAP to input age and salary and calculate Tax as per tax rates if following table:\n",
    "\n",
    "# will update answer"
   ]
  },
  {
   "cell_type": "code",
   "execution_count": null,
   "id": "b9e41f29",
   "metadata": {},
   "outputs": [],
   "source": [
    "# Try each of the below statements separately (remember difference between statement and\n",
    "# expression) on the python interpreter and guess the output before trying:\n",
    "\n",
    "# will update answer"
   ]
  },
  {
   "cell_type": "code",
   "execution_count": null,
   "id": "45a6e6f0",
   "metadata": {},
   "outputs": [],
   "source": [
    "# WAF: bmi() that takes the weight in kg and height in cm of a person, calculates and returns the BMI.\n",
    "# Write code that calls this function after taking height and weight as inputs and then prints\n",
    "# underweight, normal, overweight or obese depending on the value of BMI.\n",
    "# will update answer"
   ]
  },
  {
   "cell_type": "code",
   "execution_count": null,
   "id": "b30aaabb",
   "metadata": {},
   "outputs": [],
   "source": [
    "# Take input of age of 3 people by user and determine oldest and youngest among them\n",
    "\n",
    "# will update answer"
   ]
  },
  {
   "cell_type": "code",
   "execution_count": null,
   "id": "5aa73bca",
   "metadata": {},
   "outputs": [],
   "source": [
    "# WAP to input a number and check if number is divisible by both 5 and 7.\n",
    "\n",
    "# will update answer"
   ]
  },
  {
   "cell_type": "code",
   "execution_count": null,
   "id": "9df4abf7",
   "metadata": {},
   "outputs": [],
   "source": []
  }
 ],
 "metadata": {
  "kernelspec": {
   "display_name": "Python 3",
   "language": "python",
   "name": "python3"
  },
  "language_info": {
   "codemirror_mode": {
    "name": "ipython",
    "version": 3
   },
   "file_extension": ".py",
   "mimetype": "text/x-python",
   "name": "python",
   "nbconvert_exporter": "python",
   "pygments_lexer": "ipython3",
   "version": "3.8.8"
  }
 },
 "nbformat": 4,
 "nbformat_minor": 5
}
