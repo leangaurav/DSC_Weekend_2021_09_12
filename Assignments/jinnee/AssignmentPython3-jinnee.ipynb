{
 "cells": [
  {
   "cell_type": "code",
   "execution_count": 1,
   "id": "58173e1f",
   "metadata": {},
   "outputs": [
    {
     "name": "stdout",
     "output_type": "stream",
     "text": [
      "enter a string:string1\n",
      "enter a string:string2\n",
      "('string2', 'string1')\n"
     ]
    }
   ],
   "source": [
    "#WAP to input 2 strings and swap the strings\n",
    "\n",
    "s = input(\"enter a string:\")\n",
    "t = input((\"enter a string:\"))\n",
    "\n",
    "def swap(s,t):\n",
    "    s,t = t,s\n",
    "    return s,t\n",
    "\n",
    "print(swap(s,t))\n"
   ]
  },
  {
   "cell_type": "code",
   "execution_count": 9,
   "id": "2f2f870e",
   "metadata": {},
   "outputs": [
    {
     "name": "stdout",
     "output_type": "stream",
     "text": [
      "10.75\n"
     ]
    }
   ],
   "source": [
    "#WAP to generate 4 random numbers in the range 0-26 and print their average\n",
    "\n",
    "import random\n",
    "\n",
    "def avg():\n",
    "    a = (random.randrange(0,27))\n",
    "    b = (random.randrange(0,27))\n",
    "    c = (random.randrange(0,27))\n",
    "    d = (random.randrange(0,27))\n",
    "    res = (a+b+c+d)/4\n",
    "    return res\n",
    "\n",
    "print(avg())"
   ]
  },
  {
   "cell_type": "code",
   "execution_count": 17,
   "id": "d3968d3c",
   "metadata": {},
   "outputs": [
    {
     "name": "stdout",
     "output_type": "stream",
     "text": [
      "z\n",
      "Z\n",
      "x\n",
      "X\n"
     ]
    }
   ],
   "source": [
    "# WAP to generate and print a random uppercase or lowercase alphabet. Try these:\n",
    "# Create a string containing all alphabets and then select a random alphabet.\n",
    "# Check the module string\n",
    "\n",
    "# Answer 1\n",
    "import random\n",
    "\n",
    "s = (random.randrange(97,123))\n",
    "\n",
    "print(chr(s).lower())\n",
    "print(chr(s).upper())\n",
    "\n",
    "# Answer 2\n",
    "\n",
    "s = 'abcdefghijklmnopqrstuvwxyz'\n",
    "l = len(s)\n",
    "idx = random.randrange(len(s))\n",
    "print(s[idx].lower())\n",
    "print(s[idx].upper())\n",
    "\n",
    "   "
   ]
  },
  {
   "cell_type": "code",
   "execution_count": 21,
   "id": "b10d5252",
   "metadata": {},
   "outputs": [
    {
     "name": "stdout",
     "output_type": "stream",
     "text": [
      "enter principal:500\n",
      "enter rate:6\n",
      "enter time:3\n",
      "Simple interest: 90.0\n"
     ]
    }
   ],
   "source": [
    "# WAF get_si() that takes Principle, Rate and Time as arguments and returns the Simple Interest.\n",
    "\n",
    "\n",
    "def get_si():\n",
    "    i = (p*r*t)/100\n",
    "    print(\"Simple interest:\", i)\n",
    "\n",
    "p = float(input(\"enter principal:\"))\n",
    "r = float(input(\"enter rate:\"))\n",
    "t = float(input(\"enter time:\"))\n",
    "get_si()\n"
   ]
  },
  {
   "cell_type": "code",
   "execution_count": null,
   "id": "2db631fd",
   "metadata": {},
   "outputs": [],
   "source": [
    "# WAF get_amount() that takes Principle, Rate and Time as arguments and returns the Total amount using the get_si() function \n",
    "# from above to calculate the SI. Also provide Rate = 10 and Time = 1 as default arguments.\n",
    "# will update with answer\n"
   ]
  },
  {
   "cell_type": "code",
   "execution_count": 25,
   "id": "ff62db77",
   "metadata": {},
   "outputs": [
    {
     "name": "stdout",
     "output_type": "stream",
     "text": [
      "enter principal:500\n",
      "enter rate:6\n",
      "enter time:3\n",
      "enter how many times n:12\n",
      "1092082204.5372853\n"
     ]
    }
   ],
   "source": [
    "# WAP get_ci() that takes Principle, Rate and Time as arguments and returns the Compound Interest.\n",
    "\n",
    "def get_ci():\n",
    "    a = p*(1+(r/n))**(n*t)\n",
    "    print(a)\n",
    "\n",
    "p = float(input(\"enter principal:\"))\n",
    "r = float(input(\"enter rate:\"))\n",
    "t = float(input(\"enter time:\"))\n",
    "n = int(input(\"enter how many times n:\"))\n",
    "get_ci()\n"
   ]
  },
  {
   "cell_type": "code",
   "execution_count": 28,
   "id": "6ed64ce8",
   "metadata": {},
   "outputs": [
    {
     "name": "stdout",
     "output_type": "stream",
     "text": [
      "enter n1:9\n",
      "enter n2:3\n",
      "quotient is 3\n",
      "remainder is 0\n"
     ]
    }
   ],
   "source": [
    "# WAP get_q_r() taking 2 numbers as parameters and returns the quotient and remainder in the form of a tuple.\n",
    "\n",
    "def get_q_r(a,b):\n",
    "    r = a%b\n",
    "    q = a//b\n",
    "    print(\"quotient is\", q) \n",
    "    print(\"remainder is\", r) \n",
    "\n",
    "n1 = int(input(\"enter n1:\"))\n",
    "n2 = int(input(\"enter n2:\"))\n",
    "get_q_r(n1,n2)"
   ]
  },
  {
   "cell_type": "code",
   "execution_count": null,
   "id": "b53352fd",
   "metadata": {},
   "outputs": [],
   "source": [
    "\n",
    "\n"
   ]
  },
  {
   "cell_type": "code",
   "execution_count": null,
   "id": "caf68ca1",
   "metadata": {},
   "outputs": [],
   "source": []
  },
  {
   "cell_type": "code",
   "execution_count": null,
   "id": "809b0527",
   "metadata": {},
   "outputs": [],
   "source": []
  },
  {
   "cell_type": "code",
   "execution_count": 24,
   "id": "1492c093",
   "metadata": {},
   "outputs": [
    {
     "name": "stdout",
     "output_type": "stream",
     "text": [
      "enter height:3\n",
      "enter base:4\n",
      "5.0\n"
     ]
    }
   ],
   "source": [
    "# WAP to find the length of hypotenuse of a right angled triangle, input the height and base from user.\n",
    "\n",
    "\n",
    "def hyp(a,b):\n",
    "    res = (a**2 + b**2)**0.5\n",
    "    return res \n",
    "\n",
    "h = float(input(\"enter height:\"))\n",
    "b = float(input(\"enter base:\"))\n",
    "print(hyp(h,b))"
   ]
  },
  {
   "cell_type": "code",
   "execution_count": 75,
   "id": "e3756de9",
   "metadata": {},
   "outputs": [
    {
     "name": "stdout",
     "output_type": "stream",
     "text": [
      "enter in seconds:86505\n",
      "1 day 0 hour 1 min 45 secs\n"
     ]
    }
   ],
   "source": [
    "# WAP to input number of seconds and print in days, hours, minutes and seconds \n",
    "# ex: input = 10000\n",
    "# Output = 0 day 2 hour 46 minute 40 second\n",
    "\n",
    "s = int(input(\"enter in seconds:\"))\n",
    "m = int(s/60) \n",
    "s_1 = s%60\n",
    "h = int(m/60)\n",
    "m_1 = m%60\n",
    "d = int(h/24)\n",
    "h_1 = h%24\n",
    "\n",
    "# print(m)\n",
    "# print(s_1)\n",
    "# print(h)\n",
    "# print(m_1)\n",
    "# print(d)\n",
    "# print(h_1)\n",
    "print(d, \"day\", h_1, \"hour\", m_1, \"min\", s_1, \"secs\")"
   ]
  },
  {
   "cell_type": "code",
   "execution_count": 76,
   "id": "2c0ac108",
   "metadata": {},
   "outputs": [],
   "source": [
    "# Check your version of python interpreter without opening the interpreter (Which command needs to be used on the command line)\n",
    "\n"
   ]
  },
  {
   "cell_type": "code",
   "execution_count": 77,
   "id": "0b1e6651",
   "metadata": {},
   "outputs": [
    {
     "name": "stdout",
     "output_type": "stream",
     "text": [
      "2 -2\n"
     ]
    }
   ],
   "source": [
    "# Find output:\n",
    "X = 2\n",
    "X *= 3\n",
    "X = X%4\n",
    "Y = - X\n",
    "print(X,Y)\n"
   ]
  },
  {
   "cell_type": "code",
   "execution_count": 29,
   "id": "87043965",
   "metadata": {},
   "outputs": [
    {
     "name": "stdout",
     "output_type": "stream",
     "text": [
      "None\n"
     ]
    }
   ],
   "source": [
    "# Find output:\n",
    "\n",
    "def funct():\n",
    "    pass\n",
    "print(funct())"
   ]
  },
  {
   "cell_type": "code",
   "execution_count": null,
   "id": "83034fd5",
   "metadata": {},
   "outputs": [],
   "source": []
  }
 ],
 "metadata": {
  "kernelspec": {
   "display_name": "Python 3",
   "language": "python",
   "name": "python3"
  },
  "language_info": {
   "codemirror_mode": {
    "name": "ipython",
    "version": 3
   },
   "file_extension": ".py",
   "mimetype": "text/x-python",
   "name": "python",
   "nbconvert_exporter": "python",
   "pygments_lexer": "ipython3",
   "version": "3.8.8"
  }
 },
 "nbformat": 4,
 "nbformat_minor": 5
}
