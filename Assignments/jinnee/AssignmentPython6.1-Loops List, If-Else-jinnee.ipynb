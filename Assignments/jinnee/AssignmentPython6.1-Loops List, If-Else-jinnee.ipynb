{
 "cells": [
  {
   "cell_type": "code",
   "execution_count": 2,
   "id": "44765230",
   "metadata": {
    "scrolled": true
   },
   "outputs": [
    {
     "name": "stdout",
     "output_type": "stream",
     "text": [
      "enter a string: String\n",
      "S\n",
      "t\n",
      "r\n",
      "i\n",
      "n\n",
      "g\n"
     ]
    }
   ],
   "source": [
    "# WAP to input a string and print individual characters in the string using for loop.\n",
    "\n",
    "s = input(\"enter a string: \")\n",
    "\n",
    "for i in s:\n",
    "    print(i)\n",
    "    \n"
   ]
  },
  {
   "cell_type": "code",
   "execution_count": 4,
   "id": "011ce9fb",
   "metadata": {},
   "outputs": [
    {
     "name": "stdout",
     "output_type": "stream",
     "text": [
      "enter a string: abc\n",
      "97\n",
      "98\n",
      "99\n"
     ]
    }
   ],
   "source": [
    "# WAP to input a string and print the ASCII value of each character in the string.\n",
    "\n",
    "s = input(\"enter a string: \")\n",
    "\n",
    "for i in s:\n",
    "    print(ord(i))"
   ]
  },
  {
   "cell_type": "code",
   "execution_count": 32,
   "id": "d0473789",
   "metadata": {},
   "outputs": [
    {
     "name": "stdout",
     "output_type": "stream",
     "text": [
      "enter numbers separated by space: 1 2 3 4 5 6\n",
      "['1', '2', '3', '4', '5', '6']\n",
      "[1, 2, 3, 4, 5, 6]\n",
      "9\n"
     ]
    }
   ],
   "source": [
    "# Write a function that takes a list of numbers from user as argument and returns the sum of only\n",
    "# odd numbers (Use only for loop. No need to use if statement).\n",
    "\n",
    "s = input(\"enter numbers separated by space: \")\n",
    "nums = s.split()\n",
    "print(nums)\n",
    "n =[]\n",
    "\n",
    "for i in nums:\n",
    "    n.append(int(i))\n",
    "print(n)\n",
    "\n",
    "\n",
    "def sum(nums):\n",
    "    total = 0\n",
    "    for i in nums:\n",
    "        while i%2 != 0:\n",
    "            total = total + i \n",
    "            i += 1\n",
    "    return total\n",
    "\n",
    "print(sum(n))\n"
   ]
  },
  {
   "cell_type": "code",
   "execution_count": 24,
   "id": "beae4c34",
   "metadata": {},
   "outputs": [
    {
     "name": "stdout",
     "output_type": "stream",
     "text": [
      "enter numbers separated by space:1 3 5 7\n",
      "['1', '3', '5', '7']\n",
      "[1, 3, 5, 7]\n",
      "(1, 3, 5, 7)\n",
      "enter a number:2\n",
      "5\n"
     ]
    }
   ],
   "source": [
    "# WAP to input a list of numbers and store in a tuple. Now input another number and print the \n",
    "# index of this number in the tuple. [Use index function] \n",
    "\n",
    "\n",
    "s = input(\"enter numbers separated by space:\")\n",
    "nums = s.split()\n",
    "print(nums)\n",
    "n = []\n",
    "\n",
    "for i in nums:\n",
    "    n.append(int(i))\n",
    "print(n)\n",
    "\n",
    "t = tuple(n)\n",
    "print(t)\n",
    "\n",
    "\n",
    "idx = int(input(\"enter a number:\"))\n",
    "\n",
    "for i in range(idx,idx+1):\n",
    "    print(t[i])\n",
    "    \n"
   ]
  },
  {
   "cell_type": "code",
   "execution_count": null,
   "id": "a0315f85",
   "metadata": {},
   "outputs": [],
   "source": []
  },
  {
   "cell_type": "code",
   "execution_count": null,
   "id": "2190fb56",
   "metadata": {},
   "outputs": [],
   "source": []
  },
  {
   "cell_type": "code",
   "execution_count": 15,
   "id": "01e86d18",
   "metadata": {},
   "outputs": [
    {
     "name": "stdout",
     "output_type": "stream",
     "text": [
      "[53, 23, 88, 21, 57, 95, 41, 27, 90, 8]\n",
      "503\n",
      "50.3\n",
      "88\n",
      "90\n",
      "8\n"
     ]
    }
   ],
   "source": [
    "# Create a list of 10 random numbers and then print the list, sum of all numbers and average. Use \n",
    "# a for loop. Also print elements at only even indexes in the list. \n",
    "\n",
    "import random\n",
    "a =[random.randint(0,100)]\n",
    "\n",
    "for i in range(0,9):\n",
    "    a.append(random.randint(0,100))\n",
    "print(a)\n",
    "\n",
    "total = 0\n",
    "for i in a:\n",
    "    total += i\n",
    "print(total)\n",
    "\n",
    "avg = total/10\n",
    "print(avg)\n",
    "\n",
    "for i in a:\n",
    "    if i % 2 == 0:\n",
    "        print(i)"
   ]
  },
  {
   "cell_type": "code",
   "execution_count": 21,
   "id": "979be6fd",
   "metadata": {},
   "outputs": [
    {
     "name": "stdout",
     "output_type": "stream",
     "text": [
      "enter a number: 1 \n",
      "enter a number: 2\n",
      "enter a number: 3\n",
      "enter a number: 4\n",
      "enter a number: 5\n",
      "enter a number: 6\n",
      "enter a number: 7\n",
      "enter a number: 8\n",
      "enter a number: 9\n",
      "enter a number: 10\n",
      "[1, 2, 3, 4, 5, 6, 7, 8, 9, 10]\n",
      "55\n"
     ]
    }
   ],
   "source": [
    "# WAP to input 10 numbers repeatedly (using range based for loop) and store them in a list. Print\n",
    "# the list and sum of numbers in the list\n",
    "\n",
    "a = []\n",
    "\n",
    "i = 0\n",
    "for i in range(0,10):\n",
    "    n = int(input(\"enter a number: \"))\n",
    "    a.append(n)\n",
    "print(a)\n",
    "    \n",
    "total = 0\n",
    "for i in a:\n",
    "    total += i\n",
    "print(total)\n",
    "    "
   ]
  },
  {
   "cell_type": "markdown",
   "id": "78c89587",
   "metadata": {},
   "source": []
  },
  {
   "cell_type": "code",
   "execution_count": 22,
   "id": "705fd9fc",
   "metadata": {},
   "outputs": [
    {
     "name": "stdout",
     "output_type": "stream",
     "text": [
      "enter a number: 7\n",
      "7\n",
      "14\n",
      "21\n",
      "28\n",
      "35\n",
      "42\n",
      "49\n",
      "56\n",
      "63\n",
      "70\n"
     ]
    }
   ],
   "source": [
    "# WAP to input a number and print its table. Ex: if user enters the number as 7, output should be\n",
    "# 7 x 1 = 7\n",
    "# ...\n",
    "# 7 x 10 = 70\n",
    "\n",
    "n = int(input(\"enter a number: \"))\n",
    "\n",
    "i = 1\n",
    "for i in range(1,11):\n",
    "    t = n*i\n",
    "    print(t)\n",
    "    \n",
    "\n"
   ]
  },
  {
   "cell_type": "code",
   "execution_count": 59,
   "id": "67d2f4f2",
   "metadata": {},
   "outputs": [
    {
     "name": "stdout",
     "output_type": "stream",
     "text": [
      "enter a string: string string string\n",
      "2\n"
     ]
    }
   ],
   "source": [
    "# WAP to print total number of spaces in a string (Use for loop to iterate over the string. Don’t use\n",
    "# count function)\n",
    "\n",
    "s = input(\"enter a string: \")\n",
    "\n",
    "total = 0\n",
    "for i in s:\n",
    "    if i == ' ':\n",
    "        total += 1 \n",
    "print(total)\n",
    "    "
   ]
  },
  {
   "cell_type": "code",
   "execution_count": 61,
   "id": "f482d477",
   "metadata": {},
   "outputs": [
    {
     "name": "stdout",
     "output_type": "stream",
     "text": [
      "enter a string: Ajinomoto\n",
      "5\n"
     ]
    }
   ],
   "source": [
    "# WAP to input a string and count number of vowels in the string. [Note: it should work for both\n",
    "# capital and small alphabets] \n",
    "\n",
    "s = input(\"enter a string: \")\n",
    "\n",
    "total = 0\n",
    "for i in s:\n",
    "    if i in 'aeiouAEIOU':\n",
    "        total += 1 \n",
    "print(total)"
   ]
  },
  {
   "cell_type": "code",
   "execution_count": null,
   "id": "5208adaf",
   "metadata": {},
   "outputs": [],
   "source": []
  },
  {
   "cell_type": "code",
   "execution_count": null,
   "id": "930c8726",
   "metadata": {},
   "outputs": [],
   "source": [
    "# WAP to input a string and replace all vowels with ‘_’.\n",
    "# [Hint: Convert string to list. Remember!! Strings are immutable. Replace in the list and then join]\n",
    "# will update answer\n"
   ]
  },
  {
   "cell_type": "code",
   "execution_count": null,
   "id": "96e151f4",
   "metadata": {},
   "outputs": [],
   "source": [
    "# Find output:\n",
    "# will update answer"
   ]
  },
  {
   "cell_type": "code",
   "execution_count": null,
   "id": "24c041fe",
   "metadata": {},
   "outputs": [],
   "source": [
    "# Find the output of the following code snippets.\n",
    "# will update answer\n"
   ]
  },
  {
   "cell_type": "code",
   "execution_count": null,
   "id": "c3ba9c15",
   "metadata": {},
   "outputs": [],
   "source": [
    "# Generate a list of 10 random number(between 10-50) and print the list and sum of all elements.\n",
    "# Now take the list and remove the five largest elements from the list and print the list and its sum\n",
    "# again.\n",
    "# Ex: Consider a list l = [10, 50, 18, 19, 30, 45, 49, 45, 44, 23]\n",
    "# After deleting, the list will contain [10, 18, 19, 30, 23]\n",
    "\n",
    "# will update answer"
   ]
  }
 ],
 "metadata": {
  "kernelspec": {
   "display_name": "Python 3",
   "language": "python",
   "name": "python3"
  },
  "language_info": {
   "codemirror_mode": {
    "name": "ipython",
    "version": 3
   },
   "file_extension": ".py",
   "mimetype": "text/x-python",
   "name": "python",
   "nbconvert_exporter": "python",
   "pygments_lexer": "ipython3",
   "version": "3.8.8"
  }
 },
 "nbformat": 4,
 "nbformat_minor": 5
}
