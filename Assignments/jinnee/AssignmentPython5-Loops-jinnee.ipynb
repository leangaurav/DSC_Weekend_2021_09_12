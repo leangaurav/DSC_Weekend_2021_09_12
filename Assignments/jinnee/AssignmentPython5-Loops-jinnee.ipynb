{
 "cells": [
  {
   "cell_type": "code",
   "execution_count": 3,
   "id": "3dbb83b7",
   "metadata": {},
   "outputs": [
    {
     "name": "stdout",
     "output_type": "stream",
     "text": [
      "enter a number:7\n",
      "7\n",
      "6\n",
      "5\n",
      "4\n",
      "3\n",
      "2\n",
      "1\n"
     ]
    }
   ],
   "source": [
    "# WAP to print first n natural numbers (input n from user).\n",
    "# answer 1\n",
    "\n",
    "n = int(input(\"enter a number:\"))\n",
    "i = n\n",
    "while i > 0:\n",
    "    print(i)\n",
    "    i -= 1"
   ]
  },
  {
   "cell_type": "code",
   "execution_count": 39,
   "id": "383a3508",
   "metadata": {},
   "outputs": [
    {
     "name": "stdout",
     "output_type": "stream",
     "text": [
      "enter a number:7\n",
      "1 2 3 4 5 6 7 "
     ]
    }
   ],
   "source": [
    "# WAP to print first n natural numbers (input n from user).\n",
    "# answer 2\n",
    "\n",
    "n = int(input(\"enter a number:\"))\n",
    "\n",
    "for e in range(1,n+1):\n",
    "    print(e, end=' ')"
   ]
  },
  {
   "cell_type": "code",
   "execution_count": 40,
   "id": "882caf2b",
   "metadata": {},
   "outputs": [
    {
     "name": "stdout",
     "output_type": "stream",
     "text": [
      "enter a number:7\n",
      "28\n"
     ]
    }
   ],
   "source": [
    "# WAP to find sum of first n natural numbers\n",
    "\n",
    "\n",
    "n = int(input(\"enter a number:\"))\n",
    "\n",
    "total = 0\n",
    "for e in range (1,n+1):\n",
    "    total = total + e\n",
    "print(total)"
   ]
  },
  {
   "cell_type": "code",
   "execution_count": null,
   "id": "9d581827",
   "metadata": {},
   "outputs": [],
   "source": []
  },
  {
   "cell_type": "code",
   "execution_count": 36,
   "id": "a6f0ceaf",
   "metadata": {},
   "outputs": [
    {
     "name": "stdout",
     "output_type": "stream",
     "text": [
      "enter n:6\n",
      "6\n",
      "5\n",
      "4\n",
      "3\n",
      "2\n",
      "1\n"
     ]
    }
   ],
   "source": [
    "# WAP to print first n natural numbers in reverse order\n",
    "# Answer 1\n",
    "\n",
    "n = int(input(\"enter n:\"))\n",
    "\n",
    "i = n\n",
    "while i >= 1:\n",
    "    print(i)\n",
    "    i -= 1"
   ]
  },
  {
   "cell_type": "code",
   "execution_count": 35,
   "id": "88af49b3",
   "metadata": {},
   "outputs": [
    {
     "name": "stdout",
     "output_type": "stream",
     "text": [
      "enter n:6\n",
      "6 5 4 3 2 1 "
     ]
    }
   ],
   "source": [
    "# WAP to print first n natural numbers in reverse order\n",
    "# element -> 1,2,3,4,5,6\n",
    "# index   -> 0 1 2 3 4 5 \n",
    "# Answer 2\n",
    "\n",
    "n = int(input(\"enter n:\"))\n",
    "a = list(range(1,n+1))              \n",
    "\n",
    "i = n-1\n",
    "while i >= 0:\n",
    "    print(a[i], end = ' ')\n",
    "    i -= 1"
   ]
  },
  {
   "cell_type": "code",
   "execution_count": null,
   "id": "8c8b0f3b",
   "metadata": {},
   "outputs": [],
   "source": []
  },
  {
   "cell_type": "code",
   "execution_count": 53,
   "id": "4f895453",
   "metadata": {},
   "outputs": [
    {
     "name": "stdout",
     "output_type": "stream",
     "text": [
      "enter n:4\n",
      "factorial is: 24\n"
     ]
    }
   ],
   "source": [
    "# WAP to input a number and print its factorial\n",
    "# 1 x 2 x 3 x 4 x 5 x 6\n",
    "\n",
    "n = int(input(\"enter n:\"))\n",
    "\n",
    "prod = 1\n",
    "i = 1\n",
    "while i<= n:\n",
    "    prod = prod*i\n",
    "    i += 1\n",
    "print(\"factorial is:\", prod)  "
   ]
  },
  {
   "cell_type": "code",
   "execution_count": null,
   "id": "424e15ee",
   "metadata": {},
   "outputs": [],
   "source": [
    "#scribble\n",
    "total = 0\n",
    "total = total + 1\n",
    "total = total - 1\n",
    "\n",
    "total = 1\n",
    "total = total*1\n",
    "total = total*2\n",
    "total = total*3\n",
    "total = total*4"
   ]
  },
  {
   "cell_type": "code",
   "execution_count": null,
   "id": "548db31e",
   "metadata": {},
   "outputs": [],
   "source": []
  },
  {
   "cell_type": "code",
   "execution_count": 55,
   "id": "850814da",
   "metadata": {},
   "outputs": [
    {
     "name": "stdout",
     "output_type": "stream",
     "text": [
      "enter n:60\n",
      "0 1 1 2 3 5 8 13 21 34 55 "
     ]
    }
   ],
   "source": [
    "# WAP to print Fibonacci sequence till n.\n",
    "# 0, 1, 1, 2, 3, 5, 8, 13, 21\n",
    "# a  b  f\n",
    "#    a  b   \n",
    "    \n",
    "n = int(input(\"enter n:\"))\n",
    "\n",
    "a = 0\n",
    "b = 1\n",
    "while a <= n:\n",
    "    print(a, end=' ')\n",
    "    f = a + b\n",
    "    a = b\n",
    "    b = f"
   ]
  },
  {
   "cell_type": "code",
   "execution_count": 37,
   "id": "ad711296",
   "metadata": {},
   "outputs": [],
   "source": []
  },
  {
   "cell_type": "code",
   "execution_count": null,
   "id": "5617e691",
   "metadata": {},
   "outputs": [],
   "source": []
  },
  {
   "cell_type": "code",
   "execution_count": 39,
   "id": "09dbd1b1",
   "metadata": {},
   "outputs": [],
   "source": [
    "# WAP to print all digits of a number input from user\n",
    "# 126 -> 1 2 6\n",
    "# will update answer \n",
    "\n"
   ]
  },
  {
   "cell_type": "code",
   "execution_count": null,
   "id": "64019dbd",
   "metadata": {},
   "outputs": [],
   "source": [
    "# WAP to find sum of all digits of a number\n",
    "# will update answer \n",
    "    "
   ]
  },
  {
   "cell_type": "raw",
   "id": "3a705aed",
   "metadata": {},
   "source": [
    "\n"
   ]
  },
  {
   "cell_type": "code",
   "execution_count": null,
   "id": "c9e8bdf7",
   "metadata": {},
   "outputs": [],
   "source": [
    "# WAP to find sum of following series given n as input from user\n",
    "# 1 + 2! + 3! + 4! + 5! + ….n!\n",
    "# Where n! denotes the factorial of number n.\n",
    "\n",
    "# will update answer "
   ]
  },
  {
   "cell_type": "code",
   "execution_count": null,
   "id": "412c17fd",
   "metadata": {},
   "outputs": [],
   "source": []
  },
  {
   "cell_type": "code",
   "execution_count": null,
   "id": "9152bb19",
   "metadata": {},
   "outputs": [],
   "source": [
    "# WAP to input base and exponent and print result without using inbuilt function pow(use for or while loop).\n",
    "# will update answer "
   ]
  },
  {
   "cell_type": "code",
   "execution_count": null,
   "id": "8e4c9de0",
   "metadata": {},
   "outputs": [],
   "source": []
  }
 ],
 "metadata": {
  "kernelspec": {
   "display_name": "Python 3",
   "language": "python",
   "name": "python3"
  },
  "language_info": {
   "codemirror_mode": {
    "name": "ipython",
    "version": 3
   },
   "file_extension": ".py",
   "mimetype": "text/x-python",
   "name": "python",
   "nbconvert_exporter": "python",
   "pygments_lexer": "ipython3",
   "version": "3.8.8"
  }
 },
 "nbformat": 4,
 "nbformat_minor": 5
}
