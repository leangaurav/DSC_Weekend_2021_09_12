{
 "cells": [
  {
   "cell_type": "code",
   "execution_count": 14,
   "id": "e44eeceb",
   "metadata": {},
   "outputs": [
    {
     "name": "stdout",
     "output_type": "stream",
     "text": [
      "[1, 2, 3, 4, 5]\n",
      "{1: -1, 2: -2, 3: -3, 4: -4, 5: -5}\n"
     ]
    }
   ],
   "source": [
    "# WAP to create a dictionary of numbers mapped to their negative value for numbers from 1-5.\n",
    "# The dictionary should contain something like this:\n",
    "# Do with both with and without range based for loop.\n",
    "# {1:-1,2:-2,3:-3….}\n",
    "\n",
    "#Answer with range based for loop\n",
    "\n",
    "s = list(range(1,6))\n",
    "print(s)\n",
    "\n",
    "\n",
    "d = {}\n",
    "\n",
    "for c in s:\n",
    "    d[c] = -c\n",
    "print(d)\n",
    "\n",
    "    "
   ]
  },
  {
   "cell_type": "code",
   "execution_count": 15,
   "id": "b242c5c2",
   "metadata": {},
   "outputs": [],
   "source": [
    "#Answer without range based for loop\n",
    "\n",
    "d = {}\n",
    "\n"
   ]
  },
  {
   "cell_type": "code",
   "execution_count": 13,
   "id": "33536703",
   "metadata": {},
   "outputs": [
    {
     "name": "stdout",
     "output_type": "stream",
     "text": [
      "{'x': 2, 'y': 3}\n"
     ]
    }
   ],
   "source": [
    "# Check which of the following declarations will work\n",
    "# 2, 4, 6, 8, 10\n",
    "\n",
    "d = dict(x=2, y=3)\n",
    "print(d)"
   ]
  },
  {
   "cell_type": "code",
   "execution_count": 12,
   "id": "4ed1692e",
   "metadata": {},
   "outputs": [
    {
     "name": "stdout",
     "output_type": "stream",
     "text": [
      "enter a list of numbers separated by space:1 2 3 4 \n",
      "enter equal numbers separated by space:10 20 30 40\n",
      "[1, 2, 3, 4]\n",
      "[10, 20, 30, 40]\n",
      "{1: 10, 2: 20, 3: 30, 4: 40}\n"
     ]
    }
   ],
   "source": [
    "# Read help for zip and write a program that has two lists\n",
    "# l1 = [1,2,3,4]\n",
    "# l2 = [10,20,30,40]\n",
    "# And converts them to a dictionary d containing { 1:10,2:20 …….}\n",
    "\n",
    "s1 = input(\"enter a list of numbers separated by space:\")\n",
    "s2 = input(\"enter equal numbers separated by space:\")\n",
    "\n",
    "nums1 = s1.split()\n",
    "\n",
    "l1 = []\n",
    "\n",
    "for i in nums1:\n",
    "    l1.append(int(i))\n",
    "    \n",
    "print(l1)\n",
    "\n",
    "l2 = []\n",
    "\n",
    "nums2 = s2.split()\n",
    "\n",
    "for i in nums2:\n",
    "    l2.append(int(i))\n",
    "    \n",
    "print(l2)\n",
    "\n",
    "d = dict(zip(l1 , l2))\n",
    "\n",
    "print(d)\n"
   ]
  },
  {
   "cell_type": "code",
   "execution_count": null,
   "id": "acfddf93",
   "metadata": {},
   "outputs": [],
   "source": [
    "# Use range based for loop to store all upper case alphabets and their corresponding ASCII \n",
    "# values in the dictionary d. \n",
    "# The result should be d = {‘A’: 65, ‘B’:66,…..}\n",
    "\n",
    "\n"
   ]
  },
  {
   "cell_type": "code",
   "execution_count": null,
   "id": "65469b05",
   "metadata": {},
   "outputs": [],
   "source": [
    "# Create a mapping of number to word from 0-9. (0:’zero’……)\n",
    "# • Ask user for a single digit number and print the corresponding word format. \n",
    "# • Print all keys of above dictionary \n",
    "# • Print all Values of a dictionary \n",
    "# • Print all Key and Value pairs of above dictionary\n",
    "\n"
   ]
  },
  {
   "cell_type": "code",
   "execution_count": 16,
   "id": "763550a5",
   "metadata": {},
   "outputs": [
    {
     "name": "stdout",
     "output_type": "stream",
     "text": [
      "{'A': 'Apple', 'B': 'Ball', 'C': 'Cat', 'D': 'Dog'}\n",
      "[('A', 'Apple'), ('C', 'Cat')]\n",
      "{'A': 'Apple', 'C': 'Cat'}\n"
     ]
    }
   ],
   "source": [
    "# Predict Output of: \n",
    "# {'A':'Apple' , 'B':'Ball', 'C':'Cat', 'D':'Dog'}\n",
    "# {'A':'Apple' , 'C':'Cat'}\n",
    "\n",
    "l1 = ['A','B','C','D']\n",
    "l2 = ['Apple','Ball','Cat','Dog']\n",
    "\n",
    "d1 = dict(zip(l1,l2))\n",
    "print(d1)\n",
    "\n",
    "d3 = list(d1.items())[::2]\n",
    "print(d3)\n",
    "\n",
    "d2 = dict( list(d1.items()) [::2])\n",
    "print(d2)"
   ]
  },
  {
   "cell_type": "code",
   "execution_count": 25,
   "id": "3e03efd1",
   "metadata": {},
   "outputs": [
    {
     "name": "stdout",
     "output_type": "stream",
     "text": [
      "enter a string: Beautiful Day\n",
      "e : 1\n",
      "a : 2\n",
      "u : 2\n",
      "i : 1\n"
     ]
    }
   ],
   "source": [
    "# WAP to input a string and count occurrence of each vowel in a string. \n",
    "# Ex: if user enters: \n",
    "# “Beautiful Day” \n",
    "# Output should Be: \n",
    "# a:2 \n",
    "# e:1 \n",
    "# I :1 \n",
    "# o:0 \n",
    "# u:2\n",
    "# [Hint: Use a list of a dictionary (preferably dictionary)]\n",
    "\n",
    "s = input(\"enter a string: \")\n",
    "\n",
    "d = {}\n",
    "\n",
    "for c in s:\n",
    "    if c in 'aeiouAEIOU':\n",
    "        if c in d:\n",
    "            d[c] = d[c] + 1\n",
    "        else:\n",
    "            d[c] = 1\n",
    "            \n",
    "# print(d)\n",
    "\n",
    "for k in d.keys():\n",
    "    print(k, \":\" , d[k])\n"
   ]
  },
  {
   "cell_type": "code",
   "execution_count": 26,
   "id": "847946d2",
   "metadata": {},
   "outputs": [
    {
     "name": "stdout",
     "output_type": "stream",
     "text": [
      "enter a string: Beautiful Day\n",
      "B : 1\n",
      "e : 1\n",
      "a : 2\n",
      "u : 2\n",
      "t : 1\n",
      "i : 1\n",
      "f : 1\n",
      "l : 1\n",
      "  : 1\n",
      "D : 1\n",
      "y : 1\n"
     ]
    }
   ],
   "source": [
    "# Update above program to print frequency of each alphabet present in string\n",
    "\n",
    "s = input(\"enter a string: \")\n",
    "\n",
    "d = {}\n",
    "\n",
    "for c in s:\n",
    "    \n",
    "    if c in d:\n",
    "        d[c] = d[c] + 1\n",
    "    else:\n",
    "        d[c] = 1\n",
    "            \n",
    "# print(d)\n",
    "\n",
    "for k in d.keys():\n",
    "    print(k, \":\" , d[k])"
   ]
  },
  {
   "cell_type": "code",
   "execution_count": null,
   "id": "85d45704",
   "metadata": {},
   "outputs": [],
   "source": [
    "# WAP that takes a string as input and prints frequency of each word. \n",
    "# Ex: if input is “count the words in the sentence in”\n",
    "# Output: \n",
    "# count: 1 \n",
    "# the: 2 \n",
    "# words: 1 \n",
    "# in: 2 \n",
    "# sentence: 1"
   ]
  }
 ],
 "metadata": {
  "kernelspec": {
   "display_name": "Python 3",
   "language": "python",
   "name": "python3"
  },
  "language_info": {
   "codemirror_mode": {
    "name": "ipython",
    "version": 3
   },
   "file_extension": ".py",
   "mimetype": "text/x-python",
   "name": "python",
   "nbconvert_exporter": "python",
   "pygments_lexer": "ipython3",
   "version": "3.8.8"
  }
 },
 "nbformat": 4,
 "nbformat_minor": 5
}
