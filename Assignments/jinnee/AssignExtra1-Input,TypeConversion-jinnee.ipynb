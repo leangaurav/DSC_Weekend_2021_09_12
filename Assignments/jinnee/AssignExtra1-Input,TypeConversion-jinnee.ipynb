{
 "cells": [
  {
   "cell_type": "code",
   "execution_count": 4,
   "id": "28ed2678",
   "metadata": {},
   "outputs": [
    {
     "name": "stdout",
     "output_type": "stream",
     "text": [
      "enter temp in F:32\n",
      "temp in C is: 0.0\n"
     ]
    }
   ],
   "source": [
    "#WAP to input temperature in Fahrenheit in print in Celsius\n",
    "\n",
    "a = float(input(\"enter temp in F:\"))\n",
    "c = (a-32)*5/9\n",
    "print(\"temp in C is:\", c)"
   ]
  },
  {
   "cell_type": "code",
   "execution_count": 5,
   "id": "f823dc8c",
   "metadata": {},
   "outputs": [
    {
     "name": "stdout",
     "output_type": "stream",
     "text": [
      "enter a number:2\n",
      "square of a: 4\n",
      "cube of a: 8\n"
     ]
    }
   ],
   "source": [
    "#WAP to input a number and print its square and cube\n",
    "a = int(input(\"enter a number:\"))\n",
    "b = a**2\n",
    "c = a**3\n",
    "print (\"square of a:\", b)\n",
    "print (\"cube of a:\", c)"
   ]
  },
  {
   "cell_type": "code",
   "execution_count": 6,
   "id": "80d7b461",
   "metadata": {},
   "outputs": [
    {
     "name": "stdout",
     "output_type": "stream",
     "text": [
      "enter a number n:2\n",
      "enter a number m:3\n",
      "13\n"
     ]
    }
   ],
   "source": [
    "#WAP to input a number n and a number m and print the result of following\n",
    "# n**2 + m**2\n",
    "\n",
    "n = int(input(\"enter a number n:\"))\n",
    "m = int(input(\"enter a number m:\"))\n",
    "res = (n**2) + (m**2)\n",
    "print(res)"
   ]
  },
  {
   "cell_type": "code",
   "execution_count": 9,
   "id": "88a515bb",
   "metadata": {},
   "outputs": [
    {
     "name": "stdout",
     "output_type": "stream",
     "text": [
      "enter a number M:2\n",
      "enter a number N:3\n",
      "8\n",
      "8\n"
     ]
    }
   ],
   "source": [
    "#WAP to input a numbers M and N and print result of M**N. (use both ** and pow)\n",
    "\n",
    "M = int(input(\"enter a number M:\"))\n",
    "N = int(input(\"enter a number N:\"))\n",
    "res1 = M**N\n",
    "print(res1)\n",
    "res2 = pow(M, N)\n",
    "print(res2)"
   ]
  },
  {
   "cell_type": "code",
   "execution_count": 10,
   "id": "4b243c27",
   "metadata": {},
   "outputs": [
    {
     "name": "stdout",
     "output_type": "stream",
     "text": [
      "enter an amount n in USD:300\n",
      "enter interest rate i in %:10\n",
      "30.0\n"
     ]
    }
   ],
   "source": [
    "#Write a simple interest calculator.\n",
    "\n",
    "n = float(input(\"enter an amount n in USD:\"))\n",
    "i = float(input(\"enter interest rate i in %:\"))\n",
    "res = i/100*n\n",
    "print(res)\n"
   ]
  },
  {
   "cell_type": "code",
   "execution_count": 18,
   "id": "e3ae962b",
   "metadata": {},
   "outputs": [
    {
     "name": "stdout",
     "output_type": "stream",
     "text": [
      "enter a principal amount in USD:200\n",
      "enter annual interest rate in %:5\n",
      "enter number of months:12\n",
      "1.2122026896068526e+24\n"
     ]
    }
   ],
   "source": [
    "# Input Principal, Rate, Time and print Compound Interest and Amount\n",
    "\n",
    "p = float(input(\"enter a principal amount in USD:\"))\n",
    "r = float(input(\"enter annual interest rate in %:\"))\n",
    "t = float(input(\"enter number of months:\"))\n",
    "A = p*((1+(r/12))**(12*t))\n",
    "print(A)\n",
    "\n"
   ]
  },
  {
   "cell_type": "code",
   "execution_count": 20,
   "id": "0eefb2df",
   "metadata": {},
   "outputs": [
    {
     "name": "stdout",
     "output_type": "stream",
     "text": [
      "enter first how many numbers:3\n",
      "79\n"
     ]
    }
   ],
   "source": [
    "#WAP to print sum of first n natural numbers. (n needs to be taken as input).\n",
    "\n",
    "m = [1,33,45,7,10]\n",
    "n = int(input(\"enter first how many numbers:\"))\n",
    "res = m[0:n]\n",
    "\n",
    "print(sum(res))\n"
   ]
  },
  {
   "cell_type": "code",
   "execution_count": 21,
   "id": "67d6152e",
   "metadata": {},
   "outputs": [
    {
     "name": "stdout",
     "output_type": "stream",
     "text": [
      "enter a number n1:6\n",
      "enter a number n2:9\n",
      "n1 is now: 9\n",
      "n2 is now: 6\n"
     ]
    }
   ],
   "source": [
    "#WAP to input 2 numbers and swap them. (write using both normal logic with temp variable and also the pythonic way)\n",
    "\n",
    "n1 = int(input(\"enter a number n1:\"))\n",
    "n2 = int(input(\"enter a number n2:\"))\n",
    "\n",
    "print(\"n1 is now:\", n2)\n",
    "print(\"n2 is now:\", n1)"
   ]
  },
  {
   "cell_type": "code",
   "execution_count": 27,
   "id": "8171cea0",
   "metadata": {},
   "outputs": [
    {
     "name": "stdout",
     "output_type": "stream",
     "text": [
      "97\n",
      "a\n",
      "32\n"
     ]
    }
   ],
   "source": [
    "#WAP to print ascii value of all white-space characters present in python\n",
    "\n",
    "print(ord('a'))\n",
    "print(chr(97))\n",
    "print(ord(' '))"
   ]
  },
  {
   "cell_type": "code",
   "execution_count": 29,
   "id": "b778f365",
   "metadata": {},
   "outputs": [
    {
     "name": "stdout",
     "output_type": "stream",
     "text": [
      "enter a single character:c\n",
      "99\n"
     ]
    }
   ],
   "source": [
    "#Input a single character and print its ascii values\n",
    "\n",
    "c = input(\"enter a single character:\")\n",
    "print(ord(c))"
   ]
  },
  {
   "cell_type": "code",
   "execution_count": 6,
   "id": "e52ed0b5",
   "metadata": {},
   "outputs": [
    {
     "name": "stdout",
     "output_type": "stream",
     "text": [
      "enter area of a circle:30\n",
      "radius is 3.089993294721826\n",
      "circumference is 6.179986589443652\n"
     ]
    }
   ],
   "source": [
    "#WAP that takes area of a circle and gives back the radius and circumference\n",
    "\n",
    "a = float(input(\"enter area of a circle:\"))\n",
    "r = (a/3.142)**0.5\n",
    "c = r*2\n",
    "\n",
    "print(\"radius is\", r)\n",
    "print(\"circumference is\", c)"
   ]
  },
  {
   "cell_type": "code",
   "execution_count": 8,
   "id": "486d3178",
   "metadata": {},
   "outputs": [
    {
     "name": "stdout",
     "output_type": "stream",
     "text": [
      "enter mark of Math:85\n",
      "enter mark of Eng:60\n",
      "enter mark of History:80\n",
      "enter mark of Geo:75\n",
      "enter mark of BM:90\n",
      "78.0\n"
     ]
    }
   ],
   "source": [
    "#WAP to input marks in 5 subjects out of 100 and print percentage\n",
    "\n",
    "\n",
    "A = int(input(\"enter mark of Math:\"))\n",
    "B = int(input(\"enter mark of Eng:\"))\n",
    "C = int(input(\"enter mark of History:\"))\n",
    "D = int(input(\"enter mark of Geo:\"))\n",
    "E = int(input(\"enter mark of BM:\"))\n",
    "res = (A+B+C+D+E)/5\n",
    "print(res)"
   ]
  },
  {
   "cell_type": "code",
   "execution_count": null,
   "id": "8d97261b",
   "metadata": {},
   "outputs": [],
   "source": []
  }
 ],
 "metadata": {
  "kernelspec": {
   "display_name": "Python 3",
   "language": "python",
   "name": "python3"
  },
  "language_info": {
   "codemirror_mode": {
    "name": "ipython",
    "version": 3
   },
   "file_extension": ".py",
   "mimetype": "text/x-python",
   "name": "python",
   "nbconvert_exporter": "python",
   "pygments_lexer": "ipython3",
   "version": "3.8.8"
  }
 },
 "nbformat": 4,
 "nbformat_minor": 5
}
