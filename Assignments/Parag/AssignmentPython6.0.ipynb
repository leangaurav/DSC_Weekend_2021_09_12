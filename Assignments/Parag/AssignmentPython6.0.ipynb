{
 "cells": [
  {
   "cell_type": "code",
   "execution_count": 15,
   "id": "3172d89a",
   "metadata": {},
   "outputs": [
    {
     "name": "stdout",
     "output_type": "stream",
     "text": [
      "Enter the Dividend: 56\n",
      "Enter the Divisor: 5\n",
      "False\n"
     ]
    }
   ],
   "source": [
    "#Q1\n",
    "#Solution\n",
    "\n",
    "num1 = int(input(\"Enter the Dividend: \"))\n",
    "num2 = int(input(\"Enter the Divisor: \"))\n",
    "if(num1%num2 == 0):\n",
    "    print(\"True\")\n",
    "else:\n",
    "    print(\"False\")"
   ]
  },
  {
   "cell_type": "code",
   "execution_count": 17,
   "id": "fee24f57",
   "metadata": {},
   "outputs": [
    {
     "name": "stdout",
     "output_type": "stream",
     "text": [
      "Enter a string: Naman\n",
      "True\n"
     ]
    }
   ],
   "source": [
    "#Q2\n",
    "#Solution\n",
    "\n",
    "in_str = input(\"Enter a string: \")\n",
    "\n",
    "if in_str.upper() == in_str.upper()[::-1]:\n",
    "    print(\"True\")\n",
    "else:\n",
    "    print(\"False\")"
   ]
  },
  {
   "cell_type": "code",
   "execution_count": 18,
   "id": "94d7dd93",
   "metadata": {},
   "outputs": [
    {
     "name": "stdout",
     "output_type": "stream",
     "text": [
      "Enter the 1st side of the triangle: 5\n",
      "Enter the 2nd side of the triangle: 6\n",
      "Enter the 3rd side of the triangle: 5\n",
      "Isosceles Triangle\n"
     ]
    }
   ],
   "source": [
    "#Q3\n",
    "#Solution\n",
    "\n",
    "side1 = int(input(\"Enter the 1st side of the triangle: \"))\n",
    "side2 = int(input(\"Enter the 2nd side of the triangle: \"))\n",
    "side3 = int(input(\"Enter the 3rd side of the triangle: \"))\n",
    "\n",
    "if(side1 == side2 and side1 == side3):\n",
    "    print(\"Equilateral Triangle\")\n",
    "elif(side1 == side2 or side2 == side3 or side1 == side3):\n",
    "    print(\"Isosceles Triangle\")\n",
    "else:\n",
    "    print(\"Scalene Triangle\")"
   ]
  },
  {
   "cell_type": "code",
   "execution_count": 19,
   "id": "7c1c5c7a",
   "metadata": {},
   "outputs": [
    {
     "name": "stdout",
     "output_type": "stream",
     "text": [
      "Enter a number: 6\n",
      "Even number\n"
     ]
    }
   ],
   "source": [
    "#Q4\n",
    "#Solution\n",
    "\n",
    "if(int(input(\"Enter a number: \"))%2 == 0):\n",
    "    print(\"Even number\")\n",
    "else:\n",
    "    print(\"Odd number\")"
   ]
  },
  {
   "cell_type": "code",
   "execution_count": 20,
   "id": "3cfa04de",
   "metadata": {},
   "outputs": [
    {
     "name": "stdout",
     "output_type": "stream",
     "text": [
      "Enter the age: 26\n",
      "Adult\n"
     ]
    }
   ],
   "source": [
    "#Q5\n",
    "#Solution\n",
    "\n",
    "age = int(input(\"Enter the age: \"))\n",
    "if(age>0 and age<=12):\n",
    "    print(\"Child\")\n",
    "elif(age>=13 and age<=17):\n",
    "    print(\"Teen\")\n",
    "elif(age>=18 and age<=50):\n",
    "    print(\"Adult\")\n",
    "elif(age>=51 and age<=100):\n",
    "    print(\"Senior Citizen\")\n",
    "elif(age>100):\n",
    "    print(\"Congratulations\")"
   ]
  },
  {
   "cell_type": "code",
   "execution_count": 21,
   "id": "20452665",
   "metadata": {},
   "outputs": [
    {
     "name": "stdout",
     "output_type": "stream",
     "text": [
      "Enter the year: 2000\n",
      "It is a leap year\n"
     ]
    }
   ],
   "source": [
    "#Q6\n",
    "#Solution\n",
    "\n",
    "year = int(input(\"Enter the year: \"))\n",
    "if(year%4 == 0 and year%100 != 0):\n",
    "    print(\"It is a leap year\")\n",
    "elif(year%400 == 0):\n",
    "    print(\"It is a leap year\")\n",
    "else:\n",
    "    print(\"It is not a leap year\")"
   ]
  },
  {
   "cell_type": "code",
   "execution_count": 22,
   "id": "b796d33c",
   "metadata": {},
   "outputs": [
    {
     "name": "stdout",
     "output_type": "stream",
     "text": [
      "Enter a string: Good Morning\n",
      "good morning\n"
     ]
    }
   ],
   "source": [
    "#Q7\n",
    "#Solution\n",
    "\n",
    "in_str = input(\"Enter a string: \")\n",
    "if(len(in_str)%2 == 0):\n",
    "    print(in_str.lower())\n",
    "else:\n",
    "    print(in_str.upper())"
   ]
  },
  {
   "cell_type": "code",
   "execution_count": 23,
   "id": "6725dc37",
   "metadata": {},
   "outputs": [
    {
     "name": "stdout",
     "output_type": "stream",
     "text": [
      "Enter a string: theEgg\n",
      "Non-Veg\n"
     ]
    }
   ],
   "source": [
    "#Q8\n",
    "#Solution\n",
    "\n",
    "in_str = input(\"Enter a string: \")\n",
    "\n",
    "if 'egg' in in_str.lower():\n",
    "    print(\"Non-Veg\")\n",
    "else:\n",
    "    print(\"Veg\")"
   ]
  },
  {
   "cell_type": "code",
   "execution_count": 28,
   "id": "9f313b31",
   "metadata": {},
   "outputs": [],
   "source": [
    "#Q9\n",
    "#Solution\n",
    "\n",
    "True\n",
    "True\n",
    "Weird !!\n",
    "[4, 3, 2, 1]"
   ]
  },
  {
   "cell_type": "code",
   "execution_count": 29,
   "id": "94de4312",
   "metadata": {},
   "outputs": [
    {
     "name": "stdout",
     "output_type": "stream",
     "text": [
      "Enter the marks of subject 1: 80\n",
      "Enter the marks of subject 2: 70\n",
      "Enter the marks of subject 3: 95\n",
      "Enter the marks of subject 4: 65\n",
      "Enter the marks of subject 5: 80\n",
      "Grade: C\n"
     ]
    }
   ],
   "source": [
    "#Q10\n",
    "#Solution\n",
    "\n",
    "from statistics import mean\n",
    "marks_list=[]\n",
    "for i in range(1, 6):\n",
    "    marks = int(input(\"Enter the marks of subject \"+str(i)+\": \"))\n",
    " \n",
    "    marks_list.append(marks)\n",
    "percentage = mean(marks_list)\n",
    "\n",
    "if(percentage>=90 and percentage <=100):\n",
    "    grade = 'A'\n",
    "elif(percentage>=80 and percentage <=89):\n",
    "    grade = 'B'\n",
    "elif(percentage>=60 and percentage <=79):\n",
    "    grade = 'C'\n",
    "elif(percentage>=0 and percentage <60):\n",
    "    grade = 'F'\n",
    "print(\"Grade:\",grade)"
   ]
  },
  {
   "cell_type": "code",
   "execution_count": 30,
   "id": "224fa062",
   "metadata": {},
   "outputs": [
    {
     "name": "stdout",
     "output_type": "stream",
     "text": [
      "Enter age: 26\n",
      "Enter salary: 260000\n",
      "The tax is 13000.0\n"
     ]
    }
   ],
   "source": [
    "#Q11\n",
    "#Solution\n",
    "\n",
    "age = int(input(\"Enter age: \"))\n",
    "salary = int(input(\"Enter salary: \"))\n",
    "\n",
    "if age < 60:\n",
    "    if salary>=0 and salary<=250000:\n",
    "        tax_rate = 0\n",
    "    elif salary>=250001 and salary<=500000:\n",
    "        tax_rate = 5\n",
    "    elif salary>=500001 and salary<=1000000:\n",
    "        tax_rate = 10\n",
    "    elif salary>1000001:\n",
    "        tax_rate = 15\n",
    "else:\n",
    "    if salary>=0 and salary<=250000:\n",
    "        tax_rate = 0\n",
    "    elif salary>=250001 and salary<=500000:\n",
    "        tax_rate = 3\n",
    "    elif salary>=500001 and salary<=1000000:\n",
    "        tax_rate = 8\n",
    "    elif salary>1000001:\n",
    "        tax_rate = 12\n",
    "\n",
    "print(\"The tax is\", salary*tax_rate/100)"
   ]
  },
  {
   "cell_type": "code",
   "execution_count": 35,
   "id": "d5e433e7",
   "metadata": {},
   "outputs": [],
   "source": [
    "#Q12\n",
    "#Solution\n",
    "\n",
    "10\n",
    "10\n",
    "10\n",
    "OMG"
   ]
  },
  {
   "cell_type": "code",
   "execution_count": 38,
   "id": "4d1f66f0",
   "metadata": {},
   "outputs": [
    {
     "name": "stdout",
     "output_type": "stream",
     "text": [
      "Enter height in cm: 175\n",
      "Enter weight in kg: 73\n",
      "Normal\n"
     ]
    }
   ],
   "source": [
    "#Q13\n",
    "#Solution\n",
    "\n",
    "height = float(input(\"Enter height in cm: \"))\n",
    "weight = float(input(\"Enter weight in kg: \"))\n",
    "\n",
    "bmi = (weight*10000)/(height**2)\n",
    "\n",
    "if bmi <= 18.4:\n",
    "    print(\"Underweight\")\n",
    "elif bmi >18.4 and bmi<=24.9:\n",
    "    print(\"Normal\")\n",
    "elif bmi >24.9 and bmi<=29.9:\n",
    "    print(\"Overweight\")\n",
    "else:\n",
    "    print(\"Obese\")"
   ]
  },
  {
   "cell_type": "code",
   "execution_count": 40,
   "id": "2ed08ee7",
   "metadata": {},
   "outputs": [
    {
     "name": "stdout",
     "output_type": "stream",
     "text": [
      "Enter the age of 1st person: 25\n",
      "Enter the age of 2nd person: 27\n",
      "Enter the age of 3rd person: 28\n",
      "The 3rd person is oldest\n",
      "The 1st person is youngest\n"
     ]
    }
   ],
   "source": [
    "#Q14\n",
    "#Solution\n",
    "\n",
    "age_p = int(input(\"Enter the age of 1st person: \"))\n",
    "age_q = int(input(\"Enter the age of 2nd person: \"))\n",
    "age_r = int(input(\"Enter the age of 3rd person: \"))\n",
    "\n",
    "if age_p > age_q and age_p > age_r:\n",
    "    print(\"The 1st person is oldest\")\n",
    "    if age_q > age_r:\n",
    "        print(\"The 3rd person is youngest\")\n",
    "    else:\n",
    "        print(\"The 2nd person is youngest\")\n",
    "elif age_q > age_p and age_q > age_r:\n",
    "    print(\"The 2nd person is oldest\")\n",
    "    if age_p > age_r:\n",
    "        print(\"The 3rd person is youngest\")\n",
    "    else:\n",
    "        print(\"The 1st person is youngest\")\n",
    "elif age_r > age_q and age_r > age_p:\n",
    "    print(\"The 3rd person is oldest\")\n",
    "    if age_q > age_p:\n",
    "        print(\"The 1st person is youngest\")\n",
    "    else:\n",
    "        print(\"The 2nd person is youngest\")"
   ]
  },
  {
   "cell_type": "code",
   "execution_count": 41,
   "id": "91d086e4",
   "metadata": {},
   "outputs": [
    {
     "name": "stdout",
     "output_type": "stream",
     "text": [
      "Enter a number: 35\n",
      "Divisible by both 5 and 7\n"
     ]
    }
   ],
   "source": [
    "#Q15\n",
    "#Solution\n",
    "\n",
    "in_num = int(input(\"Enter a number: \"))\n",
    "\n",
    "if in_num%5==0 and in_num%7==0:\n",
    "    print(\"Divisible by both 5 and 7\")\n",
    "else:\n",
    "    print(\"Not divisible\")"
   ]
  }
 ],
 "metadata": {
  "kernelspec": {
   "display_name": "Python 3",
   "language": "python",
   "name": "python3"
  },
  "language_info": {
   "codemirror_mode": {
    "name": "ipython",
    "version": 3
   },
   "file_extension": ".py",
   "mimetype": "text/x-python",
   "name": "python",
   "nbconvert_exporter": "python",
   "pygments_lexer": "ipython3",
   "version": "3.8.8"
  }
 },
 "nbformat": 4,
 "nbformat_minor": 5
}
