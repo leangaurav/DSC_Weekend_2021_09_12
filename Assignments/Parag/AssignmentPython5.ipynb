{
 "cells": [
  {
   "cell_type": "code",
   "execution_count": 16,
   "id": "9588462c",
   "metadata": {},
   "outputs": [
    {
     "name": "stdout",
     "output_type": "stream",
     "text": [
      "Enter a natural number: 5\n",
      "1  2  3  4  5  "
     ]
    }
   ],
   "source": [
    "#Q1\n",
    "#Solution\n",
    "\n",
    "for num in range(1,int(input(\"Enter a natural number: \"))+1):\n",
    "    print(num,end='  ')"
   ]
  },
  {
   "cell_type": "code",
   "execution_count": 17,
   "id": "5167eba2",
   "metadata": {},
   "outputs": [
    {
     "name": "stdout",
     "output_type": "stream",
     "text": [
      "Enter a natural number: 5\n",
      "15\n"
     ]
    }
   ],
   "source": [
    "#Q2\n",
    "#Solution\n",
    "\n",
    "n_sum = 0\n",
    "for num in range(1,int(input(\"Enter a natural number: \"))+1):\n",
    "    n_sum += num\n",
    "print(n_sum)"
   ]
  },
  {
   "cell_type": "code",
   "execution_count": 18,
   "id": "b08ccf1b",
   "metadata": {},
   "outputs": [
    {
     "name": "stdout",
     "output_type": "stream",
     "text": [
      "Enter a natural number: 5\n",
      "5  4  3  2  1  "
     ]
    }
   ],
   "source": [
    "#Q3\n",
    "#Solution\n",
    "\n",
    "for num in range(int(input(\"Enter a natural number: \")),0,-1):\n",
    "    print(num,end='  ')"
   ]
  },
  {
   "cell_type": "code",
   "execution_count": 19,
   "id": "fd55ba69",
   "metadata": {},
   "outputs": [
    {
     "name": "stdout",
     "output_type": "stream",
     "text": [
      "Enter a natural number: 5\n",
      "120\n"
     ]
    }
   ],
   "source": [
    "#Q4\n",
    "#Solution\n",
    "\n",
    "fact = 1\n",
    "for num in range(1,int(input(\"Enter a natural number: \"))+1):\n",
    "    fact *= num\n",
    "print(fact)"
   ]
  },
  {
   "cell_type": "code",
   "execution_count": 26,
   "id": "8a1fde8a",
   "metadata": {},
   "outputs": [
    {
     "name": "stdout",
     "output_type": "stream",
     "text": [
      "Enter the number n: 10\n",
      "0,1,1,2,3,5,8,13,21,34"
     ]
    }
   ],
   "source": [
    "#Q5\n",
    "#Solution\n",
    "\n",
    "n=int(input(\"Enter the number n: \"))\n",
    "a=0\n",
    "b=1\n",
    "n=n-2\n",
    "print(a,b,sep=',',end='')\n",
    "while(n>0):\n",
    "    c=a+b\n",
    "    print(\",\",c,sep='',end='')\n",
    "    a=b\n",
    "    b=c\n",
    "    n-=1"
   ]
  },
  {
   "cell_type": "code",
   "execution_count": 28,
   "id": "8c6c4719",
   "metadata": {},
   "outputs": [
    {
     "name": "stdout",
     "output_type": "stream",
     "text": [
      "Give a number input: 25878\n",
      "2\n",
      "5\n",
      "8\n",
      "7\n",
      "8\n"
     ]
    }
   ],
   "source": [
    "#Q6\n",
    "#Solution\n",
    "\n",
    "in_num = int(input(\"Give a number input: \")[::-1])\n",
    "while(in_num>0):\n",
    "    print(in_num%10)\n",
    "    in_num = in_num//10"
   ]
  },
  {
   "cell_type": "code",
   "execution_count": 29,
   "id": "51ca071e",
   "metadata": {},
   "outputs": [
    {
     "name": "stdout",
     "output_type": "stream",
     "text": [
      "Give a number input: 25878\n",
      "30\n"
     ]
    }
   ],
   "source": [
    "#Q7\n",
    "#Solution\n",
    "\n",
    "in_num = int(input(\"Give a number input: \"))\n",
    "sumN=0\n",
    "while(in_num>0):\n",
    "    sumN = sumN + in_num%10\n",
    "    in_num = in_num//10\n",
    "print(sumN)"
   ]
  },
  {
   "cell_type": "code",
   "execution_count": 30,
   "id": "cdf5f1bb",
   "metadata": {},
   "outputs": [
    {
     "name": "stdout",
     "output_type": "stream",
     "text": [
      "Enter the number n: 5\n",
      "153\n"
     ]
    }
   ],
   "source": [
    "#Q8\n",
    "#Solution\n",
    "\n",
    "sumN = 0\n",
    "for n in range(1, int(input(\"Enter the number n: \"))+1):\n",
    "    fact = 1\n",
    "    for count in range(1,n+1):\n",
    "        fact = fact * count\n",
    "    sumN = sumN + fact\n",
    "print(sumN)"
   ]
  },
  {
   "cell_type": "code",
   "execution_count": 36,
   "id": "46b595de",
   "metadata": {},
   "outputs": [
    {
     "name": "stdout",
     "output_type": "stream",
     "text": [
      "Enter the base: 2\n",
      "Enter the exponent: 5\n",
      "32\n"
     ]
    }
   ],
   "source": [
    "#Q9\n",
    "#Solution\n",
    "\n",
    "base = int(input(\"Enter the base: \"))\n",
    "expo = int(input(\"Enter the exponent: \"))\n",
    "result = 1\n",
    "for n in range(0,expo):\n",
    "    result = result * base\n",
    "print(result)"
   ]
  },
  {
   "cell_type": "code",
   "execution_count": 49,
   "id": "88a821da",
   "metadata": {},
   "outputs": [
    {
     "name": "stdout",
     "output_type": "stream",
     "text": [
      "*\n",
      "**\n",
      "***\n",
      "****\n",
      "*****\n",
      "\n",
      "*****\n",
      "****\n",
      "***\n",
      "**\n",
      "*\n",
      "\n",
      "    *\n",
      "   **\n",
      "  ***\n",
      " ****\n",
      "*****\n",
      "\n",
      "   * \n",
      "  * * \n",
      " * * * \n",
      "* * * * \n"
     ]
    }
   ],
   "source": [
    "#Q10\n",
    "#Solution\n",
    "\n",
    "for i in range(0,5):\n",
    "    for j in range(0,i+1):\n",
    "        print('*',end = '')\n",
    "    print()\n",
    "    \n",
    "print()\n",
    "\n",
    "for i in range(5,0,-1):\n",
    "    for j in range(0,i):\n",
    "        print('*',end = '')\n",
    "    print()\n",
    "\n",
    "print()\n",
    "\n",
    "for i in range(0,5):\n",
    "    for k in range(5-i-1,0,-1):\n",
    "        print(\" \",end = '')\n",
    "    for j in range(0,i+1):\n",
    "        print('*',end = '')\n",
    "    print()\n",
    "    \n",
    "print()\n",
    "\n",
    "for i in range(0,4):\n",
    "    for k in range(4-i-1,0,-1):\n",
    "        print(\" \",end = '')\n",
    "    for j in range(0,i+1):\n",
    "        print('*',end = ' ')\n",
    "    print()"
   ]
  },
  {
   "cell_type": "code",
   "execution_count": 56,
   "id": "f17627da",
   "metadata": {},
   "outputs": [
    {
     "name": "stdout",
     "output_type": "stream",
     "text": [
      "1\n",
      "22\n",
      "333\n",
      "4444\n",
      "55555\n",
      "\n",
      "1\n",
      "12\n",
      "123\n",
      "1234\n",
      "12345\n",
      "\n",
      "5\n",
      "44\n",
      "333\n",
      "2222\n",
      "11111\n",
      "\n",
      "    1\n",
      "   22\n",
      "  333\n",
      " 4444\n",
      "55555\n"
     ]
    }
   ],
   "source": [
    "#Q11\n",
    "#Solution\n",
    "\n",
    "for i in range(0,5):\n",
    "    for j in range(0,i+1):\n",
    "        print(i+1,end = '')\n",
    "    print()\n",
    "    \n",
    "print()\n",
    "\n",
    "for i in range(0,5):\n",
    "    for j in range(0,i+1):\n",
    "        print(j+1,end = '')\n",
    "    print()\n",
    "    \n",
    "print()\n",
    "\n",
    "for i in range(0,5):\n",
    "    for j in range(0,i+1):\n",
    "        print(5-i,end = '')\n",
    "    print()\n",
    "    \n",
    "print()\n",
    "\n",
    "for i in range(0,5):\n",
    "    for k in range(5-i-1,0,-1):\n",
    "        print(\" \",end = '')\n",
    "    for j in range(0,i+1):\n",
    "        print(i+1,end = '')\n",
    "    print()"
   ]
  },
  {
   "cell_type": "code",
   "execution_count": 65,
   "id": "569fc122",
   "metadata": {},
   "outputs": [
    {
     "name": "stdout",
     "output_type": "stream",
     "text": [
      "A\n",
      "AB\n",
      "ABC\n",
      "ABCD\n",
      "ABCDE\n",
      "\n",
      "A\n",
      "BC\n",
      "DEF\n",
      "GHIJ\n",
      "KLMNO\n",
      "\n",
      "A\n",
      "BB\n",
      "CCC\n",
      "DDDD\n",
      "EEEEE\n",
      "\n",
      "    A\n",
      "   ABA\n",
      "  ABCBA\n",
      " ABCDCBA\n",
      "ABCDEDCBA\n",
      "\n"
     ]
    }
   ],
   "source": [
    "#Q12\n",
    "#Solution\n",
    "\n",
    "for i in range(64,69):\n",
    "    for j in range(64,i+1):\n",
    "        print(chr(j+1),end = '')\n",
    "    print()\n",
    "    \n",
    "print()\n",
    "\n",
    "p_val = 65\n",
    "for i in range(64,69):\n",
    "    for j in range(64,i+1):\n",
    "        print(chr(p_val),end = '')\n",
    "        p_val +=1\n",
    "    print()\n",
    "    \n",
    "print()\n",
    "\n",
    "for i in range(64,69):\n",
    "    for j in range(64,i+1):\n",
    "        print(chr(i+1),end = '')\n",
    "    print()\n",
    "    \n",
    "print()\n",
    "\n",
    "for i in range(64,69):\n",
    "    for k in range(69-i-1,0,-1):\n",
    "        print(\" \",end = '')\n",
    "    for j in range(64,i+1):\n",
    "        print(chr(j+1),end = '')\n",
    "    for m in range(i-64,0,-1):\n",
    "        print(chr(m+64),end = '')\n",
    "    print()\n",
    "    \n",
    "print()"
   ]
  }
 ],
 "metadata": {
  "kernelspec": {
   "display_name": "Python 3",
   "language": "python",
   "name": "python3"
  },
  "language_info": {
   "codemirror_mode": {
    "name": "ipython",
    "version": 3
   },
   "file_extension": ".py",
   "mimetype": "text/x-python",
   "name": "python",
   "nbconvert_exporter": "python",
   "pygments_lexer": "ipython3",
   "version": "3.8.8"
  }
 },
 "nbformat": 4,
 "nbformat_minor": 5
}
