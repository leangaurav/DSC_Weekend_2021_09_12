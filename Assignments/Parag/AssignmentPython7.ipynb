{
 "cells": [
  {
   "cell_type": "code",
   "execution_count": 2,
   "id": "4585493b",
   "metadata": {},
   "outputs": [
    {
     "name": "stdout",
     "output_type": "stream",
     "text": [
      "{1: -1, 2: -2, 3: -3, 4: -4, 5: -5}\n"
     ]
    }
   ],
   "source": [
    "#Q1\n",
    "#Solution\n",
    "\n",
    "d = {a:-a for a in range(1,6)}\n",
    "print(d)"
   ]
  },
  {
   "cell_type": "code",
   "execution_count": 19,
   "id": "7c11277f",
   "metadata": {},
   "outputs": [],
   "source": [
    "#Q2\n",
    "#Solution\n",
    "\n",
    "d={1:2,2:3} #2\n",
    "d={(1,2),(2,3)} #4\n",
    "d={'a':'A','b':1,'c':[1234]} #6\n",
    "d=dict([(1,2),(2,3)]) #7\n",
    "d=dict(((1,2),(2,3))) #8\n",
    "d=dict(x=2,y=3) #10"
   ]
  },
  {
   "cell_type": "code",
   "execution_count": 20,
   "id": "69d79049",
   "metadata": {},
   "outputs": [
    {
     "name": "stdout",
     "output_type": "stream",
     "text": [
      "{1: 10, 2: 20, 3: 30, 4: 40}\n"
     ]
    }
   ],
   "source": [
    "#Q3\n",
    "#Solution\n",
    "\n",
    "l1 = [1,2,3,4]\n",
    "l2 = [10,20,30,40]\n",
    "d = dict(zip(l1,l2))\n",
    "print(d)"
   ]
  },
  {
   "cell_type": "code",
   "execution_count": 22,
   "id": "08f247cf",
   "metadata": {},
   "outputs": [
    {
     "name": "stdout",
     "output_type": "stream",
     "text": [
      "{'A': 65, 'B': 66, 'C': 67, 'D': 68, 'E': 69, 'F': 70, 'G': 71, 'H': 72, 'I': 73, 'J': 74, 'K': 75, 'L': 76, 'M': 77, 'N': 78, 'O': 79, 'P': 80, 'Q': 81, 'R': 82, 'S': 83, 'T': 84, 'U': 85, 'V': 86, 'W': 87, 'X': 88, 'Y': 89, 'Z': 90}\n"
     ]
    }
   ],
   "source": [
    "#Q4\n",
    "#Solution\n",
    "\n",
    "d= {chr(a):a for a in range(65,91)}\n",
    "print(d)"
   ]
  },
  {
   "cell_type": "code",
   "execution_count": 53,
   "id": "4c70f61d",
   "metadata": {},
   "outputs": [
    {
     "name": "stdout",
     "output_type": "stream",
     "text": [
      "Enter a single digit number: 8\n",
      "Eight\n",
      "\n",
      "0\n",
      "1\n",
      "2\n",
      "3\n",
      "4\n",
      "5\n",
      "6\n",
      "7\n",
      "8\n",
      "9\n",
      "\n",
      "Zero\n",
      "One\n",
      "Two\n",
      "Three\n",
      "Four\n",
      "Five\n",
      "Six\n",
      "Seven\n",
      "Eight\n",
      "Nine\n",
      "\n",
      "0 Zero\n",
      "1 One\n",
      "2 Two\n",
      "3 Three\n",
      "4 Four\n",
      "5 Five\n",
      "6 Six\n",
      "7 Seven\n",
      "8 Eight\n",
      "9 Nine\n"
     ]
    }
   ],
   "source": [
    "#Q5\n",
    "#Solution\n",
    "\n",
    "d = {0:'Zero', \n",
    "     1:'One' ,\n",
    "     2:'Two' ,\n",
    "     3:'Three' ,\n",
    "     4:'Four' ,\n",
    "     5:'Five' ,\n",
    "     6:'Six' ,\n",
    "     7:'Seven' ,\n",
    "     8:'Eight' ,\n",
    "     9:'Nine'}\n",
    "\n",
    "number = int(input('Enter a single digit number: '))\n",
    "\n",
    "# Word format \n",
    "print(d[number])\n",
    "print()\n",
    "\n",
    "# All keys\n",
    "for key in d.keys():\n",
    "    print(key)\n",
    "print()\n",
    "\n",
    "#All values\n",
    "for value in d.values():\n",
    "    print(value)\n",
    "print()\n",
    "\n",
    "#Both keys and values\n",
    "for key, value in d.items():\n",
    "    print(key, value)"
   ]
  },
  {
   "cell_type": "code",
   "execution_count": 28,
   "id": "9dfbeb96",
   "metadata": {},
   "outputs": [],
   "source": [
    "#Q6\n",
    "#Solution\n",
    "\n",
    "{'A': 'Apple', 'B': 'Ball', 'C': 'Cat', 'D': 'Dog'}\n",
    "{'A': 'Apple', 'C': 'Cat'}"
   ]
  },
  {
   "cell_type": "code",
   "execution_count": 50,
   "id": "10bf9b0b",
   "metadata": {},
   "outputs": [
    {
     "name": "stdout",
     "output_type": "stream",
     "text": [
      "Enter a string: Beautiful Day\n",
      "a:2\n",
      "e:1\n",
      "i:1\n",
      "o:0\n",
      "u:2\n"
     ]
    }
   ],
   "source": [
    "#Q7\n",
    "#Solution\n",
    "\n",
    "in_str = input(\"Enter a string: \")\n",
    "vowel={}\n",
    "\n",
    "for c in 'aeiou':\n",
    "    vowel[c] = in_str.lower().count(c)\n",
    "\n",
    "for key,value in vowel.items():\n",
    "    print(key,\":\",value,sep='')"
   ]
  },
  {
   "cell_type": "code",
   "execution_count": 51,
   "id": "63a4d88b",
   "metadata": {},
   "outputs": [
    {
     "name": "stdout",
     "output_type": "stream",
     "text": [
      "Enter a string: Beautiful Day\n",
      "a:2\n",
      "b:1\n",
      "d:1\n",
      "e:1\n",
      "f:1\n",
      "i:1\n",
      "l:1\n",
      "t:1\n",
      "u:2\n",
      "y:1\n"
     ]
    }
   ],
   "source": [
    "#Q8\n",
    "#Solution\n",
    "\n",
    "\n",
    "in_str = input(\"Enter a string: \")\n",
    "alphabet={}\n",
    "\n",
    "for c in sorted(in_str.lower().replace(' ', '')):\n",
    "    alphabet[c] = in_str.lower().count(c)\n",
    "\n",
    "for key,value in alphabet.items():\n",
    "    print(key,\":\",value,sep='')"
   ]
  },
  {
   "cell_type": "code",
   "execution_count": 52,
   "id": "df9dd280",
   "metadata": {},
   "outputs": [
    {
     "name": "stdout",
     "output_type": "stream",
     "text": [
      "Enter a string: count the words in the sentence in\n",
      "count : 1\n",
      "in : 2\n",
      "sentence : 1\n",
      "the : 2\n",
      "words : 1\n"
     ]
    }
   ],
   "source": [
    "#Q9\n",
    "#Solution\n",
    "\n",
    "in_str = input(\"Enter a string: \").lower()\n",
    "words = list(sorted(set(in_str.split())))\n",
    "word_count = {}\n",
    "\n",
    "for w in words:\n",
    "    word_count[w] = in_str.count(w)\n",
    "\n",
    "for key,value in word_count.items():\n",
    "    print(key,\":\",value)"
   ]
  }
 ],
 "metadata": {
  "kernelspec": {
   "display_name": "Python 3",
   "language": "python",
   "name": "python3"
  },
  "language_info": {
   "codemirror_mode": {
    "name": "ipython",
    "version": 3
   },
   "file_extension": ".py",
   "mimetype": "text/x-python",
   "name": "python",
   "nbconvert_exporter": "python",
   "pygments_lexer": "ipython3",
   "version": "3.8.8"
  }
 },
 "nbformat": 4,
 "nbformat_minor": 5
}
