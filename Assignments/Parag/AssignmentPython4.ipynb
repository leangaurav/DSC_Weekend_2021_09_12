{
 "cells": [
  {
   "cell_type": "code",
   "execution_count": 18,
   "id": "22b09ae5",
   "metadata": {},
   "outputs": [
    {
     "name": "stdout",
     "output_type": "stream",
     "text": [
      "[1, 2, 3, 4, 5]\n"
     ]
    }
   ],
   "source": [
    "#Q1\n",
    "#Solution\n",
    "\n",
    "t = (1,2,3,4,5)\n",
    "\n",
    "l = list(t)\n",
    "print(l)"
   ]
  },
  {
   "cell_type": "code",
   "execution_count": 24,
   "id": "26c50595",
   "metadata": {},
   "outputs": [
    {
     "name": "stdout",
     "output_type": "stream",
     "text": [
      "[1, 3, 5, 7, 8, 6, 4, 2]\n"
     ]
    }
   ],
   "source": [
    "#Q2\n",
    "#Solution\n",
    "\n",
    "L = [1,3,5,7]\n",
    "T = (8,6,4,2)\n",
    "\n",
    "LS = L + list(T)\n",
    "print(LS)"
   ]
  },
  {
   "cell_type": "code",
   "execution_count": 3,
   "id": "be30e944",
   "metadata": {},
   "outputs": [],
   "source": [
    "#Q3\n",
    "#Solution\n",
    "\n",
    "Lists are mutable where as Tupules are immutable"
   ]
  },
  {
   "cell_type": "code",
   "execution_count": 26,
   "id": "fd5027fc",
   "metadata": {},
   "outputs": [
    {
     "name": "stdout",
     "output_type": "stream",
     "text": [
      "['C', 'A', 'c', 'd', 'a']\n"
     ]
    }
   ],
   "source": [
    "#Q4\n",
    "#Solution\n",
    "\n",
    "I = ['a','d','c','A','C']\n",
    "print(I[::-1])"
   ]
  },
  {
   "cell_type": "code",
   "execution_count": 27,
   "id": "04382001",
   "metadata": {},
   "outputs": [
    {
     "name": "stdout",
     "output_type": "stream",
     "text": [
      "[11, 21, 31, 41]\n"
     ]
    }
   ],
   "source": [
    "#Q5\n",
    "#Solution\n",
    "\n",
    "I=[10,11,20,21,30,31,40,41]\n",
    "\n",
    "print(I[1::2])"
   ]
  },
  {
   "cell_type": "code",
   "execution_count": 33,
   "id": "d07c2319",
   "metadata": {},
   "outputs": [
    {
     "name": "stdout",
     "output_type": "stream",
     "text": [
      "[1, 2, 3, 4, 5]\n",
      "[1, 2, 3, 4, 5]\n",
      "[1, 2, 3, 4, 5]\n",
      "[1, 2, 3, 4, 5]\n",
      "[1, 2, 3, 4, 5]\n",
      "[1, 2, 3, 4, 5]\n",
      "[1, 2, 3, 4, 5]\n",
      "[1, 2, 3, 4, 5]\n"
     ]
    }
   ],
   "source": [
    "#Q6\n",
    "#Solution\n",
    "\n",
    "from copy import copy,deepcopy\n",
    "\n",
    "list0 = [1,2,3,4,5]\n",
    "#method 1\n",
    "list1 = list0\n",
    "\n",
    "#method 2\n",
    "list2 = list0[:]\n",
    "\n",
    "#method 3\n",
    "list3 = []\n",
    "list3.extend(list0)\n",
    "\n",
    "#method 4\n",
    "list4 = copy(list0)\n",
    "\n",
    "#method 5\n",
    "list5 = deepcopy(list0)\n",
    "\n",
    "#method 6\n",
    "list6 = list(list0)\n",
    "\n",
    "#method 7\n",
    "list7 = [element for element in list0] \n",
    "\n",
    "#method 8\n",
    "list8 = []\n",
    "for element in list0: list8.append(element)\n",
    "\n",
    "print(list1)\n",
    "print(list2)\n",
    "print(list3)\n",
    "print(list4)\n",
    "print(list5)\n",
    "print(list6)\n",
    "print(list7)\n",
    "print(list8)"
   ]
  },
  {
   "cell_type": "code",
   "execution_count": 7,
   "id": "c8b20065",
   "metadata": {},
   "outputs": [],
   "source": [
    "#Q7\n",
    "#Solution\n",
    "\n",
    "a\n",
    "5"
   ]
  },
  {
   "cell_type": "code",
   "execution_count": 8,
   "id": "e22032bf",
   "metadata": {},
   "outputs": [],
   "source": [
    "#Q8\n",
    "#Solution\n",
    "\n",
    "[1, 4, 6, 8]\n",
    "[1, 3, 5, 7]"
   ]
  },
  {
   "cell_type": "code",
   "execution_count": 9,
   "id": "4aec5807",
   "metadata": {},
   "outputs": [],
   "source": [
    "#Q9\n",
    "#Solution\n",
    "\n",
    "[1, 3, 5, [7, 9]]\n",
    "[1, 3, 5, [7, 9], 11, 13]"
   ]
  },
  {
   "cell_type": "code",
   "execution_count": 39,
   "id": "d3946a3e",
   "metadata": {},
   "outputs": [],
   "source": [
    "#Q10\n",
    "#Solution\n",
    "\n",
    "<class 'tuple'>\n",
    "<class 'int'>\n",
    "<class 'int'>\n",
    "<class 'tuple'>"
   ]
  },
  {
   "cell_type": "code",
   "execution_count": 42,
   "id": "f5063357",
   "metadata": {},
   "outputs": [],
   "source": [
    "#Q11\n",
    "#Solution\n",
    "\n",
    "mat1 = [[1, 2, 3], [4, 5, 6], [7, 8, 9]]"
   ]
  },
  {
   "cell_type": "code",
   "execution_count": 44,
   "id": "277c44bd",
   "metadata": {},
   "outputs": [],
   "source": [
    "#Q12\n",
    "#Solution\n",
    "\n",
    "('s', 't', 'r', 'i', 'n', 'g')\n",
    "('g', 'n', 'i', 'r', 't', 's')\n",
    "('n', 's')"
   ]
  },
  {
   "cell_type": "code",
   "execution_count": 46,
   "id": "dd08aa2b",
   "metadata": {},
   "outputs": [],
   "source": [
    "#Q13\n",
    "#Solution\n",
    "\n",
    "True\n",
    "False\n",
    "1\n",
    "3"
   ]
  },
  {
   "cell_type": "code",
   "execution_count": 48,
   "id": "18563165",
   "metadata": {},
   "outputs": [
    {
     "name": "stdout",
     "output_type": "stream",
     "text": [
      "Enter a string: asdfgfdsa\n",
      "The string is Palindrome\n"
     ]
    }
   ],
   "source": [
    "#Q14\n",
    "#Solution\n",
    "\n",
    "in_str = input(\"Enter a string: \")\n",
    "\n",
    "if in_str.upper() == in_str.upper()[::-1]:\n",
    "    print(\"The string is Palindrome\")\n",
    "else:\n",
    "    print(\"The string is not Palindrome\")"
   ]
  },
  {
   "cell_type": "code",
   "execution_count": 51,
   "id": "941ce7f1",
   "metadata": {},
   "outputs": [
    {
     "name": "stdout",
     "output_type": "stream",
     "text": [
      "(20, 15, 10, 5)\n"
     ]
    }
   ],
   "source": [
    "#Q15\n",
    "#Solution\n",
    "\n",
    "\n",
    "print(tuple(range(20,0,-5)))"
   ]
  },
  {
   "cell_type": "code",
   "execution_count": 53,
   "id": "a2c9ee8f",
   "metadata": {},
   "outputs": [
    {
     "name": "stdout",
     "output_type": "stream",
     "text": [
      "Enter a string: Good Morning\n",
      "['G', 'o', 'o', 'd', ' ', 'M', 'o', 'r', 'n', 'i', 'n', 'g']\n"
     ]
    }
   ],
   "source": [
    "#Q16\n",
    "#Solution\n",
    "\n",
    "in_str = input(\"Enter a string: \")\n",
    "\n",
    "ls = list(tuple(in_str))\n",
    "print(ls)"
   ]
  },
  {
   "cell_type": "code",
   "execution_count": 55,
   "id": "efb28caf",
   "metadata": {},
   "outputs": [],
   "source": [
    "#Q17\n",
    "#Solution\n",
    "\n",
    "<class 'list'>\n",
    "<class 'NoneType'> #since sort function doesn't return anything\n",
    "<class 'str'>\n",
    "<class 'bool'>"
   ]
  }
 ],
 "metadata": {
  "kernelspec": {
   "display_name": "Python 3",
   "language": "python",
   "name": "python3"
  },
  "language_info": {
   "codemirror_mode": {
    "name": "ipython",
    "version": 3
   },
   "file_extension": ".py",
   "mimetype": "text/x-python",
   "name": "python",
   "nbconvert_exporter": "python",
   "pygments_lexer": "ipython3",
   "version": "3.8.8"
  }
 },
 "nbformat": 4,
 "nbformat_minor": 5
}
