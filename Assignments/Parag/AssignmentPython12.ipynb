{
 "cells": [
  {
   "cell_type": "code",
   "execution_count": 8,
   "id": "2dd1db0d",
   "metadata": {},
   "outputs": [
    {
     "name": "stdout",
     "output_type": "stream",
     "text": [
      "Enter a number: 8\n",
      "square of a number 8 is  64\n",
      "inverse of number 8 is  0.125\n",
      "negative of number 8 is  -8\n"
     ]
    }
   ],
   "source": [
    "#Q1\n",
    "#Solution\n",
    "\n",
    "#a\n",
    "number = int(input('Enter a number: '))\n",
    "a = lambda number:number**2\n",
    "print('Square of a number {} is '.format(number),a(number))\n",
    "\n",
    "#b\n",
    "b = lambda number:number**-1\n",
    "print('Inverse of number {} is '.format(number),b(number))\n",
    "\n",
    "#c\n",
    "c = lambda x:-x\n",
    "print('Negative of number {} is '.format(number),c(number))"
   ]
  },
  {
   "cell_type": "code",
   "execution_count": 9,
   "id": "6e24b1ce",
   "metadata": {},
   "outputs": [
    {
     "name": "stdout",
     "output_type": "stream",
     "text": [
      "4567\n"
     ]
    }
   ],
   "source": [
    "#Q2\n",
    "#Solution\n",
    "\n",
    "from functools import reduce\n",
    "\n",
    "l = [5,23,546,865,234,45,342,547,568,2345,4567,234,43,65]\n",
    "\n",
    "maxnum = reduce(lambda x,y:max(x,y), l)\n",
    "print(maxnum)"
   ]
  },
  {
   "cell_type": "code",
   "execution_count": 13,
   "id": "456dc21b",
   "metadata": {},
   "outputs": [
    {
     "name": "stdout",
     "output_type": "stream",
     "text": [
      "[-1.0, -0.25, -0.0625]\n"
     ]
    }
   ],
   "source": [
    "#Q3\n",
    "#Solution\n",
    "\n",
    "\n",
    "def map_multiple(func,seq):\n",
    "    ans = []\n",
    "    \n",
    "    for num in seq:\n",
    "        for fun in func:\n",
    "            num = fun(num)\n",
    "        ans.append(num)\n",
    "    print(list(ans))\n",
    "\n",
    "seq = [1, 2, 4]\n",
    "funct = [lambda x:x**2, lambda x:x**-1, lambda x:-x]\n",
    "map_multiple(funct,seq)"
   ]
  },
  {
   "cell_type": "code",
   "execution_count": 4,
   "id": "0be4e8ac",
   "metadata": {},
   "outputs": [],
   "source": [
    "#Q4\n",
    "#Solution\n",
    "\n",
    "50"
   ]
  },
  {
   "cell_type": "code",
   "execution_count": 5,
   "id": "e153b9d2",
   "metadata": {},
   "outputs": [],
   "source": [
    "#Q5\n",
    "#Solution\n",
    "\n",
    "[1.0, 0.5, 0.25, 0.125]"
   ]
  },
  {
   "cell_type": "code",
   "execution_count": 14,
   "id": "7dcff668",
   "metadata": {},
   "outputs": [
    {
     "name": "stdout",
     "output_type": "stream",
     "text": [
      "[2, 14, 24, 367]\n"
     ]
    }
   ],
   "source": [
    "#Q6\n",
    "#Solution\n",
    "\n",
    "l = ['as',2,14,'erfd',24,367,'sdf','zxc'] \n",
    "f_val = list(filter(lambda i: isinstance(i, int), l))\n",
    "print(f_val)"
   ]
  },
  {
   "cell_type": "code",
   "execution_count": 64,
   "id": "f5f7751b",
   "metadata": {},
   "outputs": [
    {
     "name": "stdout",
     "output_type": "stream",
     "text": [
      "[1.778, 1.524, 0.254]\n"
     ]
    }
   ],
   "source": [
    "#Q7\n",
    "#Solution\n",
    "\n",
    "def ft_to_m(height):\n",
    "    if 'ft' in height and 'in' not in height:\n",
    "        height = height + '0in'\n",
    "    elif 'in' in height and 'ft' not in height:\n",
    "        height = '0ft' + height\n",
    "\n",
    "    return float(height.split('ft')[0]) * 0.3048 + float(height.split('ft')[1].replace('in','')) * 0.0254\n",
    "\n",
    "l=['5ft10in','5ft','10in']\n",
    "k = list(map(ft_to_m, l))\n",
    "print(k)"
   ]
  },
  {
   "cell_type": "code",
   "execution_count": 69,
   "id": "84ca7183",
   "metadata": {},
   "outputs": [
    {
     "name": "stdout",
     "output_type": "stream",
     "text": [
      "[1, 4, 9, 16, 25]\n"
     ]
    }
   ],
   "source": [
    "#Q8\n",
    "#Solution\n",
    "\n",
    "def my_map(func,lists):\n",
    "    ret_list=[]\n",
    "    for element in lists:\n",
    "        ret_list.append(func(element))\n",
    "    return(ret_list)\n",
    "\n",
    "l=[1,2,3,4,5]\n",
    "print(my_map(lambda x:x**2 , l))"
   ]
  }
 ],
 "metadata": {
  "kernelspec": {
   "display_name": "Python 3",
   "language": "python",
   "name": "python3"
  },
  "language_info": {
   "codemirror_mode": {
    "name": "ipython",
    "version": 3
   },
   "file_extension": ".py",
   "mimetype": "text/x-python",
   "name": "python",
   "nbconvert_exporter": "python",
   "pygments_lexer": "ipython3",
   "version": "3.8.8"
  }
 },
 "nbformat": 4,
 "nbformat_minor": 5
}
