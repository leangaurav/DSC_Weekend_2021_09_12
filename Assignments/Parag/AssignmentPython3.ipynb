{
 "cells": [
  {
   "cell_type": "code",
   "execution_count": 3,
   "id": "d34f3b06",
   "metadata": {},
   "outputs": [
    {
     "name": "stdout",
     "output_type": "stream",
     "text": [
      "GoodEvening\n",
      "GoodMorning\n"
     ]
    }
   ],
   "source": [
    "#Q1\n",
    "#Solution\n",
    "\n",
    "str1 = \"GoodMorning\"\n",
    "str2 = \"GoodEvening\"\n",
    "\n",
    "str1,str2 = str2,str1\n",
    "print(str1)\n",
    "print(str2)"
   ]
  },
  {
   "cell_type": "code",
   "execution_count": 9,
   "id": "058ee4fb",
   "metadata": {},
   "outputs": [
    {
     "name": "stdout",
     "output_type": "stream",
     "text": [
      "[13, 18, 21, 4]\n",
      "The average of the numbers is 14\n"
     ]
    }
   ],
   "source": [
    "#Q2\n",
    "#Solution\n",
    "\n",
    "from random import sample\n",
    "from statistics import mean\n",
    "\n",
    "rand_numbers = sample(range(0,26),4)\n",
    "print(rand_numbers)\n",
    "\n",
    "print(\"The average of the numbers is\", mean(rand_numbers))"
   ]
  },
  {
   "cell_type": "code",
   "execution_count": 24,
   "id": "571d497f",
   "metadata": {},
   "outputs": [
    {
     "name": "stdout",
     "output_type": "stream",
     "text": [
      "j\n"
     ]
    }
   ],
   "source": [
    "#Q3\n",
    "#Solution\n",
    "\n",
    "from string import ascii_letters\n",
    "from random import choice\n",
    "\n",
    "print(choice(ascii_letters))"
   ]
  },
  {
   "cell_type": "code",
   "execution_count": 26,
   "id": "3f15b044",
   "metadata": {},
   "outputs": [
    {
     "name": "stdout",
     "output_type": "stream",
     "text": [
      "100.0\n"
     ]
    }
   ],
   "source": [
    "#Q4\n",
    "#Solution\n",
    "\n",
    "def get_si(principle,rate,time):\n",
    "    return (principle*rate*time)/100\n",
    "\n",
    "p=1000\n",
    "r=5\n",
    "t=2\n",
    "SI = get_si(p,r,t)\n",
    "print(SI)"
   ]
  },
  {
   "cell_type": "code",
   "execution_count": 28,
   "id": "77d08c43",
   "metadata": {},
   "outputs": [
    {
     "name": "stdout",
     "output_type": "stream",
     "text": [
      "1100.0\n"
     ]
    }
   ],
   "source": [
    "#Q5\n",
    "#Solution\n",
    "\n",
    "def get_amount(principle,rate = 10,time = 1):\n",
    "    SI = get_si(principle,rate,time)\n",
    "    return principle+SI\n",
    "\n",
    "p=1000\n",
    "amount = get_amount(p)\n",
    "print(amount)"
   ]
  },
  {
   "cell_type": "code",
   "execution_count": 29,
   "id": "0e4253f6",
   "metadata": {},
   "outputs": [
    {
     "name": "stdout",
     "output_type": "stream",
     "text": [
      "102.5\n"
     ]
    }
   ],
   "source": [
    "#Q6\n",
    "#Solution\n",
    "\n",
    "def get_ci(principle,rate,time):\n",
    "    CI = principle*((1+(rate/100))**time) - principle\n",
    "    return CI\n",
    "\n",
    "p=1000\n",
    "r=5\n",
    "t=2\n",
    "ci = get_ci(p,r,t)\n",
    "print(ci)"
   ]
  },
  {
   "cell_type": "code",
   "execution_count": 31,
   "id": "e0881c23",
   "metadata": {},
   "outputs": [
    {
     "name": "stdout",
     "output_type": "stream",
     "text": [
      "(3, 2)\n"
     ]
    }
   ],
   "source": [
    "#Q7\n",
    "#Solution\n",
    "\n",
    "def get_q_r(num1,num2):\n",
    "    return num1//num2,num1%num2\n",
    "\n",
    "print(get_q_r(20,6))"
   ]
  },
  {
   "cell_type": "code",
   "execution_count": 34,
   "id": "e2bf5457",
   "metadata": {},
   "outputs": [
    {
     "name": "stdout",
     "output_type": "stream",
     "text": [
      "Enter the height of the traingle: 3\n",
      "Enter the base of the triangle: 4\n",
      "The length of the hypotenuse of the triangle is: 5.0\n"
     ]
    }
   ],
   "source": [
    "#Q8\n",
    "#Solution\n",
    "\n",
    "def hypotenuse_len(height,base):\n",
    "    return (height**2 + base**2)**0.5\n",
    "\n",
    "h = float(input(\"Enter the height of the traingle: \"))\n",
    "b = float(input(\"Enter the base of the triangle: \"))\n",
    "print(\"The length of the hypotenuse of the triangle is:\",hypotenuse_len(h,b) )"
   ]
  },
  {
   "cell_type": "code",
   "execution_count": 35,
   "id": "b6f1f7ff",
   "metadata": {},
   "outputs": [
    {
     "name": "stdout",
     "output_type": "stream",
     "text": [
      "0 day 2 hour 46 minute 40 second\n"
     ]
    }
   ],
   "source": [
    "#Q9\n",
    "#Solution\n",
    "\n",
    "def sec_to_day(timeSec):\n",
    "    day = timeSec//(24*60*60)\n",
    "    timeSec = timeSec%(24*60*60)\n",
    "    hour = timeSec//(60*60)\n",
    "    timeSec = timeSec%(60*60)\n",
    "    minute = timeSec//60\n",
    "    timeSec = timeSec%60\n",
    "    return day,hour,minute,timeSec\n",
    "\n",
    "d,h,m,s = sec_to_day(10000)\n",
    "print(d,\"day\",h,\"hour\",m,\"minute\",s,\"second\")"
   ]
  },
  {
   "cell_type": "code",
   "execution_count": 37,
   "id": "52ee1ead",
   "metadata": {},
   "outputs": [],
   "source": [
    "#Q10\n",
    "#Solution\n",
    "\n",
    "python --version\n",
    "python -V"
   ]
  },
  {
   "cell_type": "code",
   "execution_count": 39,
   "id": "8a26be25",
   "metadata": {},
   "outputs": [],
   "source": [
    "#Q11\n",
    "#Solution\n",
    "\n",
    "2 -2"
   ]
  },
  {
   "cell_type": "code",
   "execution_count": 41,
   "id": "8604b140",
   "metadata": {},
   "outputs": [],
   "source": [
    "#Q12\n",
    "#Solution\n",
    "\n",
    "None"
   ]
  }
 ],
 "metadata": {
  "kernelspec": {
   "display_name": "Python 3",
   "language": "python",
   "name": "python3"
  },
  "language_info": {
   "codemirror_mode": {
    "name": "ipython",
    "version": 3
   },
   "file_extension": ".py",
   "mimetype": "text/x-python",
   "name": "python",
   "nbconvert_exporter": "python",
   "pygments_lexer": "ipython3",
   "version": "3.8.8"
  }
 },
 "nbformat": 4,
 "nbformat_minor": 5
}
