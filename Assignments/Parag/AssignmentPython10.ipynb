{
 "cells": [
  {
   "cell_type": "code",
   "execution_count": 8,
   "id": "bef94f39",
   "metadata": {},
   "outputs": [],
   "source": [
    "#Q1\n",
    "#Solution\n",
    "\n",
    "from string import ascii_lowercase\n",
    "f = open(\"q1.txt\",'w')\n",
    "f.write(ascii_lowercase)\n",
    "f.close()\n"
   ]
  },
  {
   "cell_type": "code",
   "execution_count": 14,
   "id": "2e5efd94",
   "metadata": {},
   "outputs": [
    {
     "name": "stdout",
     "output_type": "stream",
     "text": [
      "abcdefghijklmnopqrstuvwxyz\n"
     ]
    }
   ],
   "source": [
    "#Q2\n",
    "#Solution\n",
    "\n",
    "f = open('q1.txt','r')\n",
    "print(f.read())\n",
    "f.close()"
   ]
  },
  {
   "cell_type": "code",
   "execution_count": 20,
   "id": "ad523d2f",
   "metadata": {},
   "outputs": [],
   "source": [
    "#Q3\n",
    "#Solution\n",
    "\n",
    "0\n",
    "line\n",
    "4"
   ]
  },
  {
   "cell_type": "code",
   "execution_count": 28,
   "id": "25598761",
   "metadata": {},
   "outputs": [],
   "source": [
    "#Q4\n",
    "#Solution\n",
    "\n",
    "with open(\"q1.txt\") as file1:\n",
    "    with open(\"q4.txt\", \"w\") as file2:\n",
    "        for line in file1:\n",
    "            file2.write(line)"
   ]
  },
  {
   "cell_type": "code",
   "execution_count": 30,
   "id": "7e91b3f8",
   "metadata": {},
   "outputs": [],
   "source": [
    "#Q5\n",
    "#Solution\n",
    "\n",
    "from string import ascii_letters\n",
    "f = open(\"q51.txt\",'w')\n",
    "f.write(ascii_letters)\n",
    "f.close()\n",
    "\n",
    "with open(\"q51.txt\") as file1:\n",
    "    with open(\"q52.txt\", \"w\") as file2:\n",
    "        for line in file1:\n",
    "            file2.write(line.swapcase())"
   ]
  },
  {
   "cell_type": "code",
   "execution_count": 32,
   "id": "3ec370cf",
   "metadata": {},
   "outputs": [],
   "source": [
    "#Q6\n",
    "#Solution\n",
    "\n",
    "import sys\n",
    "with open(sys.argv[1]) as filename:\n",
    "    count = 0\n",
    "    for line in filename:\n",
    "        count = count + line.count(' ')\n",
    "print(count)"
   ]
  },
  {
   "cell_type": "code",
   "execution_count": 24,
   "id": "0db17a72",
   "metadata": {},
   "outputs": [],
   "source": [
    "#Q7\n",
    "#Solution\n",
    "\n",
    "import sys\n",
    "from string import printable\n",
    "with open(sys.argv[1]) as file:\n",
    "    data = file.read()\n",
    "    for c in printable:\n",
    "        if c in data:\n",
    "            print(c, data.count(c))"
   ]
  },
  {
   "cell_type": "code",
   "execution_count": 35,
   "id": "ada1fb43",
   "metadata": {},
   "outputs": [],
   "source": [
    "#Q8\n",
    "#Solution\n",
    "\n",
    "import sys\n",
    "import filecmp\n",
    "\n",
    "def filecompare(f1,f2):\n",
    "    result = filecmp.cmp(f1, f2)\n",
    "    print(result)\n",
    "    \n",
    "file1 = sys.argv[1]\n",
    "file2 = sys.argv[2]\n",
    "filecompare(file1, file2)"
   ]
  },
  {
   "cell_type": "code",
   "execution_count": 52,
   "id": "d3a93531",
   "metadata": {},
   "outputs": [
    {
     "name": "stdout",
     "output_type": "stream",
     "text": [
      "6\n"
     ]
    }
   ],
   "source": [
    "#Q9\n",
    "#Solution\n",
    "import re\n",
    "\n",
    "with open(\"qq_words.txt\") as file:\n",
    "    data = re.sub(r'[^\\w\\s]', '', file.read()).split()\n",
    "    \n",
    "    print(len(data))"
   ]
  },
  {
   "cell_type": "code",
   "execution_count": 55,
   "id": "1f6414de",
   "metadata": {},
   "outputs": [
    {
     "name": "stdout",
     "output_type": "stream",
     "text": [
      "17\n"
     ]
    }
   ],
   "source": [
    "#Q10\n",
    "#Solution\n",
    "\n",
    "import re\n",
    "with open(\"q10_text.txt\") as file:\n",
    "    data = re.sub(r'[^\\w\\s]', '', file.read()).lower().split()\n",
    "    count=0\n",
    "    for word in data:\n",
    "        if word == word[::-1]:\n",
    "            count = count+1\n",
    "print(count)"
   ]
  },
  {
   "cell_type": "code",
   "execution_count": 68,
   "id": "bdf5638d",
   "metadata": {},
   "outputs": [
    {
     "name": "stdout",
     "output_type": "stream",
     "text": [
      "8\n"
     ]
    }
   ],
   "source": [
    "#Q11\n",
    "#Solution\n",
    "\n",
    "import re\n",
    "with open(\"q11_text.txt\") as file:\n",
    "    data = list(set(re.sub(r'[^\\w\\s]', '', file.read()).lower().split()))\n",
    "    count=0\n",
    "    for i in range(0,len(data)-1):\n",
    "        word=data[i]\n",
    "        for i2 in range(i,len(data)-1):\n",
    "            word2=data[i2]\n",
    "            if sorted(word) == sorted(word2) and word!=word2:\n",
    "                count = count+1\n",
    "print(count)"
   ]
  }
 ],
 "metadata": {
  "kernelspec": {
   "display_name": "Python 3",
   "language": "python",
   "name": "python3"
  },
  "language_info": {
   "codemirror_mode": {
    "name": "ipython",
    "version": 3
   },
   "file_extension": ".py",
   "mimetype": "text/x-python",
   "name": "python",
   "nbconvert_exporter": "python",
   "pygments_lexer": "ipython3",
   "version": "3.8.8"
  }
 },
 "nbformat": 4,
 "nbformat_minor": 5
}
