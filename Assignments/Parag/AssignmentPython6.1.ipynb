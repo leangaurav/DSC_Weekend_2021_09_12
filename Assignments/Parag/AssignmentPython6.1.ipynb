{
 "cells": [
  {
   "cell_type": "code",
   "execution_count": 16,
   "id": "97cec811",
   "metadata": {},
   "outputs": [
    {
     "name": "stdout",
     "output_type": "stream",
     "text": [
      "Enter a string: Good Morning\n",
      "G,o,o,d, ,M,o,r,n,i,n,g,"
     ]
    }
   ],
   "source": [
    "#Q1\n",
    "#Solution\n",
    "\n",
    "in_str = input(\"Enter a string: \")\n",
    "\n",
    "for c in in_str:\n",
    "    print(c, end = ',')"
   ]
  },
  {
   "cell_type": "code",
   "execution_count": 17,
   "id": "930c6b11",
   "metadata": {},
   "outputs": [
    {
     "name": "stdout",
     "output_type": "stream",
     "text": [
      "Enter a string: Good Morning\n",
      "71,111,111,100,32,77,111,114,110,105,110,103,"
     ]
    }
   ],
   "source": [
    "#Q2\n",
    "#Solution\n",
    "\n",
    "in_str = input(\"Enter a string: \")\n",
    "\n",
    "for c in in_str:\n",
    "    print(ord(c), end = ',')"
   ]
  },
  {
   "cell_type": "code",
   "execution_count": 22,
   "id": "a44e9b97",
   "metadata": {},
   "outputs": [
    {
     "name": "stdout",
     "output_type": "stream",
     "text": [
      "Enter the list of numbers separated by ',': 22,23,24,25,26\n",
      "48\n"
     ]
    }
   ],
   "source": [
    "#Q3\n",
    "#Solution\n",
    "\n",
    "def odd_sum(num_list):\n",
    "    sumN=0\n",
    "    for i in list(filter(lambda x: (int(x)%2 != 0),num_list)):\n",
    "        sumN=sumN+int(i)\n",
    "    return sumN\n",
    "\n",
    "in_num = input(\"Enter the list of numbers separated by ',': \").split(',')\n",
    "\n",
    "print(odd_sum(in_num))"
   ]
  },
  {
   "cell_type": "code",
   "execution_count": 30,
   "id": "6d54c62b",
   "metadata": {},
   "outputs": [
    {
     "name": "stdout",
     "output_type": "stream",
     "text": [
      "Enter the list of numbers separated by ',': 22,23,24,25,26\n",
      "Enter a number from list: 24\n",
      "2\n"
     ]
    }
   ],
   "source": [
    "#Q4\n",
    "#Solution\n",
    "\n",
    "in_num_t = tuple([int(i) for i in input(\"Enter the list of numbers separated by ',': \").split(',')])\n",
    "in_num = int(input(\"Enter a number from list: \"))\n",
    "\n",
    "print(in_num_t.index(in_num))"
   ]
  },
  {
   "cell_type": "code",
   "execution_count": 39,
   "id": "f6f3ca25",
   "metadata": {},
   "outputs": [
    {
     "name": "stdout",
     "output_type": "stream",
     "text": [
      "[25, 63, 34, 73, 56, 97, 19, 41, 86, 68]\n",
      "Sum: 562\n",
      "Average: 56.2\n"
     ]
    }
   ],
   "source": [
    "#Q5\n",
    "#Solution\n",
    "\n",
    "random_list = [25, 63, 34, 73, 56, 97, 19, 41, 86, 68]\n",
    "\n",
    "print(random_list)\n",
    "sumN=0\n",
    "for number in random_list:\n",
    "    sumN = sumN + number\n",
    "avg=sumN/10\n",
    "print(\"Sum:\", sumN)\n",
    "print(\"Average:\",avg)"
   ]
  },
  {
   "cell_type": "code",
   "execution_count": 2,
   "id": "85024ec8",
   "metadata": {},
   "outputs": [
    {
     "name": "stdout",
     "output_type": "stream",
     "text": [
      "Enter number 1: 26\n",
      "Enter number 2: 24\n",
      "Enter number 3: 56\n",
      "Enter number 4: 35\n",
      "Enter number 5: 48\n",
      "Enter number 6: 69\n",
      "Enter number 7: 48\n",
      "Enter number 8: 396\n",
      "Enter number 9: 877\n",
      "Enter number 10: 63\n",
      "[26, 24, 56, 35, 48, 69, 48, 396, 877, 63]\n",
      "1642\n"
     ]
    }
   ],
   "source": [
    "#Q6\n",
    "#Solution\n",
    "\n",
    "num_list=[]\n",
    "\n",
    "for count in range(10):\n",
    "    temp = int(input(\"Enter number \"+str(count+1)+ \": \"))\n",
    "    num_list.append(int(temp))\n",
    "\n",
    "print(num_list)\n",
    "Sum=sum(num_list)\n",
    "print(Sum)"
   ]
  },
  {
   "cell_type": "code",
   "execution_count": 3,
   "id": "db7619d1",
   "metadata": {},
   "outputs": [
    {
     "name": "stdout",
     "output_type": "stream",
     "text": [
      "Enter the number: 7\n",
      "7 x 1 = 7\n",
      "7 x 2 = 14\n",
      "7 x 3 = 21\n",
      "7 x 4 = 28\n",
      "7 x 5 = 35\n",
      "7 x 6 = 42\n",
      "7 x 7 = 49\n",
      "7 x 8 = 56\n",
      "7 x 9 = 63\n",
      "7 x 10 = 70\n"
     ]
    }
   ],
   "source": [
    "#Q7\n",
    "#Solution\n",
    "\n",
    "tab_n = int(input(\"Enter the number: \"))\n",
    "\n",
    "for i in range(1,11):\n",
    "    print(tab_n,'x',i,'=',tab_n*i)"
   ]
  },
  {
   "cell_type": "code",
   "execution_count": 4,
   "id": "7f517636",
   "metadata": {},
   "outputs": [
    {
     "name": "stdout",
     "output_type": "stream",
     "text": [
      "Enter a string: The sun sets in the west\n",
      "5\n"
     ]
    }
   ],
   "source": [
    "#Q8\n",
    "#Solution\n",
    "\n",
    "in_str = input(\"Enter a string: \")\n",
    "count = 0\n",
    "for char in in_str:\n",
    "    if char.isspace():\n",
    "        count+=1\n",
    "print(count)"
   ]
  },
  {
   "cell_type": "code",
   "execution_count": 7,
   "id": "bafe96a1",
   "metadata": {},
   "outputs": [
    {
     "name": "stdout",
     "output_type": "stream",
     "text": [
      "Enter a string: The sun rises in the East\n",
      "8\n"
     ]
    }
   ],
   "source": [
    "#Q9\n",
    "#Solution\n",
    "\n",
    "in_str = input(\"Enter a string: \")\n",
    "count = 0\n",
    "for char in in_str:\n",
    "    if char in \"aeiouAEIOU\":\n",
    "        count+=1\n",
    "print(count)"
   ]
  },
  {
   "cell_type": "code",
   "execution_count": 9,
   "id": "1a1d058b",
   "metadata": {},
   "outputs": [
    {
     "name": "stdout",
     "output_type": "stream",
     "text": [
      "Enter a string: The sun rises in the East\n",
      "Th_ s_n r_s_s _n th_ __st\n"
     ]
    }
   ],
   "source": [
    "#Q10\n",
    "#Solution\n",
    "\n",
    "in_str = input(\"Enter a string: \")\n",
    "for char in in_str:\n",
    "    if char in \"aeiouAEIOU\":\n",
    "        in_str=in_str.replace(char,'_')\n",
    "print(in_str)"
   ]
  },
  {
   "cell_type": "code",
   "execution_count": 12,
   "id": "4cbbb7b2",
   "metadata": {},
   "outputs": [],
   "source": [
    "#Q11\n",
    "#Solution\n",
    "\n",
    "Num :  0\n",
    "Loop Ends\n",
    "\n",
    "Num :  0\n",
    "SystemExit"
   ]
  },
  {
   "cell_type": "code",
   "execution_count": 12,
   "id": "81ac4068",
   "metadata": {},
   "outputs": [],
   "source": [
    "#Q12\n",
    "#Solution\n",
    "\n",
    "#Question Left top\n",
    "*****\n",
    "*****\n",
    "*****\n",
    "*****\n",
    "*****\n",
    "\n",
    "#Question Left bottom\n",
    "1\n",
    "22\n",
    "333\n",
    "4444\n",
    "55555\n",
    "\n",
    "#Question Right top\n",
    "1\n",
    "22\n",
    "333\n",
    "4444\n",
    "55555\n",
    "\n",
    "#Question Right bottom\n",
    "**\n",
    "***\n",
    "****\n",
    "*****\n",
    "******"
   ]
  },
  {
   "cell_type": "code",
   "execution_count": 27,
   "id": "d6eca128",
   "metadata": {},
   "outputs": [
    {
     "name": "stdout",
     "output_type": "stream",
     "text": [
      "[32, 22, 41, 35, 34, 34, 12, 42, 41, 18]\n",
      "Sum: 311\n",
      "[32, 22, 34, 12, 18]\n"
     ]
    }
   ],
   "source": [
    "#Q13\n",
    "#Solution\n",
    "\n",
    "from random import randrange\n",
    "randNumList = [randrange(10,50) for i in range(10)]\n",
    "print(randNumList)\n",
    "print(\"Sum:\",sum(randNumList))\n",
    "\n",
    "for i in range(5):\n",
    "    randNumList.remove(max(randNumList))\n",
    "print(randNumList)"
   ]
  }
 ],
 "metadata": {
  "kernelspec": {
   "display_name": "Python 3",
   "language": "python",
   "name": "python3"
  },
  "language_info": {
   "codemirror_mode": {
    "name": "ipython",
    "version": 3
   },
   "file_extension": ".py",
   "mimetype": "text/x-python",
   "name": "python",
   "nbconvert_exporter": "python",
   "pygments_lexer": "ipython3",
   "version": "3.8.8"
  }
 },
 "nbformat": 4,
 "nbformat_minor": 5
}
