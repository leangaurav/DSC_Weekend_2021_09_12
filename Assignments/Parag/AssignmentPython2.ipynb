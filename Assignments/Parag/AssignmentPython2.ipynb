{
 "cells": [
  {
   "cell_type": "code",
   "execution_count": 3,
   "id": "4ef781c3",
   "metadata": {},
   "outputs": [
    {
     "ename": "SyntaxError",
     "evalue": "invalid syntax (<ipython-input-3-956e0dd98903>, line 6)",
     "output_type": "error",
     "traceback": [
      "\u001b[1;36m  File \u001b[1;32m\"<ipython-input-3-956e0dd98903>\"\u001b[1;36m, line \u001b[1;32m6\u001b[0m\n\u001b[1;33m    1. d\u001b[0m\n\u001b[1;37m       ^\u001b[0m\n\u001b[1;31mSyntaxError\u001b[0m\u001b[1;31m:\u001b[0m invalid syntax\n"
     ]
    }
   ],
   "source": [
    "#Q1\n",
    "#Solution\n",
    "\n",
    "s='Python is Object Oriented'\n",
    "\n",
    "1. d\n",
    "2. detneirO tcejbO si nohtyP\n",
    "3. Python is Object Oriente\n",
    "4. \n",
    "5. on is "
   ]
  },
  {
   "cell_type": "code",
   "execution_count": 5,
   "id": "7edddd26",
   "metadata": {},
   "outputs": [
    {
     "data": {
      "text/plain": [
       "IndexError"
      ]
     },
     "execution_count": 5,
     "metadata": {},
     "output_type": "execute_result"
    }
   ],
   "source": [
    "#Q2\n",
    "#Solution\n",
    "\n",
    "IndexError"
   ]
  },
  {
   "cell_type": "code",
   "execution_count": 11,
   "id": "ff27a527",
   "metadata": {},
   "outputs": [
    {
     "data": {
      "text/plain": [
       "NameError"
      ]
     },
     "execution_count": 11,
     "metadata": {},
     "output_type": "execute_result"
    }
   ],
   "source": [
    "#Q3\n",
    "#Solution\n",
    "\n",
    "NameError"
   ]
  },
  {
   "cell_type": "code",
   "execution_count": 13,
   "id": "4385c103",
   "metadata": {},
   "outputs": [
    {
     "ename": "SyntaxError",
     "evalue": "unmatched ')' (<ipython-input-13-f42ecd3defcd>, line 4)",
     "output_type": "error",
     "traceback": [
      "\u001b[1;36m  File \u001b[1;32m\"<ipython-input-13-f42ecd3defcd>\"\u001b[1;36m, line \u001b[1;32m4\u001b[0m\n\u001b[1;33m    a)  6\u001b[0m\n\u001b[1;37m     ^\u001b[0m\n\u001b[1;31mSyntaxError\u001b[0m\u001b[1;31m:\u001b[0m unmatched ')'\n"
     ]
    }
   ],
   "source": [
    "#Q4\n",
    "#Solution\n",
    "\n",
    "a)  6\n",
    "    abc\n",
    "    3\n",
    "b)  ['a#b#c#d#']\n",
    "    ['a', 'b', 'c', 'd', '']\n",
    "    a$b$c$d$\n",
    "c)  av\n",
    "d)  False\n",
    "e)  0,1,2\n",
    "f)  abcba\n",
    "    0, 0, 0,"
   ]
  },
  {
   "cell_type": "code",
   "execution_count": 32,
   "id": "93a191df",
   "metadata": {},
   "outputs": [
    {
     "name": "stdout",
     "output_type": "stream",
     "text": [
      "sasdsfdfdfsdfadfasdf\n",
      "\n",
      "sas\tdsfdf\n",
      "dfsdf\n",
      "adf\tasdf\n"
     ]
    }
   ],
   "source": [
    "#Q5\n",
    "#Solution\n",
    "\n",
    "#defining function to remove all the whitespace from input string\n",
    "def rem_whitespace(in_str):\n",
    "    return \"\".join(in_str.split())\n",
    "\n",
    "#defining function to remove all the space from input string\n",
    "def rem_space(in_str):\n",
    "    return in_str.replace(\" \",\"\")\n",
    "    \n",
    "    '''\n",
    "    or we can use \n",
    "    return \"\".join(in_str.split(\" \"))\n",
    "    '''\n",
    "    \n",
    "#passing the string as argument to both functions\n",
    "input_string = \"  sas\\tdsf df\\ndfsdf \\n adf \\t asdf    \"\n",
    "print(rem_whitespace(input_string))\n",
    "print()\n",
    "print(rem_space(input_string))"
   ]
  },
  {
   "cell_type": "code",
   "execution_count": 40,
   "id": "63c2e280",
   "metadata": {},
   "outputs": [],
   "source": [
    "#Q6\n",
    "#Solution\n",
    "\n",
    "[] is used to denote list or an index subscript"
   ]
  },
  {
   "cell_type": "code",
   "execution_count": 46,
   "id": "ecb19e24",
   "metadata": {},
   "outputs": [
    {
     "name": "stdout",
     "output_type": "stream",
     "text": [
      "['__add__', '__class__', '__contains__', '__delattr__', '__dir__', '__doc__', '__eq__', '__format__', '__ge__', '__getattribute__', '__getitem__', '__getnewargs__', '__gt__', '__hash__', '__init__', '__init_subclass__', '__iter__', '__le__', '__len__', '__lt__', '__mod__', '__mul__', '__ne__', '__new__', '__reduce__', '__reduce_ex__', '__repr__', '__rmod__', '__rmul__', '__setattr__', '__sizeof__', '__str__', '__subclasshook__', 'capitalize', 'casefold', 'center', 'count', 'encode', 'endswith', 'expandtabs', 'find', 'format', 'format_map', 'index', 'isalnum', 'isalpha', 'isascii', 'isdecimal', 'isdigit', 'isidentifier', 'islower', 'isnumeric', 'isprintable', 'isspace', 'istitle', 'isupper', 'join', 'ljust', 'lower', 'lstrip', 'maketrans', 'partition', 'replace', 'rfind', 'rindex', 'rjust', 'rpartition', 'rsplit', 'rstrip', 'split', 'splitlines', 'startswith', 'strip', 'swapcase', 'title', 'translate', 'upper', 'zfill']\n"
     ]
    }
   ],
   "source": [
    "#Q7\n",
    "#Solution\n",
    "\n",
    "#defining a function to print all the methods available for a string\n",
    "def print_methods(in_str):\n",
    "    print(dir(in_str))\n",
    "\n",
    "#Passing a string to the function\n",
    "in_str=\"Parag\"\n",
    "print_methods(in_str)"
   ]
  },
  {
   "cell_type": "code",
   "execution_count": 50,
   "id": "51bb78b9",
   "metadata": {},
   "outputs": [
    {
     "name": "stdout",
     "output_type": "stream",
     "text": [
      "'rstrip' is in str class\n"
     ]
    }
   ],
   "source": [
    "#Q8\n",
    "#Solution\n",
    "\n",
    "print(\"'rstrip' is in str class\" if 'rstrip' in dir(str) else \"'rstrip' is not in str class\")"
   ]
  },
  {
   "cell_type": "code",
   "execution_count": 99,
   "id": "91717af1",
   "metadata": {},
   "outputs": [
    {
     "name": "stdout",
     "output_type": "stream",
     "text": [
      "*****\n",
      "  *\n",
      "  *\n",
      "  *\n",
      "  *\n",
      "*     *\n",
      "* * * *\n",
      "*  *  *\n",
      "*     *\n",
      "  ______\n",
      "  |\t|\n",
      "  o\t|\n",
      " /|\\\t|\n",
      " / \\\t|\n",
      "________|\n"
     ]
    }
   ],
   "source": [
    "#Q9\n",
    "#Solution\n",
    "\n",
    "pattern1 = \"*****\\n  *\\n  *\\n  *\\n  *\"\n",
    "pattern2 = \"*     *\\n* * * *\\n*  *  *\\n*     *\"\n",
    "pattern3 = \"  ______\\n  |\\t|\\n  o\\t|\\n /|\\\\\\t|\\n / \\\\\\t|\\n________|\"\n",
    "print(pattern1)\n",
    "print(pattern2)\n",
    "print(pattern3)"
   ]
  },
  {
   "cell_type": "code",
   "execution_count": 102,
   "id": "ca958e21",
   "metadata": {},
   "outputs": [
    {
     "name": "stdout",
     "output_type": "stream",
     "text": [
      "Enter the string: adsf adsfasd asdfasdf\n",
      "adsf\n",
      "adsfasd\n",
      "asdfasdf\n"
     ]
    }
   ],
   "source": [
    "#Q10\n",
    "#Solution\n",
    "\n",
    "#defining a function to replace the spaces in a string with new line\n",
    "def replace_space(in_str):\n",
    "    return in_str.replace(\" \",\"\\n\")\n",
    "\n",
    "#passing the string as a parameter to the function\n",
    "input_string = input(\"Enter the string: \")\n",
    "print(replace_space(input_string))\n",
    "    "
   ]
  },
  {
   "cell_type": "code",
   "execution_count": 108,
   "id": "a57a06ff",
   "metadata": {},
   "outputs": [
    {
     "name": "stdout",
     "output_type": "stream",
     "text": [
      "NPARAG 6\n",
      "SENAPATI 8\n"
     ]
    }
   ],
   "source": [
    "#Q11\n",
    "#Solution\n",
    "\n",
    "#defining a function to split the complete name into first name and last name\n",
    "def split_name(full_name):\n",
    "    first_name = full_name.split()[0]\n",
    "    last_name = full_name.split()[-1]\n",
    "    print(first_name.upper(),len(first_name))\n",
    "    print(last_name.upper(),len(last_name))\n",
    "\n",
    "#passing the full name as argument to the function\n",
    "name = \"NParag Senapati\"\n",
    "split_name(name)"
   ]
  },
  {
   "cell_type": "code",
   "execution_count": 121,
   "id": "ad934d88",
   "metadata": {},
   "outputs": [
    {
     "name": "stdout",
     "output_type": "stream",
     "text": [
      "Enter the string: String\n",
      "Str\n",
      "ing\n"
     ]
    }
   ],
   "source": [
    "#Q12\n",
    "#Solution\n",
    "\n",
    "#defining a function to split the given string into two halves\n",
    "def split_string(in_string):\n",
    "    first_string = in_string[0:len(in_string)//2]\n",
    "    second_string = in_string[len(in_string)//2 if len(in_string)%2==0 else (len(in_string)//2)+1:]\n",
    "    print(first_string)\n",
    "    print(second_string)\n",
    "\n",
    "#passing the string as argument to the function\n",
    "input_string = input(\"Enter the string: \")\n",
    "split_string(input_string)"
   ]
  }
 ],
 "metadata": {
  "kernelspec": {
   "display_name": "Python 3",
   "language": "python",
   "name": "python3"
  },
  "language_info": {
   "codemirror_mode": {
    "name": "ipython",
    "version": 3
   },
   "file_extension": ".py",
   "mimetype": "text/x-python",
   "name": "python",
   "nbconvert_exporter": "python",
   "pygments_lexer": "ipython3",
   "version": "3.8.8"
  }
 },
 "nbformat": 4,
 "nbformat_minor": 5
}
