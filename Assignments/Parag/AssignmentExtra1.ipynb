{
 "cells": [
  {
   "cell_type": "code",
   "execution_count": 12,
   "id": "787794f2",
   "metadata": {},
   "outputs": [
    {
     "name": "stdout",
     "output_type": "stream",
     "text": [
      "Enter the temperature in Fahrenheit: 32\n",
      "The temperature in Celsius is 0.0 degrees\n"
     ]
    }
   ],
   "source": [
    "#Q1\n",
    "#Solution\n",
    "\n",
    "def f_to_c(deg_fah):\n",
    "    return (deg_fah - 32)*5/9\n",
    "\n",
    "fahrenheit = float(input(\"Enter the temperature in Fahrenheit: \"))\n",
    "\n",
    "print(\"The temperature in Celsius is\",f_to_c(fahrenheit),\"degrees\")"
   ]
  },
  {
   "cell_type": "code",
   "execution_count": 14,
   "id": "cd3836f3",
   "metadata": {},
   "outputs": [
    {
     "name": "stdout",
     "output_type": "stream",
     "text": [
      "Enter a number: 3\n",
      "The square of the number is 9.0\n",
      "The cube of the number is 27.0\n"
     ]
    }
   ],
   "source": [
    "#Q2\n",
    "#Solution\n",
    "\n",
    "num1 = float(input(\"Enter a number: \"))\n",
    "print(\"The square of the number is\",num1**2)\n",
    "print(\"The cube of the number is\",num1**3)"
   ]
  },
  {
   "cell_type": "code",
   "execution_count": 15,
   "id": "1155593a",
   "metadata": {},
   "outputs": [
    {
     "name": "stdout",
     "output_type": "stream",
     "text": [
      "Enter the number n: 3\n",
      "Enter the number m: 4\n",
      "25.0\n"
     ]
    }
   ],
   "source": [
    "#Q3\n",
    "#Solution\n",
    "\n",
    "n=float(input(\"Enter the number n: \"))\n",
    "m=float(input(\"Enter the number m: \"))\n",
    "\n",
    "print(n**2 + m**2)"
   ]
  },
  {
   "cell_type": "code",
   "execution_count": 16,
   "id": "8214b81a",
   "metadata": {},
   "outputs": [
    {
     "name": "stdout",
     "output_type": "stream",
     "text": [
      "Enter the number N: 3\n",
      "Enter the number M: 2\n",
      "Using **  8.0\n",
      "Using pow  8.0\n"
     ]
    }
   ],
   "source": [
    "#Q4\n",
    "#Solution\n",
    "\n",
    "M=float(input(\"Enter the number M: \"))\n",
    "N=float(input(\"Enter the number N: \"))\n",
    "\n",
    "print(\"Using ** \", M**N)\n",
    "print(\"Using pow \", pow(M,N))"
   ]
  },
  {
   "cell_type": "code",
   "execution_count": 18,
   "id": "ae5189ed",
   "metadata": {},
   "outputs": [
    {
     "name": "stdout",
     "output_type": "stream",
     "text": [
      "100.0\n"
     ]
    }
   ],
   "source": [
    "#Q5\n",
    "#Solution\n",
    "\n",
    "def get_si(principle,rate,time):\n",
    "    return (principle*rate*time)/100\n",
    "\n",
    "p=1000\n",
    "r=5\n",
    "t=2\n",
    "SI = get_si(p,r,t)\n",
    "print(SI)"
   ]
  },
  {
   "cell_type": "code",
   "execution_count": 17,
   "id": "2e8c42c5",
   "metadata": {},
   "outputs": [
    {
     "name": "stdout",
     "output_type": "stream",
     "text": [
      "Compound Interest: 102.5\n",
      "Amount: 1102.5\n"
     ]
    }
   ],
   "source": [
    "#Q6\n",
    "#Solution\n",
    "\n",
    "def get_ci(principle,rate,time):\n",
    "    amount = principle*((1+(rate/100))**time)\n",
    "    ci = amount - principle\n",
    "    return ci,amount\n",
    "\n",
    "p=1000\n",
    "r=5\n",
    "t=2\n",
    "ci,amt = get_ci(p,r,t)\n",
    "print(\"Compound Interest:\",ci)\n",
    "print(\"Amount:\",amt)"
   ]
  },
  {
   "cell_type": "code",
   "execution_count": 21,
   "id": "74292e20",
   "metadata": {},
   "outputs": [
    {
     "name": "stdout",
     "output_type": "stream",
     "text": [
      "Enter a natural number n: 5\n",
      "The sum of first n natural numbers is 15\n"
     ]
    }
   ],
   "source": [
    "#Q7\n",
    "#Solution\n",
    "\n",
    "n = int(input(\"Enter a natural number n: \"))\n",
    "print(\"The sum of first n natural numbers is\",sum(range(1,n+1)))"
   ]
  },
  {
   "cell_type": "code",
   "execution_count": 25,
   "id": "103a8daf",
   "metadata": {},
   "outputs": [
    {
     "name": "stdout",
     "output_type": "stream",
     "text": [
      "num1: 15 \n",
      "num2: 20\n",
      "\n",
      "num1: 15.0 \n",
      "num2: 20.0\n",
      "\n",
      "num1: 15 \n",
      "num2: 20\n",
      "\n",
      "num1: 15 \n",
      "num2: 20\n",
      "\n",
      "num1: 15 \n",
      "num2: 20\n"
     ]
    }
   ],
   "source": [
    "#Q8\n",
    "#Solution\n",
    "\n",
    "#method 1\n",
    "num1 = 20\n",
    "num2 = 15\n",
    "num1 = num1+num2\n",
    "num2 = num1-num2\n",
    "num1 = num1-num2\n",
    "print(\"num1:\",num1,\"\\nnum2:\",num2)\n",
    "print()\n",
    "\n",
    "#method 2\n",
    "num1 = 20\n",
    "num2 = 15\n",
    "num1 = num1*num2\n",
    "num2 = num1/num2\n",
    "num1 = num1/num2\n",
    "print(\"num1:\",num1,\"\\nnum2:\",num2)\n",
    "print()\n",
    "\n",
    "#method 3\n",
    "num1 = 20\n",
    "num2 = 15\n",
    "num1 = num1^num2\n",
    "num2 = num1^num2\n",
    "num1 = num1^num2\n",
    "print(\"num1:\",num1,\"\\nnum2:\",num2)\n",
    "print()\n",
    "\n",
    "#method 4\n",
    "num1 = 20\n",
    "num2 = 15\n",
    "temp = num1\n",
    "num1=num2\n",
    "num2=temp\n",
    "print(\"num1:\",num1,\"\\nnum2:\",num2)\n",
    "print()\n",
    "\n",
    "#method 5\n",
    "num1 = 20\n",
    "num2 = 15\n",
    "num1,num2 = num2,num1\n",
    "print(\"num1:\",num1,\"\\nnum2:\",num2)"
   ]
  },
  {
   "cell_type": "code",
   "execution_count": 31,
   "id": "e1d3b123",
   "metadata": {},
   "outputs": [
    {
     "name": "stdout",
     "output_type": "stream",
     "text": [
      "' ' --- 32\n",
      "'\\t' --- 9\n",
      "'\\n' --- 10\n",
      "'\\r' --- 13\n",
      "'\\x0b' --- 11\n",
      "'\\x0c' --- 12\n"
     ]
    }
   ],
   "source": [
    "#Q9\n",
    "#Solution\n",
    "\n",
    "from string import whitespace\n",
    "\n",
    "for character in whitespace:\n",
    "    print(repr(character),\"---\",ord(character))"
   ]
  },
  {
   "cell_type": "code",
   "execution_count": 33,
   "id": "dfe4a28e",
   "metadata": {},
   "outputs": [
    {
     "name": "stdout",
     "output_type": "stream",
     "text": [
      "Enter a single character: a\n",
      "The ascii value is 97\n"
     ]
    }
   ],
   "source": [
    "#Q10\n",
    "#Solution\n",
    "\n",
    "print(\"The ascii value is\",ord(input(\"Enter a single character: \")))"
   ]
  },
  {
   "cell_type": "code",
   "execution_count": 34,
   "id": "dff3e34b",
   "metadata": {},
   "outputs": [
    {
     "name": "stdout",
     "output_type": "stream",
     "text": [
      "Enter the area of the circle: 31.41\n",
      "The radius of the circle is 3.1619793682174566\n",
      "The circumference of the circle is 19.867302307988915\n"
     ]
    }
   ],
   "source": [
    "#Q11\n",
    "#Solution\n",
    "\n",
    "from math import pi\n",
    "area = float(input(\"Enter the area of the circle: \"))\n",
    "rad = (area/pi)**0.5\n",
    "circ = 2*pi*rad\n",
    "print(\"The radius of the circle is\",rad)\n",
    "print(\"The circumference of the circle is\",circ)"
   ]
  },
  {
   "cell_type": "code",
   "execution_count": 37,
   "id": "a9db86f6",
   "metadata": {},
   "outputs": [
    {
     "name": "stdout",
     "output_type": "stream",
     "text": [
      "Enter the marks of subject 1: 70\n",
      "Enter the marks of subject 2: 68\n",
      "Enter the marks of subject 3: 59\n",
      "Enter the marks of subject 4: 80\n",
      "Enter the marks of subject 5: 95\n",
      "The percentage of marks is 74.4\n"
     ]
    }
   ],
   "source": [
    "#Q12\n",
    "#Solution\n",
    "\n",
    "from statistics import mean\n",
    "marks_list=[]\n",
    "for i in range(1, 6):\n",
    "    marks = int(input(\"Enter the marks of subject \"+str(i)+\": \"))\n",
    " \n",
    "    marks_list.append(marks)\n",
    "print(\"The percentage of marks is\", mean(marks_list))\n",
    "#Average was taken because all the marks were out of 100"
   ]
  }
 ],
 "metadata": {
  "kernelspec": {
   "display_name": "Python 3",
   "language": "python",
   "name": "python3"
  },
  "language_info": {
   "codemirror_mode": {
    "name": "ipython",
    "version": 3
   },
   "file_extension": ".py",
   "mimetype": "text/x-python",
   "name": "python",
   "nbconvert_exporter": "python",
   "pygments_lexer": "ipython3",
   "version": "3.8.8"
  }
 },
 "nbformat": 4,
 "nbformat_minor": 5
}
