{
 "cells": [
  {
   "cell_type": "code",
   "execution_count": 18,
   "metadata": {},
   "outputs": [
    {
     "name": "stdout",
     "output_type": "stream",
     "text": [
      "enter the number  4\n",
      "square of a number 4 is  16\n",
      "inverse of number 4 is  0.25\n",
      "negative of number 4 is  -4\n"
     ]
    }
   ],
   "source": [
    "# 1. Write lambdas to:\n",
    "#a. Square a number x2 \n",
    "#b. Inverse a number 1/x\n",
    "#c. Negate a number \n",
    "\n",
    "x = int(input('enter the number  '))\n",
    "a = lambda x:x*x\n",
    "print('square of a number {} is '.format(x),a(x))\n",
    "\n",
    "b = lambda x:1/x\n",
    "print('inverse of number {} is '.format(x),b(x))\n",
    "\n",
    "c = lambda x:-x\n",
    "print('negative of number {} is '.format(x),c(x))"
   ]
  },
  {
   "cell_type": "code",
   "execution_count": 30,
   "metadata": {},
   "outputs": [
    {
     "name": "stdout",
     "output_type": "stream",
     "text": [
      "5050505050\n"
     ]
    }
   ],
   "source": [
    "# 2. Use reduce function and appropriate lambda function to find maximum number from a list \n",
    "import functools\n",
    "from functools import reduce\n",
    "\n",
    "\n",
    "l = [0,50505,5050505050]\n",
    "\n",
    "maxn = reduce(lambda x,y:max(x,y), l)\n",
    "print(maxn)"
   ]
  },
  {
   "cell_type": "code",
   "execution_count": 178,
   "metadata": {},
   "outputs": [
    {
     "name": "stdout",
     "output_type": "stream",
     "text": [
      "[-1.0, -0.25, -0.1111111111111111, -0.0625, -0.04]\n"
     ]
    }
   ],
   "source": [
    "# 3. \n",
    "#Write a function map_multiple that takes a list of functions/lambdas as first argument and a\n",
    "#sequence type as second argument.\n",
    "#The function picks first lambda from list, applies it to first element, then applies the second\n",
    "#function to the result of first one and ….\n",
    "#Similarly it does for each element and generates a mapping of input to output\n",
    "#def map_multiple(functs, sequence):\n",
    " # write definition here\n",
    "#Ex: let list of lambdas be from question 1 and the list on numbers be [1,2,4] \n",
    "\n",
    "seq = [1, 2, 3, 4, 5]\n",
    "res = []\n",
    "ans = []\n",
    "funct = [lambda x:x**2, lambda x:1/x, lambda x:-x]\n",
    "\n",
    "def map_multiple(funct,seq):\n",
    "    for fun in funct:\n",
    "        ans = []\n",
    "        for num in seq:\n",
    "            res = fun(num)\n",
    "            ans.append(res)\n",
    "        seq = list.copy(ans)\n",
    "    print(list(ans))\n",
    "\n",
    "map_multiple(funct,seq)\n"
   ]
  },
  {
   "cell_type": "code",
   "execution_count": 83,
   "metadata": {},
   "outputs": [
    {
     "name": "stdout",
     "output_type": "stream",
     "text": [
      "50\n"
     ]
    }
   ],
   "source": [
    "# 4. Predict the output \n",
    "from functools import reduce \n",
    "f = lambda x,y:x if x>y else y\n",
    "\n",
    "l = [10, 30, 50, 30, 10]\n",
    "num = reduce(f,l)\n",
    "print(num)"
   ]
  },
  {
   "cell_type": "code",
   "execution_count": 87,
   "metadata": {},
   "outputs": [
    {
     "name": "stdout",
     "output_type": "stream",
     "text": [
      "[1.0, 0.5, 0.25, 0.125]\n"
     ]
    }
   ],
   "source": [
    "# 5. predict the output \n",
    "functs = [lambda x: x**0.5, lambda x: 1/x]\n",
    "l = [1,4,16,64]\n",
    "ans = []\n",
    "for num in l:\n",
    "    res = num \n",
    "    for funct in functs:\n",
    "        res=funct(res)\n",
    "    ans.append(res)\n",
    "print(ans)"
   ]
  },
  {
   "cell_type": "code",
   "execution_count": 258,
   "metadata": {},
   "outputs": [
    {
     "name": "stdout",
     "output_type": "stream",
     "text": [
      "[12, 13, 5, 30]\n"
     ]
    }
   ],
   "source": [
    "# 6. Use filter function to filter a list of numbers and strings such that the result contains only numbers \n",
    "l = ['abc',12,13,5,'sq',30,'sweq','pqr'] \n",
    "filt = list(filter(lambda i: isinstance(i, int), l))\n",
    "print(filt)"
   ]
  },
  {
   "cell_type": "code",
   "execution_count": 259,
   "metadata": {},
   "outputs": [
    {
     "name": "stdout",
     "output_type": "stream",
     "text": [
      "['1.778m', '2.032m', '0.3556m', '0.508m', '1.2192m']\n"
     ]
    }
   ],
   "source": [
    "#Assume a list containing heights ft and inches in the form of a list of string\n",
    "#Example : l = [‘5ft10in’, ‘5ft’, ….]\n",
    "#Write a function to convert the heights to meter. Use map function along with your function to\n",
    "#convert everything to m. \n",
    "\n",
    "def ft_m(v):\n",
    "    hm=0;\n",
    "    fm=0;\n",
    "    if 'ft' in v and 'in' in v:\n",
    "        h=v.split('ft');\n",
    "        f=h[1].split('in')\n",
    "    elif 'ft' in v:\n",
    "        h=v.split('ft');\n",
    "        f='0'\n",
    "    elif 'in' in v:\n",
    "        f=v.split('in')\n",
    "        h='0'\n",
    "        \n",
    "    hm=int(h[0])*0.3048\n",
    "    fm=int(f[0])*0.0254\n",
    "\n",
    "    return (str(hm+fm)+'m')\n",
    "\n",
    "heights = ['5ft10in', '5ft20in', '1ft2in','20in','4ft']\n",
    "print(list(map(ft_m, heights)))"
   ]
  },
  {
   "cell_type": "code",
   "execution_count": 260,
   "metadata": {},
   "outputs": [
    {
     "name": "stdout",
     "output_type": "stream",
     "text": [
      "['1.778m', '2.032m', '0.3556m', '0.508m', '1.2192m']\n"
     ]
    }
   ],
   "source": [
    "# 8. Write the implementation for the map function yourself by the name my_map()\n",
    "\n",
    "def my_map(f,l):\n",
    "    result=[]\n",
    "    for i in l:\n",
    "        result.append(f(i))\n",
    "    return(list(result))\n",
    "\n",
    "def ft_m(v):\n",
    "    hm=0;\n",
    "    fm=0;\n",
    "    if 'ft' in v and 'in' in v:\n",
    "        h=v.split('ft');\n",
    "        f=h[1].split('in')\n",
    "    elif 'ft' in v:\n",
    "        h=v.split('ft');\n",
    "        f='0'\n",
    "    elif 'in' in v:\n",
    "        f=v.split('in')\n",
    "        h='0'\n",
    "        \n",
    "    hm=int(h[0])*0.3048\n",
    "    fm=int(f[0])*0.0254\n",
    "\n",
    "    return (str(hm+fm)+'m')\n",
    "\n",
    "heights = ['5ft10in', '5ft20in', '1ft2in','20in','4ft']\n",
    "print(list(my_map(ft_m, heights)))"
   ]
  }
 ],
 "metadata": {
  "kernelspec": {
   "display_name": "Python 3",
   "language": "python",
   "name": "python3"
  },
  "language_info": {
   "codemirror_mode": {
    "name": "ipython",
    "version": 3
   },
   "file_extension": ".py",
   "mimetype": "text/x-python",
   "name": "python",
   "nbconvert_exporter": "python",
   "pygments_lexer": "ipython3",
   "version": "3.6.5"
  }
 },
 "nbformat": 4,
 "nbformat_minor": 2
}
