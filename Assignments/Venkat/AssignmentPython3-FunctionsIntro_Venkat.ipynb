{
 "cells": [
  {
   "cell_type": "code",
   "execution_count": 1,
   "metadata": {},
   "outputs": [
    {
     "name": "stdout",
     "output_type": "stream",
     "text": [
      "Enter 1st String to swap: string1\n",
      "Enter 2nd String to swap: string2\n",
      "\n",
      "Both String before swap:\n",
      "First String = string1\n",
      "Second String = string2\n",
      "\n",
      "Both String after swap:\n",
      "First String = string2\n",
      "Second String = string1\n"
     ]
    }
   ],
   "source": [
    "# 1. WAP to input 2 strings and swap the strings \n",
    "\n",
    "string1 = input(\"Enter 1st String to swap: \")\n",
    "\n",
    "if len(string1) == 0:\n",
    "    exit();\n",
    "else:\n",
    "    string2 = input(\"Enter 2nd String to swap: \")\n",
    "    if len(string2) == 0:\n",
    "        exit();\n",
    "    else:\n",
    "        print(\"\\nBoth String before swap:\")\n",
    "        print(\"First String =\",string1)\n",
    "        print(\"Second String =\",string2)\n",
    "        \n",
    "        temp = string1\n",
    "        string1 = string2\n",
    "        string2 = temp\n",
    "        \n",
    "        print(\"\\nBoth String after swap:\")\n",
    "        print(\"First String =\", string1)\n",
    "        print(\"Second String =\", string2)"
   ]
  },
  {
   "cell_type": "code",
   "execution_count": 2,
   "metadata": {},
   "outputs": [
    {
     "name": "stdout",
     "output_type": "stream",
     "text": [
      "List of Numbers         ===>  [24, 7, 20, 9]\n",
      "Sum of Numbers          ===>  60\n",
      "Average of Numbers      ===>  15.0\n"
     ]
    }
   ],
   "source": [
    "# 2 WAP generate 4 random numbers in the range of 0-26 and print their average\n",
    "\n",
    "import random\n",
    "n=4\n",
    "a=0\n",
    "b=0\n",
    "res = []\n",
    "\n",
    "for j in range(n):\n",
    "    b = random.randint(0,26)\n",
    "    #print(b, \"===>b\")\n",
    "    res.append(b)     \n",
    "    a = a + b \n",
    "    #print(a,\"===>a\")\n",
    "print(\"List of Numbers         ===> \",res)\n",
    "print(\"Sum of Numbers          ===> \",a)\n",
    "print(\"Average of Numbers      ===> \",a/n)"
   ]
  },
  {
   "cell_type": "code",
   "execution_count": 3,
   "metadata": {},
   "outputs": [
    {
     "name": "stdout",
     "output_type": "stream",
     "text": [
      "ASCII Charecters                ===>  abcdefghijklmnopqrstuvwxyzABCDEFGHIJKLMNOPQRSTUVWXYZ\n",
      "Random selection of letter      ===>  V\n",
      "Random selection of letter      ===>  l\n"
     ]
    }
   ],
   "source": [
    "# 4. - WAP to generate and print a random uppercase or lowercase alphabet.\n",
    "\n",
    "# Option - 1\n",
    "import string\n",
    "var1 = string.ascii_letters ## alphabets small and CAPS both.\n",
    "print(\"ASCII Charecters                ===> \",var1)\n",
    "\n",
    "import random \n",
    "var2 = random.choice(var1) # use choice method to pick any item from strings\n",
    "print(\"Random selection of letter      ===> \",var2)\n",
    "\n",
    "# Option - 2\n",
    "import random \n",
    "var2 = random.choice(string.ascii_letters)# use choice method to pick any item from strings\n",
    "print(\"Random selection of letter      ===> \",var2)"
   ]
  },
  {
   "cell_type": "code",
   "execution_count": 4,
   "metadata": {},
   "outputs": [
    {
     "name": "stdout",
     "output_type": "stream",
     "text": [
      " Enter the principle amount  10000\n",
      " Enter the time period       5\n",
      " Enter the rate of interest  1.5\n",
      " principle is  10000.0\n",
      " time period is  5.0\n",
      " Rate of interest is  1.5\n",
      " Simple Interest is  750.0\n"
     ]
    },
    {
     "data": {
      "text/plain": [
       "750.0"
      ]
     },
     "execution_count": 4,
     "metadata": {},
     "output_type": "execute_result"
    }
   ],
   "source": [
    "#5.  WAF get_si that takes Principle, Rate and Time as arguments and returns the Simple interest.\n",
    "def get_si(p,t,r):\n",
    "    print(\" principle is \", p)\n",
    "    print(\" time period is \", t)\n",
    "    print(\" Rate of interest is \",r)\n",
    "      \n",
    "    si = (p * t * r)/100      \n",
    "    print(\" Simple Interest is \", si)\n",
    "    return si\n",
    "      \n",
    "# Driver code\n",
    "p = float(input(\" Enter the principle amount  \"))\n",
    "t = float(input(\" Enter the time period       \"))\n",
    "r = float(input(\" Enter the rate of interest  \"))\n",
    "get_si(p,t,r) # call get_si function to get SI value"
   ]
  },
  {
   "cell_type": "code",
   "execution_count": 5,
   "metadata": {},
   "outputs": [
    {
     "name": "stdout",
     "output_type": "stream",
     "text": [
      " Enter the principle amount  10000\n",
      " principle is  10000.0\n",
      " time period is  1\n",
      " Rate of interest is  10\n",
      " Simple Interest is  1000.0\n"
     ]
    },
    {
     "data": {
      "text/plain": [
       "1000.0"
      ]
     },
     "execution_count": 5,
     "metadata": {},
     "output_type": "execute_result"
    }
   ],
   "source": [
    "# 5.WAF get_amount that takes Principle, Rate and Time as arguments and returns the total amount using get_Si fucntion \n",
    "# from above to calcuate SI. Also provide Rate = 10 and Time = 1 as default arguments \n",
    "def get_amount(p,t,r):\n",
    "    total_amount = get_si(p,t,r)\n",
    "    return total_amount\n",
    "      \n",
    "# Driver code\n",
    "r = 10\n",
    "t = 1\n",
    "p = float(input(\" Enter the principle amount  \"))\n",
    "get_amount(p,t,r) # call get_si function to get SI value "
   ]
  },
  {
   "cell_type": "code",
   "execution_count": 6,
   "metadata": {},
   "outputs": [
    {
     "name": "stdout",
     "output_type": "stream",
     "text": [
      " Enter the principle amount  10000\n",
      " Enter the time period       5\n",
      " Enter the rate of interest  10.25\n",
      "Compound interest is 6488.848034974573\n"
     ]
    }
   ],
   "source": [
    "# 6. WAP get_ci that takes principle , Rate and Time as arguments and returns the compund interest \n",
    "def get_ci(p, r, t): \n",
    "    # Calculates compound interest\n",
    "    amt = p * (pow((1 + r / 100), t))\n",
    "    CI = amt - p\n",
    "    print(\"Compound interest is\", CI)\n",
    "     \n",
    "# Driver Code\n",
    "p = float(input(\" Enter the principle amount  \"))\n",
    "t = float(input(\" Enter the time period       \"))\n",
    "r = float(input(\" Enter the rate of interest  \"))\n",
    "get_ci(p,t,r)"
   ]
  },
  {
   "cell_type": "code",
   "execution_count": 7,
   "metadata": {},
   "outputs": [
    {
     "name": "stdout",
     "output_type": "stream",
     "text": [
      " Enter Numerrator  1000\n",
      " Enter Denominator  3\n",
      " Quotient:  333\n",
      " Remainder 1\n",
      " qutient and reaminders are  (333, 1)\n"
     ]
    }
   ],
   "source": [
    "# 7. WAP get_q_r taking 2 numbers as parameters and retuns the quotient and remainder in the form of tuple\n",
    "def get_q_r(n1, n2):  \n",
    "    q = n1//n2 # quotient \n",
    "    print(\" Quotient: \", q)\n",
    "     \n",
    "    r = n1%n2 # remainder\n",
    "    print(\" Remainder\", r)\n",
    "    return (q,r)    \n",
    "# Driver Code\n",
    "n1 = int(input(\" Enter Numerrator  \"))\n",
    "n2 = int(input(\" Enter Denominator  \"))\n",
    "res = get_q_r(n1,n2)\n",
    "print(\" qutient and reaminders are \",res) # print results in form of tuple "
   ]
  },
  {
   "cell_type": "code",
   "execution_count": 8,
   "metadata": {},
   "outputs": [
    {
     "name": "stdout",
     "output_type": "stream",
     "text": [
      "Enter height of triangle : 3\n",
      "Enter base of triangle :4\n",
      "The hypotenuse of traingle is: 5.0\n"
     ]
    }
   ],
   "source": [
    "# 8 WAP to find the length of hypotenuse of a right angled traingle, input the height and base from user\n",
    "from math import sqrt\n",
    "\n",
    "x = float(input(\"Enter height of triangle : \"))\n",
    "\n",
    "y = float(input(\"Enter base of triangle :\"))\n",
    "\n",
    "z = sqrt(x**2 + y**2)\n",
    "print(\"The hypotenuse of traingle is:\", z )"
   ]
  },
  {
   "cell_type": "code",
   "execution_count": 9,
   "metadata": {},
   "outputs": [
    {
     "name": "stdout",
     "output_type": "stream",
     "text": [
      "Enter value: 10000\n",
      "0 day 2 hour 46 minute 40 second\n"
     ]
    }
   ],
   "source": [
    "# 9 WAP to input number of seconds and print in days , hours, minutes and seconds\n",
    "time = int(input(\"Enter value: \"))\n",
    "secs  = time % 60  \n",
    "minute   = time / 60 \n",
    "hour  = minute / 60 \n",
    "minute   = minute % 60 \n",
    "day   = hour / 24\n",
    "print('%d day %d hour %d minute %d second' %(day, hour, minute, secs))"
   ]
  },
  {
   "cell_type": "code",
   "execution_count": 10,
   "metadata": {},
   "outputs": [
    {
     "name": "stdout",
     "output_type": "stream",
     "text": [
      "3.6.5 |Anaconda, Inc.| (default, Mar 29 2018, 13:32:41) [MSC v.1900 64 bit (AMD64)]\n"
     ]
    }
   ],
   "source": [
    "# 10 check your version of python interpreter without opening the interpreter\n",
    "# (which command needs to be used on the command line)\n",
    "\n",
    "import sys \n",
    "print(sys.version)"
   ]
  },
  {
   "cell_type": "code",
   "execution_count": 11,
   "metadata": {},
   "outputs": [
    {
     "name": "stdout",
     "output_type": "stream",
     "text": [
      "2 -2\n"
     ]
    }
   ],
   "source": [
    "# 11. find output \n",
    "X =  2\n",
    "X *=  3\n",
    "X = X%4\n",
    "Y = - X\n",
    "print(X,Y)"
   ]
  },
  {
   "cell_type": "code",
   "execution_count": 12,
   "metadata": {},
   "outputs": [
    {
     "name": "stdout",
     "output_type": "stream",
     "text": [
      "None\n"
     ]
    }
   ],
   "source": [
    "# 12. Find output \n",
    "\n",
    "def funct():\n",
    "    pass\n",
    "\n",
    "print(funct())"
   ]
  }
 ],
 "metadata": {
  "kernelspec": {
   "display_name": "Python 3",
   "language": "python",
   "name": "python3"
  },
  "language_info": {
   "codemirror_mode": {
    "name": "ipython",
    "version": 3
   },
   "file_extension": ".py",
   "mimetype": "text/x-python",
   "name": "python",
   "nbconvert_exporter": "python",
   "pygments_lexer": "ipython3",
   "version": "3.6.5"
  }
 },
 "nbformat": 4,
 "nbformat_minor": 2
}
