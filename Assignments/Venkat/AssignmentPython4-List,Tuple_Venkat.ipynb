{
 "cells": [
  {
   "cell_type": "code",
   "execution_count": 1,
   "metadata": {},
   "outputs": [
    {
     "name": "stdout",
     "output_type": "stream",
     "text": [
      "(1, 2, 3, 4, 5)\n",
      "<class 'tuple'>\n",
      "[1, 2, 3, 4, 5]\n",
      "<class 'list'>\n"
     ]
    }
   ],
   "source": [
    "# 1. Convert a Tuple t = (1,2,3,4,5) to list\n",
    "t = (1,2,3,4,5)\n",
    "print(t) \n",
    "print(type(t))\n",
    "\n",
    "l = list(t)\n",
    "print(l)\n",
    "print(type(l))"
   ]
  },
  {
   "cell_type": "code",
   "execution_count": 2,
   "metadata": {},
   "outputs": [
    {
     "name": "stdout",
     "output_type": "stream",
     "text": [
      "List  [1, 3, 5, 7]\n",
      "Tuple  (8, 6, 4, 2)\n",
      "tuple to list  [8, 6, 4, 2]\n",
      "Final list  [1, 3, 5, 7, 8, 6, 4, 2]\n"
     ]
    }
   ],
   "source": [
    "# 2. WAP to join a list and a tuple and store results in List \n",
    "\n",
    "L = [1,3,5,7]\n",
    "T = (8,6,4,2)\n",
    "print(\"List \" , L)\n",
    "print(\"Tuple \", T)\n",
    "\n",
    "#convert Tuple to list and store L list into new list \n",
    "L1 = list(T)\n",
    "print(\"tuple to list \", L1)\n",
    "\n",
    "# new list \n",
    "L_final = L + L1\n",
    "print(\"Final list \", L_final)"
   ]
  },
  {
   "cell_type": "markdown",
   "metadata": {},
   "source": [
    "## 3. What is the difference between List and tuple \n",
    "\n",
    "##### a. Tuples and Lists both used to store collection of data\n",
    "##### b. Both are heterogeneous - means they can store any kind of data\n",
    "##### c. They both ordered - means the order we put the items are kept the same way.\n",
    "##### d. They both are sequenced data types - so we can iterate over items containced in sequential order\n",
    "##### e. Items in both can be accessed by an integer index operator \n",
    "##### f.  Tuples are immutable objects where as Lists are mutable. \n",
    "##### g. Tuples requires less memory when compare to Lists\n",
    "##### f.  Tuples are more time efficient compared to List \n",
    "##### h. If we have data which is meant for not to change, then tuple option is good."
   ]
  },
  {
   "cell_type": "code",
   "execution_count": 3,
   "metadata": {},
   "outputs": [
    {
     "name": "stdout",
     "output_type": "stream",
     "text": [
      "list  ['a', 'b', 'c', 'A', 'C']\n",
      "reverse list  ['C', 'A', 'c', 'b', 'a']\n"
     ]
    }
   ],
   "source": [
    "#4 . Print the list in reverse order\n",
    "l = ['a','b','c','A','C']\n",
    "print(\"list \", l)\n",
    "# reverse the list\n",
    "print(\"reverse list \", l[::-1])"
   ]
  },
  {
   "cell_type": "code",
   "execution_count": 4,
   "metadata": {},
   "outputs": [
    {
     "name": "stdout",
     "output_type": "stream",
     "text": [
      "elements in ODD indexes  [11, 21, 31, 41]\n"
     ]
    }
   ],
   "source": [
    "# 5. Print elements at Odd indexes from a list (Do not use loop)\n",
    "l = [10,11,20,21,30,31,40,41]\n",
    "\n",
    "print(\"elements in ODD indexes \", l[1::2])"
   ]
  },
  {
   "cell_type": "code",
   "execution_count": 5,
   "metadata": {},
   "outputs": [
    {
     "name": "stdout",
     "output_type": "stream",
     "text": [
      "list a ==> [1, 2, 4, 5]\n",
      "list b ==> [1, 2, 4, 5]\n",
      "  \n",
      "string ==> hello\n",
      "list b ==> ['h', 'e', 'l', 'l', 'o']\n",
      "  \n",
      "list a ==> [1, 2, 4, 5]\n",
      "list b ==> [1, 2, 4, 5]\n"
     ]
    }
   ],
   "source": [
    "# 6. How many ways you can copy a list \n",
    "# there are 3 ways to copy a list \n",
    "\n",
    "# a. By slicing method  ==> both a and b are pointing to same memory location \n",
    "# e.g \n",
    "a = [1,2,4,5]\n",
    "b = a[:]\n",
    "print (\"list a ==>\", a)\n",
    "print (\"list b ==>\", b)\n",
    "\n",
    "# b. by using list() method \n",
    "# e.g.\n",
    "print(\"  \")\n",
    "a = 'hello'\n",
    "b = list(a)\n",
    "print (\"string ==>\", a)\n",
    "print (\"list b ==>\", b)\n",
    "\n",
    "# c. by using copy() method \n",
    "print(\"  \")\n",
    "a = [1,2,4,5]\n",
    "b = a.copy()\n",
    "print (\"list a ==>\", a)\n",
    "print (\"list b ==>\", b)"
   ]
  },
  {
   "cell_type": "code",
   "execution_count": 6,
   "metadata": {},
   "outputs": [
    {
     "name": "stdout",
     "output_type": "stream",
     "text": [
      "a\n",
      "5\n"
     ]
    }
   ],
   "source": [
    "# 7. predict output\n",
    "n_list = [\"Happy\",[2,0,1,5]]\n",
    "print(n_list[0][1])  # a\n",
    "print(n_list[1][3])  # 5"
   ]
  },
  {
   "cell_type": "code",
   "execution_count": 7,
   "metadata": {},
   "outputs": [
    {
     "name": "stdout",
     "output_type": "stream",
     "text": [
      "[1, 4, 6, 8]\n",
      "[1, 3, 5, 7]\n"
     ]
    }
   ],
   "source": [
    "# 8. predict output\n",
    "odd = [2,4,6,8]\n",
    "odd[0] = 1  \n",
    "print(odd) \n",
    "odd[1:4] = [3,5,7]\n",
    "print(odd) "
   ]
  },
  {
   "cell_type": "code",
   "execution_count": 8,
   "metadata": {},
   "outputs": [
    {
     "name": "stdout",
     "output_type": "stream",
     "text": [
      "[1, 3, 5, [7, 9]]\n",
      "[1, 3, 5, [7, 9], 11, 13]\n"
     ]
    }
   ],
   "source": [
    "# 9. predict output\n",
    "odd = [1,3,5]\n",
    "odd.append([7,9])\n",
    "print(odd) # append new elments as list to list\n",
    "odd.extend([11,13])\n",
    "print(odd) # extend the exiting list "
   ]
  },
  {
   "cell_type": "code",
   "execution_count": 9,
   "metadata": {},
   "outputs": [
    {
     "name": "stdout",
     "output_type": "stream",
     "text": [
      "<class 'tuple'>\n",
      "<class 'int'>\n",
      "<class 'int'>\n",
      "<class 'tuple'>\n"
     ]
    }
   ],
   "source": [
    "# 10 predict output \n",
    "x = 1,2,3; print(type(x))\n",
    "x = (1); print(type(x))\n",
    "x = 1; print(type(x))\n",
    "x = 1,; print(type(x))"
   ]
  },
  {
   "cell_type": "code",
   "execution_count": 10,
   "metadata": {},
   "outputs": [
    {
     "name": "stdout",
     "output_type": "stream",
     "text": [
      "1 2 3\n",
      "4 5 6\n",
      "7 8 9\n",
      " \n",
      "Matrix is:\n",
      " [[1 2 3]\n",
      " [4 5 6]\n",
      " [7 8 9]]\n"
     ]
    }
   ],
   "source": [
    "# 11 try to repesent a matrix with following data in python\n",
    "\n",
    "# Option # 1\n",
    "print(1,2,3); print(4,5,6);print(7,8,9)\n",
    "\n",
    "# Option # 2\n",
    "print(\" \")\n",
    "import numpy as np\n",
    "m = np.matrix([[1,2,3], [4,5,6],[7,8,9]])\n",
    "print('Matrix is:\\n', m)"
   ]
  },
  {
   "cell_type": "code",
   "execution_count": 11,
   "metadata": {},
   "outputs": [
    {
     "name": "stdout",
     "output_type": "stream",
     "text": [
      "('s', 't', 'r', 'i', 'n', 'g')\n",
      "('g', 'n', 'i', 'r', 't', 's')\n",
      "('n', 's')\n"
     ]
    }
   ],
   "source": [
    "# 12. Predict output \n",
    "t = tuple('string')\n",
    "print(t)\n",
    "print(t[::-1]) # reverse \n",
    "print(t[::2][::-2]) # print letter at specified index "
   ]
  },
  {
   "cell_type": "code",
   "execution_count": 12,
   "metadata": {},
   "outputs": [
    {
     "name": "stdout",
     "output_type": "stream",
     "text": [
      "True\n",
      "False\n",
      "1\n",
      "3\n"
     ]
    }
   ],
   "source": [
    "# 13 predict output\n",
    "t = tuple ([10,20,30,40,50,60])\n",
    "print(60 in t)\n",
    "print('60' in t)\n",
    "print(t.count(10))\n",
    "print(t.index(40))"
   ]
  },
  {
   "cell_type": "code",
   "execution_count": 13,
   "metadata": {},
   "outputs": [
    {
     "name": "stdout",
     "output_type": "stream",
     "text": [
      "enter a stringstring\n",
      "The string is not a palindrome.\n"
     ]
    }
   ],
   "source": [
    "# 14 WAP a program to input a string and print if it is palindrome or not \n",
    "# palindrome string\n",
    "my_str = input(\"enter a string\") \n",
    "\n",
    "my_str = my_str.lower()\n",
    "\n",
    "rev_str = my_str[::-1] # reverse string \n",
    "\n",
    "if list(my_str) == list(rev_str): #string and rev string is equal or not\n",
    "   print(\"The string is a palindrome.\")\n",
    "else:\n",
    "   print(\"The string is not a palindrome.\")"
   ]
  },
  {
   "cell_type": "code",
   "execution_count": 14,
   "metadata": {},
   "outputs": [
    {
     "name": "stdout",
     "output_type": "stream",
     "text": [
      "(20, 15, 10, 5)\n"
     ]
    }
   ],
   "source": [
    "# 15. Use the range method and create a tuple containing the following values: (20,15,10,5)\n",
    "s = range(20,0,-5)\n",
    "print(tuple(s))"
   ]
  },
  {
   "cell_type": "code",
   "execution_count": 15,
   "metadata": {},
   "outputs": [
    {
     "name": "stdout",
     "output_type": "stream",
     "text": [
      "string ==> hello\n",
      "list b ==> ['h', 'e', 'l', 'l', 'o']\n"
     ]
    }
   ],
   "source": [
    "# 16. WAP to convert string to list of charecters \n",
    "a = 'hello'\n",
    "b = list(a)\n",
    "print (\"string ==>\", a)\n",
    "print (\"list b ==>\", b)"
   ]
  },
  {
   "cell_type": "code",
   "execution_count": 16,
   "metadata": {},
   "outputs": [
    {
     "name": "stdout",
     "output_type": "stream",
     "text": [
      "<class 'list'>\n",
      "<class 'NoneType'>\n",
      "<class 'str'>\n",
      "<class 'bool'>\n"
     ]
    }
   ],
   "source": [
    "# 17. what is the return type of below.\n",
    "print(type('1 2'.split() )) # list\n",
    "print(type( [1,3,2].sort()))\n",
    "print(type( 'abc'.upper()))\n",
    "print(type( 1 in [1,2]))"
   ]
  }
 ],
 "metadata": {
  "kernelspec": {
   "display_name": "Python 3",
   "language": "python",
   "name": "python3"
  },
  "language_info": {
   "codemirror_mode": {
    "name": "ipython",
    "version": 3
   },
   "file_extension": ".py",
   "mimetype": "text/x-python",
   "name": "python",
   "nbconvert_exporter": "python",
   "pygments_lexer": "ipython3",
   "version": "3.6.5"
  }
 },
 "nbformat": 4,
 "nbformat_minor": 2
}
