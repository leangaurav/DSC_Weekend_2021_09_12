{
 "cells": [
  {
   "cell_type": "code",
   "execution_count": 6,
   "metadata": {},
   "outputs": [
    {
     "name": "stdout",
     "output_type": "stream",
     "text": [
      "{1: -1, 2: -2, 3: -3, 4: -4, 5: -5}\n",
      "{1: -1, 2: -2, 3: -3, 4: -4, 5: -5}\n"
     ]
    }
   ],
   "source": [
    "# WAP to create a dictionary of numbers mapped to thier negative value for numbers from 1-5. \n",
    "# do with and without range based loop\n",
    "\n",
    "# 1 With range in loop \n",
    "d = {}\n",
    "for i in range(1,6):\n",
    "    d[i] = i * -1\n",
    "print(d)\n",
    "\n",
    "# 2. Without range in loop \n",
    "d1 = {x:x * -1 for x in range(1, 6)}\n",
    "print(d1)"
   ]
  },
  {
   "cell_type": "code",
   "execution_count": 8,
   "metadata": {},
   "outputs": [
    {
     "ename": "SyntaxError",
     "evalue": "invalid syntax (<ipython-input-8-23deba3ea1bb>, line 1)",
     "output_type": "error",
     "traceback": [
      "\u001b[1;36m  File \u001b[1;32m\"<ipython-input-8-23deba3ea1bb>\"\u001b[1;36m, line \u001b[1;32m1\u001b[0m\n\u001b[1;33m    d = {1=2, 2=3}\u001b[0m\n\u001b[1;37m          ^\u001b[0m\n\u001b[1;31mSyntaxError\u001b[0m\u001b[1;31m:\u001b[0m invalid syntax\n"
     ]
    }
   ],
   "source": [
    "d = {1=2, 2=3}\n"
   ]
  },
  {
   "cell_type": "code",
   "execution_count": 9,
   "metadata": {},
   "outputs": [],
   "source": [
    "d = {1:2, 2:3}"
   ]
  },
  {
   "cell_type": "code",
   "execution_count": 10,
   "metadata": {},
   "outputs": [
    {
     "ename": "SyntaxError",
     "evalue": "invalid syntax (<ipython-input-10-e87918733a95>, line 1)",
     "output_type": "error",
     "traceback": [
      "\u001b[1;36m  File \u001b[1;32m\"<ipython-input-10-e87918733a95>\"\u001b[1;36m, line \u001b[1;32m1\u001b[0m\n\u001b[1;33m    d = {1,2 : 2,3}\u001b[0m\n\u001b[1;37m             ^\u001b[0m\n\u001b[1;31mSyntaxError\u001b[0m\u001b[1;31m:\u001b[0m invalid syntax\n"
     ]
    }
   ],
   "source": [
    "d = {1,2 : 2,3}"
   ]
  },
  {
   "cell_type": "code",
   "execution_count": 15,
   "metadata": {},
   "outputs": [
    {
     "name": "stdout",
     "output_type": "stream",
     "text": [
      "<class 'set'>\n"
     ]
    }
   ],
   "source": [
    "d = {(1,2) ,(2,3)}\n",
    "print(type(d))\n"
   ]
  },
  {
   "cell_type": "code",
   "execution_count": 16,
   "metadata": {},
   "outputs": [
    {
     "ename": "NameError",
     "evalue": "name 'c' is not defined",
     "output_type": "error",
     "traceback": [
      "\u001b[1;31m---------------------------------------------------------------------------\u001b[0m",
      "\u001b[1;31mNameError\u001b[0m                                 Traceback (most recent call last)",
      "\u001b[1;32m<ipython-input-16-78175a9a37ff>\u001b[0m in \u001b[0;36m<module>\u001b[1;34m()\u001b[0m\n\u001b[1;32m----> 1\u001b[1;33m \u001b[0md\u001b[0m \u001b[1;33m=\u001b[0m \u001b[1;33m{\u001b[0m\u001b[1;34m'a'\u001b[0m\u001b[1;33m:\u001b[0m\u001b[1;34m'A'\u001b[0m\u001b[1;33m,\u001b[0m \u001b[1;34m'b'\u001b[0m\u001b[1;33m:\u001b[0m\u001b[1;36m1\u001b[0m\u001b[1;33m,\u001b[0m \u001b[0mc\u001b[0m\u001b[1;33m:\u001b[0m\u001b[1;33m[\u001b[0m\u001b[1;36m1\u001b[0m\u001b[1;33m,\u001b[0m\u001b[1;36m2\u001b[0m\u001b[1;33m,\u001b[0m\u001b[1;36m3\u001b[0m\u001b[1;33m,\u001b[0m\u001b[1;36m4\u001b[0m\u001b[1;33m]\u001b[0m\u001b[1;33m}\u001b[0m\u001b[1;33m\u001b[0m\u001b[0m\n\u001b[0m",
      "\u001b[1;31mNameError\u001b[0m: name 'c' is not defined"
     ]
    }
   ],
   "source": [
    "d = {'a':'A', 'b':1, c:[1,2,3,4]}"
   ]
  },
  {
   "cell_type": "code",
   "execution_count": 18,
   "metadata": {},
   "outputs": [
    {
     "name": "stdout",
     "output_type": "stream",
     "text": [
      "{'a': 'A', 'b': 1, 'c': [1, 2, 3, 4]}\n",
      "<class 'dict'>\n"
     ]
    }
   ],
   "source": [
    "d = {'a':'A', 'b':1, 'c':[1,2,3,4]}\n",
    "print(d)\n",
    "print(type(d))"
   ]
  },
  {
   "cell_type": "code",
   "execution_count": 20,
   "metadata": {},
   "outputs": [
    {
     "name": "stdout",
     "output_type": "stream",
     "text": [
      "{1: 2, 2: 3}\n",
      "<class 'dict'>\n"
     ]
    }
   ],
   "source": [
    "d = dict([(1,2),(2,3)])\n",
    "print(d)\n",
    "print(type(d))"
   ]
  },
  {
   "cell_type": "code",
   "execution_count": 22,
   "metadata": {},
   "outputs": [
    {
     "name": "stdout",
     "output_type": "stream",
     "text": [
      "{1: 2, 2: 3}\n",
      "<class 'dict'>\n"
     ]
    }
   ],
   "source": [
    "d = dict(((1,2),(2,3)))\n",
    "print(d)\n",
    "print(type(d))"
   ]
  },
  {
   "cell_type": "code",
   "execution_count": 23,
   "metadata": {},
   "outputs": [
    {
     "ename": "SyntaxError",
     "evalue": "invalid syntax (<ipython-input-23-252d1e60b52d>, line 1)",
     "output_type": "error",
     "traceback": [
      "\u001b[1;36m  File \u001b[1;32m\"<ipython-input-23-252d1e60b52d>\"\u001b[1;36m, line \u001b[1;32m1\u001b[0m\n\u001b[1;33m    d = dict((1,2),(2,3)])\u001b[0m\n\u001b[1;37m                        ^\u001b[0m\n\u001b[1;31mSyntaxError\u001b[0m\u001b[1;31m:\u001b[0m invalid syntax\n"
     ]
    }
   ],
   "source": [
    "d = dict((1,2),(2,3)])\n",
    "print(d)\n",
    "print(type(d))"
   ]
  },
  {
   "cell_type": "code",
   "execution_count": 25,
   "metadata": {},
   "outputs": [
    {
     "name": "stdout",
     "output_type": "stream",
     "text": [
      "{'x': 2, 'y': 3}\n",
      "<class 'dict'>\n"
     ]
    }
   ],
   "source": [
    "d = dict(x=2, y=3)\n",
    "print(d)\n",
    "print(type(d))"
   ]
  },
  {
   "cell_type": "code",
   "execution_count": 26,
   "metadata": {},
   "outputs": [
    {
     "name": "stdout",
     "output_type": "stream",
     "text": [
      "{'x': 2, 'y': 3}\n",
      "<class 'dict'>\n"
     ]
    }
   ],
   "source": [
    "d = dict(x=2, y=3)\n",
    "print(d)\n",
    "print(type(d))"
   ]
  },
  {
   "cell_type": "code",
   "execution_count": 27,
   "metadata": {},
   "outputs": [
    {
     "ename": "SyntaxError",
     "evalue": "invalid syntax (<ipython-input-27-645f8da84f13>, line 1)",
     "output_type": "error",
     "traceback": [
      "\u001b[1;36m  File \u001b[1;32m\"<ipython-input-27-645f8da84f13>\"\u001b[1;36m, line \u001b[1;32m1\u001b[0m\n\u001b[1;33m    = dict('x'=2, 'y'=3)\u001b[0m\n\u001b[1;37m    ^\u001b[0m\n\u001b[1;31mSyntaxError\u001b[0m\u001b[1;31m:\u001b[0m invalid syntax\n"
     ]
    }
   ],
   "source": [
    "= dict('x'=2, 'y'=3)"
   ]
  },
  {
   "cell_type": "code",
   "execution_count": 28,
   "metadata": {},
   "outputs": [
    {
     "ename": "SyntaxError",
     "evalue": "invalid syntax (<ipython-input-28-5b8a1be93322>, line 1)",
     "output_type": "error",
     "traceback": [
      "\u001b[1;36m  File \u001b[1;32m\"<ipython-input-28-5b8a1be93322>\"\u001b[1;36m, line \u001b[1;32m1\u001b[0m\n\u001b[1;33m    = dict(1=2, 2=3)\u001b[0m\n\u001b[1;37m    ^\u001b[0m\n\u001b[1;31mSyntaxError\u001b[0m\u001b[1;31m:\u001b[0m invalid syntax\n"
     ]
    }
   ],
   "source": [
    "= dict(1=2, 2=3)"
   ]
  },
  {
   "cell_type": "code",
   "execution_count": 29,
   "metadata": {},
   "outputs": [
    {
     "name": "stdout",
     "output_type": "stream",
     "text": [
      "{1: 10, 2: 20, 3: 30, 4: 40}\n",
      "<class 'dict'>\n"
     ]
    }
   ],
   "source": [
    "# 3.\tRead help for zip and write a program that has two lists\n",
    "#l1 = [1,2,3,4]\n",
    "#l2 = [10,20,30,40]\n",
    "#And converts them to a dictionary d containing { 1:10,2:20 …….}\n",
    "\n",
    "l1 = [1,2,3,4]\n",
    "l2 = [10,20,30,40]\n",
    "d = dict(zip(l1,l2))\n",
    "print(d)\n",
    "print(type(d))"
   ]
  },
  {
   "cell_type": "code",
   "execution_count": 38,
   "metadata": {},
   "outputs": [
    {
     "name": "stdout",
     "output_type": "stream",
     "text": [
      "{'A': 65, 'B': 66, 'C': 67, 'D': 68, 'E': 69, 'F': 70, 'G': 71, 'H': 72, 'I': 73, 'J': 74, 'K': 75, 'L': 76, 'M': 77, 'N': 78, 'O': 79, 'P': 80, 'Q': 81, 'R': 82, 'S': 83, 'T': 84, 'U': 85, 'V': 86, 'W': 87, 'X': 88, 'Y': 89, 'Z': 90}\n"
     ]
    }
   ],
   "source": [
    "#4.\tUse range based for loop to store all upper case alphabets and their corresponding ASCII values in the dictionary d.\n",
    "# The result should be d = {‘A’: 65, ‘B’:66,…..}\n",
    "d ={chr(y):y for y in range(65,91)}\n",
    "print(d)"
   ]
  },
  {
   "cell_type": "code",
   "execution_count": 48,
   "metadata": {},
   "outputs": [
    {
     "name": "stdout",
     "output_type": "stream",
     "text": [
      "enter signle digit itefer value   3\n",
      "Three\n",
      "  \n",
      "0\n",
      "1\n",
      "2\n",
      "3\n",
      "4\n",
      "5\n",
      "6\n",
      "7\n",
      "8\n",
      "9\n",
      "  \n",
      "Zero\n",
      "One\n",
      "Two\n",
      "Three\n",
      "Four\n",
      "Five\n",
      "Six\n",
      "Seven\n",
      "Eight\n",
      "Nine\n",
      "  \n",
      "0 Zero\n",
      "1 One\n",
      "2 Two\n",
      "3 Three\n",
      "4 Four\n",
      "5 Five\n",
      "6 Six\n",
      "7 Seven\n",
      "8 Eight\n",
      "9 Nine\n"
     ]
    }
   ],
   "source": [
    "# 5.\tCreate a mapping of number to word from 0-9. (0:’zero’……)\n",
    "# •\tAsk user for a single digit number and print the corresponding word format.\n",
    "# •\tPrint all keys of above dictionary\n",
    "# •\tPrint all Values of a dictionary\n",
    "# •\tPrint all Key and Value pairs of above dictionary\n",
    "\n",
    "d = {0:'Zero', \n",
    "     1:'One' ,\n",
    "     2:'Two' ,\n",
    "     3:'Three' ,\n",
    "     4:'Four' ,\n",
    "     5:'Five' ,\n",
    "     6:'Six' ,\n",
    "     7:'Seven' ,\n",
    "     8:'Eight' ,\n",
    "     9:'Nine'}\n",
    "\n",
    "n = int(input('enter signle digit itefer value   '))\n",
    "\n",
    "# print corresponding word format \n",
    "print(d[n])\n",
    "print (' '*2)\n",
    "# print only Key from dictionary \n",
    "for key,value in d.items():\n",
    "    print(key)\n",
    "print(' '*2)\n",
    "#print only values\n",
    "for key, value in d.items():\n",
    "    print(value)\n",
    "print(' '*2)\n",
    "#print both key and values\n",
    "for key, value in d.items():\n",
    "    print(key, value)"
   ]
  },
  {
   "cell_type": "code",
   "execution_count": 49,
   "metadata": {},
   "outputs": [
    {
     "name": "stdout",
     "output_type": "stream",
     "text": [
      "{'A': 'Apple', 'B': 'Ball', 'C': 'Cat', 'D': 'Dog'}\n",
      "{'A': 'Apple', 'C': 'Cat'}\n"
     ]
    }
   ],
   "source": [
    "#6 predict output \n",
    "l1 = ['A', 'B', 'C', 'D']\n",
    "l2 = [\"Apple\", 'Ball', \"Cat\", 'Dog']\n",
    "d1 = dict(zip(l1, l2))\n",
    "print(d1)\n",
    "d2 = dict(list(d1.items()) [::2])\n",
    "print(d2)"
   ]
  },
  {
   "cell_type": "code",
   "execution_count": 50,
   "metadata": {},
   "outputs": [
    {
     "name": "stdout",
     "output_type": "stream",
     "text": [
      "enter input string Beautiful Day\n",
      "{'a': 2, 'e': 1, 'i': 1, 'o': 0, 'u': 2}\n"
     ]
    }
   ],
   "source": [
    "#7.\tWAP to input a string and count occurrence of each vowel in a string. \n",
    "\n",
    "s = input('enter input string ')\n",
    "\n",
    "lowercase = s.lower()\n",
    "vowel_counts = {}\n",
    "\n",
    "for vowel in \"aeiou\":\n",
    "    count = lowercase.count(vowel)\n",
    "    vowel_counts[vowel] = count\n",
    "\n",
    "print(vowel_counts)"
   ]
  },
  {
   "cell_type": "code",
   "execution_count": 52,
   "metadata": {},
   "outputs": [
    {
     "name": "stdout",
     "output_type": "stream",
     "text": [
      "enter input string Beautiful Day\n",
      "{'a': 2, 'e': 1, 'i': 1, 'o': 0, 'u': 2}\n",
      "Frequency of vowels   6\n"
     ]
    }
   ],
   "source": [
    "# 8.Update above program to print frequency of each alphabet present in string.\n",
    "s = input('enter input string ')\n",
    "\n",
    "lowercase = s.lower()\n",
    "vowel_counts = {}\n",
    "\n",
    "for vowel in \"aeiou\":\n",
    "    count = lowercase.count(vowel)\n",
    "    vowel_counts[vowel] = count\n",
    "\n",
    "print(vowel_counts)\n",
    "counts = vowel_counts.values()\n",
    "total_vowels = sum(counts)\n",
    "# Frequency of vowels in string \n",
    "print(\"Frequency of vowels  \" ,total_vowels)"
   ]
  },
  {
   "cell_type": "code",
   "execution_count": 58,
   "metadata": {},
   "outputs": [
    {
     "name": "stdout",
     "output_type": "stream",
     "text": [
      "enter the string  count the words in the sentence in\n",
      "count,1\n",
      "in,2\n",
      "sentence,1\n",
      "the,2\n",
      "words,1\n"
     ]
    }
   ],
   "source": [
    "# 9.WAP that takes a string as input and prints frequency of each word\n",
    "\n",
    "s = input('enter the string  ')\n",
    "word_dict = {}\n",
    "\n",
    "for i in s.split():\n",
    "    word_dict[i] = word_dict.get(i,0) + 1\n",
    "\n",
    "for key in sorted(word_dict):\n",
    "    print(\"{},{}\".format(key,word_dict[key]))"
   ]
  }
 ],
 "metadata": {
  "kernelspec": {
   "display_name": "Python 3",
   "language": "python",
   "name": "python3"
  },
  "language_info": {
   "codemirror_mode": {
    "name": "ipython",
    "version": 3
   },
   "file_extension": ".py",
   "mimetype": "text/x-python",
   "name": "python",
   "nbconvert_exporter": "python",
   "pygments_lexer": "ipython3",
   "version": "3.6.5"
  }
 },
 "nbformat": 4,
 "nbformat_minor": 2
}
