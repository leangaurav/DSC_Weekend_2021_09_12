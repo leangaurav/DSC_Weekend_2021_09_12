{
 "cells": [
  {
   "cell_type": "code",
   "execution_count": 1,
   "metadata": {},
   "outputs": [
    {
     "name": "stdout",
     "output_type": "stream",
     "text": [
      "enter the string    strin\n",
      "Individual characters from given string:\n",
      "s  t  r  i  n  "
     ]
    }
   ],
   "source": [
    "# 1. WAP to input a string and print individual charecters in the string using for loop \n",
    "\n",
    "s = input(\"enter the string    \")\n",
    "   \n",
    "#Displays individual characters from given string  \n",
    "print(\"Individual characters from given string:\");  \n",
    "   \n",
    "#Iterate through the string and display individual character  \n",
    "for i in range(0, len(s)):  \n",
    "    print(s[i], end=\"  \");  "
   ]
  },
  {
   "cell_type": "code",
   "execution_count": 2,
   "metadata": {},
   "outputs": [
    {
     "name": "stdout",
     "output_type": "stream",
     "text": [
      "enter the string  string\n",
      "Individual ASCII from given string:\n",
      "115116114105110103"
     ]
    }
   ],
   "source": [
    "# 2. WAP to input a string and print the ASCII value of each charecter in the string \n",
    "\n",
    "s = input(\"enter the string  \")\n",
    "\n",
    "#Displays individual characters ASCII values from given string  \n",
    "print(\"Individual ASCII from given string:\"); \n",
    "\n",
    "#Iterate through the string and display individual character  \n",
    "for i in range(0, len(s)):  \n",
    "    print(ord(s[i]), end = ''); "
   ]
  },
  {
   "cell_type": "code",
   "execution_count": 3,
   "metadata": {},
   "outputs": [
    {
     "name": "stdout",
     "output_type": "stream",
     "text": [
      "enter the list  11,12,13,14,15\n",
      "Sum of add numbers from list is 36  \n"
     ]
    }
   ],
   "source": [
    "# 3. WAF that takes a list of numbers form users as arugument and returns the sum of only odd numbers(use only for loop.\n",
    "# no need to use if statement)\n",
    "\n",
    "# list of numbers \n",
    "\n",
    "list1 = input(\"enter the list  \")\n",
    "list1 = list1.split(\",\")\n",
    "\n",
    "total = 0 \n",
    "\n",
    "# convert each item to int type\n",
    "for i in range(len(list1)):\n",
    "    # convert each item to int type\n",
    "    list1[i] = int(list1[i])\n",
    "    \n",
    "#Lambda option \n",
    "odd_no = list(filter(lambda x: (x % 2 != 0), list1))\n",
    "for _ in range(0, len(odd_no)):\n",
    "    total = total + list1[_]\n",
    "\n",
    "print(\"Sum of add numbers from list is {0}  \".format(total))"
   ]
  },
  {
   "cell_type": "code",
   "execution_count": 4,
   "metadata": {},
   "outputs": [
    {
     "name": "stdout",
     "output_type": "stream",
     "text": [
      "enter the list  10,12,13,14\n",
      "tutple ('10', '12', '13', '14')\n",
      "enter the number to check whether its present in tuple or not   5\n"
     ]
    },
    {
     "ename": "ValueError",
     "evalue": "tuple.index(x): x not in tuple",
     "output_type": "error",
     "traceback": [
      "\u001b[1;31m---------------------------------------------------------------------------\u001b[0m",
      "\u001b[1;31mValueError\u001b[0m                                Traceback (most recent call last)",
      "\u001b[1;32m<ipython-input-4-9dbf25346e0d>\u001b[0m in \u001b[0;36m<module>\u001b[1;34m()\u001b[0m\n\u001b[0;32m     10\u001b[0m \u001b[0mn\u001b[0m \u001b[1;33m=\u001b[0m \u001b[0mint\u001b[0m\u001b[1;33m(\u001b[0m\u001b[0minput\u001b[0m\u001b[1;33m(\u001b[0m\u001b[1;34m'enter the number to check whether its present in tuple or not   '\u001b[0m\u001b[1;33m)\u001b[0m\u001b[1;33m)\u001b[0m\u001b[1;33m\u001b[0m\u001b[0m\n\u001b[0;32m     11\u001b[0m \u001b[1;33m\u001b[0m\u001b[0m\n\u001b[1;32m---> 12\u001b[1;33m \u001b[0mindex\u001b[0m \u001b[1;33m=\u001b[0m \u001b[0mt\u001b[0m\u001b[1;33m.\u001b[0m\u001b[0mindex\u001b[0m\u001b[1;33m(\u001b[0m\u001b[0mstr\u001b[0m\u001b[1;33m(\u001b[0m\u001b[0mn\u001b[0m\u001b[1;33m)\u001b[0m\u001b[1;33m)\u001b[0m\u001b[1;33m\u001b[0m\u001b[0m\n\u001b[0m\u001b[0;32m     13\u001b[0m \u001b[0mprint\u001b[0m\u001b[1;33m(\u001b[0m\u001b[1;34m\"index is \"\u001b[0m\u001b[1;33m,\u001b[0m \u001b[0mindex\u001b[0m \u001b[1;33m)\u001b[0m\u001b[1;33m\u001b[0m\u001b[0m\n\u001b[0;32m     14\u001b[0m \u001b[1;31m#for x in range(0,len(t)):\u001b[0m\u001b[1;33m\u001b[0m\u001b[1;33m\u001b[0m\u001b[0m\n",
      "\u001b[1;31mValueError\u001b[0m: tuple.index(x): x not in tuple"
     ]
    }
   ],
   "source": [
    "#4. WAP to input a list of numbers and store in a tuple. Now input another number and print the index  of this number in the tuple\n",
    "\n",
    "# list of numbers \n",
    "\n",
    "list1 = input(\"enter the list  \")\n",
    "list1 = list1.split(\",\")\n",
    "t = tuple(list1)\n",
    "print('tutple', t)\n",
    "\n",
    "n = int(input('enter the number to check whether its present in tuple or not   '))\n",
    "\n",
    "index = t.index(str(n))\n",
    "print(\"index is \", index )\n",
    "#for x in range(0,len(t)):\n",
    "#    if n == t[x]:\n",
    "#        Y = True\n",
    "#    else:\n",
    "#        Y = False\n",
    "\n",
    "#if Y is True:\n",
    "#    print('{0} is present in tuple'.format(n), t)\n",
    "#else:\n",
    "#    print('{0} is not present in tuple'.format(n), t)"
   ]
  },
  {
   "cell_type": "code",
   "execution_count": 5,
   "metadata": {},
   "outputs": [
    {
     "name": "stdout",
     "output_type": "stream",
     "text": [
      "original list [91, 48, 53, 84, 48, 7, 80, 17, 16, 98]\n",
      "elements at even indecies are [48, 84, 7, 17, 98]\n",
      "sum of elements is 542 \n",
      "average of elements is 54.2 \n"
     ]
    }
   ],
   "source": [
    "#5 WAP to input a list of 10 random numbers and then print the list , sum of all numbers and average. Use a for loop. Also print \n",
    "# elements at only even indexes in the list \n",
    "import random \n",
    "res=[]\n",
    "sum=0\n",
    "avg=0\n",
    "numbers = [random.randint(1, 100) for iter in range(10)]\n",
    "print(\"original list {}\". format(numbers))\n",
    "\n",
    "for i in range(1,len(numbers),2):\n",
    "    res.append(numbers[i])\n",
    "print(\"elements at even indecies are {}\".format(res))\n",
    "\n",
    "for i in range(len(numbers)):\n",
    "    sum = sum + numbers[i]\n",
    "avg = sum / len(numbers)\n",
    "\n",
    "print(\"sum of elements is {} \".format(sum))\n",
    "print(\"average of elements is {} \".format(avg))\n"
   ]
  },
  {
   "cell_type": "code",
   "execution_count": 6,
   "metadata": {},
   "outputs": [
    {
     "name": "stdout",
     "output_type": "stream",
     "text": [
      "original list [9, 6, 6, 9, 5]\n",
      "sum of elements is 35 \n"
     ]
    }
   ],
   "source": [
    "# 6. WAP to input 10 numbers repeatedly(using range based for loop ) and store them in a list. \n",
    "#Print the list and sum of numbers in the list\n",
    "\n",
    "res=[]\n",
    "sum=0\n",
    "\n",
    "numbers = [random.randint(1, 10) for iter in range(5)]\n",
    "print(\"original list {}\". format(numbers))\n",
    "\n",
    "\n",
    "for i in range(len(numbers)):\n",
    "    res.append(numbers[i])\n",
    "    sum = sum + numbers[i]\n",
    "print(\"sum of elements is {} \".format(sum))   \n"
   ]
  },
  {
   "cell_type": "code",
   "execution_count": 7,
   "metadata": {},
   "outputs": [
    {
     "name": "stdout",
     "output_type": "stream",
     "text": [
      "enter number for which table to generate 10\n",
      "10 X 1 = 10\n",
      "10 X 2 = 20\n",
      "10 X 3 = 30\n",
      "10 X 4 = 40\n",
      "10 X 5 = 50\n",
      "10 X 6 = 60\n",
      "10 X 7 = 70\n",
      "10 X 8 = 80\n",
      "10 X 9 = 90\n",
      "10 X 10 = 100\n"
     ]
    }
   ],
   "source": [
    "# 7. WAP to input a number and print its table:\n",
    "\n",
    "n = int(input(\"enter number for which table to generate \"))\n",
    "\n",
    "result = 0\n",
    "for i in range(1, 11):\n",
    "    result = n*i\n",
    "    print(n,\"X\",i,\"=\",result)"
   ]
  },
  {
   "cell_type": "code",
   "execution_count": 8,
   "metadata": {},
   "outputs": [
    {
     "name": "stdout",
     "output_type": "stream",
     "text": [
      "enter the string string\n",
      "0 spaces present in string string \n"
     ]
    }
   ],
   "source": [
    "# 8. WAP to print total numbers of spaces in string(use for loop to iterate over the string. Dont use count function)\n",
    "\n",
    "s = input(\"enter the string \")\n",
    "count = 0\n",
    "for i in range(len(s)):\n",
    "    if s[i] == ' ':\n",
    "        count += 1 \n",
    "print(\"{0} spaces present in string {1} \".format(count,s))\n",
    "        "
   ]
  },
  {
   "cell_type": "code",
   "execution_count": 9,
   "metadata": {},
   "outputs": [
    {
     "name": "stdout",
     "output_type": "stream",
     "text": [
      "enter the string  string\n",
      "String as Vowel\n"
     ]
    }
   ],
   "source": [
    "# 9. WAP to input a string and count the number of vowels in the string. \n",
    "\n",
    "s = input(\"enter the string  \")\n",
    "s = s.upper()\n",
    "\n",
    "for i in range(len(s)):\n",
    "    if s[i] in 'AEIOU':\n",
    "        Y = True\n",
    "        \n",
    "if  Y is True:\n",
    "    print(\"String as Vowel\")"
   ]
  },
  {
   "cell_type": "code",
   "execution_count": 10,
   "metadata": {},
   "outputs": [
    {
     "name": "stdout",
     "output_type": "stream",
     "text": [
      "enter the string   vowel\n",
      "string as list  ['v', 'o', 'w', 'e', 'l']\n",
      "String after replacing vowel with _   v_w_l\n"
     ]
    }
   ],
   "source": [
    "#10 WAP to input a string and replace vowel with '_'\n",
    "\n",
    "s = input(\"enter the string   \")\n",
    "s = s.lower()\n",
    "list1 = list(s)\n",
    "new_str = ' '\n",
    "print(\"string as list \", list1)\n",
    "\n",
    "for i in range(len(list1)):\n",
    "    if  list1[i] in 'aeiou':\n",
    "        list1[i] = '_'\n",
    "    new_str = new_str + new_str.join(list1[i])\n",
    "\n",
    "print(\"String after replacing vowel with _ \", new_str)"
   ]
  },
  {
   "cell_type": "code",
   "execution_count": 11,
   "metadata": {},
   "outputs": [
    {
     "name": "stdout",
     "output_type": "stream",
     "text": [
      "Num :  0\n",
      "Num:  0\n"
     ]
    },
    {
     "ename": "SystemExit",
     "evalue": "",
     "output_type": "error",
     "traceback": [
      "An exception has occurred, use %tb to see the full traceback.\n",
      "\u001b[1;31mSystemExit\u001b[0m\n"
     ]
    },
    {
     "name": "stderr",
     "output_type": "stream",
     "text": [
      "C:\\Users\\Venkatesh\\AppData\\Local\\Continuum\\anaconda3\\lib\\site-packages\\IPython\\core\\interactiveshell.py:2971: UserWarning: To exit: use 'exit', 'quit', or Ctrl-D.\n",
      "  warn(\"To exit: use 'exit', 'quit', or Ctrl-D.\", stacklevel=1)\n"
     ]
    }
   ],
   "source": [
    "# 11 find output\n",
    "for num in range(10):\n",
    "    print(\"Num : \",num)\n",
    "    if num % 4 == 0:\n",
    "        break\n",
    "    print(\"Loop Ends\")\n",
    "    \n",
    "import sys\n",
    "for num in range(10):\n",
    "    print(\"Num: \",num )\n",
    "    if num % 4 == 0:\n",
    "        sys.exit()\n",
    "print(\"Loop Ends\")"
   ]
  },
  {
   "cell_type": "code",
   "execution_count": 12,
   "metadata": {},
   "outputs": [
    {
     "name": "stdout",
     "output_type": "stream",
     "text": [
      "===1===\n",
      "*****\n",
      "*****\n",
      "*****\n",
      "*****\n",
      "*****\n",
      "===2===\n",
      "1\n",
      "22\n",
      "333\n",
      "4444\n",
      "55555\n",
      "===3===\n",
      "i1\n",
      "i1i1\n",
      "i1i1i1\n",
      "i1i1i1i1\n",
      "i1i1i1i1i1\n",
      "===4===\n",
      "**\n",
      "***\n",
      "****\n",
      "*****\n",
      "******\n"
     ]
    }
   ],
   "source": [
    "# 12. Find the output of the following code snippets\n",
    "print(\"===1===\")\n",
    "for i1 in range(1, 6):\n",
    "    for i2 in range(5):\n",
    "        print(\"*\", end='')\n",
    "    print()\n",
    "\n",
    "print(\"===2===\")\n",
    "for i1 in range(1, 6):\n",
    "    print(str(i1)*i1)\n",
    "\n",
    "print(\"===3===\")\n",
    "for i1 in range(1, 6):\n",
    "    for i2 in range(i1):\n",
    "        print(\"i1\", end='')\n",
    "    print()\n",
    "\n",
    "print(\"===4===\")\n",
    "for i1 in range(1, 6):\n",
    "    for i2 in range(i1 + 1):\n",
    "        print(\"*\", end='')\n",
    "    print()"
   ]
  },
  {
   "cell_type": "code",
   "execution_count": 13,
   "metadata": {},
   "outputs": [
    {
     "name": "stdout",
     "output_type": "stream",
     "text": [
      "original list [20, 20, 28, 36, 29, 12, 11, 47, 18, 11]\n",
      "sum of elements is 232 \n",
      "average of elements is 23.2 \n",
      "Option 1 results\n",
      "List after removing 5 large elements  [20, 12, 11, 18, 11]\n",
      "List of 5 elements removed from original list  [47, 36, 29, 28, 20]\n",
      " \n",
      " \n",
      "Option 2 results\n",
      "original list [11, 11, 12, 18, 20, 20, 28, 29, 36, 47]\n",
      "List after removing 5 large elements  [11, 11, 12, 18, 20]\n"
     ]
    }
   ],
   "source": [
    "# 13. generate a list of 10 random numbers(between 10-50) and print the list and sum of all elements. Now take the list\n",
    "# and remove the five largest elements from the list and print the list and its sum again.\n",
    "\n",
    "temp=[]\n",
    "sum=0\n",
    "avg=0\n",
    "\n",
    "numbers = [random.randint(10,50) for iter in range(10)]\n",
    "print(\"original list {}\". format(numbers))\n",
    "\n",
    "for i in range(len(numbers)):\n",
    "    sum = sum + numbers[i]\n",
    "avg = sum / len(numbers)\n",
    "\n",
    "print(\"sum of elements is {} \".format(sum))\n",
    "print(\"average of elements is {} \".format(avg))\n",
    "temp = numbers.copy()\n",
    "\n",
    "# remove 5 largest elements from the list ==> Option # 1\n",
    "max1 = 0 \n",
    "removed_list = []\n",
    "for i in range(5):\n",
    "    max1 = 0\n",
    "    for j in range(len(numbers)):\n",
    "        if numbers[j] > max1:\n",
    "            max1 = numbers[j]\n",
    "    numbers.remove(max1);\n",
    "    removed_list.append(max1)\n",
    "\n",
    "print(\"Option 1 results\")\n",
    "print(\"List after removing 5 large elements \", numbers )\n",
    "print(\"List of 5 elements removed from original list \", removed_list) \n",
    "print(\" \")\n",
    "print(\" \")\n",
    "\n",
    "# remove 5 largest elements from the list ==> Option # 1\n",
    "\n",
    "numbers = []\n",
    "numbers = temp.copy() # copy from backup \n",
    "numbers.sort() # this will sort elements in list in ascending order \n",
    "print(\"Option 2 results\")\n",
    "print(\"original list {}\". format(numbers))\n",
    "print(\"List after removing 5 large elements \", numbers[:-5])"
   ]
  }
 ],
 "metadata": {
  "kernelspec": {
   "display_name": "Python 3",
   "language": "python",
   "name": "python3"
  },
  "language_info": {
   "codemirror_mode": {
    "name": "ipython",
    "version": 3
   },
   "file_extension": ".py",
   "mimetype": "text/x-python",
   "name": "python",
   "nbconvert_exporter": "python",
   "pygments_lexer": "ipython3",
   "version": "3.6.5"
  }
 },
 "nbformat": 4,
 "nbformat_minor": 2
}
