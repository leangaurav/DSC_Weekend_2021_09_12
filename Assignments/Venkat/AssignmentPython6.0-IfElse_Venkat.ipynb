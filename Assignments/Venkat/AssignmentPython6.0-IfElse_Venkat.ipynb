{
 "cells": [
  {
   "cell_type": "code",
   "execution_count": 1,
   "metadata": {},
   "outputs": [
    {
     "name": "stdout",
     "output_type": "stream",
     "text": [
      "enter number1 - 4\n",
      "enter number2 - 5\n",
      "Not Divisible\n"
     ]
    }
   ],
   "source": [
    "# WAP to input 2 numbers and check whether the first is divisible by the second and print true or false depending on the \n",
    "# divisibily \n",
    "\n",
    "n1 = int(input(\"enter number1 - \"))\n",
    "n2 = int(input(\"enter number2 - \"))\n",
    "\n",
    "print(\"Divisible\" if n1%n2 == 0 else \"Not Divisible\")"
   ]
  },
  {
   "cell_type": "code",
   "execution_count": 2,
   "metadata": {},
   "outputs": [
    {
     "name": "stdout",
     "output_type": "stream",
     "text": [
      "Enter the string to check whether it is palindrome or notNaman\n",
      "String is palindrome\n"
     ]
    }
   ],
   "source": [
    "# in the palidrome example , make the code case sensitive \n",
    "\n",
    "s = input(\"Enter the string to check whether it is palindrome or not\")\n",
    "\n",
    "s = s.lower()\n",
    "s1 = s[::-1] # reverse the string\n",
    "\n",
    "if  s == s1:\n",
    "    print (\"String is palindrome\")\n",
    "else:\n",
    "    print (\"String is not palindrome\")\n"
   ]
  },
  {
   "cell_type": "code",
   "execution_count": 3,
   "metadata": {},
   "outputs": [
    {
     "name": "stdout",
     "output_type": "stream",
     "text": [
      "Enter 1st side length of traingle3\n",
      "Enter 2nd side length of traingle4\n",
      "Enter 3rd side length of traingle4\n",
      "Traingle is isosceles\n",
      "\n"
     ]
    }
   ],
   "source": [
    "# WAP to input the sides of a traingle and print whether equilateral(all sides equal ), isosceles(2 sides are equal)\n",
    "# , or scalene (no sides equal)\n",
    "\n",
    "a = int(input(\"Enter 1st side length of traingle\"))\n",
    "b = int(input(\"Enter 2nd side length of traingle\"))\n",
    "c = int(input(\"Enter 3rd side length of traingle\"))\n",
    "\n",
    "if  a == b == c:\n",
    "    print (\"Traingle is equilateral\")\n",
    "else:\n",
    "    if ((a == b) or (b == c) or (a == c)):\n",
    "        print (\"Traingle is isosceles\")\n",
    "    else:\n",
    "        print (\"Traingle is scalene\")\n",
    "print ( )\n",
    "        "
   ]
  },
  {
   "cell_type": "code",
   "execution_count": 4,
   "metadata": {},
   "outputs": [
    {
     "name": "stdout",
     "output_type": "stream",
     "text": [
      "enter the number 3\n",
      "Odd\n"
     ]
    }
   ],
   "source": [
    "# WAP to input a number and print if its even or odd\n",
    "\n",
    "n = int(input(\"enter the number \"))\n",
    "\n",
    "print(\"Even\" if n%2 == 0 else \"Odd\")"
   ]
  },
  {
   "cell_type": "code",
   "execution_count": 5,
   "metadata": {},
   "outputs": [
    {
     "name": "stdout",
     "output_type": "stream",
     "text": [
      "enter the age of person  14\n",
      "Teen\n"
     ]
    }
   ],
   "source": [
    "# WAP to input age and print respective text depending on the age ranges as presented in table\n",
    "n = int(input(\"enter the age of person  \"))\n",
    "\n",
    "if n in range(0,12+1):\n",
    "    print(\"Child\")\n",
    "elif n in range(13,17+1):\n",
    "    print(\"Teen\")\n",
    "elif n in range(18,50+1):\n",
    "    print(\"Adult\")\n",
    "elif n in range(51, 100+1):\n",
    "    print(\"Senoir Citizen\")\n",
    "else:\n",
    "    print(\"Contratulations\")\n"
   ]
  },
  {
   "cell_type": "code",
   "execution_count": 6,
   "metadata": {},
   "outputs": [
    {
     "name": "stdout",
     "output_type": "stream",
     "text": [
      "please enter year value   3000\n",
      "Not leap year\n"
     ]
    }
   ],
   "source": [
    "# 6. WAP to input year(check if user enters valid year. Should be 4-digit number and should not be negative) and print \n",
    "# whether leap year or not. \n",
    "\n",
    "year = int(input(\"please enter year value   \"))\n",
    "\n",
    "if len(str(year)) !=4:\n",
    "    print(\"enter the valid year value\")\n",
    "    \n",
    "print(\"Leap year\" if (((year % 4 == 0) and (year % 100 != 0)) or (year % 400 == 0)) else \"Not leap year\")"
   ]
  },
  {
   "cell_type": "code",
   "execution_count": 7,
   "metadata": {},
   "outputs": [
    {
     "name": "stdout",
     "output_type": "stream",
     "text": [
      "enter the string   STring\n",
      "Lower case string  string\n"
     ]
    }
   ],
   "source": [
    "# 7. WAP to input a string and convert it to upper case if number of charecters is odd and convert to lower case other wise\n",
    "\n",
    "s = input(\"enter the string   \")\n",
    "\n",
    "if  len(s)%2 == 0:\n",
    "    print(\"Lower case string \", s.lower())\n",
    "else:\n",
    "    print(\"Upper case string \", s.upper())"
   ]
  },
  {
   "cell_type": "code",
   "execution_count": 8,
   "metadata": {},
   "outputs": [
    {
     "name": "stdout",
     "output_type": "stream",
     "text": [
      "enter the string   eggdf\n",
      "Non-Veg\n"
     ]
    }
   ],
   "source": [
    "# 8. WAP to input a string and print Veg if the string doesn't contain the word egg. otherwise print Non-Veg.\n",
    "\n",
    "s = input(\"enter the string   \")\n",
    "\n",
    "s = s.lower()\n",
    "\n",
    "if  'egg' in s:\n",
    "    print(\"Non-Veg\")\n",
    "else:\n",
    "    print(\"Veg\")"
   ]
  },
  {
   "cell_type": "code",
   "execution_count": 9,
   "metadata": {},
   "outputs": [
    {
     "name": "stdout",
     "output_type": "stream",
     "text": [
      "==1==\n",
      "True\n",
      "==2==\n",
      "True\n",
      "==3==\n",
      "Weired\n",
      "==4==\n",
      "[4, 3, 2, 1]\n"
     ]
    }
   ],
   "source": [
    "# 9. Give output of \n",
    "print(\"==1==\")\n",
    "if not 1:\n",
    "    print (\"False\")\n",
    "else:\n",
    "    print(\"True\")\n",
    "\n",
    "print(\"==2==\")\n",
    "if 1:\n",
    "    print (\"True\")\n",
    "else:\n",
    "    print (\"False\")\n",
    "\n",
    "print(\"==3==\")\n",
    "if \"a\" > \"A\":\n",
    "    print(\"Weired\")\n",
    "else:\n",
    "    print(\"Makes sense\")\n",
    "\n",
    "print(\"==4==\")\n",
    "a = [1,2,3,4]\n",
    "if 1 > 1:\n",
    "    a = a[::-1]\n",
    "else:\n",
    "    a = a[-1::-1]\n",
    "print(a)"
   ]
  },
  {
   "cell_type": "code",
   "execution_count": 10,
   "metadata": {},
   "outputs": [
    {
     "name": "stdout",
     "output_type": "stream",
     "text": [
      "Enter Subject1 marks  100\n",
      "Enter Subject2 marks  100\n",
      "Enter Subject3 marks  40\n",
      "Enter Subject4 marks  50\n",
      "Enter Subject5 marks  60\n",
      "Grade-C\n"
     ]
    }
   ],
   "source": [
    "# 10. WAP to input marks in 5 subjects and print the grade as per following logic:\n",
    "\n",
    "S1 = int(input(\"Enter Subject1 marks  \"))\n",
    "S2 = int(input(\"Enter Subject2 marks  \"))\n",
    "S3 = int(input(\"Enter Subject3 marks  \"))\n",
    "S4 = int(input(\"Enter Subject4 marks  \"))\n",
    "S5 = int(input(\"Enter Subject5 marks  \"))\n",
    "\n",
    "total_marks = S1+S2+S3+S4+S5\n",
    "perc = ((total_marks/500)*100)\n",
    "\n",
    "perc = int(perc)\n",
    "\n",
    "if perc in range(90, 100+1):\n",
    "    print(\"Grade-A\")\n",
    "elif perc in range(80, 89+1):\n",
    "    print(\"Grade-B\")\n",
    "elif perc in range(60,79+1):\n",
    "    print(\"Grade-C\")\n",
    "else:\n",
    "    print(\"Grade-F\")"
   ]
  },
  {
   "cell_type": "code",
   "execution_count": 11,
   "metadata": {},
   "outputs": [
    {
     "name": "stdout",
     "output_type": "stream",
     "text": [
      "enter your age 60\n",
      "enter your salary4550550\n",
      "Tax for 4550550 salary with person 60 age is ===>  546066.0\n"
     ]
    }
   ],
   "source": [
    "# 11. WAP to input age and salary and calculate Tax as per tax rates in following tables \n",
    "\n",
    "#Salary Range \tAge < 60 \tAge >=60\n",
    "#0-2,50,000\t0%\t0%\n",
    "#2,50,001-5,00,000\t5%\t3%\n",
    "#5,00,001 - 10,00,000\t10%\t8%\n",
    "#Salary > 10,00,001\t15%\t12%\n",
    "\n",
    "def get_tax(age_g, salary):\n",
    "    if  age_g == 1:\n",
    "        if  salary in range (0, 250000+1):\n",
    "            tax_amount = 0 \n",
    "        elif salary in range (250000, 500000+1):\n",
    "            tax_amount = ((salary/100)*5)\n",
    "        elif salary in range (500000, 1000000+1):\n",
    "            tax_amount = ((salary/100)*10)\n",
    "        else:\n",
    "            tax_amount = ((salary/100)*15)\n",
    "    else:\n",
    "        if  salary in range (0, 250000+1):\n",
    "            tax_amount = 0 \n",
    "        elif salary in range (250000, 500000+1):\n",
    "            tax_amount = ((salary/100)*3)\n",
    "        elif salary in range (500000, 1000000+1):\n",
    "            tax_amount = ((salary/100)*8)\n",
    "        else:\n",
    "            tax_amount = ((salary/100)*12)\n",
    "    return tax_amount\n",
    "        \n",
    "            \n",
    "        \n",
    "age = int(input(\"enter your age \"))\n",
    "salary = float(input(\"enter your salary\"))\n",
    "age_g = 1\n",
    "\n",
    "salary = int(salary)\n",
    "\n",
    "if  age in range (0, 60):\n",
    "    age_g = 1       \n",
    "else:\n",
    "    age_g = 2\n",
    "\n",
    "amount = get_tax(age_g, salary)\n",
    "print(\"Tax for {0} salary with person {1} age is ===> \".format(salary, age), amount )    "
   ]
  },
  {
   "cell_type": "code",
   "execution_count": 12,
   "metadata": {},
   "outputs": [
    {
     "name": "stdout",
     "output_type": "stream",
     "text": [
      "10\n",
      "10\n",
      "10\n",
      "OMG\n"
     ]
    }
   ],
   "source": [
    "# 12. try each of print stamtements \n",
    "print( 20 if not 1 == 1 else 10 )\n",
    "print( 30 if not 1 == 1 else 20 if 'a' < 'A' else 10)\n",
    "print( 40 if not 1 == 1 else 30 if 'a' < 'A' else 20 if '' else 10)\n",
    "print( 'No' if not 1 == 1 else ('No' if 'a' < 'A' else ('OMG' if 'Oh!!' else no )))"
   ]
  },
  {
   "cell_type": "code",
   "execution_count": 13,
   "metadata": {},
   "outputs": [
    {
     "name": "stdout",
     "output_type": "stream",
     "text": [
      "Enter your height in cm: 159\n",
      "Enter your weight in kg: 200\n",
      "You are severely obese.\n"
     ]
    }
   ],
   "source": [
    "# 13. WAF:bmi() that takes the weight in kg and height in cm of a person. Calculates and returns the BMI \n",
    "\n",
    "def bmi(height, weight):\n",
    "    value = weight / (height/100)**2\n",
    "    return value\n",
    "\n",
    "\n",
    "height = float(input(\"Enter your height in cm: \"))\n",
    "weight = float(input(\"Enter your weight in kg: \"))\n",
    "\n",
    "\n",
    "BMI = bmi(height, weight)\n",
    "\n",
    "if BMI <= 18.4:\n",
    "    print(\"You are underweight.\")\n",
    "elif BMI <= 24.9:\n",
    "    print(\"You are healthy.\")\n",
    "elif BMI <= 29.9:\n",
    "    print(\"You are over weight.\")\n",
    "elif BMI <= 34.9:\n",
    "    print(\"You are severely over weight.\")\n",
    "elif BMI <= 39.9:\n",
    "    print(\"You are obese.\")\n",
    "else:\n",
    "    print(\"You are severely obese.\")"
   ]
  },
  {
   "cell_type": "code",
   "execution_count": 14,
   "metadata": {},
   "outputs": [
    {
     "name": "stdout",
     "output_type": "stream",
     "text": [
      "Enter the age of 1st person40\n",
      "Enter the age of 2nd person20\n",
      "Enter the age of 3rd person10\n",
      "Oldest and youngest persons are person1, person3\n"
     ]
    }
   ],
   "source": [
    "# 14. Take input of age of 3 people by user and determine oldest and youngest among them \n",
    "\n",
    "person1 = int(input(\"Enter the age of 1st person\"))\n",
    "person2 = int(input(\"Enter the age of 2nd person\"))\n",
    "person3 = int(input(\"Enter the age of 3rd person\"))\n",
    "\n",
    "Y = ' '\n",
    "O = ' '\n",
    "\n",
    "# check oldest\n",
    "if person1 >= person2 and person1 >= person3:\n",
    "    O = 'person1'\n",
    "elif person2 >= person1 and person2 >= person3:\n",
    "    O = 'person2'\n",
    "elif person3 >= person1 and person3 >= person2:\n",
    "    O = 'person3'\n",
    "\n",
    "# check youngest\n",
    "if person1 <= person2 and person1 <= person3:\n",
    "    Y = 'person1'\n",
    "elif person2 <= person1 and person2 <= person3:\n",
    "    Y = 'person2'\n",
    "elif person3 <= person1 and person3 <= person2:\n",
    "    Y = 'person3'\n",
    "\n",
    "print(\"Oldest and youngest persons are {0}, {1}\".format(O,Y)) "
   ]
  },
  {
   "cell_type": "code",
   "execution_count": 15,
   "metadata": {},
   "outputs": [
    {
     "name": "stdout",
     "output_type": "stream",
     "text": [
      "enter a number33\n",
      "Not divisible by 5 and 7 \n"
     ]
    }
   ],
   "source": [
    "# 15. WAP to input a number and check if number is divisible by both 5 and 7 \n",
    "\n",
    "n = int(input(\"enter a number\"))\n",
    "\n",
    "print(\"Divisible by both 5 and 7 \" if ((n % 5 == 0) and (n % 7 == 0)) else 'Not divisible by 5 and 7 ')"
   ]
  }
 ],
 "metadata": {
  "kernelspec": {
   "display_name": "Python 3",
   "language": "python",
   "name": "python3"
  },
  "language_info": {
   "codemirror_mode": {
    "name": "ipython",
    "version": 3
   },
   "file_extension": ".py",
   "mimetype": "text/x-python",
   "name": "python",
   "nbconvert_exporter": "python",
   "pygments_lexer": "ipython3",
   "version": "3.6.5"
  }
 },
 "nbformat": 4,
 "nbformat_minor": 2
}
