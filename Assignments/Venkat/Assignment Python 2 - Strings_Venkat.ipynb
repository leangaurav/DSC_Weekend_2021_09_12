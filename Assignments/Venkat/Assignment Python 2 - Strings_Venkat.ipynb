{
 "cells": [
  {
   "cell_type": "code",
   "execution_count": 1,
   "metadata": {},
   "outputs": [],
   "source": [
    "#1. Guess output of each slice: \n",
    "s=‘Python is Object Oriented’ \n",
    "\n",
    "#Answer \n",
    "s[-1] ==> 'd' ==> Prints last letter\n",
    "s[::-1] ==> 'detneirO tcejbO si nohtyP' ==> Reverse the string \n",
    "s[:-1] ==> 'Python is Object Oriente' ==> Print string except last letter\n",
    "s[1:1] ==> 'Null' ==> Starts with 1st index and ends in 0 index hence , Null output \n",
    "s[4:10] ==> 'on is ' ==> print and tranverse from 4th index and stops at 9th index"
   ]
  },
  {
   "cell_type": "code",
   "execution_count": 2,
   "metadata": {},
   "outputs": [],
   "source": [
    "# 2. What error do you see for following statements:\n",
    "#  s= ‘’\n",
    "#  print(s[1]) \n",
    "'string index out of range'"
   ]
  },
  {
   "cell_type": "code",
   "execution_count": 3,
   "metadata": {},
   "outputs": [],
   "source": [
    "# 3. Do you get any error for the following code, if not give the output:\n",
    "#  S=‘Gaurav’\n",
    "#  print(s[1]) \n",
    "\n",
    "ERROR: s is not defined."
   ]
  },
  {
   "cell_type": "code",
   "execution_count": 4,
   "metadata": {},
   "outputs": [
    {
     "name": "stdout",
     "output_type": "stream",
     "text": [
      "av\n"
     ]
    }
   ],
   "source": [
    "S=\"Gaurav\"\n",
    "S=S[::-2][::-2]\n",
    "print(S)"
   ]
  },
  {
   "cell_type": "code",
   "execution_count": 5,
   "metadata": {},
   "outputs": [],
   "source": [
    "# 4. Find output of the following:\n",
    "\n",
    "# a) s='a b cd'\n",
    "print(len(s)) ==> 6\n",
    "print(s[::2]) ==> abc\n",
    "print(len(s[::2] ==> 3\n",
    "\n",
    "\n",
    "# b) s=‘a#b#c#d#’\n",
    "          \n",
    "print(s.split()) ==> ['a#b#c#d#']\n",
    "print(s.split(‘#’)) ==> ['a','b','c','d','']\n",
    "              \n",
    "#l=s.split(‘#’)\n",
    "#s=‘$’.join(l)\n",
    "              \n",
    "print(s)  ==>  replace # by $  \n",
    "\n",
    "\n",
    "# c) S=‘Gaurav’\n",
    "# S=S[::-2][::-2]\n",
    "print(S) ==> av\n",
    "              \n",
    "\n",
    "d) print(1>2)  ==>False "
   ]
  },
  {
   "cell_type": "code",
   "execution_count": 6,
   "metadata": {},
   "outputs": [
    {
     "name": "stdout",
     "output_type": "stream",
     "text": [
      "0, 1, 2\n"
     ]
    }
   ],
   "source": [
    "#e) \n",
    "print(4%2, 5%2, 2%5, sep=', ')"
   ]
  },
  {
   "cell_type": "code",
   "execution_count": 7,
   "metadata": {},
   "outputs": [
    {
     "name": "stdout",
     "output_type": "stream",
     "text": [
      "abcba\n",
      "0 ,0 ,0 ,"
     ]
    }
   ],
   "source": [
    "#f) \n",
    "s ='abcba'\n",
    "s.upper()\n",
    "print(s)\n",
    "print(s.count('A'), end = ' ,')\n",
    "print(s.count('A', 2,4) , end = ' ,')\n",
    "print(s.count('a', 2,4) , end = ' ,')"
   ]
  },
  {
   "cell_type": "code",
   "execution_count": 8,
   "metadata": {},
   "outputs": [
    {
     "name": "stdout",
     "output_type": "stream",
     "text": [
      "Enter the String with spaces Venkat Venkat Venkat\n",
      "VenkatVenkatVenkat\n"
     ]
    }
   ],
   "source": [
    "#5   : WAP to input a string and remove all spaces from it\n",
    "\n",
    "string=input(\"Enter the String with spaces \")\n",
    "string=string.replace(\" \",\"\")\n",
    "print(string)"
   ]
  },
  {
   "cell_type": "code",
   "execution_count": 9,
   "metadata": {},
   "outputs": [],
   "source": [
    "# 6\n",
    "\n",
    "[] is used to denote list"
   ]
  },
  {
   "cell_type": "code",
   "execution_count": 10,
   "metadata": {},
   "outputs": [
    {
     "name": "stdout",
     "output_type": "stream",
     "text": [
      "['__add__', '__class__', '__contains__', '__delattr__', '__dir__', '__doc__', '__eq__', '__format__', '__ge__', '__getattribute__', '__getitem__', '__getnewargs__', '__gt__', '__hash__', '__init__', '__init_subclass__', '__iter__', '__le__', '__len__', '__lt__', '__mod__', '__mul__', '__ne__', '__new__', '__reduce__', '__reduce_ex__', '__repr__', '__rmod__', '__rmul__', '__setattr__', '__sizeof__', '__str__', '__subclasshook__', 'capitalize', 'casefold', 'center', 'count', 'encode', 'endswith', 'expandtabs', 'find', 'format', 'format_map', 'index', 'isalnum', 'isalpha', 'isdecimal', 'isdigit', 'isidentifier', 'islower', 'isnumeric', 'isprintable', 'isspace', 'istitle', 'isupper', 'join', 'ljust', 'lower', 'lstrip', 'maketrans', 'partition', 'replace', 'rfind', 'rindex', 'rjust', 'rpartition', 'rsplit', 'rstrip', 'split', 'splitlines', 'startswith', 'strip', 'swapcase', 'title', 'translate', 'upper', 'zfill']\n"
     ]
    }
   ],
   "source": [
    "# 7 WAP to print all methods(functions/operations) available in a string (Hint : dir()) \n",
    "\n",
    "print(dir(str))"
   ]
  },
  {
   "cell_type": "code",
   "execution_count": 11,
   "metadata": {},
   "outputs": [
    {
     "name": "stdout",
     "output_type": "stream",
     "text": [
      "'rstrip' is in str class\n"
     ]
    }
   ],
   "source": [
    "#Q 8Write statement to check if rstrip method is available in the str class. \n",
    "\n",
    "\n",
    "print(\"'rstrip' is in str class\" if 'rstrip' in dir(str) else \"'rstrip' is not in str class\")"
   ]
  },
  {
   "cell_type": "code",
   "execution_count": 12,
   "metadata": {},
   "outputs": [
    {
     "name": "stdout",
     "output_type": "stream",
     "text": [
      "*****\n",
      "  *\n",
      "  *\n",
      "  *\n",
      "  *\n"
     ]
    }
   ],
   "source": [
    "#9 WAP to store the following patterns in a string variable and then print them: \n",
    "P1 = \"*****\\n  *\\n  *\\n  *\\n  *\"\n",
    "print(P1)"
   ]
  },
  {
   "cell_type": "code",
   "execution_count": 13,
   "metadata": {},
   "outputs": [
    {
     "name": "stdout",
     "output_type": "stream",
     "text": [
      "*     *\n",
      "* * * *\n",
      "*  *  *\n",
      "*     *\n"
     ]
    }
   ],
   "source": [
    "P2 = \"*     *\\n* * * *\\n*  *  *\\n*     *\"\n",
    "print(P2)"
   ]
  },
  {
   "cell_type": "code",
   "execution_count": 14,
   "metadata": {},
   "outputs": [
    {
     "name": "stdout",
     "output_type": "stream",
     "text": [
      "  ______\n",
      "  |\t|\n",
      "  o\t|\n",
      " /|\\\t|\n",
      " / \\\t|\n",
      "________|\n"
     ]
    }
   ],
   "source": [
    "P3 = \"  ______\\n  |\\t|\\n  o\\t|\\n /|\\\\\\t|\\n / \\\\\\t|\\n________|\"\n",
    "print(P3)"
   ]
  },
  {
   "cell_type": "code",
   "execution_count": 15,
   "metadata": {},
   "outputs": [
    {
     "name": "stdout",
     "output_type": "stream",
     "text": [
      "Enter the String with spaces Venkat Venkat Venkat\n",
      "Venkat\n",
      "Venkat\n",
      "Venkat\n"
     ]
    }
   ],
   "source": [
    "#10 WAP to input a string and replace all space with new lines (\\n) and print again. \n",
    "string=input(\"Enter the String with spaces \")\n",
    "string=string.replace(\" \",\"\\n\")\n",
    "print(string)"
   ]
  },
  {
   "cell_type": "code",
   "execution_count": 16,
   "metadata": {},
   "outputs": [
    {
     "name": "stdout",
     "output_type": "stream",
     "text": [
      "Enter Your Full NameVenkat MB\n",
      "First Name is  Venkat  and have length 6\n",
      "Last Name is  MB  and have length 2\n"
     ]
    }
   ],
   "source": [
    "#11 WAP to input complete name(first and last name separated by space) and print first and last \n",
    "# name separately along with their length in upper case\n",
    "\n",
    "s=input(\"Enter Your Full Name\")\n",
    "# split name by space\n",
    "s1=s.split(\" \")\n",
    "print(\"First Name is \",s1[0], \" and have length\",len(s1[0]))\n",
    "print(\"Last Name is \", s1[1] ,\" and have length\" , len(s1[1]))"
   ]
  },
  {
   "cell_type": "code",
   "execution_count": 17,
   "metadata": {},
   "outputs": [
    {
     "name": "stdout",
     "output_type": "stream",
     "text": [
      "Enter a stringTUTORT\n",
      "First Half is : TUTO\n",
      "Second Half is :  RT\n"
     ]
    }
   ],
   "source": [
    "#12 WAP to input a string and split it into 2 halves. The string can be of any length \n",
    "t=input(\"Enter a string\")\n",
    "l=(len(s))//2\n",
    "print(\"First Half is :\" ,t[:l].upper())\n",
    "print(\"Second Half is : \" , t[l:].upper())"
   ]
  }
 ],
 "metadata": {
  "kernelspec": {
   "display_name": "Python 3",
   "language": "python",
   "name": "python3"
  },
  "language_info": {
   "codemirror_mode": {
    "name": "ipython",
    "version": 3
   },
   "file_extension": ".py",
   "mimetype": "text/x-python",
   "name": "python",
   "nbconvert_exporter": "python",
   "pygments_lexer": "ipython3",
   "version": "3.6.5"
  }
 },
 "nbformat": 4,
 "nbformat_minor": 2
}
