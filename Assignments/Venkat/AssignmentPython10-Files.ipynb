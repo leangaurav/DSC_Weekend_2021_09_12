{
 "cells": [
  {
   "cell_type": "code",
   "execution_count": 24,
   "metadata": {},
   "outputs": [
    {
     "name": "stdout",
     "output_type": "stream",
     "text": [
      "A B C D E F G H I J K L M N O P Q R S T U V W X Y Z "
     ]
    }
   ],
   "source": [
    "#1. WAP that stores alphabets from a to Z in a text file \n",
    "res = []\n",
    "f = open(\"test.txt\",'w')\n",
    "for i in range(65,91): \n",
    "    print(chr(i),end=' ') \n",
    "    f.write(chr(i))\n",
    "    f.write(' ')\n",
    "    \n",
    "f.close()"
   ]
  },
  {
   "cell_type": "code",
   "execution_count": 28,
   "metadata": {},
   "outputs": [
    {
     "name": "stdout",
     "output_type": "stream",
     "text": [
      "0\n",
      "new \n",
      "4\n"
     ]
    }
   ],
   "source": [
    "#3 Predict the following output\n",
    "f = open('file1','w')\n",
    "f.write('new file')\n",
    "f.close()\n",
    "\n",
    "f = open('file1','r')\n",
    "print(f.tell()) # tells where is the cursor , first its 0  \n",
    "print(f.read(4))\n",
    "print(f.tell()) # after read curson position is at 4"
   ]
  },
  {
   "cell_type": "code",
   "execution_count": 29,
   "metadata": {},
   "outputs": [],
   "source": [
    "# 4 write a program to read file and copy it into a new file\n",
    "\n",
    "with open(\"test.txt\") as f:\n",
    "    with open(\"out.txt\", \"w\") as f1:\n",
    "        for line in f: # Loop over each line in source file\n",
    "            f1.write(line)"
   ]
  },
  {
   "cell_type": "code",
   "execution_count": 77,
   "metadata": {},
   "outputs": [
    {
     "name": "stdout",
     "output_type": "stream",
     "text": [
      "A B C D E F G H I J K L M n O P Q R S T U V W X Y Z rekhfskfhsfhsfhsfh\n",
      "a b c d e f g h i j k l m N o p q r s t u v w x y z REKHFSKFHSFHSFHSFH\n"
     ]
    }
   ],
   "source": [
    "# 5 write a program the read file and copy the contents to new file such that the case gets reversed \n",
    "with open(\"test.txt\") as f:\n",
    "    with open(\"out1.txt\", \"w\") as f1:\n",
    "        for line in f: # Loop over each line in source file \n",
    "            res = ' '\n",
    "            res = line.swapcase()\n",
    "            print(line)\n",
    "            f1.write(res)\n",
    "           # for i in range(len(line)):\n",
    "           #     if line[i].isupper():\n",
    "           #         line[i].lower() \n",
    "                    #res = res + line[i].lower()\n",
    "                    # res = (line[i].lower())\n",
    "           #         print(res)\n",
    "           #     else:\n",
    "           #         line[i].upper()\n",
    "           #     res = res + line[i].lower()\n",
    "           # f1.write(line)\n",
    "            print(res)"
   ]
  },
  {
   "cell_type": "code",
   "execution_count": 82,
   "metadata": {},
   "outputs": [
    {
     "name": "stdout",
     "output_type": "stream",
     "text": [
      "Number of spaces  : 44\n"
     ]
    }
   ],
   "source": [
    "# 6 write a program that takes a file name as command line argument, opens it and the counts number of spaces charecters in that file\n",
    "x = 0\n",
    "with open('test.txt', 'r') as f:\n",
    "    for line in f: # Each line of the file \n",
    "        words = line.split() # each word in the line split by space and store in a list \n",
    "        for i in words: # for each word in list \n",
    "            for letter in i: # traverse through each letter in word \n",
    "                if(letter.isspace): # if space is enocoutered ,then increment working storage variable \n",
    "                    x=x+1\n",
    "print(\"Number of spaces  :\", x)"
   ]
  },
  {
   "cell_type": "code",
   "execution_count": 92,
   "metadata": {},
   "outputs": [
    {
     "name": "stdout",
     "output_type": "stream",
     "text": [
      "Number of spaces  : 0\n",
      "number of aphabets :  72\n",
      "Number of digits : 15\n",
      "Number of special charecters : 1\n"
     ]
    }
   ],
   "source": [
    "# 7. modify above program to count the occurrence of each symbol \n",
    "x = 0\n",
    "y = 0 \n",
    "z = 0\n",
    "a = 0\n",
    "with open('test.txt', 'r') as f:\n",
    "    for line in f: # Each line of the file \n",
    "        words = line.split() # each word in the line split by space and store in a list \n",
    "        for i in words: # for each word in list \n",
    "            for letter in i: # traverse through each letter in word \n",
    "                if(letter.isspace()): # if space is enocoutered ,then increment working storage variable \n",
    "                    x=x+1\n",
    "                else:\n",
    "                    if(letter.isalpha()):               \n",
    "                        y=y+1\n",
    "                    else:\n",
    "                        if(letter.isdigit()):\n",
    "                            z=z+1\n",
    "                        else:\n",
    "                            a=a+1\n",
    "print(\"Number of spaces  :\", x)\n",
    "print(\"number of aphabets : \", y)\n",
    "print(\"Number of digits :\", z)\n",
    "print(\"Number of special charecters :\", a)"
   ]
  },
  {
   "cell_type": "code",
   "execution_count": 93,
   "metadata": {},
   "outputs": [],
   "source": [
    "# 8. Write a script called diff.py that takes two file names as arguments and checks if the contents of both the files is same.\n",
    "\n",
    "#import sys\n",
    "#import filecmp\n",
    "\n",
    "#def filecom(file1,file2):\n",
    "#    result = filecmp.cmp(file1, file2)\n",
    "#    print(result)\n",
    "\n",
    "#if __name__ == \"__main__\":\n",
    "#    file1 = sys.argv[1]\n",
    "#    file2 = sys.argv[2]\n",
    "#    filecom(file1, file2)\n",
    "\n",
    "#from terminal pass arguments\n",
    "\n",
    "#python test.py t1.txt t2.txt"
   ]
  },
  {
   "cell_type": "code",
   "execution_count": 95,
   "metadata": {},
   "outputs": [
    {
     "name": "stdout",
     "output_type": "stream",
     "text": [
      "Number of words in file :  6\n"
     ]
    }
   ],
   "source": [
    "# 9. WAP to count the number of words in a file \n",
    "x=0\n",
    "with open(\"test.txt\",'r') as f:\n",
    "    for line in f: # traverse thriugh each line \n",
    "        words = line.split() # split each word in each line by space and save in words list \n",
    "        for i in words: # for each word in line\n",
    "            x=x+1\n",
    "print(\"Number of words in file : \", x)"
   ]
  },
  {
   "cell_type": "code",
   "execution_count": 110,
   "metadata": {},
   "outputs": [
    {
     "name": "stdout",
     "output_type": "stream",
     "text": [
      "Number of words in file :  4\n",
      "Number of Palindrome words :  2\n"
     ]
    }
   ],
   "source": [
    "# 10. Update the above program to count the number of palidrome present in the file.\n",
    "x = 0 \n",
    "y = 0\n",
    "\n",
    "with open(\"test.txt\", 'r') as f:\n",
    "    for line in f: # traverse through each line \n",
    "        words = line.split() # split by space and store in words list \n",
    "        for i in words:\n",
    "            x=x+1\n",
    "            if i == i[::-1]:\n",
    "                y=y+1\n",
    "\n",
    "print(\"Number of words in file : \", x)\n",
    "print(\"Number of Palindrome words : \", y)"
   ]
  },
  {
   "cell_type": "code",
   "execution_count": 132,
   "metadata": {},
   "outputs": [
    {
     "name": "stdout",
     "output_type": "stream",
     "text": [
      "Number of words in file :  3\n",
      "Number of Palindrome words :  1\n",
      "Number of anagrams in string : 2\n"
     ]
    }
   ],
   "source": [
    "# Update the program again to count and print number of anagrams in the file \n",
    "x = 0 \n",
    "y = 0\n",
    "z = 0\n",
    "with open(\"test.txt\", 'r') as f:\n",
    "    for line in f: # traverse through each line \n",
    "        words = line.split() # split by space and store in words list \n",
    "        for i in words:\n",
    "            x=x+1\n",
    "            if i == i[::-1]:\n",
    "                y=y+1\n",
    "            for j in words:\n",
    "                if i == j:\n",
    "                    continue\n",
    "                else:\n",
    "                    w1 = i.lower()\n",
    "                    w2 = j.lower()\n",
    "                    if  sorted(w1) == sorted(w2):\n",
    "                        z=z+1\n",
    "print(\"Number of words in file : \", x)\n",
    "print(\"Number of Palindrome words : \", y)\n",
    "print(\"Number of anagrams in string :\", z)"
   ]
  }
 ],
 "metadata": {
  "kernelspec": {
   "display_name": "Python 3",
   "language": "python",
   "name": "python3"
  },
  "language_info": {
   "codemirror_mode": {
    "name": "ipython",
    "version": 3
   },
   "file_extension": ".py",
   "mimetype": "text/x-python",
   "name": "python",
   "nbconvert_exporter": "python",
   "pygments_lexer": "ipython3",
   "version": "3.6.5"
  }
 },
 "nbformat": 4,
 "nbformat_minor": 2
}
