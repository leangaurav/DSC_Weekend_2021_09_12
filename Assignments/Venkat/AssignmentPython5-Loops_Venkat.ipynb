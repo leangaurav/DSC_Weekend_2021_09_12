{
 "cells": [
  {
   "cell_type": "code",
   "execution_count": 1,
   "metadata": {},
   "outputs": [
    {
     "name": "stdout",
     "output_type": "stream",
     "text": [
      "enter any Number: 5\n",
      "Natural Numbers from 1 to 5 are\n",
      "1  2  3  4  5  "
     ]
    }
   ],
   "source": [
    "# 1. WAP to print first n natural numbers(input n from user)\n",
    "n = int(input(\"enter any Number: \"))\n",
    "\n",
    "print(\"Natural Numbers from 1 to {0} are\".format(n)) \n",
    "\n",
    "for _ in range(1, n + 1):\n",
    "    print (_, end = '  ')"
   ]
  },
  {
   "cell_type": "code",
   "execution_count": 2,
   "metadata": {},
   "outputs": [
    {
     "name": "stdout",
     "output_type": "stream",
     "text": [
      "enter any Number: 5\n",
      "Natural Numbers from 1 to 5 are\n",
      "sum of 5 natural numers are \n",
      "25\n"
     ]
    }
   ],
   "source": [
    "# WAP to print sum of first n natual numbers \n",
    "n = int(input(\"enter any Number: \"))\n",
    "sum = 0\n",
    "print(\"Natural Numbers from 1 to {0} are\".format(n)) \n",
    "\n",
    "for _ in range(1, n + 1):\n",
    "    sum = sum + n   \n",
    "print (\"sum of {0} natural numers are \".format(n))\n",
    "print (sum)"
   ]
  },
  {
   "cell_type": "code",
   "execution_count": 3,
   "metadata": {},
   "outputs": [
    {
     "name": "stdout",
     "output_type": "stream",
     "text": [
      "enter any Number: 5\n",
      "Natural Numbers from 1 to 5 are\n",
      "First N natural numbers in reverse order [5, 4, 3, 2, 1]\n"
     ]
    }
   ],
   "source": [
    "# WAP to print first n natual numbers in reverse order\n",
    "# 1. WAP to print first n natural numbers(input n from user)\n",
    "n = int(input(\"enter any Number: \"))\n",
    "res=[]\n",
    "print(\"Natural Numbers from 1 to {0} are\".format(n)) \n",
    "\n",
    "for i in range(1, n + 1):\n",
    "    res.append(i)\n",
    "print(\"First N natural numbers in reverse order\", res[::-1])"
   ]
  },
  {
   "cell_type": "code",
   "execution_count": 4,
   "metadata": {},
   "outputs": [
    {
     "name": "stdout",
     "output_type": "stream",
     "text": [
      "enter any Number: 5\n",
      "Factorial of 5 is  120\n"
     ]
    }
   ],
   "source": [
    "# WAP to input a number and print its factorial \n",
    "n = int(input(\"enter any Number: \"))\n",
    "fact = 1\n",
    "i=1\n",
    "while i <= n:\n",
    "    fact = i * fact\n",
    "    i +=1\n",
    "print(\"Factorial of {0} is \".format(n), fact)"
   ]
  },
  {
   "cell_type": "code",
   "execution_count": 5,
   "metadata": {},
   "outputs": [
    {
     "name": "stdout",
     "output_type": "stream",
     "text": [
      "Please enter limit for series 5\n",
      "Fibonacci series is :\n",
      "0\n",
      "1\n",
      "1\n",
      "2\n",
      "3\n"
     ]
    }
   ],
   "source": [
    "# WAP to print Fibonacci sequence till n \n",
    "\n",
    "n = int(input(\"Please enter limit for series \"))\n",
    "\n",
    "# first two terms\n",
    "n1, n2 = 0, 1\n",
    "count = 0\n",
    "\n",
    "if n <= 0:\n",
    "   print(\"Please enter a positive integer\")\n",
    "elif n == 1:\n",
    "   print(\"Fibonacci series upto\",n,\"is \",n1)\n",
    "# generate fibonacci series\n",
    "else:\n",
    "   print(\"Fibonacci series is :\")\n",
    "   while count < n:\n",
    "       print(n1)\n",
    "       temp = n1 + n2\n",
    "       n1 = n2\n",
    "       n2 = temp\n",
    "       count += 1"
   ]
  },
  {
   "cell_type": "code",
   "execution_count": 6,
   "metadata": {},
   "outputs": [
    {
     "name": "stdout",
     "output_type": "stream",
     "text": [
      "Please enter any positive number 455\n",
      "['4', '5', '5']\n"
     ]
    }
   ],
   "source": [
    "# WAP to print all digits of a number input from user\n",
    "\n",
    "n = int(input(\"Please enter any positive number \"))\n",
    "res=[]\n",
    "for i in str(n):\n",
    "    res.append(i)\n",
    "print(res)"
   ]
  },
  {
   "cell_type": "code",
   "execution_count": 10,
   "metadata": {},
   "outputs": [
    {
     "name": "stdout",
     "output_type": "stream",
     "text": [
      "Please enter any positive number 546\n",
      "15\n"
     ]
    }
   ],
   "source": [
    "# WAP to find sum of all digits of a number\n",
    "n = int(input(\"Please enter any positive number \"))\n",
    "sum=0\n",
    "for i in str(n):\n",
    "    sum += int(i)\n",
    "print(sum)"
   ]
  },
  {
   "cell_type": "code",
   "execution_count": 11,
   "metadata": {},
   "outputs": [
    {
     "name": "stdout",
     "output_type": "stream",
     "text": [
      "enter any Number: 5\n",
      "Factorial of 5 is  120\n",
      "Factorial sum  of 5 is  154\n"
     ]
    }
   ],
   "source": [
    "# 8.WAP to find sum of following series given n as input from user \n",
    "\n",
    "n = int(input(\"enter any Number: \"))\n",
    "fact = 1\n",
    "i=1\n",
    "fact_sum = 1\n",
    "while i <= n:\n",
    "    fact = i * fact\n",
    "    fact_sum = fact + fact_sum\n",
    "    i +=1\n",
    "print(\"Factorial of {0} is \".format(n), fact)\n",
    "print(\"Factorial sum  of {0} is \".format(n), fact_sum)"
   ]
  },
  {
   "cell_type": "code",
   "execution_count": 12,
   "metadata": {},
   "outputs": [
    {
     "name": "stdout",
     "output_type": "stream",
     "text": [
      "enter base value4\n",
      "enter exponent value5\n",
      "Result is   1024\n"
     ]
    }
   ],
   "source": [
    "# 9. WAP to input base and exponent and print result without using inbuilt function pow(use for or while loop)\n",
    "\n",
    "b = int(input(\"enter base value\"))\n",
    "e = int(input(\"enter exponent value\"))\n",
    "\n",
    "result = 1\n",
    "\n",
    "while e != 0:\n",
    "    result *= b\n",
    "    e-=1\n",
    "\n",
    "print(\"Result is  \" ,result)"
   ]
  },
  {
   "cell_type": "code",
   "execution_count": 66,
   "metadata": {},
   "outputs": [
    {
     "name": "stdout",
     "output_type": "stream",
     "text": [
      "Enter the number of rows: 5\n",
      "* \n",
      "* * \n",
      "* * * \n",
      "* * * * \n",
      "* * * * * \n",
      " \n",
      "Enter the number of rows: 5\n",
      "* * * * * \n",
      "* * * * \n",
      "* * * \n",
      "* * \n",
      "* \n",
      " \n",
      "Enter the number of rows: 5\n",
      "        * \n",
      "      * * \n",
      "    * * * \n",
      "  * * * * \n",
      "* * * * * \n",
      " \n",
      "Enter the number of rows: 5\n",
      "    * \n",
      "   * * \n",
      "  * * * \n",
      " * * * * \n",
      "* * * * * \n"
     ]
    }
   ],
   "source": [
    "# 10. print the following patterns\n",
    "# a. \n",
    "n = int(input(\"Enter the number of rows: \"))  \n",
    "for i in range(n): # Number of rows \n",
    "    for j in range(i+1): #Number of columns\n",
    "        print(\"* \", end=\"\")\n",
    "    print()\n",
    "print(\" \")   \n",
    "\n",
    "# b. \n",
    "n = int(input(\"Enter the number of rows: \"))\n",
    "for i in range(n): # Number of rows \n",
    "    for j in range(i, n): # Number of columns \n",
    "        print(\"* \", end=\"\")\n",
    "    print() # to move cursor to next line \n",
    "print(\" \")\n",
    "\n",
    "# c. \n",
    "n = int(input(\"Enter the number of rows: \"))\n",
    "for i in range(n): # Number of rows\n",
    "    for j in range(i,n-1): # For each row print space for n-1 times \n",
    "        print(\" \", end = \" \")\n",
    "    for j in range(0,i+1): # For each row print * for I+1 times\n",
    "        print(\"*\", end=\" \")\n",
    "    print(\"\")\n",
    "print(\" \")\n",
    "\n",
    "#d. \n",
    "n = int(input(\"Enter the number of rows: \"))\n",
    "for i in range(0,n): # for each row i varies from 0 to n. \n",
    "    for j in range(0,n-i-1): # this loop is to print spaces before * print \n",
    "        print(end = \" \")\n",
    "    for j in range(0,i+1): # this loop is to print * \n",
    "        print(\"*\", end=\" \")  \n",
    "    print()"
   ]
  },
  {
   "cell_type": "code",
   "execution_count": 24,
   "metadata": {},
   "outputs": [
    {
     "name": "stdout",
     "output_type": "stream",
     "text": [
      "Enter the number of rows: 5\n",
      "1 \n",
      "2 2 \n",
      "3 3 3 \n",
      "4 4 4 4 \n",
      "5 5 5 5 5 \n",
      " \n",
      "Enter the number of rows: 5\n",
      "1 \n",
      "1 2 \n",
      "1 2 3 \n",
      "1 2 3 4 \n",
      "1 2 3 4 5 \n",
      " \n",
      "Enter the number of rows: 5\n",
      "5 \n",
      "4 4 \n",
      "3 3 3 \n",
      "2 2 2 2 \n",
      "1 1 1 1 1 \n",
      " \n",
      "Enter the number of rows: 5\n",
      "        1 \n",
      "      2 2 \n",
      "    3 3 3 \n",
      "  4 4 4 4 \n",
      "5 5 5 5 5 \n",
      " \n"
     ]
    }
   ],
   "source": [
    "# WAP to print following pattern in numbers\n",
    "# a. \n",
    "n = int(input(\"Enter the number of rows: \"))  \n",
    "for i in range(n): # Number of rows \n",
    "    for j in range(0,i+1): #Number of columns\n",
    "        print(i+1, end=\" \")\n",
    "    print()\n",
    "print(\" \")   \n",
    "\n",
    "\n",
    "# b.\n",
    "n = int(input(\"Enter the number of rows: \"))  \n",
    "for i in range(n): # Number of rows \n",
    "    for j in range(0,i+1): #Number of columns\n",
    "        print(j+1, end=\" \")\n",
    "    print()\n",
    "print(\" \")\n",
    "\n",
    "# c.\n",
    "n = int(input(\"Enter the number of rows: \"))  \n",
    "for i in range(n): # Number of rows \n",
    "    for j in range(i+1): #Number of columns\n",
    "        print(n-i, end=\" \")\n",
    "    print()\n",
    "print(\" \")   \n",
    "\n",
    "# d.\n",
    "n = int(input(\"Enter the number of rows: \"))  \n",
    "for i in range(n): # Number of rows \n",
    "    for j in range(0, n-i-1):\n",
    "        print(\" \",end=\" \")\n",
    "    for j in range(i,-1,-1): #Number of columns\n",
    "        print(i+1, end=\" \")\n",
    "    print()\n",
    "print(\" \") "
   ]
  },
  {
   "cell_type": "code",
   "execution_count": 44,
   "metadata": {
    "scrolled": true
   },
   "outputs": [
    {
     "name": "stdout",
     "output_type": "stream",
     "text": [
      "A \n",
      "A B \n",
      "A B C \n",
      "A B C D \n",
      "A B C D E \n",
      " \n",
      "A \n",
      "B C \n",
      "D E F \n",
      "G H I J \n",
      "K L M N O \n",
      " \n",
      "A \n",
      "B B \n",
      "C C C \n",
      "D D D D \n",
      "E E E E E \n",
      " \n",
      "        A \n",
      "      A B A \n",
      "    A B C A B \n",
      "  A B C D A B C \n",
      "A B C D E A B C D \n"
     ]
    }
   ],
   "source": [
    "# print the following charecter pattern \n",
    "# a. \n",
    "start = 65 # for A\n",
    "end = 70 # for E\n",
    "\n",
    "for i in range(start, end): \n",
    "    for j in range(start, i + 1):\n",
    "        print(f\"{chr(j)}\", end=\" \")\n",
    "    print()\n",
    "print(\" \")\n",
    "\n",
    "#b.\n",
    "start = 65 # for A\n",
    "end = 70 # for E\n",
    "k = start \n",
    "for i in range(start, end): \n",
    "    for j in range(start,i+1):\n",
    "        print(f\"{chr(k)}\", end=\" \")\n",
    "        k +=1\n",
    "    print()\n",
    "print(\" \")\n",
    "\n",
    "# c.\n",
    "start = 65 # for A\n",
    "end = 70 # for E\n",
    "for i in range(start, end): \n",
    "    for j in range(start,i+1):\n",
    "        print(f\"{chr(i)}\", end=\" \")\n",
    "    print()\n",
    "print(\" \")\n",
    "\n",
    "\n",
    "# d.\n",
    "start = 65 # for A\n",
    "end = 70 # for E\n",
    "n=6   \n",
    "\n",
    "for i in range(start,end): # outer loop for 5 rows \n",
    "    n = n -1\n",
    "    for j in range(n,1,-1): # loop # 1 to print spaces for each row     syntax  ===> range(start, stop[, step])\n",
    "        print(\" \",end=\" \")\n",
    "    for j in range(start,i+1): # loop # 2 to print actual alphabet values\n",
    "        print(chr(j),end=\" \")\n",
    "    for j in range(start,i): # loop # 3 to print again alphabet starting from 65\n",
    "        print(chr(j),end=\" \")\n",
    "    print()"
   ]
  }
 ],
 "metadata": {
  "kernelspec": {
   "display_name": "Python 3",
   "language": "python",
   "name": "python3"
  },
  "language_info": {
   "codemirror_mode": {
    "name": "ipython",
    "version": 3
   },
   "file_extension": ".py",
   "mimetype": "text/x-python",
   "name": "python",
   "nbconvert_exporter": "python",
   "pygments_lexer": "ipython3",
   "version": "3.6.5"
  }
 },
 "nbformat": 4,
 "nbformat_minor": 2
}
