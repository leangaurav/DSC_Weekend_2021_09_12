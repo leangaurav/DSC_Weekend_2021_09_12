{
 "cells": [
  {
   "cell_type": "code",
   "execution_count": 2,
   "id": "d81d5abb",
   "metadata": {},
   "outputs": [
    {
     "name": "stdout",
     "output_type": "stream",
     "text": [
      "{1: -1, 2: -2, 3: -3, 4: -4, 5: -5}\n"
     ]
    }
   ],
   "source": [
    "# WAP to create a dictionary of numbers mapped to their negative value for numbers from 1-5.\n",
    "# The dictionary should contain something like this:\n",
    "# Do with both with and without range based for loop.\n",
    "# {1:-1,2:-2,3:-3….}\n",
    "\n",
    "# my_dict = {1:-1,2:-2,3:-3,4:-4,5:-5} \n",
    "# print(my_dict)\n",
    "\n",
    "\n",
    "mydict={}\n",
    "for key in  range (1,6):\n",
    "    mydict[key]=key *-1\n",
    "print(mydict)"
   ]
  },
  {
   "cell_type": "code",
   "execution_count": 3,
   "id": "45502261",
   "metadata": {},
   "outputs": [
    {
     "name": "stdout",
     "output_type": "stream",
     "text": [
      "{1: 10, 2: 20, 3: 30, 4: 40}\n"
     ]
    }
   ],
   "source": [
    "# Read help for zip and write a program that has two lists\n",
    "\n",
    "# And converts them to a dictionary d containing { 1:10,2:20 …….}\n",
    "\n",
    "l1 = [1,2,3,4]\n",
    "l2 = [10,20,30,40]\n",
    "res = dict(zip(l1, l2))\n",
    "print(res)"
   ]
  },
  {
   "cell_type": "code",
   "execution_count": 4,
   "id": "eb49bf11",
   "metadata": {},
   "outputs": [
    {
     "name": "stdout",
     "output_type": "stream",
     "text": [
      "Enter  a number :- 5\n",
      "corresponding word format for the entered number is :  Five\n",
      "dict_keys([0, 1, 2, 3, 4, 5, 6, 7, 8, 9])\n",
      "dict_values(['Zero', 'One', 'Two', 'Three', 'Four', 'Five', 'Six', 'Seven', 'Eight', 'Nine'])\n",
      "0 Zero\n",
      "1 One\n",
      "2 Two\n",
      "3 Three\n",
      "4 Four\n",
      "5 Five\n",
      "6 Six\n",
      "7 Seven\n",
      "8 Eight\n",
      "9 Nine\n"
     ]
    }
   ],
   "source": [
    "# Create a mapping of number to word from 0-9. (0:’zero’……)\n",
    "# • Ask user for a single digit number and print the corresponding word format.\n",
    "# • Print all keys of above dictionary\n",
    "# • Print all Values of a dictionary\n",
    "# • Print all Key and Value pairs of above dictionary \n",
    "\n",
    "num_word = {0:'Zero', 1:'One' , 2:'Two' , 3:'Three' , 4:'Four' , 5:'Five' , 6:'Six' , 7:'Seven' , 8:'Eight' , 9:'Nine'}\n",
    "n=int(input(\"Enter  a number :- \"))\n",
    "print(\"corresponding word format for the entered number is : \", num_word[n])\n",
    "print(num_word.keys())  \n",
    "print(num_word.values()) \n",
    "\n",
    "for key in num_word:\n",
    "        print(key,num_word[key])"
   ]
  },
  {
   "cell_type": "code",
   "execution_count": 5,
   "id": "7585b46e",
   "metadata": {},
   "outputs": [
    {
     "name": "stdout",
     "output_type": "stream",
     "text": [
      "{'A': 65, 'B': 66, 'C': 67, 'D': 68, 'E': 69, 'F': 70, 'G': 71, 'H': 72, 'I': 73, 'J': 74, 'K': 75, 'L': 76, 'M': 77, 'N': 78, 'O': 79, 'P': 80, 'Q': 81, 'R': 82, 'S': 83, 'T': 84, 'U': 85, 'V': 86, 'W': 87, 'X': 88, 'Y': 89, 'Z': 90}\n"
     ]
    }
   ],
   "source": [
    "# Use range based for loop to store all upper case alphabets and their corresponding ASCII\n",
    "# values in the dictionary d.\n",
    "# The result should be d = {‘A’: 65, ‘B’:66,…..}\n",
    "\n",
    "\n",
    "import string \n",
    "l2=[]\n",
    "a=list(string.ascii_uppercase)\n",
    "for i in range (65,91):\n",
    "    l2.append(i)\n",
    "res = dict(zip(a, l2))\n",
    "print(res)\n"
   ]
  },
  {
   "cell_type": "code",
   "execution_count": 2,
   "id": "25e3638b",
   "metadata": {},
   "outputs": [
    {
     "name": "stdout",
     "output_type": "stream",
     "text": [
      "Enter a string :-  Vedang Agarwal\n",
      "{'a': 4, 'e': 1, 'i': 0, 'o': 0, 'u': 0}\n"
     ]
    }
   ],
   "source": [
    "# WAP to input a string and count occurrence of each vowel in a string.\n",
    "# Ex: if user enters:\n",
    "#  “Beautiful Day”\n",
    "# Output should Be:\n",
    "#  a:2\n",
    "#  e:1\n",
    "#  I :1\n",
    "#  o:0\n",
    "#  u:2\n",
    "\n",
    "\n",
    "a = input('Enter a string :-  ')\n",
    "b=a.lower()\n",
    "vowel = {}\n",
    "\n",
    "for i in \"aeiou\":\n",
    "    c = b.count(i)\n",
    "    vowel[i] = c\n",
    "\n",
    "print(vowel)"
   ]
  },
  {
   "cell_type": "code",
   "execution_count": 3,
   "id": "bc167476",
   "metadata": {},
   "outputs": [
    {
     "name": "stdout",
     "output_type": "stream",
     "text": [
      "Enter a string :-  Vedang\n",
      "{'v': 1, 'e': 1, 'd': 1, 'a': 1, 'n': 1, 'g': 1}\n"
     ]
    }
   ],
   "source": [
    "# Update above program to print frequency of each alphabet present in string. \n",
    "a = input('Enter a string :-  ')\n",
    "b=a.lower()\n",
    "vowel = {}\n",
    "\n",
    "for i in b:\n",
    "    c = b.count(i)\n",
    "    vowel[i] = c\n",
    "\n",
    "print(vowel)"
   ]
  },
  {
   "cell_type": "code",
   "execution_count": null,
   "id": "53e7720b",
   "metadata": {},
   "outputs": [],
   "source": [
    "# WAP that takes a string as input and prints frequency of each word.\n",
    "# Ex: if input is “count the words in the sentence in”\n",
    "\n",
    "from collections import Counter\n",
    "a = input('Enter a string :-  ')\n",
    "cnt = Counter(a.split()).most_common()\n",
    "print(cnt)\n"
   ]
  }
 ],
 "metadata": {
  "kernelspec": {
   "display_name": "Python 3",
   "language": "python",
   "name": "python3"
  },
  "language_info": {
   "codemirror_mode": {
    "name": "ipython",
    "version": 3
   },
   "file_extension": ".py",
   "mimetype": "text/x-python",
   "name": "python",
   "nbconvert_exporter": "python",
   "pygments_lexer": "ipython3",
   "version": "3.8.8"
  }
 },
 "nbformat": 4,
 "nbformat_minor": 5
}
