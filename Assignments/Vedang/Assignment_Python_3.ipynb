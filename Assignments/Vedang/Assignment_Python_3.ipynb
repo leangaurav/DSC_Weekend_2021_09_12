{
 "cells": [
  {
   "cell_type": "code",
   "execution_count": 1,
   "id": "569104b0",
   "metadata": {},
   "outputs": [
    {
     "name": "stdout",
     "output_type": "stream",
     "text": [
      "Enter the First String :- Hey\n",
      "Enter the Second String :- Bye\n",
      "Before Swap First String is - Hey and second string is - Bye\n",
      "After Swap First String is - Bye and second string is - Hey\n"
     ]
    }
   ],
   "source": [
    "#WAP to input 2 strings and swap the strings\n",
    "\n",
    "str1=input(\"Enter the First String :- \")\n",
    "str2=input(\"Enter the Second String :- \")\n",
    "\n",
    "print(\"Before Swap First String is -\",str1,\"and second string is -\", str2)\n",
    "print(\"After Swap First String is -\",str2,\"and second string is -\", str1)\n"
   ]
  },
  {
   "cell_type": "code",
   "execution_count": 2,
   "id": "afdb417f",
   "metadata": {},
   "outputs": [
    {
     "name": "stdout",
     "output_type": "stream",
     "text": [
      "Random numbers are :-  24 15 12 9\n",
      "Average is :-  15.0\n"
     ]
    }
   ],
   "source": [
    "#WAP to generate 4 random numbers in the range 0-26 and print their average\n",
    "import random\n",
    "n1=random.randint(0,26)\n",
    "n2=random.randint(0,26)\n",
    "n3=random.randint(0,26)\n",
    "n4=random.randint(0,26)\n",
    "print(\"Random numbers are :- \", n1,n2,n3,n4)\n",
    "avg=(n1+n2+n3+n4)/4\n",
    "print(\"Average is :- \", avg )"
   ]
  },
  {
   "cell_type": "code",
   "execution_count": 4,
   "id": "f1b6607a",
   "metadata": {},
   "outputs": [
    {
     "name": "stdout",
     "output_type": "stream",
     "text": [
      "Random Lower case letter is :-  g\n",
      "Random Upper case letter is :-  M\n",
      "q\n"
     ]
    }
   ],
   "source": [
    "# WAP to generate and print a random uppercase or lowercase alphabet. Try these:\n",
    "# • Create a string containing all alphabets and then select a random alphabet.\n",
    "# • Check the module string \n",
    "\n",
    "import random\n",
    "import string    \n",
    "print(\"Random Lower case letter is :- \", random.choice(string.ascii_lowercase))\n",
    "print(\"Random Upper case letter is :- \", random.choice(string.ascii_uppercase))\n",
    "\n",
    "#Create a string containing all alphabets and then select a random alphabet. \n",
    "import random\n",
    "import string \n",
    "a=list(string.ascii_letters)\n",
    "print(random.choice(a))"
   ]
  },
  {
   "cell_type": "code",
   "execution_count": 5,
   "id": "537dc8ff",
   "metadata": {},
   "outputs": [
    {
     "name": "stdout",
     "output_type": "stream",
     "text": [
      "Enter the Principle :- 100\n",
      "Enter the rate :- 5\n",
      "Enter the time :- 2\n",
      "Simple interest is :-  10.0\n"
     ]
    }
   ],
   "source": [
    "\n",
    "#WAF get_si() that takes Principle, Rate and Time as arguments and returns the Simple Interest.\n",
    "\n",
    "def get_si(p,r,t):\n",
    "    return (p*r*t)/100\n",
    "\n",
    "p=int(input(\"Enter the Principle :- \"))\n",
    "r=int(input(\"Enter the rate :- \"))\n",
    "t=int(input(\"Enter the time :- \"))\n",
    "\n",
    "si=get_si(p,r,t)\n",
    "print(\"Simple interest is :- \", si)"
   ]
  },
  {
   "cell_type": "code",
   "execution_count": 6,
   "id": "679ebbd8",
   "metadata": {},
   "outputs": [
    {
     "name": "stdout",
     "output_type": "stream",
     "text": [
      "Amount is  :-  1100.0\n"
     ]
    }
   ],
   "source": [
    "#WAF get_amount() that takes Principle, Rate and Time as arguments and returns the Total amount using the get_si() function from above to calculate the SI. Also provide Rate = 10 and Time = 1 as default arguments.\n",
    "\n",
    "def get_amount(p,r,t):\n",
    "    return p+ get_si(p,r,t)\n",
    "\n",
    "def get_si(p,r,t):\n",
    "    return (p*r*t)/100\n",
    "si=get_amount(1000,10,1)\n",
    "print(\"Amount is  :- \", si)\n"
   ]
  },
  {
   "cell_type": "code",
   "execution_count": 7,
   "id": "6d1b8f72",
   "metadata": {},
   "outputs": [
    {
     "name": "stdout",
     "output_type": "stream",
     "text": [
      "Enter the principal amount : 1000\n",
      "Enter the number of years : 2\n",
      "Enter the rate of interest : 5\n",
      "Compound interest : 1102.5\n"
     ]
    }
   ],
   "source": [
    "#WAP get_ci() that takes Principle, Rate and Time as arguments and returns the Compound Interest. \n",
    "\n",
    " \n",
    "def get_ci(p, r, t):\n",
    "    return p * (((1 + r / 100)**t)) \n",
    "   \n",
    "  \n",
    "p=float(input(\"Enter the principal amount : \"))\n",
    "t = float(input(\"Enter the number of years : \"))\n",
    "r = float(input(\"Enter the rate of interest : \"))\n",
    " \n",
    "ci =  get_ci(p, r, t) \n",
    "print(\"Compound interest :\" ,ci)"
   ]
  },
  {
   "cell_type": "code",
   "execution_count": 11,
   "id": "791bf62e",
   "metadata": {},
   "outputs": [
    {
     "name": "stdout",
     "output_type": "stream",
     "text": [
      "(2, 0)\n"
     ]
    }
   ],
   "source": [
    "def get_q_r(divisor,dividend):\n",
    "    return  dividend//divisor, dividend%divisor\n",
    "print(get_q_r(2,4))"
   ]
  },
  {
   "cell_type": "code",
   "execution_count": 12,
   "id": "cf8d6852",
   "metadata": {},
   "outputs": [
    {
     "name": "stdout",
     "output_type": "stream",
     "text": [
      "Enter the height : 25\n",
      "Enter the base : 10\n",
      "length of hypotenuse of a right angled triangle is :-  26.92582403567252\n"
     ]
    }
   ],
   "source": [
    "#WAP to find the length of hypotenuse of a right angled triangle, input the height and base from user. \n",
    "\n",
    "height = float(input(\"Enter the height : \"))\n",
    "base= float(input(\"Enter the base : \"))\n",
    "\n",
    "length = (height**2 + base**2)**0.5\n",
    "print(\"length of hypotenuse of a right angled triangle is :- \", length)\n"
   ]
  },
  {
   "cell_type": "code",
   "execution_count": 13,
   "id": "d33ddd14",
   "metadata": {},
   "outputs": [
    {
     "name": "stdout",
     "output_type": "stream",
     "text": [
      "6\n",
      "2 -2\n"
     ]
    }
   ],
   "source": [
    "x=2\n",
    "x *=3\n",
    "print(x)\n",
    "x= x%4\n",
    "y= -x\n",
    "print(x,y)\n",
    "\n"
   ]
  },
  {
   "cell_type": "code",
   "execution_count": 14,
   "id": "0c30caac",
   "metadata": {},
   "outputs": [
    {
     "name": "stdout",
     "output_type": "stream",
     "text": [
      "None\n"
     ]
    }
   ],
   "source": [
    "def funct():\n",
    "    pass\n",
    "\n",
    "print(funct())"
   ]
  },
  {
   "cell_type": "code",
   "execution_count": null,
   "id": "80217b43",
   "metadata": {},
   "outputs": [],
   "source": []
  }
 ],
 "metadata": {
  "kernelspec": {
   "display_name": "Python 3",
   "language": "python",
   "name": "python3"
  },
  "language_info": {
   "codemirror_mode": {
    "name": "ipython",
    "version": 3
   },
   "file_extension": ".py",
   "mimetype": "text/x-python",
   "name": "python",
   "nbconvert_exporter": "python",
   "pygments_lexer": "ipython3",
   "version": "3.8.8"
  }
 },
 "nbformat": 4,
 "nbformat_minor": 5
}
