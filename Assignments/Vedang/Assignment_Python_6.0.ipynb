{
 "cells": [
  {
   "cell_type": "code",
   "execution_count": 1,
   "id": "574b1ca4",
   "metadata": {},
   "outputs": [
    {
     "name": "stdout",
     "output_type": "stream",
     "text": [
      "Enter the first number :- 4\n",
      "Enter the Second number :- 2\n",
      "True\n"
     ]
    }
   ],
   "source": [
    "#WAP to input 2 numbers and check whether the first is divisible by the second and print true or false depending on the divisibility. \n",
    "\n",
    "def div(n1,n2):\n",
    "    if n1%n2==0:\n",
    "        return True\n",
    "    else:\n",
    "        return False\n",
    "n1=int(input(\"Enter the first number :- \"))\n",
    "n2=int(input(\"Enter the Second number :- \"))\n",
    "print(div(n1,n2))"
   ]
  },
  {
   "cell_type": "code",
   "execution_count": 2,
   "id": "d0c29b42",
   "metadata": {},
   "outputs": [
    {
     "name": "stdout",
     "output_type": "stream",
     "text": [
      "Enter the string:- NamAN\n",
      "Entered string is a pallandrome\n"
     ]
    }
   ],
   "source": [
    "# In the palindrome example, make the code case insensitive.\n",
    "#  i.e. Naman should also be treated as a palindrome (HINT: first convert to either upper or\n",
    "# lower case). \n",
    "\n",
    "a=input(\"Enter the string:- \")\n",
    "lo=a.lower()\n",
    "b=lo[::-1]\n",
    "if lo !=b:\n",
    "    print(\"Not a pallandrome\")\n",
    "else:\n",
    "    print(\"Entered string is a pallandrome\")"
   ]
  },
  {
   "cell_type": "code",
   "execution_count": 3,
   "id": "ee735664",
   "metadata": {},
   "outputs": [
    {
     "name": "stdout",
     "output_type": "stream",
     "text": [
      "Enter the first Side :- 3\n",
      "Enter the Second Side :- 4\n",
      "Enter the Third Side :- 5\n",
      "scalene Triangle\n"
     ]
    }
   ],
   "source": [
    "\n",
    "# WAP to input the sides of a triangle and print whether equilateral(all sides equal), isosceles (2\n",
    "# sides equal), or scalene (no sides equal). \n",
    "\n",
    "n1=int(input(\"Enter the first Side :- \"))\n",
    "n2=int(input(\"Enter the Second Side :- \"))\n",
    "n3=int(input(\"Enter the Third Side :- \"))\n",
    "\n",
    "if n1==n2 and n2==n3 and n3==n1:\n",
    "    print(\"equilateral Triangle\")\n",
    "elif n1==n2 and n2!=n3:\n",
    "    print(\"isosceles Triangle\")\n",
    "else:\n",
    "    print(\"scalene Triangle\")"
   ]
  },
  {
   "cell_type": "code",
   "execution_count": 4,
   "id": "9e945e1d",
   "metadata": {},
   "outputs": [
    {
     "name": "stdout",
     "output_type": "stream",
     "text": [
      "Enter the number :- 7894561234574855598\n",
      "Even Number\n"
     ]
    }
   ],
   "source": [
    "#WAP to input a number and print if it is even or odd. \n",
    "\n",
    "\n",
    "n=int(input(\"Enter the number :- \"))\n",
    "if n%2==0:\n",
    "    print(\"Even Number\")\n",
    "else:\n",
    "    print(\"Odd Number \")"
   ]
  },
  {
   "cell_type": "code",
   "execution_count": 6,
   "id": "6339f6bc",
   "metadata": {},
   "outputs": [
    {
     "name": "stdout",
     "output_type": "stream",
     "text": [
      "Enter the age :- 88\n",
      "Senior Citizen\n"
     ]
    }
   ],
   "source": [
    " #WAP to input age and print the respective text\n",
    "# depending on the age ranges as present in the table\n",
    "\n",
    "\n",
    "def age(n):\n",
    "    if n in range (0,13):\n",
    "       return 'child'\n",
    "    elif n in range (13,18):\n",
    "        return 'Teen'\n",
    "    elif n in range (18,51):\n",
    "         return 'Adult'\n",
    "    elif n in range (51,101):\n",
    "        return 'Senior Citizen'\n",
    "    else:\n",
    "        return 'Contratulations'\n",
    "\n",
    "n=int(input(\"Enter the age :- \"))\n",
    "print(age(n))"
   ]
  },
  {
   "cell_type": "code",
   "execution_count": 7,
   "id": "d5a30ff7",
   "metadata": {},
   "outputs": [
    {
     "name": "stdout",
     "output_type": "stream",
     "text": [
      "Enter the number :- 1992\n",
      "Entered Year is a Leap Year\n"
     ]
    }
   ],
   "source": [
    "# WAP to input year (check if user enters valid year. Should be 4-digit number and should not be\n",
    "# negative) and print whether leap year or not. (If really interested in why you also have to check\n",
    "# the divisibility by 400 just google the exact time it takes for the earth to revolve around the sub) \n",
    "\n",
    "\n",
    "year=int(input(\"Enter the number :- \"))\n",
    "b=str(year)\n",
    "digit=len(b)\n",
    "\n",
    "if year <0 or year==0:\n",
    "    print(\"Error!! Enter a non zero/Positive number\")\n",
    "elif digit !=4:\n",
    "    print(\"Error!! Enter a 4 digit year\")\n",
    "elif year%400 ==0:\n",
    "    print(\"Entered Year is  Leap Year\")\n",
    "elif year%100==0:\n",
    "    print(\"Entered Year is not  a Leap Year\")\n",
    "elif year%4==0:\n",
    "    print(\"Entered Year is a Leap Year\")\n",
    "else:\n",
    "    print(\"Entered Year is not a Leap Year\")"
   ]
  },
  {
   "cell_type": "code",
   "execution_count": 8,
   "id": "dedd1e24",
   "metadata": {},
   "outputs": [
    {
     "name": "stdout",
     "output_type": "stream",
     "text": [
      "Enter the string :- Quit Playing games\n",
      "quit playing games\n"
     ]
    }
   ],
   "source": [
    "\n",
    "# #WAP to input a string and convert it to Upper Case if number of characters is odd and convert to\n",
    "# lower case otherwise\n",
    "\n",
    "word=input(\"Enter the string :- \")\n",
    "count=len(word)\n",
    "if count%2!=0:\n",
    "    print(word.upper())\n",
    "else:\n",
    "    print(word.lower())\n"
   ]
  },
  {
   "cell_type": "code",
   "execution_count": 9,
   "id": "61e66d02",
   "metadata": {},
   "outputs": [
    {
     "name": "stdout",
     "output_type": "stream",
     "text": [
      "Enter the String :- I am an eggiterian \n",
      "Non Veg\n"
     ]
    }
   ],
   "source": [
    "\n",
    "\n",
    "# WAP to input a string and print Veg if the string doesn’t contain the word egg. Otherwise print\n",
    "# Non-Veg. As usual eggs can be both big and smal\n",
    "\n",
    "dish=input(\"Enter the String :- \")\n",
    "a=dish.lower()\n",
    "if 'egg' in a:\n",
    "    print('Non Veg')\n",
    "else:\n",
    "    print('veg')"
   ]
  },
  {
   "cell_type": "code",
   "execution_count": 10,
   "id": "19085ed3",
   "metadata": {},
   "outputs": [
    {
     "name": "stdout",
     "output_type": "stream",
     "text": [
      "true\n"
     ]
    }
   ],
   "source": [
    "if not 1:\n",
    "    print(\"False\")\n",
    "else:\n",
    "    print(\"true\")"
   ]
  },
  {
   "cell_type": "code",
   "execution_count": 11,
   "id": "4f66a0c8",
   "metadata": {},
   "outputs": [
    {
     "name": "stdout",
     "output_type": "stream",
     "text": [
      "False\n"
     ]
    }
   ],
   "source": [
    "if not 1:\n",
    "    print(\"True\")\n",
    "else:\n",
    "    print(\"False\")"
   ]
  },
  {
   "cell_type": "code",
   "execution_count": 12,
   "id": "f9b0f511",
   "metadata": {},
   "outputs": [
    {
     "name": "stdout",
     "output_type": "stream",
     "text": [
      "weired!!00\n"
     ]
    }
   ],
   "source": [
    "if 'a' >'A':\n",
    "    print('weired!!')\n",
    "else:\n",
    "    print('Makes sense')"
   ]
  },
  {
   "cell_type": "code",
   "execution_count": 13,
   "id": "a90ed339",
   "metadata": {},
   "outputs": [
    {
     "name": "stdout",
     "output_type": "stream",
     "text": [
      "[4, 3, 2, 1]\n"
     ]
    }
   ],
   "source": [
    "a=[1,2,3,4]\n",
    "if 1 >1:\n",
    "    a=a[::-1]\n",
    "else:\n",
    "    a=a[-1::-1]\n",
    "print(a)"
   ]
  },
  {
   "cell_type": "code",
   "execution_count": 15,
   "id": "a236ef20",
   "metadata": {},
   "outputs": [
    {
     "name": "stdout",
     "output_type": "stream",
     "text": [
      "Enter the Subject 1 Marks :- 95\n",
      "Enter the Subject 2 Marks :- 91\n",
      "Enter the Subject 3 Marks :- 99\n",
      "Enter the Subject 4 Marks :- 85\n",
      "Enter the Subject 5 Marks :- 92\n",
      "Grade-A\n"
     ]
    }
   ],
   "source": [
    "# WAP to input marks in 5 subjects and print the grade as per following logic:\n",
    "# % between 90-100 Grade-A\n",
    "# % between 80 - 89 Grade-B\n",
    "# % between 60 - 79 Grade-C\n",
    "# % < 60 Grade-F \n",
    "\n",
    "import math as mt\n",
    "def marks(sub1,sub2,sub3,sub4,sub5):\n",
    "    if perc in range(90,101):\n",
    "        return 'Grade-A'\n",
    "    elif perc in range(80,90):\n",
    "        return ' Grade-B'\n",
    "    elif perc in range (60,80):\n",
    "        return 'Grade-C'\n",
    "    elif perc <60:\n",
    "        return 'Grade-F'\n",
    "    else:\n",
    "        return 'Enter valid Marks'\n",
    "sub1=int(input(\"Enter the Subject 1 Marks :- \"))\n",
    "sub2=int(input(\"Enter the Subject 2 Marks :- \"))\n",
    "sub3=int(input(\"Enter the Subject 3 Marks :- \"))\n",
    "sub4=int(input(\"Enter the Subject 4 Marks :- \"))\n",
    "sub5=int(input(\"Enter the Subject 5 Marks :- \"))\n",
    "perc=mt.floor((sub1+sub2+sub3+sub4+sub5)/5)\n",
    "\n",
    "print(marks(sub1,sub2,sub3,sub4,sub5))"
   ]
  },
  {
   "cell_type": "code",
   "execution_count": 19,
   "id": "26163cb7",
   "metadata": {},
   "outputs": [
    {
     "name": "stdout",
     "output_type": "stream",
     "text": [
      "Enter the age :- 26\n",
      "Enter the salary  :- 1100000\n",
      "Tax Rate is 15% for you\n"
     ]
    }
   ],
   "source": [
    "\n",
    "# WAP to input age and salary and calculate Tax as per tax rates if following table:\n",
    "# Salary Range Age < 60 Age >= 60\n",
    "# 0-2,50,000 0 0\n",
    "# 2,50,001-5,00,000 5% 3%\n",
    "# 5,00,001-10,00,000 10% 8%\n",
    "# Salary>10,00,001 15% 12%\n",
    "\n",
    "def tax(a,s):\n",
    "    if a>=60:\n",
    "        if s in range(0,250001):\n",
    "            return 'Tax Rate is 0 for you.'\n",
    "        elif s in range(250001,500001):\n",
    "            return 'Tax Rate is 3% for you'\n",
    "        elif s in range (500000,1000001):\n",
    "            return 'Tax Rate is 8% for you'\n",
    "        elif s>=1000001:\n",
    "            return 'Tax Rate is 12% for you'\n",
    "    elif a<=60:\n",
    "        if s in range(0,250001):\n",
    "            return 'Tax Rate is 0 for you.'\n",
    "        elif s in range(250001,500001):\n",
    "            return 'Tax Rate is 5% for you'\n",
    "        elif s in range (500000,1000001):\n",
    "            return 'Tax Rate is 10% for you'\n",
    "        elif s>=1000001:\n",
    "            return 'Tax Rate is 15% for you'\n",
    "    else:\n",
    "        return 'Give Valid Inputs'\n",
    "a=int(input(\"Enter the age :- \"))\n",
    "s=int(input(\"Enter the salary  :- \"))\n",
    "print(tax(a,s))"
   ]
  },
  {
   "cell_type": "code",
   "execution_count": 20,
   "id": "70b322b0",
   "metadata": {},
   "outputs": [
    {
     "name": "stdout",
     "output_type": "stream",
     "text": [
      "Enter the weight in KG'S :-75\n",
      "Enter the height in cm: :- 175\n",
      "normal weight\n"
     ]
    }
   ],
   "source": [
    "#  WAF: bmi() that takes the weight in kg and height in cm of a person, calculates and returns the\n",
    "# BMI.\n",
    "# Write code that calls this function after taking height and weight as inputs and then prints\n",
    "# underweight, normal, overweight or obese depending on the value of BMI.\n",
    "# Refer this link for the ranges:\n",
    "#  https://en.wikipedia.org/wiki/Body_mass_index \n",
    "\n",
    "def bmi(w,h):\n",
    "    if a <=18.5:\n",
    "        return 'underweight'\n",
    "    elif a >18.4 and a<=24.9:\n",
    "        return 'normal weight'\n",
    "    elif a >24.9 and a<=29.9:\n",
    "        return 'overweight'\n",
    "    elif a>=30:\n",
    "        return 'obese'\n",
    "    else:\n",
    "        return 'Give correct values'\n",
    "w=int(input(\"Enter the weight in KG'S :-\"))\n",
    "h=int(input(\"Enter the height in cm: :- \"))\n",
    "h_n=(h/100)\n",
    "a= w/(h_n**2)\n",
    "print(bmi(w,h))\n"
   ]
  },
  {
   "cell_type": "code",
   "execution_count": 22,
   "id": "2ab6ae5b",
   "metadata": {},
   "outputs": [
    {
     "name": "stdout",
     "output_type": "stream",
     "text": [
      "Enter the age of person 1 :- 25\n",
      "Enter the age of person 2 :- 26\n",
      "Enter the age of person 3 :- 27\n",
      "Person 3 is the oldest\n",
      "Person 1 is the youngest \n"
     ]
    }
   ],
   "source": [
    "#Take input of age of 3 people by user and determine oldest and youngest among them. \n",
    "\n",
    "a1=int(input(\"Enter the age of person 1 :- \"))\n",
    "a2=int(input(\"Enter the age of person 2 :- \"))\n",
    "a3=int(input(\"Enter the age of person 3 :- \"))\n",
    "\n",
    "if a1>a2 and a1>a3:\n",
    "    print(\"Person 1 is the oldest\")\n",
    "    if a2>a3:\n",
    "        print(\"Person 3 is the youngest\")\n",
    "    else:\n",
    "        print(\"Person 2 is the youngest\")\n",
    "elif a2>a3 and a2>a1:\n",
    "    print(\"Person 2 is the oldest\")\n",
    "    if a3>a1:\n",
    "        print(\"Person 1 is the youngest\")\n",
    "    else:\n",
    "        print(\"Person 3 is the youngest\")\n",
    "elif a3>a1 and a3>a2:\n",
    "    print(\"Person 3 is the oldest\")\n",
    "    if a1>a2:\n",
    "        print(\"Person 2 is the youngest\")\n",
    "    else:\n",
    "        print(\"Person 1 is the youngest \")\n",
    "else:\n",
    "    print(\"Give valid ages\")"
   ]
  },
  {
   "cell_type": "code",
   "execution_count": 23,
   "id": "27921d58",
   "metadata": {},
   "outputs": [
    {
     "name": "stdout",
     "output_type": "stream",
     "text": [
      "Enter the number :- 35\n",
      "Number is divisble by both 5 and 7 \n"
     ]
    }
   ],
   "source": [
    "\n",
    "#WAP to input a number and check if number is divisible by both 5 and 7\n",
    "\n",
    "num=int(input(\"Enter the number :- \"))\n",
    "if num%5==0 and num%7 ==0:\n",
    "    print(\"Number is divisble by both 5 and 7 \")\n",
    "else:\n",
    "    print(\"Number is not divisble by both 5 and 7\")"
   ]
  },
  {
   "cell_type": "code",
   "execution_count": null,
   "id": "785c072e",
   "metadata": {},
   "outputs": [],
   "source": []
  }
 ],
 "metadata": {
  "kernelspec": {
   "display_name": "Python 3",
   "language": "python",
   "name": "python3"
  },
  "language_info": {
   "codemirror_mode": {
    "name": "ipython",
    "version": 3
   },
   "file_extension": ".py",
   "mimetype": "text/x-python",
   "name": "python",
   "nbconvert_exporter": "python",
   "pygments_lexer": "ipython3",
   "version": "3.8.8"
  }
 },
 "nbformat": 4,
 "nbformat_minor": 5
}
