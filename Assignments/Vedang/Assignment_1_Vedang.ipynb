{
 "cells": [
  {
   "cell_type": "code",
   "execution_count": 1,
   "id": "b454ca35",
   "metadata": {},
   "outputs": [],
   "source": [
    "#Question 1 Predict Output\n",
    "#solution :- (6,23)"
   ]
  },
  {
   "cell_type": "code",
   "execution_count": 2,
   "id": "c2884bdf",
   "metadata": {},
   "outputs": [
    {
     "name": "stdout",
     "output_type": "stream",
     "text": [
      "Enter any string :- Vedang Agarwal\n",
      "Length of the entered string is :-  14\n"
     ]
    }
   ],
   "source": [
    "#Question 2 : WAP to input a string and print its length\n",
    "\n",
    "string=input(\"Enter any string :- \")\n",
    "print(\"Length of the entered string is :- \",len(string))"
   ]
  },
  {
   "cell_type": "code",
   "execution_count": 3,
   "id": "b5945d2a",
   "metadata": {},
   "outputs": [
    {
     "name": "stdout",
     "output_type": "stream",
     "text": [
      "Enter the First Number :- 10\n",
      "Enter the Second Number :- 11\n",
      "Sum of the numbers is :-  21\n",
      "Differnce of the numbers is :-  -1\n"
     ]
    }
   ],
   "source": [
    "#Question 3 : WAP to input 2 numbers and print their sum and difference\n",
    "\n",
    "\n",
    "a=int(input(\"Enter the First Number :- \"))\n",
    "b=int(input(\"Enter the Second Number :- \"))\n",
    "print(\"Sum of the numbers is :- \", a +b )\n",
    "print(\"Differnce of the numbers is :- \", a-b)"
   ]
  },
  {
   "cell_type": "code",
   "execution_count": 5,
   "id": "1d96fb20",
   "metadata": {},
   "outputs": [],
   "source": [
    "#Question 4 : Predict Output\n",
    "\n",
    "#Solution :- abde"
   ]
  },
  {
   "cell_type": "code",
   "execution_count": 6,
   "id": "3703a757",
   "metadata": {},
   "outputs": [],
   "source": [
    "#Question 5 : Predict Output\n",
    "\n",
    "#Solution :- abde"
   ]
  },
  {
   "cell_type": "code",
   "execution_count": 7,
   "id": "5a888201",
   "metadata": {},
   "outputs": [],
   "source": [
    "#Question 6 : Predict Output\n",
    "\n",
    "#Solution :- abababab"
   ]
  },
  {
   "cell_type": "code",
   "execution_count": 8,
   "id": "b55bd6b3",
   "metadata": {},
   "outputs": [],
   "source": [
    "#Question 7 : Predict Output\n",
    "\n",
    "#Solution :- \n",
    "#ab\n",
    "#ab\n",
    "#ab\n",
    "#ab"
   ]
  },
  {
   "cell_type": "code",
   "execution_count": 1,
   "id": "b4628b66",
   "metadata": {},
   "outputs": [
    {
     "name": "stdout",
     "output_type": "stream",
     "text": [
      "Enter any string :- I am Batman\n",
      "Enter the  Number :- 2\n",
      "I am Batman\n",
      "I am Batman\n",
      "\n"
     ]
    }
   ],
   "source": [
    "#Question 8 : WAP to input a string s and a number n. Print the string n times on the screen, each should\n",
    "#appear in a separate line (do not use any kind of loops, use the multiplication operator). \n",
    "\n",
    "\n",
    "string=input(\"Enter any string :- \")\n",
    "n=int(input(\"Enter the  Number :- \"))\n",
    "print(((string)+'\\n')*n)"
   ]
  },
  {
   "cell_type": "code",
   "execution_count": 2,
   "id": "548805ee",
   "metadata": {},
   "outputs": [],
   "source": [
    "#Question 9 : Predict Output\n",
    "#Gaurav"
   ]
  },
  {
   "cell_type": "code",
   "execution_count": 3,
   "id": "31d5dedc",
   "metadata": {},
   "outputs": [],
   "source": [
    "#Question 10 : Predict Output\n",
    "#int"
   ]
  },
  {
   "cell_type": "code",
   "execution_count": 4,
   "id": "6d634362",
   "metadata": {},
   "outputs": [],
   "source": [
    "#Question 11 : Predict Output\n",
    "#string,22"
   ]
  },
  {
   "cell_type": "code",
   "execution_count": 5,
   "id": "61bf818f",
   "metadata": {},
   "outputs": [],
   "source": [
    "#Question 12 : Find the name of function to find the square root. (see all the options available in dir() of math) \n",
    "\n",
    "#sqrt"
   ]
  },
  {
   "cell_type": "code",
   "execution_count": 6,
   "id": "702622cb",
   "metadata": {},
   "outputs": [
    {
     "name": "stdout",
     "output_type": "stream",
     "text": [
      "Enter the number :-  52456556\n",
      "Square root of the number is  7242.69\n"
     ]
    }
   ],
   "source": [
    "#Question 13 : WAP to input a number and print its square root (). \n",
    "\n",
    "import math as mt\n",
    "x=int(input(\"Enter the number :-  \"))\n",
    "print (\"Square root of the number is \",format(mt.sqrt(x), '.2f'))"
   ]
  },
  {
   "cell_type": "code",
   "execution_count": 7,
   "id": "e2447071",
   "metadata": {},
   "outputs": [
    {
     "name": "stdout",
     "output_type": "stream",
     "text": [
      "Enter the number count of which you want to take average :- 4\n",
      "Number 1 :- 10\n",
      "Number 2 :- 20\n",
      "Number 3 :- 30\n",
      "Number 4 :- 40\n",
      "Avergae is :-  25.0\n"
     ]
    }
   ],
   "source": [
    "#Question 14 : WAP to input 4 numbers from user and print their average \n",
    "\n",
    "total=0\n",
    "list=[]\n",
    "n=int(input(\"Enter the number count of which you want to take average :- \"))\n",
    "for i in range(n):\n",
    "  num=int(input(\"Number \" +str(i+1) + \" :- \"))\n",
    "  list.append(num)\n",
    "  total = sum(list)\n",
    "avg=total/n\n",
    "print (\"Avergae is :- \" ,avg)"
   ]
  },
  {
   "cell_type": "code",
   "execution_count": null,
   "id": "3a43a860",
   "metadata": {},
   "outputs": [],
   "source": []
  }
 ],
 "metadata": {
  "kernelspec": {
   "display_name": "Python 3",
   "language": "python",
   "name": "python3"
  },
  "language_info": {
   "codemirror_mode": {
    "name": "ipython",
    "version": 3
   },
   "file_extension": ".py",
   "mimetype": "text/x-python",
   "name": "python",
   "nbconvert_exporter": "python",
   "pygments_lexer": "ipython3",
   "version": "3.8.8"
  }
 },
 "nbformat": 4,
 "nbformat_minor": 5
}
