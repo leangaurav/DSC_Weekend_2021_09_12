{
 "cells": [
  {
   "cell_type": "code",
   "execution_count": 1,
   "id": "f1a126df",
   "metadata": {},
   "outputs": [],
   "source": [
    "#. Write a program in python that stores alphabets from a to z in a text file\n",
    "import string\n",
    "with open(\"file.txt\",'w') as f:\n",
    " for letter in string.ascii_lowercase:\n",
    "   f.write((letter))\n",
    "   f.write(' ')\n",
    "f.close()"
   ]
  },
  {
   "cell_type": "code",
   "execution_count": 2,
   "id": "26b5883d",
   "metadata": {},
   "outputs": [
    {
     "name": "stdout",
     "output_type": "stream",
     "text": [
      "_='_=%r;print (_%%_)';print (_%_)\n"
     ]
    }
   ],
   "source": [
    "# Write a program to read itself and print on the screen (Use Command Line Arguments).\n",
    "_='_=%r;print (_%%_)';print (_%_)"
   ]
  },
  {
   "cell_type": "code",
   "execution_count": 5,
   "id": "1fcc3cff",
   "metadata": {},
   "outputs": [],
   "source": [
    "\n",
    "# Write a program to read a file and copy it into a new file\n",
    "\n",
    "with open(\"file1.txt\",\"r\") as f:\n",
    "    with open(\"file2.txt\", \"w\") as f1:\n",
    "        for line in f:\n",
    "            f1.write(line)\n",
    "#     f1.close()\n",
    "# f.close()\n"
   ]
  },
  {
   "cell_type": "code",
   "execution_count": 6,
   "id": "6db1fb75",
   "metadata": {},
   "outputs": [],
   "source": [
    "# Write a program to read a file and copy the contents to a new file such that the case gets\n",
    "# reversed. i.e. upper case becomes lower case and vice versa. \n",
    "\n",
    "with open('file10.txt','r') as firstfile, open('second.txt','w') as secondfile:\n",
    "    for line in firstfile:\n",
    "     \tsecondfile.write(line)\n",
    "firstfile.close()\n",
    "secondfile.close()\n",
    "with open ('second.txt','r') as f:\n",
    "  b=f.read()\n",
    "  if b.isupper():\n",
    "      for line in f:\n",
    "       c=f.read()\n",
    "      with open ('second.txt','w') as f1:\n",
    "        f1.write(c.lower())\n",
    "  else:\n",
    "      for line in f:\n",
    "       d=f.read()\n",
    "       with open ('second.txt','w') as f1:\n",
    "         f1.write(d.upper())\n",
    "f.close()\n",
    "f1.close()"
   ]
  },
  {
   "cell_type": "code",
   "execution_count": null,
   "id": "42f97603",
   "metadata": {},
   "outputs": [],
   "source": [
    "# Write a program that take a file name as command line argument, opens it and then counts \n",
    "# number of space characters in that file. \n",
    "n=0\n",
    "with open (\"file.txt\",'r') as f:\n",
    "    space=f.read()\n",
    "    for char in space:\n",
    "        if char ==' ':\n",
    "            n=n+1\n",
    "        \n",
    "print(n)"
   ]
  },
  {
   "cell_type": "code",
   "execution_count": null,
   "id": "d3663bc7",
   "metadata": {},
   "outputs": [],
   "source": [
    "# Modify the above program to count the occurrence of each symbol i.e. count of alphabet ‘a’, \n",
    "# count of spaces, count of commas and so forth. \n",
    "\n",
    "i=0\n",
    "j=0\n",
    "k=0\n",
    "l=0\n",
    "with open (\"file.txt\",'r') as f:\n",
    "    space=f.read()\n",
    "    for char in space:\n",
    "        if char.isalpha():\n",
    "            i=i+1\n",
    "        if char.isdigit():\n",
    "            j=j+1\n",
    "        if char.isspace():\n",
    "            k=k+1\n",
    "        else:\n",
    "            l=l+1\n",
    "print(\"Count of alphabets are :- \" , i)\n",
    "print(\"Count of digtis  are :- \" , j)\n",
    "print(\"Count of space are :- \" , k)\n",
    "print(\"Count of other characters  are :- \" , k)"
   ]
  },
  {
   "cell_type": "code",
   "execution_count": null,
   "id": "2b3472f7",
   "metadata": {},
   "outputs": [],
   "source": [
    "# Write a script called diff.py that take two file names as arguments and checks if the content of \n",
    "# both the files is same and prints true or false.\n",
    "\n",
    "with open(\"file.txt\") as f:\n",
    "     word1=f.read() \n",
    "with open(\"file1.txt\") as p:\n",
    "    word2 = p.read()\n",
    "    if word1==word2:\n",
    "        print(\"file is identical\")\n",
    "    else:\n",
    "            print(\"file is not identical\")"
   ]
  },
  {
   "cell_type": "code",
   "execution_count": null,
   "id": "75d88f25",
   "metadata": {},
   "outputs": [],
   "source": [
    "# WAP to count the number of words in a file\n",
    "n=0\n",
    "with open(\"file.txt\") as f:\n",
    "     word1=f.read().split()\n",
    "     for i in word1:\n",
    "         i.isalpha()\n",
    "         n=n+1\n",
    "\n",
    "print(n)"
   ]
  },
  {
   "cell_type": "code",
   "execution_count": null,
   "id": "62c3ba61",
   "metadata": {},
   "outputs": [],
   "source": [
    "# . Update the above program to count the number of palindromes present in the file. \n",
    "n=0\n",
    "j=0\n",
    "with open(\"file.txt\") as f:\n",
    "     word1=f.read().split()\n",
    "     for i in word1:\n",
    "         n=n+1\n",
    "         if  i==i[::-1]:\n",
    "          j=j+1\n",
    "print(\"Number of pallindrome are as :- \",j)"
   ]
  },
  {
   "cell_type": "code",
   "execution_count": null,
   "id": "33075270",
   "metadata": {},
   "outputs": [],
   "source": [
    "#Update the program again to count and print number of anagrams in the file. \n",
    "\n",
    "n=0\n",
    "with open(\"test.txt\",\"r\") as f:\n",
    "    with open(\"test1.txt\", \"w\") as f1:\n",
    "        for line in f:\n",
    "            f1.write(line)\n",
    "\n",
    "with open(\"test.txt\",\"r\") as f:\n",
    "  for i in f:\n",
    "       word1=i.split(' ')\n",
    "       for p in word1:\n",
    "           first=p.lower()\n",
    "           \n",
    "with open(\"test1.txt\", \"r\") as f1:\n",
    "    for j in f1:\n",
    "        word2=j.split(' ')\n",
    "        for q in word2:       \n",
    "         second=q.lower()\n",
    "if set(first) == set(second):\n",
    "    n=n+1\n",
    "\n",
    "print(n)"
   ]
  },
  {
   "cell_type": "code",
   "execution_count": null,
   "id": "c4dc1baa",
   "metadata": {},
   "outputs": [],
   "source": []
  }
 ],
 "metadata": {
  "kernelspec": {
   "display_name": "Python 3",
   "language": "python",
   "name": "python3"
  },
  "language_info": {
   "codemirror_mode": {
    "name": "ipython",
    "version": 3
   },
   "file_extension": ".py",
   "mimetype": "text/x-python",
   "name": "python",
   "nbconvert_exporter": "python",
   "pygments_lexer": "ipython3",
   "version": "3.8.8"
  }
 },
 "nbformat": 4,
 "nbformat_minor": 5
}
