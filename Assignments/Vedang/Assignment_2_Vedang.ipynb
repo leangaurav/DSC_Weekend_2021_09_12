{
 "cells": [
  {
   "cell_type": "code",
   "execution_count": 1,
   "id": "7596752a",
   "metadata": {},
   "outputs": [],
   "source": [
    "#Question 1. Guess output of each slice:\n",
    "#s=‘Python is Object Oriented’\n",
    "\n",
    "s[-1]  --> d\n",
    "s[::-1] -->reverse the string\n",
    "s[:-1] --> print everything except last alphabet\n",
    "s[1:1] --> null\n",
    "s[4:10] --> print from alphabet 4(included) till aplhabet 9 (included)"
   ]
  },
  {
   "cell_type": "code",
   "execution_count": 2,
   "id": "1217f338",
   "metadata": {},
   "outputs": [],
   "source": [
    "# 2. What error do you see for following statements:\n",
    "#  s= ‘’\n",
    "#  print(s[1]) \n",
    "\n",
    "Solution :- Out of range index"
   ]
  },
  {
   "cell_type": "code",
   "execution_count": 7,
   "id": "e5d9737b",
   "metadata": {},
   "outputs": [],
   "source": [
    "# 3. Do you get any error for the following code, if not give the output:\n",
    "#  S=‘Gaurav’\n",
    "#  print(s[1]) \n",
    "\n",
    "solution = yes, s is not defined."
   ]
  },
  {
   "cell_type": "code",
   "execution_count": 8,
   "id": "64cc9c30",
   "metadata": {},
   "outputs": [],
   "source": [
    "# #Question 4. Guess output of each slice:\n",
    "\n",
    "# 4. Find output of the following:\n",
    "# a) s='a b cd'\n",
    "# print(len(s)) :- 6\n",
    "# print(s[::2]) : abc\n",
    "# print(len(s[::2])) : 3\n",
    "\n",
    "\n",
    "# b) s=‘a#b#c#d#’\n",
    "# print(s.split()) --> ['a#b#c#d#']\n",
    "# print(s.split(‘#’)) --> ['a','b','c','d','']\n",
    "# l=s.split(‘#’)\n",
    "# s=‘$’.join(l)\n",
    "# print(s)  --> string remanes same and # will be replaced by $\n",
    "\n",
    "\n",
    "# c) S=‘Gaurav’\n",
    "# S=S[::-2][::-2]\n",
    "# print(S)\n",
    "\n",
    "# d) print(1>2)  -->False \n",
    "\n",
    "# e) print(4%2, 5%2, 2%5, sep=‘, ’) --> 0,1,2\n",
    "\n",
    "\n",
    "# f) s=‘abcba’\n",
    "# s.upper()\n",
    "# print(s)                      -->abca\n",
    "# print(s.count(‘A’), end = ‘ ,’)  ->2 \n",
    "# print(s.count(‘A’, 2,4) , end = ‘ ,’)\n",
    "# print(s.count(‘a’, 2,4) , end = ‘ ,’) "
   ]
  },
  {
   "cell_type": "code",
   "execution_count": 9,
   "id": "2d25a2ab",
   "metadata": {},
   "outputs": [
    {
     "name": "stdout",
     "output_type": "stream",
     "text": [
      "Enter the String with spaces :- I am Iron Man \n",
      "IamIronMan\n"
     ]
    }
   ],
   "source": [
    "#Question 5  : WAP to input a string and remove all spaces from it\n",
    "\n",
    "string=input(\"Enter the String with spaces :- \")\n",
    "string=string.replace(\" \",\"\")\n",
    "print(string)\n"
   ]
  },
  {
   "cell_type": "code",
   "execution_count": 10,
   "id": "0e511805",
   "metadata": {},
   "outputs": [
    {
     "name": "stdout",
     "output_type": "stream",
     "text": [
      "['__add__', '__class__', '__contains__', '__delattr__', '__dir__', '__doc__', '__eq__', '__format__', '__ge__', '__getattribute__', '__getitem__', '__getnewargs__', '__gt__', '__hash__', '__init__', '__init_subclass__', '__iter__', '__le__', '__len__', '__lt__', '__mod__', '__mul__', '__ne__', '__new__', '__reduce__', '__reduce_ex__', '__repr__', '__rmod__', '__rmul__', '__setattr__', '__sizeof__', '__str__', '__subclasshook__', 'capitalize', 'casefold', 'center', 'count', 'encode', 'endswith', 'expandtabs', 'find', 'format', 'format_map', 'index', 'isalnum', 'isalpha', 'isascii', 'isdecimal', 'isdigit', 'isidentifier', 'islower', 'isnumeric', 'isprintable', 'isspace', 'istitle', 'isupper', 'join', 'ljust', 'lower', 'lstrip', 'maketrans', 'partition', 'replace', 'rfind', 'rindex', 'rjust', 'rpartition', 'rsplit', 'rstrip', 'split', 'splitlines', 'startswith', 'strip', 'swapcase', 'title', 'translate', 'upper', 'zfill']\n"
     ]
    }
   ],
   "source": [
    "#Question 7 : WAP to print all methods(functions/operations) available in a string (Hint : dir()) \n",
    "a=dir(str)\n",
    "print(a)"
   ]
  },
  {
   "cell_type": "code",
   "execution_count": 11,
   "id": "c2c48d5d",
   "metadata": {},
   "outputs": [
    {
     "name": "stdout",
     "output_type": "stream",
     "text": [
      "rstrip is present\n"
     ]
    }
   ],
   "source": [
    "#Question 8 : Write statement to check if rstrip method is available in the str class.\n",
    "# (Hint : Use the find function or in) \n",
    "\n",
    "a=dir(str)\n",
    "if 'rstrip' in a:\n",
    "    print('rstrip is present')\n",
    "else:\n",
    "    print('rstrip is not present')\n"
   ]
  },
  {
   "cell_type": "code",
   "execution_count": 1,
   "id": "0e48e5b1",
   "metadata": {},
   "outputs": [
    {
     "name": "stdout",
     "output_type": "stream",
     "text": [
      "Enter the String with spaces :- I am Bond! James Bond!\n",
      "I\n",
      "am\n",
      "Bond!\n",
      "James\n",
      "Bond!\n"
     ]
    }
   ],
   "source": [
    "#Question 10 : WAP to input a string and replace all space with new lines (\\n) and print again.  \n",
    "\n",
    "string=input(\"Enter the String with spaces :- \")\n",
    "string=string.replace(\" \",\"\\n\")\n",
    "print(string)"
   ]
  },
  {
   "cell_type": "code",
   "execution_count": 2,
   "id": "18c761e5",
   "metadata": {},
   "outputs": [
    {
     "name": "stdout",
     "output_type": "stream",
     "text": [
      "Enter the name with spaces :- bruce thomas wayne\n",
      "First name is  Bruce having a length of  5 while the last name is  Wayne whose length is  5\n"
     ]
    }
   ],
   "source": [
    "#Question 11 : WAP to input complete name(first and last name separated by space) and print first and last\n",
    "# name separately along with their length in upper case. \n",
    "\n",
    "\n",
    "name=input(\"Enter the name with spaces :- \")\n",
    "First_name=name.split()[0]\n",
    "Second_name=name.split()[-1]\n",
    "print('First name is ', First_name.capitalize(),'having a length of ',len(First_name),'while the last name is ',\n",
    "      Second_name.capitalize(),'whose length is ',len(Second_name))\n",
    "\n"
   ]
  },
  {
   "cell_type": "code",
   "execution_count": 3,
   "id": "30a653b6",
   "metadata": {},
   "outputs": [
    {
     "name": "stdout",
     "output_type": "stream",
     "text": [
      "Enter the String :- String\n",
      "Since the String has an even length ,first half of the characters are  Str\n",
      "Since the String has an even length , last half of the characters are  ing\n"
     ]
    }
   ],
   "source": [
    "#Question 12 : WAP to input a string and split it into 2 halves. The string can be of any length\n",
    "# Ex-1: Input = “String”\n",
    "# S1 = Str\n",
    "#  S2 = ing\n",
    "# Ex-2: Input = “words”\n",
    "# S1 = wo\n",
    "# S2 = ds \n",
    "\n",
    "\n",
    "name=input(\"Enter the String :- \")\n",
    "a=len(name)\n",
    "if a%2== 0:\n",
    "    b=int(a/2)\n",
    "    c=name[:b]\n",
    "    print('Since the String has an even length ,first half of the characters are ',c)\n",
    "    d=name[b:]\n",
    "    print('Since the String has an even length , last half of the characters are ',d)\n",
    "else:\n",
    "    f=name[0:2]\n",
    "    print('Since the String has an odd length , first two characters are ', f)\n",
    "    g=name[-2:]\n",
    "    print('Since the String has an odd length , last two characters are ',g)"
   ]
  },
  {
   "cell_type": "code",
   "execution_count": 1,
   "id": "1ebcbe3e",
   "metadata": {},
   "outputs": [
    {
     "name": "stdout",
     "output_type": "stream",
     "text": [
      "Enter the String :- words\n",
      "Since the String has an odd length , first two characters are  wo\n",
      "Since the String has an odd length , last two characters are  ds\n"
     ]
    }
   ],
   "source": [
    "#Question 12 : WAP to input a string and split it into 2 halves. The string can be of any length\n",
    "# Ex-1: Input = “String”\n",
    "# S1 = Str\n",
    "#  S2 = ing\n",
    "# Ex-2: Input = “words”\n",
    "# S1 = wo\n",
    "# S2 = ds \n",
    "\n",
    "\n",
    "name=input(\"Enter the String :- \")\n",
    "a=len(name)\n",
    "if a%2== 0:\n",
    "    b=int(a/2)\n",
    "    c=name[:b]\n",
    "    print('Since the String has an even length ,first half of the characters are ',c)\n",
    "    d=name[b:]\n",
    "    print('Since the String has an even length , last half of the characters are ',d)\n",
    "else:\n",
    "    f=name[0:2]\n",
    "    print('Since the String has an odd length , first two characters are ', f)\n",
    "    g=name[-2:]\n",
    "    print('Since the String has an odd length , last two characters are ',g)"
   ]
  },
  {
   "cell_type": "code",
   "execution_count": null,
   "id": "aada44e0",
   "metadata": {},
   "outputs": [],
   "source": []
  }
 ],
 "metadata": {
  "kernelspec": {
   "display_name": "Python 3",
   "language": "python",
   "name": "python3"
  },
  "language_info": {
   "codemirror_mode": {
    "name": "ipython",
    "version": 3
   },
   "file_extension": ".py",
   "mimetype": "text/x-python",
   "name": "python",
   "nbconvert_exporter": "python",
   "pygments_lexer": "ipython3",
   "version": "3.8.8"
  }
 },
 "nbformat": 4,
 "nbformat_minor": 5
}
