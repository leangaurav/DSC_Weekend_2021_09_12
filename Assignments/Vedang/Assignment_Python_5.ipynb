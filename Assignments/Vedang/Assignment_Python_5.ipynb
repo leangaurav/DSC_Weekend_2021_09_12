{
 "cells": [
  {
   "cell_type": "code",
   "execution_count": 1,
   "id": "a4d46a44",
   "metadata": {},
   "outputs": [
    {
     "name": "stdout",
     "output_type": "stream",
     "text": [
      "Enter the integer :- 10\n",
      "[1, 2, 3, 4, 5, 6, 7, 8, 9, 10]\n"
     ]
    }
   ],
   "source": [
    "#WAP to print first n natural numbers (input n from user)\n",
    "a=[]\n",
    "n=int(input(\"Enter the integer :- \"))\n",
    "for i in range (1,n+1):\n",
    "    a.append(i)\n",
    "print(a)"
   ]
  },
  {
   "cell_type": "code",
   "execution_count": 1,
   "id": "64aef0d2",
   "metadata": {},
   "outputs": [
    {
     "name": "stdout",
     "output_type": "stream",
     "text": [
      "Enter the number :- 10\n",
      "sum of first n natural number 55.0\n"
     ]
    }
   ],
   "source": [
    "\n",
    "#2. WAP to find sum of first n natural numbers\n",
    "\n",
    "a=int(input(\"Enter the number :- \"))\n",
    "print(\"sum of first n natural number\", a*(a+1)/2)\n"
   ]
  },
  {
   "cell_type": "code",
   "execution_count": 3,
   "id": "b3a00109",
   "metadata": {},
   "outputs": [
    {
     "name": "stdout",
     "output_type": "stream",
     "text": [
      "Enter the number :- 10\n",
      "10 9 8 7 6 5 4 3 2 1 "
     ]
    }
   ],
   "source": [
    "#WAP to print first n natural numbers in reverse order. \n",
    "n=int(input(\"Enter the number :- \"))\n",
    "while ( n >= 1):\n",
    "    print (n,end=\" \")\n",
    "    n = n - 1"
   ]
  },
  {
   "cell_type": "code",
   "execution_count": 4,
   "id": "685bad0b",
   "metadata": {},
   "outputs": [
    {
     "name": "stdout",
     "output_type": "stream",
     "text": [
      "Enter the number :- 10\n",
      "The factorial of 10 is 3628800\n"
     ]
    }
   ],
   "source": [
    "#WAP to input a number and print its factorial. \n",
    "\n",
    "n=int(input(\"Enter the number :- \"))\n",
    "factorial = 1\n",
    "\n",
    "for i in range(1, n + 1):\n",
    "    factorial = factorial * i\n",
    "\n",
    "print(f\"The factorial of {n} is {factorial}\")"
   ]
  },
  {
   "cell_type": "code",
   "execution_count": 2,
   "id": "fe1a7796",
   "metadata": {},
   "outputs": [
    {
     "name": "stdout",
     "output_type": "stream",
     "text": [
      "21\n"
     ]
    }
   ],
   "source": [
    "#WAP to print Fibonacci sequence till n. \n",
    "\n",
    "def fib(num):\n",
    "    if num==0:\n",
    "        return 0\n",
    "    if num ==1:\n",
    "        return 1\n",
    "\n",
    "    else:\n",
    "        return fib(num-1)+ fib(num-2)\n",
    "print(fib(8))"
   ]
  },
  {
   "cell_type": "code",
   "execution_count": 4,
   "id": "ff6dd9fa",
   "metadata": {},
   "outputs": [
    {
     "name": "stdout",
     "output_type": "stream",
     "text": [
      "Enter the number :- 78945612374548512\n",
      "['7', '8', '9', '4', '5', '6', '1', '2', '3', '7', '4', '5', '4', '8', '5', '1', '2']\n"
     ]
    }
   ],
   "source": [
    "#WAP to print all digits of a number input from user. \n",
    "l=[]\n",
    "a=int(input(\"Enter the number :- \"))\n",
    "b=str(a)\n",
    "for i in range(0,(len(b))):\n",
    "    l.append(b[i])\n",
    "    \n",
    "print(l)"
   ]
  },
  {
   "cell_type": "code",
   "execution_count": 5,
   "id": "f89a0d32",
   "metadata": {},
   "outputs": [
    {
     "name": "stdout",
     "output_type": "stream",
     "text": [
      "Enter the number : 45785456\n",
      "44\n"
     ]
    }
   ],
   "source": [
    "#WAP to find sum of all digits of a number. \n",
    "sum = 0\n",
    "n=input(\"Enter the number : \")\n",
    "for i in n:\n",
    "  sum += int(i)      \n",
    "print(sum)\n"
   ]
  },
  {
   "cell_type": "code",
   "execution_count": 6,
   "id": "f26d4964",
   "metadata": {},
   "outputs": [],
   "source": [
    "# WAP to find sum of following series given n as input from user\n",
    "# 1 + 2! + 3! + 4! + 5! + ….n!\n",
    "# Where n! denotes the factorial of number n. \n"
   ]
  },
  {
   "cell_type": "code",
   "execution_count": 7,
   "id": "74651b31",
   "metadata": {},
   "outputs": [],
   "source": [
    "#9. WAP to input base and exponent and print result without using inbuilt function pow(use for or\n"
   ]
  },
  {
   "cell_type": "code",
   "execution_count": 8,
   "id": "ce6414a5",
   "metadata": {},
   "outputs": [
    {
     "name": "stdout",
     "output_type": "stream",
     "text": [
      "*\n",
      "**\n",
      "***\n",
      "****\n",
      "*****\n"
     ]
    }
   ],
   "source": [
    "#Pattern 1\n",
    "for i in range(1,6):\n",
    "    print(\"*\" *i)\n",
    "\n"
   ]
  },
  {
   "cell_type": "code",
   "execution_count": 10,
   "id": "af14e420",
   "metadata": {},
   "outputs": [
    {
     "name": "stdout",
     "output_type": "stream",
     "text": [
      "******\n",
      "*****\n",
      "****\n",
      "***\n",
      "**\n",
      "*\n"
     ]
    }
   ],
   "source": [
    "#Pattern 2 \n",
    "for i in range(6,0,-1):\n",
    "    print(\"*\" * i)"
   ]
  },
  {
   "cell_type": "code",
   "execution_count": null,
   "id": "006ac341",
   "metadata": {},
   "outputs": [],
   "source": []
  }
 ],
 "metadata": {
  "kernelspec": {
   "display_name": "Python 3",
   "language": "python",
   "name": "python3"
  },
  "language_info": {
   "codemirror_mode": {
    "name": "ipython",
    "version": 3
   },
   "file_extension": ".py",
   "mimetype": "text/x-python",
   "name": "python",
   "nbconvert_exporter": "python",
   "pygments_lexer": "ipython3",
   "version": "3.8.8"
  }
 },
 "nbformat": 4,
 "nbformat_minor": 5
}
