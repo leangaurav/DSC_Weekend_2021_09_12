{
 "cells": [
  {
   "cell_type": "code",
   "execution_count": 1,
   "id": "baf5af55",
   "metadata": {},
   "outputs": [
    {
     "name": "stdout",
     "output_type": "stream",
     "text": [
      "<class 'tuple'>\n",
      "<class 'list'>\n",
      "[1, 2, 3, 4, 5]\n"
     ]
    }
   ],
   "source": [
    "#Convert a Tuple  to a list\n",
    "t = (1,2,3,4,5)\n",
    "l=list(t)\n",
    "print(type(t))\n",
    "print(type(l))\n",
    "print(l)"
   ]
  },
  {
   "cell_type": "code",
   "execution_count": 2,
   "id": "b2973476",
   "metadata": {},
   "outputs": [
    {
     "name": "stdout",
     "output_type": "stream",
     "text": [
      "<class 'list'>\n",
      "[1, 3, 5, 7, 8, 6, 4, 2]\n"
     ]
    }
   ],
   "source": [
    "# WAP to join a list and a tuple:\n",
    "# L = [1,3,5,7]\n",
    "#  T = (8,6,4,2)\n",
    "\n",
    "L = [1,3,5,7]\n",
    "T = (8,6,4,2) \n",
    "t=list(T)\n",
    "a=L+t\n",
    "print(type(a))\n",
    "print(a)"
   ]
  },
  {
   "cell_type": "code",
   "execution_count": 3,
   "id": "b831dd81",
   "metadata": {},
   "outputs": [
    {
     "name": "stdout",
     "output_type": "stream",
     "text": [
      "['C', 'A', 'c', 'd', 'a']\n"
     ]
    }
   ],
   "source": [
    "# Print the list in reverse order\n",
    "#  l = [‘a’, ‘d’, ‘c’, ‘A’, ‘C’] \n",
    "\n",
    "l = ['a', 'd', 'c', 'A', 'C'] \n",
    "reverse=l[::-1]\n",
    "print(reverse)"
   ]
  },
  {
   "cell_type": "code",
   "execution_count": 9,
   "id": "230fe203",
   "metadata": {},
   "outputs": [
    {
     "data": {
      "text/plain": [
       "[11, 21, 31, 41]"
      ]
     },
     "execution_count": 9,
     "metadata": {},
     "output_type": "execute_result"
    }
   ],
   "source": [
    "# Print Elements at Odd indexes from a list (Do not use loop) \n",
    "l = [10,11,20, 21,30, 31, 40, 41]\n",
    "l[1::2]"
   ]
  },
  {
   "cell_type": "code",
   "execution_count": 11,
   "id": "49beedba",
   "metadata": {},
   "outputs": [],
   "source": [
    "# #Q7\n",
    "\n",
    "# a\n",
    "# 5"
   ]
  },
  {
   "cell_type": "code",
   "execution_count": 12,
   "id": "1d33bd89",
   "metadata": {},
   "outputs": [],
   "source": [
    "# #Q8\n",
    "# [1, 4, 6, 8]\n",
    "# [1, 3, 5, 7]"
   ]
  },
  {
   "cell_type": "code",
   "execution_count": 13,
   "id": "109d551a",
   "metadata": {},
   "outputs": [],
   "source": [
    "# #Q9\n",
    "\n",
    "\n",
    "# [1, 3, 5, [7, 9]]\n",
    "# [1, 3, 5, [7, 9], 11, 13]"
   ]
  },
  {
   "cell_type": "code",
   "execution_count": 14,
   "id": "bcc0d8b0",
   "metadata": {},
   "outputs": [],
   "source": [
    "#Q10\n",
    "# <class 'int'>\n",
    "# <class 'int'>\n",
    "# <class 'int'>\n",
    "# <class 'tuple'>"
   ]
  },
  {
   "cell_type": "code",
   "execution_count": 15,
   "id": "00ca9053",
   "metadata": {},
   "outputs": [
    {
     "data": {
      "text/plain": [
       "array([[1, 2, 3],\n",
       "       [4, 5, 6],\n",
       "       [7, 8, 9]])"
      ]
     },
     "execution_count": 15,
     "metadata": {},
     "output_type": "execute_result"
    }
   ],
   "source": [
    "import numpy as np\n",
    "a=np.arange(1,10)\n",
    "a.reshape(3,3)"
   ]
  },
  {
   "cell_type": "code",
   "execution_count": 16,
   "id": "39ed3f84",
   "metadata": {},
   "outputs": [],
   "source": [
    "# Q12\n",
    "# ('s', 't', 'r', 'i', 'n', 'g')\n",
    "# ('g', 'n', 'i', 'r', 't', 's')\n",
    "# ('t', 'g')"
   ]
  },
  {
   "cell_type": "code",
   "execution_count": 18,
   "id": "a840d859",
   "metadata": {},
   "outputs": [],
   "source": [
    "# Q13\n",
    "\n",
    "# True\n",
    "# False\n",
    "# 1\n",
    "# 3"
   ]
  },
  {
   "cell_type": "code",
   "execution_count": 19,
   "id": "9600982d",
   "metadata": {},
   "outputs": [
    {
     "name": "stdout",
     "output_type": "stream",
     "text": [
      "Enter the string:- DAD\n",
      "Entered string is a pallandrome\n"
     ]
    }
   ],
   "source": [
    "#Write a program to input a string and print if it is palindrome or not.\n",
    "\n",
    "a=input(\"Enter the string:- \")\n",
    "b=a[::-1]\n",
    "if a !=b:\n",
    "    print(\"Not a pallandrome\")\n",
    "else:\n",
    "    print(\"Entered string is a pallandrome\")\n"
   ]
  },
  {
   "cell_type": "code",
   "execution_count": 20,
   "id": "356dc88a",
   "metadata": {},
   "outputs": [
    {
     "name": "stdout",
     "output_type": "stream",
     "text": [
      "<class 'tuple'>\n",
      "(20, 15, 10, 5)\n"
     ]
    }
   ],
   "source": [
    "#15. Use the range method and create a tuple containing the following values:\n",
    "#(20, 15, 10, 5) \n",
    "a=[]\n",
    "for i in range(5,25,5):\n",
    "    a.append(i)\n",
    "b=a[::-1]\n",
    "c=tuple(b)\n",
    "print(type(c))\n",
    "print(c)"
   ]
  },
  {
   "cell_type": "code",
   "execution_count": 21,
   "id": "77e120ba",
   "metadata": {},
   "outputs": [
    {
     "name": "stdout",
     "output_type": "stream",
     "text": [
      "Enter the string :- Legend Never Dies\n",
      "['Legend', 'Never', 'Dies']\n",
      "<class 'list'>\n"
     ]
    }
   ],
   "source": [
    "#16. WAP to convert string to list of characters\n",
    "\n",
    "string=input(\"Enter the string :- \")\n",
    "l=string.split()\n",
    "l=list(l)\n",
    "print(l)\n",
    "print(type(l))"
   ]
  },
  {
   "cell_type": "code",
   "execution_count": null,
   "id": "0674d79e",
   "metadata": {},
   "outputs": [],
   "source": [
    "# Q17\n",
    "\n",
    "# LIST\n",
    "# NONE\n",
    "# STR\n",
    "# BOOL"
   ]
  }
 ],
 "metadata": {
  "kernelspec": {
   "display_name": "Python 3",
   "language": "python",
   "name": "python3"
  },
  "language_info": {
   "codemirror_mode": {
    "name": "ipython",
    "version": 3
   },
   "file_extension": ".py",
   "mimetype": "text/x-python",
   "name": "python",
   "nbconvert_exporter": "python",
   "pygments_lexer": "ipython3",
   "version": "3.8.8"
  }
 },
 "nbformat": 4,
 "nbformat_minor": 5
}
