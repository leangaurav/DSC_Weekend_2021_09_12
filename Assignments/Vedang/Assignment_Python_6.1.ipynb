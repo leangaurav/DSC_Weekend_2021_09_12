{
 "cells": [
  {
   "cell_type": "code",
   "execution_count": 1,
   "id": "a32aeee6",
   "metadata": {},
   "outputs": [
    {
     "name": "stdout",
     "output_type": "stream",
     "text": [
      "Enter the String :- I am Iron Man\n",
      "I, ,a,m, ,I,r,o,n, ,M,a,n,"
     ]
    }
   ],
   "source": [
    "#Q1: WAP to input a string and print individual characters in the string using for loop. \n",
    "\n",
    "s=input(\"Enter the String :- \")\n",
    "for i in s:\n",
    "    print(i,end=\",\")\n"
   ]
  },
  {
   "cell_type": "code",
   "execution_count": 2,
   "id": "afdb1e84",
   "metadata": {},
   "outputs": [
    {
     "name": "stdout",
     "output_type": "stream",
     "text": [
      "Enter the String :- You too Brutus!\n",
      "89,111,117,32,116,111,111,32,66,114,117,116,117,115,33,"
     ]
    }
   ],
   "source": [
    "#WAP to input a string and print the ASCII value of each character in the string. \n",
    "\n",
    "s=input(\"Enter the String :- \")\n",
    "for i in s:\n",
    "    print( ord(i),end=\",\")"
   ]
  },
  {
   "cell_type": "code",
   "execution_count": 3,
   "id": "70ef5dbe",
   "metadata": {},
   "outputs": [],
   "source": [
    "# #Write a function that takes a list of numbers from user as argument and returns the sum of only\n",
    "# odd numbers (Use only for loop. No need to use if statement)."
   ]
  },
  {
   "cell_type": "code",
   "execution_count": 4,
   "id": "d84c1566",
   "metadata": {},
   "outputs": [
    {
     "name": "stdout",
     "output_type": "stream",
     "text": [
      "Enter the length of list :-  5\n",
      "Number 1 :- 1\n",
      "Number 2 :- 2\n",
      "Number 3 :- 3\n",
      "Number 4 :- 4\n",
      "Number 5 :- 5\n",
      "Enter the number : -4\n",
      "3\n"
     ]
    }
   ],
   "source": [
    "# #WAP to input a list of numbers and store in a tuple. Now input another number and print the\n",
    "# index of this number in the tuple. [Use index function] \n",
    "\n",
    "\n",
    "num=int(input(\"Enter the length of list :-  \"))\n",
    "l=[]\n",
    "for i in range(num):\n",
    "  a=int(input(\"Number \" +str(i+1)+ \" :- \" ))\n",
    "  l.append(a)\n",
    " \n",
    "t=tuple(l)\n",
    "new=int(input(\"Enter the number : -\"))\n",
    "print(t.index(new))"
   ]
  },
  {
   "cell_type": "code",
   "execution_count": 6,
   "id": "30b5dc65",
   "metadata": {
    "scrolled": true
   },
   "outputs": [
    {
     "name": "stdout",
     "output_type": "stream",
     "text": [
      "[181, 148, 106, 185, 155, 171, 157, 105, 148, 142]\n",
      "1498\n",
      "149.8\n",
      "148,106,148,142,"
     ]
    }
   ],
   "source": [
    "# #Create a list of 10 random numbers and then print the list, sum of all numbers and average. Use\n",
    "# a for loop. Also print elements at only even indexes in the list. \n",
    "\n",
    "import random as rd\n",
    "l = [rd.randrange(100,200) for i in range(0,10)]\n",
    "print(l)\n",
    "print(sum(l))\n",
    "avg=sum(l)/10\n",
    "print(avg)\n",
    "for j in range(0,len(l)):\n",
    "    if l[j]%2==0:\n",
    "        print(l[j],end=\",\")"
   ]
  },
  {
   "cell_type": "code",
   "execution_count": 7,
   "id": "b6471f1d",
   "metadata": {},
   "outputs": [
    {
     "name": "stdout",
     "output_type": "stream",
     "text": [
      "[1, 2, 3, 4, 5, 6, 7, 8, 9, 10]\n",
      "55\n"
     ]
    }
   ],
   "source": [
    "# WAP to input 10 numbers repeatedly (using range based for loop) and store them in a list. Print\n",
    "# the list and sum of numbers in the list. \n",
    "\n",
    "l=[]\n",
    "for i in range(1,11):\n",
    "    l.append(i)\n",
    "print(l)\n",
    "print(sum(l))"
   ]
  },
  {
   "cell_type": "code",
   "execution_count": 8,
   "id": "a3864d22",
   "metadata": {},
   "outputs": [
    {
     "name": "stdout",
     "output_type": "stream",
     "text": [
      "Enter the number :- 7\n",
      "7 X 1 = 7\n",
      "7 X 2 = 14\n",
      "7 X 3 = 21\n",
      "7 X 4 = 28\n",
      "7 X 5 = 35\n",
      "7 X 6 = 42\n",
      "7 X 7 = 49\n",
      "7 X 8 = 56\n",
      "7 X 9 = 63\n",
      "7 X 10 = 70\n"
     ]
    }
   ],
   "source": [
    "#WAP to input a number and print its table. Ex: if user enters the number as 7, output should be\n",
    "\n",
    "\n",
    "table=int(input(\"Enter the number :- \"))\n",
    "for i in range(1,11):\n",
    "    print(table,\"X\",i,\"=\",table*i)"
   ]
  },
  {
   "cell_type": "code",
   "execution_count": 9,
   "id": "e93a302a",
   "metadata": {},
   "outputs": [
    {
     "name": "stdout",
     "output_type": "stream",
     "text": [
      "Enter the string :- Legend Never Dies !! \n",
      "4\n"
     ]
    }
   ],
   "source": [
    "# #WAP to print total number of spaces in a string (Use for loop to iterate over the string. Don’t use\n",
    "# count function)\n",
    "\n",
    "sum=0\n",
    "str=input(\"Enter the string :- \")\n",
    "for i in range(0,len(str)):\n",
    "    if str[i]== ' ':\n",
    "        sum=sum+1\n",
    "print(sum)"
   ]
  },
  {
   "cell_type": "code",
   "execution_count": 10,
   "id": "af8357bc",
   "metadata": {},
   "outputs": [
    {
     "name": "stdout",
     "output_type": "stream",
     "text": [
      "Enter the word :- So you think you are the one\n",
      "Number of Vowel in the string is :- 11\n"
     ]
    }
   ],
   "source": [
    "# #WAP to input a string and count number of vowels in the string. [Note: it should work for both\n",
    "# capital and small alphabets] \n",
    "\n",
    "count=0\n",
    "c=input(\"Enter the word :- \")\n",
    "for  vowel in c:\n",
    "    if vowel in 'aeiouAEIOU':\n",
    "     count=count+1\n",
    "print(\"Number of Vowel in the string is :-\",count)\n"
   ]
  },
  {
   "cell_type": "code",
   "execution_count": 13,
   "id": "b281a4a5",
   "metadata": {},
   "outputs": [
    {
     "name": "stdout",
     "output_type": "stream",
     "text": [
      "Enter the String :- I don't care who you are\n",
      "I don't car_ who you ar_\n"
     ]
    }
   ],
   "source": [
    "# WAP to input a string and replace all vowels with ‘_’.\n",
    "# [Hint: Convert string to list. Remember!! Strings are immutable. Replace in the list and then join] \n",
    "\n",
    "s=input(\"Enter the String :- \")\n",
    "for  vowel in s:\n",
    "   if vowel in 'aeiouAEIOU':\n",
    "       str=s.replace(vowel,'_')\n",
    "print(str)"
   ]
  },
  {
   "cell_type": "code",
   "execution_count": null,
   "id": "e29f1dfa",
   "metadata": {},
   "outputs": [],
   "source": []
  },
  {
   "cell_type": "code",
   "execution_count": 14,
   "id": "443b4f99",
   "metadata": {},
   "outputs": [
    {
     "name": "stdout",
     "output_type": "stream",
     "text": [
      "*****\n",
      "*****\n",
      "*****\n",
      "*****\n",
      "*****\n"
     ]
    }
   ],
   "source": [
    "for i1 in range(1,6):\n",
    "    for i2 in range(5):\n",
    "        print('*',end='')\n",
    "    print()\n",
    "\n",
    "\n"
   ]
  },
  {
   "cell_type": "code",
   "execution_count": 15,
   "id": "edf5b387",
   "metadata": {},
   "outputs": [
    {
     "name": "stdout",
     "output_type": "stream",
     "text": [
      "1\n",
      "22\n",
      "333\n",
      "4444\n",
      "55555\n"
     ]
    }
   ],
   "source": [
    "for i1 in range(1,6):\n",
    "    for i2 in range(i1):\n",
    "        print(i1,end='')\n",
    "    print()\n"
   ]
  },
  {
   "cell_type": "code",
   "execution_count": 1,
   "id": "77a40e6e",
   "metadata": {},
   "outputs": [
    {
     "name": "stdout",
     "output_type": "stream",
     "text": [
      "1\n",
      "22\n",
      "333\n",
      "4444\n",
      "55555\n"
     ]
    }
   ],
   "source": [
    "\n",
    "for i1 in range(1,6):\n",
    "    print(str(i1) *i1)\n"
   ]
  },
  {
   "cell_type": "code",
   "execution_count": 2,
   "id": "e1441db5",
   "metadata": {},
   "outputs": [
    {
     "name": "stdout",
     "output_type": "stream",
     "text": [
      "**\n",
      "***\n",
      "****\n",
      "*****\n",
      "******\n"
     ]
    }
   ],
   "source": [
    "\n",
    "for i1 in range(1,6):\n",
    "    for i2 in range(i1+1):\n",
    "        print('*',end='')\n",
    "    print()\n"
   ]
  },
  {
   "cell_type": "code",
   "execution_count": 3,
   "id": "dc746c5b",
   "metadata": {},
   "outputs": [
    {
     "name": "stdout",
     "output_type": "stream",
     "text": [
      "[39, 24, 45, 30, 22, 13, 34, 44, 32, 20]\n",
      "303\n",
      "[24, 30, 22, 13, 20]\n"
     ]
    }
   ],
   "source": [
    "# Generate a list of 10 random number(between 10-50) and print the list and sum of all elements.\n",
    "# Now take the list and remove the five largest elements from the list and print the list and its sum\n",
    "# again.\n",
    "# Ex: Consider a list l = [10, 50, 18, 19, 30, 45, 49, 45, 44, 23]\n",
    "# After deleting, the list will contain [10, 18, 19, 30, 23]\n",
    "\n",
    "import random as rd\n",
    "l = [rd.randrange(10,50) for i in range(0,10)]\n",
    "print(l)\n",
    "print(sum(l))\n",
    "for i in range(0,5):\n",
    "    l.remove(max(l))\n",
    "print(l)"
   ]
  },
  {
   "cell_type": "code",
   "execution_count": null,
   "id": "60ddd69c",
   "metadata": {},
   "outputs": [],
   "source": []
  }
 ],
 "metadata": {
  "kernelspec": {
   "display_name": "Python 3",
   "language": "python",
   "name": "python3"
  },
  "language_info": {
   "codemirror_mode": {
    "name": "ipython",
    "version": 3
   },
   "file_extension": ".py",
   "mimetype": "text/x-python",
   "name": "python",
   "nbconvert_exporter": "python",
   "pygments_lexer": "ipython3",
   "version": "3.8.8"
  }
 },
 "nbformat": 4,
 "nbformat_minor": 5
}
