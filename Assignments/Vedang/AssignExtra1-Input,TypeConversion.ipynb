{
 "cells": [
  {
   "cell_type": "code",
   "execution_count": 1,
   "id": "228a7a96",
   "metadata": {},
   "outputs": [
    {
     "name": "stdout",
     "output_type": "stream",
     "text": [
      "Enter the Temperature in Fahrenheit:- 100\n",
      "Temperture in Celsius. is :-  37.78\n"
     ]
    }
   ],
   "source": [
    "\n",
    "#Input temperature in Fahrenheit in print in Celsius. \n",
    "a=float(input(\"Enter the Temperature in Fahrenheit:- \"))\n",
    "temp=(a - 32) / 1.8\n",
    "print(\"Temperture in Celsius. is :- \", round(temp,2))\n"
   ]
  },
  {
   "cell_type": "code",
   "execution_count": 2,
   "id": "3ec99704",
   "metadata": {},
   "outputs": [
    {
     "name": "stdout",
     "output_type": "stream",
     "text": [
      "Enter the Number :-  5\n",
      "Square of the number is :-  25.0\n",
      "Cube of the number is :-  125.0\n"
     ]
    }
   ],
   "source": [
    "\n",
    "#Write a program to input a number and print its square and cube. \n",
    "\n",
    "a=float(input(\"Enter the Number :-  \"))\n",
    "print(\"Square of the number is :- \",a**2)\n",
    "print(\"Cube of the number is :- \",a**3)\n"
   ]
  },
  {
   "cell_type": "code",
   "execution_count": 3,
   "id": "7af938be",
   "metadata": {},
   "outputs": [
    {
     "name": "stdout",
     "output_type": "stream",
     "text": [
      "Enter the value of n :- 5\n",
      "Enter the value of m :- 4\n",
      "Ouput is as :-  41\n"
     ]
    }
   ],
   "source": [
    "# WAP to input a number n and a number m and print the result of following\n",
    "a=int(input(\"Enter the value of n :- \"))\n",
    "b=int(input(\"Enter the value of m :- \"))\n",
    "print(\"Ouput is as :- \", a**2+b**2)"
   ]
  },
  {
   "cell_type": "code",
   "execution_count": 5,
   "id": "bab0fa2b",
   "metadata": {},
   "outputs": [
    {
     "name": "stdout",
     "output_type": "stream",
     "text": [
      "Enter the value of M :- 4\n",
      "Enter the value of N :- 5\n",
      "Ouput using ** :-  1024\n",
      "Ouput using pow :-  1024\n"
     ]
    }
   ],
   "source": [
    "# WAP to input a numbers M and N and print result of MN\n",
    "# . (use both ** and pow\n",
    "\n",
    "\n",
    "a=int(input(\"Enter the value of M :- \"))\n",
    "b=int(input(\"Enter the value of N :- \"))\n",
    "print(\"Ouput using ** :- \", a**b )\n",
    "print(\"Ouput using pow :- \", pow(a, b) )"
   ]
  },
  {
   "cell_type": "code",
   "execution_count": 6,
   "id": "19436ae1",
   "metadata": {},
   "outputs": [
    {
     "name": "stdout",
     "output_type": "stream",
     "text": [
      "Enter the Principle :- 150\n",
      "Enter the rate :- 10\n",
      "Enter the time :- 5\n",
      "Simple interest is :-  75.0\n"
     ]
    }
   ],
   "source": [
    "#Write a simple interest calculator. \n",
    "\n",
    "\n",
    "def get_si(p,r,t):\n",
    "    return (p*r*t)/100\n",
    "\n",
    "p=int(input(\"Enter the Principle :- \"))\n",
    "r=int(input(\"Enter the rate :- \"))\n",
    "t=int(input(\"Enter the time :- \"))\n",
    "\n",
    "si=get_si(p,r,t)\n",
    "print(\"Simple interest is :- \", si)"
   ]
  },
  {
   "cell_type": "code",
   "execution_count": 7,
   "id": "804f0f0b",
   "metadata": {},
   "outputs": [
    {
     "name": "stdout",
     "output_type": "stream",
     "text": [
      "Enter the principal amount : 150245\n",
      "Enter the number of years : 4\n",
      "Enter the rate of interest : 8\n",
      "Compound interest :  204406.66379520003\n",
      "Total_Amount =  354651.66379520006\n"
     ]
    }
   ],
   "source": [
    "#Input Principal, Rate, Time and print Compound Interest and Amount\n",
    "\n",
    "def get_ci(p, r, t):\n",
    "    return p * (((1 + r / 100)**t)) \n",
    "   \n",
    "  \n",
    "p = float(input(\"Enter the principal amount : \"))\n",
    "t = float(input(\"Enter the number of years : \"))\n",
    "r = float(input(\"Enter the rate of interest : \"))\n",
    " \n",
    "ci =  get_ci(p, r, t) \n",
    "print(\"Compound interest : \" ,ci)\n",
    "print (\"Total_Amount = \",  p + ci)"
   ]
  },
  {
   "cell_type": "code",
   "execution_count": 8,
   "id": "934cacd6",
   "metadata": {},
   "outputs": [
    {
     "name": "stdout",
     "output_type": "stream",
     "text": [
      "Enter the number :- 11\n",
      "sum of first n natural number 66.0\n"
     ]
    }
   ],
   "source": [
    "#WAP to print sum of first n natural numbers. (n needs to be taken as input). \n",
    "\n",
    "a=int(input(\"Enter the number :- \"))\n",
    "print(\"sum of first n natural number\", a*(a+1)/2)\n"
   ]
  },
  {
   "cell_type": "code",
   "execution_count": 12,
   "id": "86f3526f",
   "metadata": {},
   "outputs": [
    {
     "name": "stdout",
     "output_type": "stream",
     "text": [
      "Enter number 1 : 15\n",
      "Enter number 2 : 20\n",
      "20 15\n"
     ]
    }
   ],
   "source": [
    "#WAP to input 2 numbers and swap them. (write using both normal logic with temp variable and\n",
    "#also the pythonic way. \n",
    "\n",
    "n1=int(input(\"Enter number 1 : \"))\n",
    "n2=int(input(\"Enter number 2 : \"))\n",
    "\n",
    "temp = n1\n",
    "n1=n2\n",
    "n2=temp\n",
    "print(n1,n2)"
   ]
  },
  {
   "cell_type": "code",
   "execution_count": 13,
   "id": "e4fe85f9",
   "metadata": {},
   "outputs": [
    {
     "name": "stdout",
     "output_type": "stream",
     "text": [
      "Enter the Single Character :- D\n",
      "The ASCII value of is 68\n"
     ]
    }
   ],
   "source": [
    "#WAP to print ascii value of all white-space characters present in python.\n",
    "\n",
    " #Input a single character and print its ascii values\n",
    "char = input(\"Enter the Single Character :- \")\n",
    "print(\"The ASCII value of is\", ord(char))"
   ]
  },
  {
   "cell_type": "code",
   "execution_count": 14,
   "id": "a73cc9d1",
   "metadata": {},
   "outputs": [
    {
     "name": "stdout",
     "output_type": "stream",
     "text": [
      "Enter the area of the circle :- 24\n",
      "Radius is :-  2.7646540655045486 while the circumference is :-  17.362027531368565\n"
     ]
    }
   ],
   "source": [
    "#11. WAP that takes area of a circle and gives back the radius and circumference. \n",
    "\n",
    "area=float(input(\"Enter the area of the circle :- \"))\n",
    "radius=(area/3.14)**0.5\n",
    "circumference= 2*3.14*radius\n",
    "print(\"Radius is :- \",radius,\"while the circumference is :- \",circumference)\n"
   ]
  },
  {
   "cell_type": "code",
   "execution_count": 15,
   "id": "d781adc0",
   "metadata": {},
   "outputs": [
    {
     "name": "stdout",
     "output_type": "stream",
     "text": [
      "Enter the marks in subject 1 :- 88\n",
      "Enter the marks in subject 2 :- 98\n",
      "Enter the marks in subject 3 :- 95\n",
      "Enter the marks in subject 4 :- 92\n",
      "Enter the marks in subject 5 :- 91\n",
      "% of the student is :-  92.8\n"
     ]
    }
   ],
   "source": [
    "# WAP to input marks in 5 subjects out of 100 and print percentage\n",
    "s1=int(input(\"Enter the marks in subject 1 :- \"))\n",
    "s2=int(input(\"Enter the marks in subject 2 :- \"))\n",
    "s3=int(input(\"Enter the marks in subject 3 :- \"))\n",
    "s4=int(input(\"Enter the marks in subject 4 :- \"))\n",
    "s5=int(input(\"Enter the marks in subject 5 :- \"))\n",
    "percentage=((s1+s2+s3+s4+s5)/5)\n",
    "print (\"% of the student is :- \", percentage)"
   ]
  },
  {
   "cell_type": "code",
   "execution_count": 16,
   "id": "ffb1b7f9",
   "metadata": {},
   "outputs": [],
   "source": [
    "#WAP to print ascii value of all white-space characters present in python. \n"
   ]
  },
  {
   "cell_type": "code",
   "execution_count": null,
   "id": "aef9f628",
   "metadata": {},
   "outputs": [],
   "source": []
  }
 ],
 "metadata": {
  "kernelspec": {
   "display_name": "Python 3",
   "language": "python",
   "name": "python3"
  },
  "language_info": {
   "codemirror_mode": {
    "name": "ipython",
    "version": 3
   },
   "file_extension": ".py",
   "mimetype": "text/x-python",
   "name": "python",
   "nbconvert_exporter": "python",
   "pygments_lexer": "ipython3",
   "version": "3.8.8"
  }
 },
 "nbformat": 4,
 "nbformat_minor": 5
}
