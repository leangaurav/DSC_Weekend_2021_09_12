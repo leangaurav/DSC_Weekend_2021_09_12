{
 "cells": [
  {
   "cell_type": "markdown",
   "id": "5d6d3f77",
   "metadata": {},
   "source": [
    "## Loops"
   ]
  },
  {
   "cell_type": "code",
   "execution_count": null,
   "id": "9152bee9",
   "metadata": {},
   "outputs": [],
   "source": [
    "print()\n",
    "a =  1\n",
    "b  = 10\n",
    "c = 1/b\n",
    "print(c)"
   ]
  },
  {
   "cell_type": "code",
   "execution_count": null,
   "id": "5dee7aec",
   "metadata": {},
   "outputs": [],
   "source": [
    "def f():\n",
    "    print()\n",
    "    a =  1\n",
    "    b  = 10\n",
    "    c = 1/b\n",
    "    print(c)\n",
    "\n",
    "print(\"before f\")\n",
    "f()\n",
    "print(\"after f\")"
   ]
  },
  {
   "cell_type": "code",
   "execution_count": 2,
   "id": "684e51db",
   "metadata": {},
   "outputs": [
    {
     "name": "stdout",
     "output_type": "stream",
     "text": [
      "odd\n"
     ]
    }
   ],
   "source": [
    "a = 1\n",
    "if a % 2 == 0:\n",
    "    print(\"even\")\n",
    "else:\n",
    "    print(\"odd\")"
   ]
  },
  {
   "cell_type": "markdown",
   "id": "e9e83805",
   "metadata": {},
   "source": [
    "## type of loops in python\n",
    "- for\n",
    "- while"
   ]
  },
  {
   "cell_type": "code",
   "execution_count": null,
   "id": "3cbe9ff8",
   "metadata": {},
   "outputs": [],
   "source": [
    "# shorthand notation\n",
    "a = 1\n",
    "a = a + 1\n",
    "a += 1\n",
    "\n",
    "a *= 4\n",
    "\n",
    "a %= 5\n",
    "\n",
    "a -= 55"
   ]
  },
  {
   "cell_type": "code",
   "execution_count": 3,
   "id": "af35d4d7",
   "metadata": {},
   "outputs": [
    {
     "name": "stdout",
     "output_type": "stream",
     "text": [
      "1\n",
      "2\n",
      "3\n",
      "4\n",
      "5\n"
     ]
    }
   ],
   "source": [
    "# WAP to print numbers from 1-5\n",
    "\n",
    "i = 1\n",
    "while i <= 5:\n",
    "    print(i)\n",
    "    i += 1 "
   ]
  },
  {
   "cell_type": "code",
   "execution_count": 5,
   "id": "44fecf6c",
   "metadata": {},
   "outputs": [],
   "source": [
    "# WAP to input a number N and numbers from N to 1 \n",
    "# Example:\n",
    "# if N = 5, output should be 5 4 3 2 1"
   ]
  },
  {
   "cell_type": "code",
   "execution_count": 6,
   "id": "a133222b",
   "metadata": {},
   "outputs": [
    {
     "name": "stdout",
     "output_type": "stream",
     "text": [
      "enter non negative number4\n",
      "4\n",
      "3\n",
      "2\n",
      "1\n"
     ]
    }
   ],
   "source": [
    "n = int(input(\"enter non negative number\"))\n",
    "i = n\n",
    "while i >= 1:\n",
    "    print (i)\n",
    "    i -= 1\n"
   ]
  },
  {
   "cell_type": "code",
   "execution_count": 7,
   "id": "28c9b985",
   "metadata": {},
   "outputs": [
    {
     "name": "stdout",
     "output_type": "stream",
     "text": [
      "Enter the numbre :- 5\n",
      "5\n",
      "4\n",
      "3\n",
      "2\n",
      "1\n"
     ]
    }
   ],
   "source": [
    "n=int(input(\"Enter the number :- \"))\n",
    "i=n\n",
    "while i>=1:\n",
    "    print(i)\n",
    "    i =i-1\n"
   ]
  },
  {
   "cell_type": "code",
   "execution_count": 9,
   "id": "3dad5e55",
   "metadata": {},
   "outputs": [
    {
     "name": "stdout",
     "output_type": "stream",
     "text": [
      "Enter a sentence:this is python program\n",
      "this\n",
      "is\n",
      "python\n",
      "program\n"
     ]
    }
   ],
   "source": [
    "s = input(\"Enter a sentence:\")\n",
    "words = s.split() # split by space\n",
    "\n",
    "i = 0\n",
    "while i < len(words):\n",
    "    print(words[i])\n",
    "    i += 1\n"
   ]
  },
  {
   "cell_type": "code",
   "execution_count": 12,
   "id": "d04ce58c",
   "metadata": {},
   "outputs": [
    {
     "name": "stdout",
     "output_type": "stream",
     "text": [
      "44\n",
      "1\n",
      "0\n"
     ]
    }
   ],
   "source": [
    "# given a list of numbers, return the max value from the list\n",
    "def funct(arr): # arr should be an array of integers\n",
    "    if len(arr) == 0:\n",
    "        return None\n",
    "    \n",
    "    m = arr[0] # assume the max element is the first element\n",
    "    i = 1\n",
    "    while i < len(arr):\n",
    "        if arr[i] > m:\n",
    "            m = arr[i]\n",
    "        i += 1\n",
    "        \n",
    "    return m\n",
    "\n",
    "print(funct([1,44,3,-1]))\n",
    "print(funct([1]))\n",
    "print(funct([0]))\n",
    "\n",
    "# arr:1,44,3,100 5\n",
    "#     0  1 2  3  4\n",
    "# m   1 44   100    \n",
    "# i      1 2  3  4 5\n",
    "\n"
   ]
  },
  {
   "cell_type": "code",
   "execution_count": 20,
   "id": "c2e553ef",
   "metadata": {},
   "outputs": [
    {
     "name": "stdout",
     "output_type": "stream",
     "text": [
      "Enter a sentence:abbb cd pqr 123\n",
      "abbb\n",
      "\n",
      "contains vowel\n",
      "abbb\n"
     ]
    }
   ],
   "source": [
    "# WAP to input a string and print the words which start with a vowel\n",
    "s = input(\"Enter a sentence:\")\n",
    "words = s.split() # split by space\n",
    "\n",
    "def starts_with_vowel(s):\n",
    "    if len(s) == 0:\n",
    "        return False\n",
    "    return s[0].lower() in 'aeiou'\n",
    "\n",
    "\n",
    "def contains_vowel(s):\n",
    "    if len(s) == 0:\n",
    "        return False\n",
    "    i  = 0\n",
    "    while i < len(s):\n",
    "        if s[i] in 'aeiouAEIOU':\n",
    "            return True\n",
    "        i += 1\n",
    "\n",
    "    return False\n",
    "\n",
    "i = 0\n",
    "while i < len(words):\n",
    "    if starts_with_vowel(words[i]):\n",
    "        print(words[i])\n",
    "    i += 1\n",
    "\n",
    "print()\n",
    "print(\"contains vowel\")\n",
    "i = 0\n",
    "while i < len(words):\n",
    "    if contains_vowel(words[i]):\n",
    "        print(words[i])\n",
    "    i += 1\n"
   ]
  },
  {
   "cell_type": "code",
   "execution_count": 15,
   "id": "95d64a7f",
   "metadata": {},
   "outputs": [
    {
     "name": "stdout",
     "output_type": "stream",
     "text": [
      "Enter a sentence:this is a string\n",
      "is\n",
      "a\n"
     ]
    }
   ],
   "source": [
    "s = input(\"Enter a sentence:\")\n",
    "words = s.split() # split by space\n",
    "\n",
    "i = 0\n",
    "while i < len(words):\n",
    "    if words[i][0] in 'aeiouAEIOU':\n",
    "        print(words[i])\n",
    "    i += 1\n"
   ]
  },
  {
   "cell_type": "code",
   "execution_count": null,
   "id": "c363591d",
   "metadata": {},
   "outputs": [],
   "source": [
    "s = input(\"Enter a sentence:\")\n",
    "words = s.split() # split by space\n",
    "\n",
    "i = 0\n",
    "while i < len(words):\n",
    "    has_vowel = False\n",
    "    \n",
    "    j = 0\n",
    "    while j < len(words[i]):\n",
    "        if words[i][j] in 'aeiouAEIOU':\n",
    "            has_vowel = True\n",
    "            break\n",
    "        j += 1\n",
    "\n",
    "    if has_vowel:\n",
    "        print(words[i])\n",
    "    i += 1"
   ]
  },
  {
   "cell_type": "code",
   "execution_count": 16,
   "id": "42567399",
   "metadata": {},
   "outputs": [
    {
     "name": "stdout",
     "output_type": "stream",
     "text": [
      "enter a stringthis is string\n",
      "The extracted words :  ['is']\n"
     ]
    }
   ],
   "source": [
    "s = input(\"enter a string\")\n",
    "words = s.split() # split by space\n",
    "vowel = \"aeiou\"\n",
    "i = 0 \n",
    "res = []\n",
    "while i < len(words):\n",
    "    if words[i][0] in vowel:  \n",
    "        res.append(words[i])\n",
    "    i +=1\n",
    "print(\"The extracted words : \", res)\n"
   ]
  },
  {
   "cell_type": "code",
   "execution_count": null,
   "id": "fbe5fbba",
   "metadata": {},
   "outputs": [],
   "source": []
  },
  {
   "cell_type": "code",
   "execution_count": null,
   "id": "16cc2dec",
   "metadata": {},
   "outputs": [],
   "source": [
    "# infinite loop"
   ]
  },
  {
   "cell_type": "code",
   "execution_count": 21,
   "id": "80d42629",
   "metadata": {},
   "outputs": [
    {
     "ename": "KeyboardInterrupt",
     "evalue": "",
     "output_type": "error",
     "traceback": [
      "\u001b[1;31m---------------------------------------------------------------------------\u001b[0m",
      "\u001b[1;31mKeyboardInterrupt\u001b[0m                         Traceback (most recent call last)",
      "\u001b[1;32mC:\\Users\\LEANGA~1\\AppData\\Local\\Temp/ipykernel_19236/2044646855.py\u001b[0m in \u001b[0;36m<module>\u001b[1;34m\u001b[0m\n\u001b[0;32m      1\u001b[0m \u001b[1;32mwhile\u001b[0m \u001b[1;32mTrue\u001b[0m\u001b[1;33m:\u001b[0m\u001b[1;33m\u001b[0m\u001b[1;33m\u001b[0m\u001b[0m\n\u001b[1;32m----> 2\u001b[1;33m     \u001b[1;32mpass\u001b[0m\u001b[1;33m\u001b[0m\u001b[1;33m\u001b[0m\u001b[0m\n\u001b[0m",
      "\u001b[1;31mKeyboardInterrupt\u001b[0m: "
     ]
    }
   ],
   "source": [
    "while True:\n",
    "    pass"
   ]
  },
  {
   "cell_type": "code",
   "execution_count": null,
   "id": "b9c8a5db",
   "metadata": {},
   "outputs": [],
   "source": [
    "# Loop-1\n",
    "i = 0\n",
    "while i < 100:\n",
    "    i += 1\n"
   ]
  },
  {
   "cell_type": "code",
   "execution_count": null,
   "id": "c31cd245",
   "metadata": {},
   "outputs": [],
   "source": [
    "# Loop-2\n",
    "i = 0\n",
    "while i < 100:\n",
    "    i -= 1\n"
   ]
  },
  {
   "cell_type": "code",
   "execution_count": null,
   "id": "dceea39f",
   "metadata": {},
   "outputs": [],
   "source": [
    "# Loop-3\n",
    "i = 0\n",
    "while i > 100:\n",
    "    i -= 1\n"
   ]
  },
  {
   "cell_type": "code",
   "execution_count": 22,
   "id": "0af4bb3b",
   "metadata": {},
   "outputs": [
    {
     "name": "stdout",
     "output_type": "stream",
     "text": [
      "0\n"
     ]
    }
   ],
   "source": [
    "# Loop-4\n",
    "i = 100\n",
    "while i > 0:\n",
    "    i -= 1\n",
    "print(i)"
   ]
  },
  {
   "cell_type": "code",
   "execution_count": null,
   "id": "5c23fdd8",
   "metadata": {},
   "outputs": [],
   "source": []
  },
  {
   "cell_type": "code",
   "execution_count": null,
   "id": "8ef13643",
   "metadata": {},
   "outputs": [],
   "source": [
    "### for loop"
   ]
  },
  {
   "cell_type": "code",
   "execution_count": 25,
   "id": "781f07b1",
   "metadata": {},
   "outputs": [
    {
     "name": "stdout",
     "output_type": "stream",
     "text": [
      "10\n",
      "20\n",
      "30\n",
      "40\n",
      "\n",
      "10\n",
      "20\n",
      "30\n",
      "40\n"
     ]
    }
   ],
   "source": [
    "# code -1\n",
    "a = [10,20,30,40]\n",
    "\n",
    "i = 0\n",
    "while i < len(a):\n",
    "    print(a[i])\n",
    "    i += 1\n",
    "    \n",
    "# code - 2\n",
    "print()\n",
    "a = [10,20,30,40]\n",
    "\n",
    "# for <var> in <iterable/sequence>:\n",
    "#     some code\n",
    "for v in a:\n",
    "    print(v)"
   ]
  },
  {
   "cell_type": "code",
   "execution_count": 29,
   "id": "d483e3f3",
   "metadata": {},
   "outputs": [
    {
     "name": "stdout",
     "output_type": "stream",
     "text": [
      "range(0, 10)\n",
      "[0, 1, 2, 3, 4, 5, 6, 7, 8, 9]\n",
      "\n",
      "range(5, 10)\n",
      "[5, 6, 7, 8, 9]\n",
      "\n",
      "range(2, 10, 3)\n",
      "[2, 5, 8]\n"
     ]
    }
   ],
   "source": [
    "# range()\n",
    "r = range(10)\n",
    "print(r)\n",
    "print(list(r))\n",
    "\n",
    "print()\n",
    "r = range(5, 10)\n",
    "print(r)\n",
    "print(list(r))\n",
    "\n",
    "print()\n",
    "r = range(2, 10, 3)\n",
    "print(r)\n",
    "print(list(r))"
   ]
  },
  {
   "cell_type": "code",
   "execution_count": 30,
   "id": "5a05de5a",
   "metadata": {},
   "outputs": [
    {
     "name": "stdout",
     "output_type": "stream",
     "text": [
      "0\n",
      "1\n",
      "2\n",
      "3\n",
      "4\n",
      "5\n",
      "6\n",
      "7\n",
      "8\n",
      "9\n"
     ]
    }
   ],
   "source": [
    "for i in range(10):\n",
    "    print(i)"
   ]
  },
  {
   "cell_type": "code",
   "execution_count": 31,
   "id": "876b05b9",
   "metadata": {},
   "outputs": [
    {
     "name": "stdout",
     "output_type": "stream",
     "text": [
      "1\n",
      "2\n",
      "3\n",
      "4\n",
      "5\n"
     ]
    }
   ],
   "source": [
    "for i in range(1, 6):\n",
    "    print(i)"
   ]
  },
  {
   "cell_type": "code",
   "execution_count": 33,
   "id": "68372a71",
   "metadata": {},
   "outputs": [
    {
     "name": "stdout",
     "output_type": "stream",
     "text": [
      "3\n",
      "4\n",
      "5\n",
      "7\n",
      "r\n",
      "sum of numbers:  19\n"
     ]
    }
   ],
   "source": [
    "# WAP to input numbers from user and keep adding them.\n",
    "# stop when user enters anything which is not a number\n",
    "# 10\n",
    "# 2\n",
    "# sdf\n",
    "\n",
    "res = 0\n",
    "while True:\n",
    "    s = input()\n",
    "    if not s.isdigit():\n",
    "        break\n",
    "        \n",
    "    res = res + int(s)\n",
    "    \n",
    "print(\"sum of numbers: \", res)"
   ]
  },
  {
   "cell_type": "code",
   "execution_count": null,
   "id": "a7a00c83",
   "metadata": {},
   "outputs": [],
   "source": []
  },
  {
   "cell_type": "code",
   "execution_count": null,
   "id": "20e0e279",
   "metadata": {},
   "outputs": [],
   "source": []
  },
  {
   "cell_type": "code",
   "execution_count": 8,
   "id": "7eee4096",
   "metadata": {},
   "outputs": [],
   "source": []
  },
  {
   "cell_type": "code",
   "execution_count": null,
   "id": "be003592",
   "metadata": {},
   "outputs": [],
   "source": []
  },
  {
   "cell_type": "code",
   "execution_count": null,
   "id": "7951f0b2",
   "metadata": {},
   "outputs": [],
   "source": []
  },
  {
   "cell_type": "code",
   "execution_count": null,
   "id": "4cdac1e7",
   "metadata": {},
   "outputs": [],
   "source": [
    "# iterators and iterables: collection\n",
    "# __iter__, __next__"
   ]
  },
  {
   "cell_type": "code",
   "execution_count": 36,
   "id": "579e4a2c",
   "metadata": {},
   "outputs": [
    {
     "name": "stdout",
     "output_type": "stream",
     "text": [
      "['__abs__', '__add__', '__and__', '__bool__', '__ceil__', '__class__', '__delattr__', '__dir__', '__divmod__', '__doc__', '__eq__', '__float__', '__floor__', '__floordiv__', '__format__', '__ge__', '__getattribute__', '__getnewargs__', '__gt__', '__hash__', '__index__', '__init__', '__init_subclass__', '__int__', '__invert__', '__le__', '__lshift__', '__lt__', '__mod__', '__mul__', '__ne__', '__neg__', '__new__', '__or__', '__pos__', '__pow__', '__radd__', '__rand__', '__rdivmod__', '__reduce__', '__reduce_ex__', '__repr__', '__rfloordiv__', '__rlshift__', '__rmod__', '__rmul__', '__ror__', '__round__', '__rpow__', '__rrshift__', '__rshift__', '__rsub__', '__rtruediv__', '__rxor__', '__setattr__', '__sizeof__', '__str__', '__sub__', '__subclasshook__', '__truediv__', '__trunc__', '__xor__', 'as_integer_ratio', 'bit_length', 'conjugate', 'denominator', 'from_bytes', 'imag', 'numerator', 'real', 'to_bytes']\n",
      "False\n"
     ]
    }
   ],
   "source": [
    "print(dir(10))\n",
    "print('__iter__' in dir(10))"
   ]
  },
  {
   "cell_type": "code",
   "execution_count": 37,
   "id": "1abdbbfc",
   "metadata": {},
   "outputs": [
    {
     "name": "stdout",
     "output_type": "stream",
     "text": [
      "['__add__', '__class__', '__contains__', '__delattr__', '__delitem__', '__dir__', '__doc__', '__eq__', '__format__', '__ge__', '__getattribute__', '__getitem__', '__gt__', '__hash__', '__iadd__', '__imul__', '__init__', '__init_subclass__', '__iter__', '__le__', '__len__', '__lt__', '__mul__', '__ne__', '__new__', '__reduce__', '__reduce_ex__', '__repr__', '__reversed__', '__rmul__', '__setattr__', '__setitem__', '__sizeof__', '__str__', '__subclasshook__', 'append', 'clear', 'copy', 'count', 'extend', 'index', 'insert', 'pop', 'remove', 'reverse', 'sort']\n",
      "True\n"
     ]
    }
   ],
   "source": [
    "print(dir([]))\n",
    "print('__iter__' in dir([]))"
   ]
  },
  {
   "cell_type": "code",
   "execution_count": 38,
   "id": "b2f7bb96",
   "metadata": {},
   "outputs": [
    {
     "name": "stdout",
     "output_type": "stream",
     "text": [
      "['__bool__', '__class__', '__contains__', '__delattr__', '__dir__', '__doc__', '__eq__', '__format__', '__ge__', '__getattribute__', '__getitem__', '__gt__', '__hash__', '__init__', '__init_subclass__', '__iter__', '__le__', '__len__', '__lt__', '__ne__', '__new__', '__reduce__', '__reduce_ex__', '__repr__', '__reversed__', '__setattr__', '__sizeof__', '__str__', '__subclasshook__', 'count', 'index', 'start', 'step', 'stop']\n",
      "True\n"
     ]
    }
   ],
   "source": [
    "print(dir(range(10)))\n",
    "print('__iter__' in dir(range(10)))"
   ]
  },
  {
   "cell_type": "code",
   "execution_count": 39,
   "id": "07e89b8f",
   "metadata": {},
   "outputs": [
    {
     "name": "stdout",
     "output_type": "stream",
     "text": [
      "['__add__', '__class__', '__contains__', '__delattr__', '__dir__', '__doc__', '__eq__', '__format__', '__ge__', '__getattribute__', '__getitem__', '__getnewargs__', '__gt__', '__hash__', '__init__', '__init_subclass__', '__iter__', '__le__', '__len__', '__lt__', '__mod__', '__mul__', '__ne__', '__new__', '__reduce__', '__reduce_ex__', '__repr__', '__rmod__', '__rmul__', '__setattr__', '__sizeof__', '__str__', '__subclasshook__', 'capitalize', 'casefold', 'center', 'count', 'encode', 'endswith', 'expandtabs', 'find', 'format', 'format_map', 'index', 'isalnum', 'isalpha', 'isascii', 'isdecimal', 'isdigit', 'isidentifier', 'islower', 'isnumeric', 'isprintable', 'isspace', 'istitle', 'isupper', 'join', 'ljust', 'lower', 'lstrip', 'maketrans', 'partition', 'replace', 'rfind', 'rindex', 'rjust', 'rpartition', 'rsplit', 'rstrip', 'split', 'splitlines', 'startswith', 'strip', 'swapcase', 'title', 'translate', 'upper', 'zfill']\n",
      "True\n"
     ]
    }
   ],
   "source": [
    "print(dir(''))\n",
    "print('__iter__' in dir(''))"
   ]
  },
  {
   "cell_type": "code",
   "execution_count": 40,
   "id": "76acbeb9",
   "metadata": {},
   "outputs": [],
   "source": [
    "for v in '':\n",
    "    paas"
   ]
  },
  {
   "cell_type": "code",
   "execution_count": 41,
   "id": "e42b182d",
   "metadata": {},
   "outputs": [
    {
     "ename": "TypeError",
     "evalue": "'int' object is not iterable",
     "output_type": "error",
     "traceback": [
      "\u001b[1;31m---------------------------------------------------------------------------\u001b[0m",
      "\u001b[1;31mTypeError\u001b[0m                                 Traceback (most recent call last)",
      "\u001b[1;32mC:\\Users\\LEANGA~1\\AppData\\Local\\Temp/ipykernel_19236/539271295.py\u001b[0m in \u001b[0;36m<module>\u001b[1;34m\u001b[0m\n\u001b[1;32m----> 1\u001b[1;33m \u001b[1;32mfor\u001b[0m \u001b[0mv\u001b[0m \u001b[1;32min\u001b[0m \u001b[1;36m10\u001b[0m\u001b[1;33m:\u001b[0m\u001b[1;33m\u001b[0m\u001b[1;33m\u001b[0m\u001b[0m\n\u001b[0m\u001b[0;32m      2\u001b[0m     \u001b[0mpaas\u001b[0m\u001b[1;33m\u001b[0m\u001b[1;33m\u001b[0m\u001b[0m\n",
      "\u001b[1;31mTypeError\u001b[0m: 'int' object is not iterable"
     ]
    }
   ],
   "source": [
    "for v in 10:\n",
    "    paas"
   ]
  },
  {
   "cell_type": "code",
   "execution_count": 42,
   "id": "944e3c2d",
   "metadata": {},
   "outputs": [
    {
     "name": "stdout",
     "output_type": "stream",
     "text": [
      "<list_iterator object at 0x000001B7D01876A0>\n"
     ]
    }
   ],
   "source": [
    "i = iter([10,20,30,40])\n",
    "print(i) # iterator"
   ]
  },
  {
   "cell_type": "code",
   "execution_count": 44,
   "id": "7be0265b",
   "metadata": {},
   "outputs": [
    {
     "name": "stdout",
     "output_type": "stream",
     "text": [
      "<str_iterator object at 0x000001B7D0187760>\n",
      "['__class__', '__delattr__', '__dir__', '__doc__', '__eq__', '__format__', '__ge__', '__getattribute__', '__gt__', '__hash__', '__init__', '__init_subclass__', '__iter__', '__le__', '__length_hint__', '__lt__', '__ne__', '__new__', '__next__', '__reduce__', '__reduce_ex__', '__repr__', '__setattr__', '__setstate__', '__sizeof__', '__str__', '__subclasshook__']\n"
     ]
    }
   ],
   "source": [
    "i = iter('abcd')\n",
    "print(i) # iterator\n",
    "print(dir(i))"
   ]
  },
  {
   "cell_type": "code",
   "execution_count": 47,
   "id": "d28a0a7e",
   "metadata": {},
   "outputs": [
    {
     "name": "stdout",
     "output_type": "stream",
     "text": [
      "a\n",
      "b\n",
      "c\n",
      "d\n"
     ]
    },
    {
     "ename": "StopIteration",
     "evalue": "",
     "output_type": "error",
     "traceback": [
      "\u001b[1;31m---------------------------------------------------------------------------\u001b[0m",
      "\u001b[1;31mStopIteration\u001b[0m                             Traceback (most recent call last)",
      "\u001b[1;32mC:\\Users\\LEANGA~1\\AppData\\Local\\Temp/ipykernel_19236/2439853595.py\u001b[0m in \u001b[0;36m<module>\u001b[1;34m\u001b[0m\n\u001b[0;32m      4\u001b[0m \u001b[0mprint\u001b[0m\u001b[1;33m(\u001b[0m\u001b[0mnext\u001b[0m\u001b[1;33m(\u001b[0m\u001b[0mi\u001b[0m\u001b[1;33m)\u001b[0m\u001b[1;33m)\u001b[0m\u001b[1;33m\u001b[0m\u001b[1;33m\u001b[0m\u001b[0m\n\u001b[0;32m      5\u001b[0m \u001b[0mprint\u001b[0m\u001b[1;33m(\u001b[0m\u001b[0mnext\u001b[0m\u001b[1;33m(\u001b[0m\u001b[0mi\u001b[0m\u001b[1;33m)\u001b[0m\u001b[1;33m)\u001b[0m\u001b[1;33m\u001b[0m\u001b[1;33m\u001b[0m\u001b[0m\n\u001b[1;32m----> 6\u001b[1;33m \u001b[0mprint\u001b[0m\u001b[1;33m(\u001b[0m\u001b[0mnext\u001b[0m\u001b[1;33m(\u001b[0m\u001b[0mi\u001b[0m\u001b[1;33m)\u001b[0m\u001b[1;33m)\u001b[0m\u001b[1;33m\u001b[0m\u001b[1;33m\u001b[0m\u001b[0m\n\u001b[0m",
      "\u001b[1;31mStopIteration\u001b[0m: "
     ]
    }
   ],
   "source": [
    "i = iter('abcd')\n",
    "print(next(i))\n",
    "print(next(i))\n",
    "print(next(i))\n",
    "print(next(i))\n",
    "print(next(i))"
   ]
  },
  {
   "cell_type": "code",
   "execution_count": 48,
   "id": "1bfc01a2",
   "metadata": {},
   "outputs": [
    {
     "name": "stdout",
     "output_type": "stream",
     "text": [
      "it1 a\n",
      "it1 b\n",
      "it2 a\n",
      "it1 c\n"
     ]
    }
   ],
   "source": [
    "it1 = iter('abcd')\n",
    "it2 = iter('abcd')\n",
    "\n",
    "print(\"it1\", next(it1))\n",
    "print(\"it1\", next(it1))\n",
    "print(\"it2\", next(it2))\n",
    "print(\"it1\", next(it1))"
   ]
  },
  {
   "cell_type": "code",
   "execution_count": 49,
   "id": "c1438a34",
   "metadata": {},
   "outputs": [
    {
     "name": "stdout",
     "output_type": "stream",
     "text": [
      "a\n",
      "b\n",
      "c\n",
      "d\n"
     ]
    },
    {
     "ename": "StopIteration",
     "evalue": "",
     "output_type": "error",
     "traceback": [
      "\u001b[1;31m---------------------------------------------------------------------------\u001b[0m",
      "\u001b[1;31mStopIteration\u001b[0m                             Traceback (most recent call last)",
      "\u001b[1;32mC:\\Users\\LEANGA~1\\AppData\\Local\\Temp/ipykernel_19236/1597365689.py\u001b[0m in \u001b[0;36m<module>\u001b[1;34m\u001b[0m\n\u001b[0;32m      2\u001b[0m \u001b[1;33m\u001b[0m\u001b[0m\n\u001b[0;32m      3\u001b[0m \u001b[1;32mwhile\u001b[0m \u001b[1;32mTrue\u001b[0m\u001b[1;33m:\u001b[0m\u001b[1;33m\u001b[0m\u001b[1;33m\u001b[0m\u001b[0m\n\u001b[1;32m----> 4\u001b[1;33m     \u001b[0mv\u001b[0m \u001b[1;33m=\u001b[0m \u001b[0mnext\u001b[0m\u001b[1;33m(\u001b[0m\u001b[0mit1\u001b[0m\u001b[1;33m)\u001b[0m\u001b[1;33m\u001b[0m\u001b[1;33m\u001b[0m\u001b[0m\n\u001b[0m\u001b[0;32m      5\u001b[0m     \u001b[0mprint\u001b[0m\u001b[1;33m(\u001b[0m\u001b[0mv\u001b[0m\u001b[1;33m)\u001b[0m\u001b[1;33m\u001b[0m\u001b[1;33m\u001b[0m\u001b[0m\n\u001b[0;32m      6\u001b[0m \u001b[1;33m\u001b[0m\u001b[0m\n",
      "\u001b[1;31mStopIteration\u001b[0m: "
     ]
    }
   ],
   "source": [
    "it1 = iter('abcd')\n",
    "\n",
    "while True:\n",
    "    v = next(it1)\n",
    "    print(v)\n",
    "    "
   ]
  },
  {
   "cell_type": "code",
   "execution_count": 50,
   "id": "09f21bec",
   "metadata": {},
   "outputs": [
    {
     "name": "stdout",
     "output_type": "stream",
     "text": [
      "a\n",
      "b\n",
      "c\n",
      "d\n"
     ]
    }
   ],
   "source": [
    "# handle stop iteration\n",
    "\n",
    "it1 = iter('abcd')\n",
    "\n",
    "try:\n",
    "    while True:\n",
    "        v = next(it1)\n",
    "        print(v)\n",
    "except:\n",
    "    pass"
   ]
  },
  {
   "cell_type": "code",
   "execution_count": 51,
   "id": "df911c56",
   "metadata": {},
   "outputs": [
    {
     "name": "stdout",
     "output_type": "stream",
     "text": [
      "a\n",
      "b\n",
      "c\n",
      "d\n"
     ]
    }
   ],
   "source": [
    "for v in 'abcd':\n",
    "    print(v)"
   ]
  }
 ],
 "metadata": {
  "kernelspec": {
   "display_name": "Python 3",
   "language": "python",
   "name": "python3"
  },
  "language_info": {
   "codemirror_mode": {
    "name": "ipython",
    "version": 3
   },
   "file_extension": ".py",
   "mimetype": "text/x-python",
   "name": "python",
   "nbconvert_exporter": "python",
   "pygments_lexer": "ipython3",
   "version": "3.8.8"
  }
 },
 "nbformat": 4,
 "nbformat_minor": 5
}
