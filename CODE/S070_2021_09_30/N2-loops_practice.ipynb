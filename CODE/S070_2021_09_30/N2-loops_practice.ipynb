{
 "cells": [
  {
   "cell_type": "code",
   "execution_count": null,
   "id": "8f2c634c",
   "metadata": {},
   "outputs": [],
   "source": [
    "# WAP to generate a list of 5 random numbers in range 1-100\n",
    "# [1,66,33,1,69]"
   ]
  },
  {
   "cell_type": "code",
   "execution_count": 1,
   "id": "0f09fcf4",
   "metadata": {},
   "outputs": [
    {
     "name": "stdout",
     "output_type": "stream",
     "text": [
      "[58, 3, 41, 93, 99]\n"
     ]
    }
   ],
   "source": [
    "import numpy as np\n",
    "res = []\n",
    "for j in range(5):\n",
    "    res.append(np.random.randint(1, 100))\n",
    "\n",
    "print(res)\n",
    "\n"
   ]
  },
  {
   "cell_type": "code",
   "execution_count": null,
   "id": "6e3f6517",
   "metadata": {},
   "outputs": [],
   "source": []
  },
  {
   "cell_type": "code",
   "execution_count": 2,
   "id": "b5e92156",
   "metadata": {},
   "outputs": [
    {
     "data": {
      "text/plain": [
       "array([84, 23, 28, 51, 85])"
      ]
     },
     "execution_count": 2,
     "metadata": {},
     "output_type": "execute_result"
    }
   ],
   "source": [
    "np.random.randint(1, 100, 5)"
   ]
  },
  {
   "cell_type": "code",
   "execution_count": 7,
   "id": "84d3e219",
   "metadata": {},
   "outputs": [
    {
     "name": "stdout",
     "output_type": "stream",
     "text": [
      "[22, 18, 76, 18, 21]\n"
     ]
    }
   ],
   "source": [
    "import random\n",
    "a=[]\n",
    "\n",
    "for i in range (1,6):\n",
    "    v=random.randint(1,100)\n",
    "    a.append(v)\n",
    "print(a)\n"
   ]
  },
  {
   "cell_type": "code",
   "execution_count": 14,
   "id": "46c1ed27",
   "metadata": {},
   "outputs": [
    {
     "name": "stdout",
     "output_type": "stream",
     "text": [
      "[19, 74, 33, 60, 9]\n"
     ]
    }
   ],
   "source": [
    "import random\n",
    "a=[]\n",
    "\n",
    "for _ in range (1,6):\n",
    "    v=random.randint(1,100)\n",
    "    a.append(v)\n",
    "print(a)\n"
   ]
  },
  {
   "cell_type": "code",
   "execution_count": null,
   "id": "70877951",
   "metadata": {},
   "outputs": [],
   "source": []
  },
  {
   "cell_type": "code",
   "execution_count": null,
   "id": "7ff747f1",
   "metadata": {},
   "outputs": [],
   "source": []
  },
  {
   "cell_type": "code",
   "execution_count": 15,
   "id": "3c435243",
   "metadata": {},
   "outputs": [
    {
     "name": "stdout",
     "output_type": "stream",
     "text": [
      "enter the string this  is string\n",
      "The number of vowels: 3\n"
     ]
    }
   ],
   "source": [
    "# WAF that takes a string and returns count of vowels in that string\n",
    "s=input(\"enter the string \");\n",
    "count_vowel=0\n",
    "for i in s:\n",
    "    if i in 'aeiouAEIOU':\n",
    "        count_vowel=count_vowel+1\n",
    "\n",
    "print(\"The number of vowels:\",count_vowel);\n"
   ]
  },
  {
   "cell_type": "code",
   "execution_count": 16,
   "id": "eb802ba0",
   "metadata": {},
   "outputs": [
    {
     "name": "stdout",
     "output_type": "stream",
     "text": [
      "enter the string abcde\n",
      "The number of vowels: 2\n"
     ]
    }
   ],
   "source": [
    "# WAF that takes a string and returns count of vowels in that string\n",
    "s=input(\"enter the string \");\n",
    "count_vowel=0\n",
    "\n",
    "for c in s:\n",
    "    count_vowel += (c in 'aeiouAEIOU')\n",
    "\n",
    "print(\"The number of vowels:\",count_vowel);\n"
   ]
  },
  {
   "cell_type": "code",
   "execution_count": 24,
   "id": "e0844011",
   "metadata": {},
   "outputs": [
    {
     "name": "stdout",
     "output_type": "stream",
     "text": [
      "Number of vowels are: 2\n"
     ]
    }
   ],
   "source": [
    "             \n",
    "def count_vowels(s):\n",
    "    vowels=0\n",
    "    for c in s:\n",
    "        vowels += (c in 'aeiouAEIOU') # (c in ['a' ,'e' , ...] ) or (c in ('a' ,'e' , ...) )\n",
    "    return vowels\n",
    "\n",
    "print(\"Number of vowels are:\" , count_vowels('abcde'))\n"
   ]
  },
  {
   "cell_type": "code",
   "execution_count": null,
   "id": "7c58ee45",
   "metadata": {},
   "outputs": [],
   "source": []
  },
  {
   "cell_type": "code",
   "execution_count": null,
   "id": "719110c9",
   "metadata": {},
   "outputs": [],
   "source": []
  },
  {
   "cell_type": "code",
   "execution_count": null,
   "id": "c0fa77ec",
   "metadata": {},
   "outputs": [],
   "source": []
  },
  {
   "cell_type": "code",
   "execution_count": 28,
   "id": "27f83f1b",
   "metadata": {},
   "outputs": [
    {
     "name": "stdout",
     "output_type": "stream",
     "text": [
      "Enter numbers separated by space: 1 22 33\n",
      "[1, 22, 33]\n",
      "726\n",
      "56\n"
     ]
    }
   ],
   "source": [
    "s = input(\"Enter numbers separated by space: \")\n",
    "\n",
    "nums = s.split()\n",
    "n = []\n",
    "\n",
    "for v in nums:\n",
    "    n.append(int(v))\n",
    "    \n",
    "print(n)\n",
    "\n",
    "def prod_nums(nums):\n",
    "    res = 1\n",
    "    for v in nums:\n",
    "        res *= v\n",
    "    return res\n",
    "\n",
    "def sum_nums(nums):\n",
    "    res = 0\n",
    "    for v in nums:\n",
    "        res += v\n",
    "    return res\n",
    "\n",
    "print(prod_nums(n))\n",
    "print(sum_nums(n))"
   ]
  },
  {
   "cell_type": "code",
   "execution_count": 30,
   "id": "d8cf43b9",
   "metadata": {},
   "outputs": [
    {
     "name": "stdout",
     "output_type": "stream",
     "text": [
      "60\n",
      "435\n"
     ]
    }
   ],
   "source": [
    "print( sum([10, 20 , 30]) )\n",
    "print( sum( range(1,30) ))"
   ]
  },
  {
   "cell_type": "code",
   "execution_count": 31,
   "id": "2b95af63",
   "metadata": {},
   "outputs": [
    {
     "name": "stdout",
     "output_type": "stream",
     "text": [
      "-10\n",
      "99\n"
     ]
    }
   ],
   "source": [
    "print( min([-1, 80, -10, 99]) )\n",
    "print( max([-1, 80, -10, 99]) )"
   ]
  }
 ],
 "metadata": {
  "kernelspec": {
   "display_name": "Python 3",
   "language": "python",
   "name": "python3"
  },
  "language_info": {
   "codemirror_mode": {
    "name": "ipython",
    "version": 3
   },
   "file_extension": ".py",
   "mimetype": "text/x-python",
   "name": "python",
   "nbconvert_exporter": "python",
   "pygments_lexer": "ipython3",
   "version": "3.8.8"
  }
 },
 "nbformat": 4,
 "nbformat_minor": 5
}
