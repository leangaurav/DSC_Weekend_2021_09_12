{
 "cells": [
  {
   "cell_type": "code",
   "execution_count": 5,
   "id": "1ffb5e72",
   "metadata": {},
   "outputs": [
    {
     "name": "stdout",
     "output_type": "stream",
     "text": [
      "\n",
      "*****\n",
      "  *\n",
      "  *\n",
      "  *\n",
      "  *\n",
      "\n",
      "'\\n*****\\n  *\\n  *\\n  *\\n  *\\n'\n",
      "\n",
      "*****\n",
      "  *\n",
      "  *\n",
      "  *\n",
      "  *\n",
      "'*****\\n  *\\n  *\\n  *\\n  *'\n"
     ]
    }
   ],
   "source": [
    "s = \"\"\"\n",
    "*****\n",
    "  *\n",
    "  *\n",
    "  *\n",
    "  *\n",
    "\"\"\"\n",
    "print(s)\n",
    "print(repr(s))\n",
    "\n",
    "print()\n",
    "s = \"\"\"*****\n",
    "  *\n",
    "  *\n",
    "  *\n",
    "  *\"\"\"\n",
    "print(s)\n",
    "print(repr(s))"
   ]
  },
  {
   "cell_type": "code",
   "execution_count": 8,
   "id": "2d473500",
   "metadata": {},
   "outputs": [
    {
     "name": "stdout",
     "output_type": "stream",
     "text": [
      "abcpqr\n",
      "abcpqrxyzABC\n"
     ]
    }
   ],
   "source": [
    "s = \"abc\" \"pqr\"\n",
    "print(s)\n",
    "\n",
    "s = \"abc\" \"pqr\" \\\n",
    "    \"xyz\" \\\n",
    "    \"ABC\"\n",
    "print(s)"
   ]
  },
  {
   "cell_type": "markdown",
   "id": "9f9fc600",
   "metadata": {},
   "source": [
    "## Functions"
   ]
  },
  {
   "cell_type": "code",
   "execution_count": 9,
   "id": "2d08b4b2",
   "metadata": {},
   "outputs": [
    {
     "name": "stdout",
     "output_type": "stream",
     "text": [
      "<class 'builtin_function_or_method'>\n",
      "<class 'type'>\n"
     ]
    }
   ],
   "source": [
    "print(type(print))\n",
    "print(type(type))"
   ]
  },
  {
   "cell_type": "code",
   "execution_count": null,
   "id": "8452e88e",
   "metadata": {},
   "outputs": [],
   "source": [
    "dir() # calling a function"
   ]
  },
  {
   "cell_type": "code",
   "execution_count": 10,
   "id": "4f3fb34d",
   "metadata": {},
   "outputs": [
    {
     "data": {
      "text/plain": [
       "<function dir>"
      ]
     },
     "execution_count": 10,
     "metadata": {},
     "output_type": "execute_result"
    }
   ],
   "source": [
    "dir"
   ]
  },
  {
   "cell_type": "code",
   "execution_count": 12,
   "id": "2f47e51d",
   "metadata": {},
   "outputs": [
    {
     "name": "stdout",
     "output_type": "stream",
     "text": [
      "1\n",
      "<class 'int'>\n"
     ]
    }
   ],
   "source": [
    "# int is a datatype: everything in python is a class or an object\n",
    "a = 1\n",
    "print(a)\n",
    "print(type(a))"
   ]
  },
  {
   "cell_type": "code",
   "execution_count": 13,
   "id": "09a635a5",
   "metadata": {},
   "outputs": [
    {
     "ename": "TypeError",
     "evalue": "'int' object is not callable",
     "output_type": "error",
     "traceback": [
      "\u001b[1;31m---------------------------------------------------------------------------\u001b[0m",
      "\u001b[1;31mTypeError\u001b[0m                                 Traceback (most recent call last)",
      "\u001b[1;32mC:\\Users\\LEANGA~1\\AppData\\Local\\Temp/ipykernel_20468/3324273086.py\u001b[0m in \u001b[0;36m<module>\u001b[1;34m\u001b[0m\n\u001b[0;32m      1\u001b[0m \u001b[0ma\u001b[0m \u001b[1;33m=\u001b[0m \u001b[0mint\u001b[0m\u001b[1;33m(\u001b[0m\u001b[1;33m)\u001b[0m \u001b[1;31m# creating an object of class int\u001b[0m\u001b[1;33m\u001b[0m\u001b[1;33m\u001b[0m\u001b[0m\n\u001b[1;32m----> 2\u001b[1;33m \u001b[0ma\u001b[0m\u001b[1;33m(\u001b[0m\u001b[1;33m)\u001b[0m\u001b[1;33m\u001b[0m\u001b[1;33m\u001b[0m\u001b[0m\n\u001b[0m\u001b[0;32m      3\u001b[0m \u001b[1;31m# here int is not a function\u001b[0m\u001b[1;33m\u001b[0m\u001b[1;33m\u001b[0m\u001b[1;33m\u001b[0m\u001b[0m\n",
      "\u001b[1;31mTypeError\u001b[0m: 'int' object is not callable"
     ]
    }
   ],
   "source": [
    "a = int() # creating an object of class int\n",
    "a()\n",
    "# here int is not a function"
   ]
  },
  {
   "cell_type": "code",
   "execution_count": 14,
   "id": "cf0ef051",
   "metadata": {},
   "outputs": [
    {
     "name": "stdout",
     "output_type": "stream",
     "text": [
      "1 <class 'int'>\n"
     ]
    }
   ],
   "source": [
    "a = int('1') # calling the constructor or __init__ method\n",
    "print(a, type(a))"
   ]
  },
  {
   "cell_type": "code",
   "execution_count": null,
   "id": "e0d86732",
   "metadata": {},
   "outputs": [],
   "source": [
    "print() # print is a function"
   ]
  },
  {
   "cell_type": "code",
   "execution_count": 16,
   "id": "2aa0403b",
   "metadata": {},
   "outputs": [
    {
     "name": "stdout",
     "output_type": "stream",
     "text": [
      "ABCABC\n",
      "abcabc\n",
      "0\n"
     ]
    }
   ],
   "source": [
    "s = 'abcABC'\n",
    "print(s.upper())\n",
    "print(s.lower())\n",
    "print(s.find('a'))"
   ]
  },
  {
   "cell_type": "code",
   "execution_count": 4,
   "id": "8f8b71e6",
   "metadata": {},
   "outputs": [
    {
     "name": "stdout",
     "output_type": "stream",
     "text": [
      "Enter the Temperature in Celsius:-37.5\n",
      "Temperture in Fra. is :-  99.5\n"
     ]
    }
   ],
   "source": [
    "## WAP to input temp in C  and print it in F\n",
    "a=float(input(\"Enter the Temperature in Celsius:-\"))\n",
    "temp=(a*9)/5 +32\n",
    "print(\"Temperture in Fra. is :- \", temp)"
   ]
  },
  {
   "cell_type": "code",
   "execution_count": null,
   "id": "c0cb2258",
   "metadata": {},
   "outputs": [],
   "source": [
    "- reusability\n",
    "- readability\n",
    "- modularity"
   ]
  },
  {
   "cell_type": "markdown",
   "id": "a2b18a64",
   "metadata": {},
   "source": [
    "## syntax of function\n",
    "\n",
    "```\n",
    "def <function identifiers>(parameters):\n",
    "    your code goes here\n",
    "    ...\n",
    "```"
   ]
  },
  {
   "cell_type": "markdown",
   "id": "405b2e13",
   "metadata": {},
   "source": [
    "- function is a named set  of statements which can be excuted from other parts of code\n",
    "- indentation"
   ]
  },
  {
   "cell_type": "code",
   "execution_count": 7,
   "id": "60871b17",
   "metadata": {},
   "outputs": [
    {
     "name": "stdout",
     "output_type": "stream",
     "text": [
      "Enter the Temperature in Celsius:-37\n",
      "Temperture in Fra. is :-  98.6\n",
      "Enter the Temperature in Celsius:-55\n",
      "Temperture in Fra. is :-  131.0\n"
     ]
    }
   ],
   "source": [
    "# v1: function definition\n",
    "def c_to_f():\n",
    "    a=float(input(\"Enter the Temperature in Celsius:-\"))\n",
    "    temp=(a*9)/5 +32\n",
    "    print(\"Temperture in Fra. is :- \", temp)\n",
    "    \n",
    "c_to_f() # calling\n",
    "c_to_f()"
   ]
  },
  {
   "cell_type": "code",
   "execution_count": null,
   "id": "7f1c4686",
   "metadata": {},
   "outputs": [],
   "source": [
    "c1 = 10\n",
    "c2 = 30\n",
    "f = c_to_f(c1) + c_to_f(c2)"
   ]
  },
  {
   "cell_type": "markdown",
   "id": "362c33c0",
   "metadata": {},
   "source": [
    "- parameters"
   ]
  },
  {
   "cell_type": "code",
   "execution_count": 15,
   "id": "0bce5426",
   "metadata": {},
   "outputs": [
    {
     "name": "stdout",
     "output_type": "stream",
     "text": [
      "10000\n",
      "enter a no:3\n",
      "81\n"
     ]
    }
   ],
   "source": [
    "def square(a): # a is an parameter\n",
    "    print(a*a)\n",
    "\n",
    "def sum(a,b): # a,b are parameters\n",
    "    print(a+b)\n",
    "    \n",
    "square(10)\n",
    "x = int(input(\"enter a no:\"))\n",
    "square(x)"
   ]
  },
  {
   "cell_type": "code",
   "execution_count": 18,
   "id": "dccf7868",
   "metadata": {},
   "outputs": [
    {
     "name": "stdout",
     "output_type": "stream",
     "text": [
      "Temperture in Fra. is :-  50.0\n",
      "Enter the Temperature in Celsius:-4\n",
      "Temperture in Fra. is :-  39.2\n"
     ]
    }
   ],
   "source": [
    "# v2: function definition\n",
    "def c_to_f(a):\n",
    "    temp=(a*9)/5 +32\n",
    "    print(\"Temperture in Fra. is :- \", temp)\n",
    "    \n",
    "c_to_f(10) # calling\n",
    "c = float(input(\"Enter the Temperature in Celsius:-\"))\n",
    "c_to_f(c)"
   ]
  },
  {
   "cell_type": "code",
   "execution_count": null,
   "id": "be935a07",
   "metadata": {},
   "outputs": [],
   "source": []
  },
  {
   "cell_type": "markdown",
   "id": "406733bd",
   "metadata": {},
   "source": [
    "## return statement in functinos\n"
   ]
  },
  {
   "cell_type": "code",
   "execution_count": 26,
   "id": "9e9c7bcf",
   "metadata": {},
   "outputs": [
    {
     "name": "stdout",
     "output_type": "stream",
     "text": [
      "f1 1\n",
      "f2 None\n",
      "A\n",
      "abcd\n",
      "f3 None\n",
      "f4 None\n"
     ]
    }
   ],
   "source": [
    "# by default all functions return a Nonee\n",
    "# if you put an  explicit return statement the behavior  changes\n",
    "def f1():\n",
    "    return 1\n",
    "\n",
    "def f2(): # use pass  keyword to satisfy the syntax\n",
    "    pass\n",
    "\n",
    "def f3():\n",
    "    print(\"A\")\n",
    "    print(\"abcd\")\n",
    "    x = 1*4\n",
    "\n",
    "def f4():\n",
    "    return None\n",
    "\n",
    "r = f1()\n",
    "print(\"f1\", r)\n",
    "\n",
    "r = f2()\n",
    "print(\"f2\", r)\n",
    "\n",
    "r = f3()\n",
    "print(\"f3\", r)\n",
    "\n",
    "r = f4()\n",
    "print(\"f4\", r)"
   ]
  },
  {
   "cell_type": "code",
   "execution_count": 29,
   "id": "d8b0d708",
   "metadata": {},
   "outputs": [
    {
     "name": "stdout",
     "output_type": "stream",
     "text": [
      "100\n",
      "enter a no:3\n",
      "9\n",
      "107\n",
      "49\n"
     ]
    }
   ],
   "source": [
    "def square(a): # a is an parameter\n",
    "    return a*a\n",
    "\n",
    "def sum(a,b): # a,b are parameters\n",
    "    return a+b\n",
    "\n",
    "print(square(10))\n",
    "x = int(input(\"enter a no:\"))\n",
    "print(square(x))\n",
    "\n",
    "a = square(10) + sum(3,4)\n",
    "print(a)\n",
    "\n",
    "print(square( sum(3,4) ))"
   ]
  },
  {
   "cell_type": "code",
   "execution_count": null,
   "id": "870b3383",
   "metadata": {},
   "outputs": [],
   "source": [
    "# WAF tha takes 2 numbers and returns the average of the numbers"
   ]
  },
  {
   "cell_type": "code",
   "execution_count": 31,
   "id": "1acf14f5",
   "metadata": {},
   "outputs": [
    {
     "name": "stdout",
     "output_type": "stream",
     "text": [
      "enter first no :10\n",
      "enter first no :20\n",
      "15.0\n"
     ]
    }
   ],
   "source": [
    "# dalip\n",
    "def avg(x,y):\n",
    "    return (x+y)/2\n",
    "\n",
    "x=int(input(\"enter first no :\"))\n",
    "y=int(input(\"enter first no :\"))\n",
    "\n",
    "print(avg(x,y))\n"
   ]
  },
  {
   "cell_type": "code",
   "execution_count": 35,
   "id": "259472ee",
   "metadata": {},
   "outputs": [
    {
     "name": "stdout",
     "output_type": "stream",
     "text": [
      "15.0\n"
     ]
    }
   ],
   "source": [
    "def average(number1, number2):\n",
    "    return (number1 + number2) / 2.0  # `2.0` to get floating precision\n",
    "print(average(10,20))"
   ]
  },
  {
   "cell_type": "code",
   "execution_count": null,
   "id": "e30c2a41",
   "metadata": {},
   "outputs": [],
   "source": [
    "def avg(a,b):\n",
    "    c= (a+b)/2\n",
    "    return c\n",
    "\n",
    "n1=int(input(\"Enter the number 1 :- \"))\n",
    "n2=int(input(\"Enter the number 2 :- \"))\n",
    "print(avg(n1,n2))"
   ]
  },
  {
   "cell_type": "code",
   "execution_count": 38,
   "id": "76e45bc7",
   "metadata": {},
   "outputs": [
    {
     "name": "stdout",
     "output_type": "stream",
     "text": [
      "enter a number1\n",
      "enter a number2\n"
     ]
    },
    {
     "ename": "TypeError",
     "evalue": "avg() takes 2 positional arguments but 3 were given",
     "output_type": "error",
     "traceback": [
      "\u001b[1;31m---------------------------------------------------------------------------\u001b[0m",
      "\u001b[1;31mTypeError\u001b[0m                                 Traceback (most recent call last)",
      "\u001b[1;32mC:\\Users\\LEANGA~1\\AppData\\Local\\Temp/ipykernel_5444/561290945.py\u001b[0m in \u001b[0;36m<module>\u001b[1;34m\u001b[0m\n\u001b[0;32m      4\u001b[0m \u001b[0ma\u001b[0m\u001b[1;33m=\u001b[0m\u001b[0mint\u001b[0m\u001b[1;33m(\u001b[0m\u001b[0minput\u001b[0m\u001b[1;33m(\u001b[0m\u001b[1;34m\"enter a number\"\u001b[0m\u001b[1;33m)\u001b[0m\u001b[1;33m)\u001b[0m\u001b[1;33m\u001b[0m\u001b[1;33m\u001b[0m\u001b[0m\n\u001b[0;32m      5\u001b[0m \u001b[0mb\u001b[0m\u001b[1;33m=\u001b[0m\u001b[0mint\u001b[0m\u001b[1;33m(\u001b[0m\u001b[0minput\u001b[0m\u001b[1;33m(\u001b[0m\u001b[1;34m\"enter a number\"\u001b[0m\u001b[1;33m)\u001b[0m\u001b[1;33m)\u001b[0m\u001b[1;33m\u001b[0m\u001b[1;33m\u001b[0m\u001b[0m\n\u001b[1;32m----> 6\u001b[1;33m \u001b[0mavg\u001b[0m\u001b[1;33m(\u001b[0m\u001b[0ma\u001b[0m\u001b[1;33m,\u001b[0m\u001b[0mb\u001b[0m\u001b[1;33m,\u001b[0m\u001b[0ma\u001b[0m\u001b[1;33m)\u001b[0m\u001b[1;33m\u001b[0m\u001b[1;33m\u001b[0m\u001b[0m\n\u001b[0m",
      "\u001b[1;31mTypeError\u001b[0m: avg() takes 2 positional arguments but 3 were given"
     ]
    }
   ],
   "source": [
    "def avg(a,b):\n",
    "    return ((a+b)/2)\n",
    "\n",
    "a=int(input(\"enter a number\"))\n",
    "b=int(input(\"enter a number\"))\n",
    "avg(a,b)"
   ]
  },
  {
   "cell_type": "code",
   "execution_count": null,
   "id": "fbd4c8da",
   "metadata": {},
   "outputs": [],
   "source": [
    "#prathap\n",
    "def Average():\n",
    "    return average \n",
    "\n",
    "a= int(input(\"enter the number:\"))\n",
    "b= int(input(\"enter the number:\"))\n",
    "\n",
    "print(average)\n",
    "\n"
   ]
  },
  {
   "cell_type": "code",
   "execution_count": 39,
   "id": "3ef655d6",
   "metadata": {},
   "outputs": [
    {
     "name": "stdout",
     "output_type": "stream",
     "text": [
      "Enter the number 1 :- 10\n",
      "Enter the number 2 :- 20\n",
      "15.0\n"
     ]
    }
   ],
   "source": [
    "def avg(a, b): # a,b is input\n",
    "    c= (a+b)/2 # mechanics\n",
    "    return c # outcome\n",
    "\n",
    "n1=int(input(\"Enter the number 1 :- \"))\n",
    "n2=int(input(\"Enter the number 2 :- \"))\n",
    "print(avg(n1,n2))"
   ]
  },
  {
   "cell_type": "code",
   "execution_count": 40,
   "id": "ae5377ea",
   "metadata": {},
   "outputs": [
    {
     "name": "stdout",
     "output_type": "stream",
     "text": [
      "Enter the first number : 0\n",
      "Enter the second number : 2\n",
      "1.0\n"
     ]
    }
   ],
   "source": [
    "def average(a,b):\n",
    "    return (a+b)/2\n",
    "\n",
    "x1=int(input(\"Enter the first number : \"))\n",
    "x2=int(input(\"Enter the second number : \"))\n",
    "print(average(x1,x2))"
   ]
  },
  {
   "cell_type": "code",
   "execution_count": null,
   "id": "332d7a94",
   "metadata": {},
   "outputs": [],
   "source": []
  },
  {
   "cell_type": "code",
   "execution_count": null,
   "id": "ee1ac5c5",
   "metadata": {},
   "outputs": [],
   "source": [
    "# variables and arguments"
   ]
  },
  {
   "cell_type": "code",
   "execution_count": 41,
   "id": "7df968fb",
   "metadata": {},
   "outputs": [
    {
     "name": "stdout",
     "output_type": "stream",
     "text": [
      "1\n"
     ]
    }
   ],
   "source": [
    "def f():\n",
    "    a = 1\n",
    "    print(a)\n",
    "\n",
    "f()"
   ]
  },
  {
   "cell_type": "code",
   "execution_count": 42,
   "id": "afbfe535",
   "metadata": {},
   "outputs": [
    {
     "name": "stdout",
     "output_type": "stream",
     "text": [
      "10\n"
     ]
    }
   ],
   "source": [
    "def f(a):\n",
    "    print(a)\n",
    "\n",
    "f(10)"
   ]
  },
  {
   "cell_type": "code",
   "execution_count": 44,
   "id": "0fa24ef1",
   "metadata": {},
   "outputs": [
    {
     "name": "stdout",
     "output_type": "stream",
     "text": [
      "100\n"
     ]
    }
   ],
   "source": [
    "a = 100\n",
    "def f():\n",
    "    print(a)\n",
    "\n",
    "f()"
   ]
  },
  {
   "cell_type": "code",
   "execution_count": 49,
   "id": "1d6e6331",
   "metadata": {},
   "outputs": [
    {
     "name": "stdout",
     "output_type": "stream",
     "text": [
      "f 10\n",
      "100\n",
      "f 100\n"
     ]
    }
   ],
   "source": [
    "a = 100 # global scope\n",
    "\n",
    "def f(a): # scope: function scope\n",
    "    print(\"f\", a)\n",
    "\n",
    "f(10)\n",
    "print(a)\n",
    "f(a)"
   ]
  },
  {
   "cell_type": "code",
   "execution_count": 48,
   "id": "0212f44a",
   "metadata": {},
   "outputs": [
    {
     "name": "stdout",
     "output_type": "stream",
     "text": [
      "from function 10\n"
     ]
    },
    {
     "ename": "NameError",
     "evalue": "name 'some_var' is not defined",
     "output_type": "error",
     "traceback": [
      "\u001b[1;31m---------------------------------------------------------------------------\u001b[0m",
      "\u001b[1;31mNameError\u001b[0m                                 Traceback (most recent call last)",
      "\u001b[1;32mC:\\Users\\LEANGA~1\\AppData\\Local\\Temp/ipykernel_5444/1337614796.py\u001b[0m in \u001b[0;36m<module>\u001b[1;34m\u001b[0m\n\u001b[0;32m      4\u001b[0m \u001b[1;33m\u001b[0m\u001b[0m\n\u001b[0;32m      5\u001b[0m \u001b[0mf\u001b[0m\u001b[1;33m(\u001b[0m\u001b[1;36m10\u001b[0m\u001b[1;33m)\u001b[0m\u001b[1;33m\u001b[0m\u001b[1;33m\u001b[0m\u001b[0m\n\u001b[1;32m----> 6\u001b[1;33m \u001b[0mprint\u001b[0m\u001b[1;33m(\u001b[0m\u001b[1;34m\"from main\"\u001b[0m\u001b[1;33m,\u001b[0m \u001b[0msome_var\u001b[0m\u001b[1;33m)\u001b[0m\u001b[1;33m\u001b[0m\u001b[1;33m\u001b[0m\u001b[0m\n\u001b[0m",
      "\u001b[1;31mNameError\u001b[0m: name 'some_var' is not defined"
     ]
    }
   ],
   "source": [
    "def f(some_var): # some_var has function scope\n",
    "    print(\"from function\", some_var)\n",
    "\n",
    "f(10)\n",
    "print(\"from main\", some_var) # some_var  is  not available  outside"
   ]
  },
  {
   "cell_type": "code",
   "execution_count": 50,
   "id": "7589be30",
   "metadata": {},
   "outputs": [
    {
     "name": "stdout",
     "output_type": "stream",
     "text": [
      "before abcd\n",
      "f1 abcd\n",
      "f2 100\n",
      "after abcd\n"
     ]
    }
   ],
   "source": [
    "a = \"abcd\"\n",
    "def f(a):\n",
    "    print(\"f1\", a)\n",
    "    a = 100\n",
    "    print(\"f2\", a)\n",
    "\n",
    "print(\"before\", a)\n",
    "f(a)\n",
    "print(\"after\", a)"
   ]
  },
  {
   "cell_type": "code",
   "execution_count": 51,
   "id": "a25e735d",
   "metadata": {},
   "outputs": [
    {
     "name": "stdout",
     "output_type": "stream",
     "text": [
      "before abcd\n",
      "f1 abcd\n",
      "f2 100\n",
      "after abcd\n"
     ]
    }
   ],
   "source": [
    "b = \"abcd\"\n",
    "def f(a):\n",
    "    print(\"f1\", a)\n",
    "    a = 100\n",
    "    print(\"f2\", a)\n",
    "\n",
    "print(\"before\", b)\n",
    "f(b)\n",
    "print(\"after\", b)"
   ]
  },
  {
   "cell_type": "code",
   "execution_count": 52,
   "id": "c282fccc",
   "metadata": {},
   "outputs": [
    {
     "name": "stdout",
     "output_type": "stream",
     "text": [
      "before 10\n",
      "100\n",
      "after 10\n"
     ]
    }
   ],
   "source": [
    "def f():\n",
    "    a = 100\n",
    "    return a\n",
    "\n",
    "a = 10\n",
    "print(\"before\", a)\n",
    "print(f())\n",
    "print(\"after\", a)"
   ]
  },
  {
   "cell_type": "code",
   "execution_count": 53,
   "id": "6d79a8f0",
   "metadata": {},
   "outputs": [
    {
     "name": "stdout",
     "output_type": "stream",
     "text": [
      "before 10\n",
      "after 100\n"
     ]
    }
   ],
   "source": [
    "def f():\n",
    "    a = 100\n",
    "    return a\n",
    "\n",
    "a = 10\n",
    "print(\"before\", a)\n",
    "a = f()\n",
    "print(\"after\", a)"
   ]
  },
  {
   "cell_type": "code",
   "execution_count": 55,
   "id": "fe20cdce",
   "metadata": {},
   "outputs": [
    {
     "ename": "NameError",
     "evalue": "name 'test_var' is not defined",
     "output_type": "error",
     "traceback": [
      "\u001b[1;31m---------------------------------------------------------------------------\u001b[0m",
      "\u001b[1;31mNameError\u001b[0m                                 Traceback (most recent call last)",
      "\u001b[1;32mC:\\Users\\LEANGA~1\\AppData\\Local\\Temp/ipykernel_5444/1025087583.py\u001b[0m in \u001b[0;36m<module>\u001b[1;34m\u001b[0m\n\u001b[0;32m      3\u001b[0m \u001b[1;33m\u001b[0m\u001b[0m\n\u001b[0;32m      4\u001b[0m \u001b[0mtest\u001b[0m\u001b[1;33m(\u001b[0m\u001b[1;33m)\u001b[0m\u001b[1;33m\u001b[0m\u001b[1;33m\u001b[0m\u001b[0m\n\u001b[1;32m----> 5\u001b[1;33m \u001b[0mprint\u001b[0m\u001b[1;33m(\u001b[0m\u001b[0mtest_var\u001b[0m\u001b[1;33m)\u001b[0m\u001b[1;33m\u001b[0m\u001b[1;33m\u001b[0m\u001b[0m\n\u001b[0m",
      "\u001b[1;31mNameError\u001b[0m: name 'test_var' is not defined"
     ]
    }
   ],
   "source": [
    "def test():\n",
    "    test_var = 100\n",
    "\n",
    "test()\n",
    "print(test_var)"
   ]
  },
  {
   "cell_type": "code",
   "execution_count": null,
   "id": "3be598bc",
   "metadata": {},
   "outputs": [],
   "source": []
  }
 ],
 "metadata": {
  "kernelspec": {
   "display_name": "Python 3",
   "language": "python",
   "name": "python3"
  },
  "language_info": {
   "codemirror_mode": {
    "name": "ipython",
    "version": 3
   },
   "file_extension": ".py",
   "mimetype": "text/x-python",
   "name": "python",
   "nbconvert_exporter": "python",
   "pygments_lexer": "ipython3",
   "version": "3.8.8"
  }
 },
 "nbformat": 4,
 "nbformat_minor": 5
}
