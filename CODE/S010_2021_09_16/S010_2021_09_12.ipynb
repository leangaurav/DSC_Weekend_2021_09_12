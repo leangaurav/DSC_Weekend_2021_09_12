{
 "cells": [
  {
   "cell_type": "markdown",
   "id": "7f18dbc9",
   "metadata": {},
   "source": [
    "### jupyter shortcuts\n",
    "Ctrl+  Enter -> run code  \n",
    "Shift+Enter -> run code + go to  next cell  \n",
    "Enter -> go to edit mode  \n",
    "Esc -> go into non-edit mode  \n",
    "a -> insert  cell above  \n",
    "b -> insert  cell below  \n",
    "dd -> delete cells  "
   ]
  },
  {
   "cell_type": "code",
   "execution_count": 15,
   "id": "04d6cafc",
   "metadata": {},
   "outputs": [
    {
     "name": "stdout",
     "output_type": "stream",
     "text": [
      "gaurav\n"
     ]
    }
   ],
   "source": [
    "print(\"gaurav\")"
   ]
  },
  {
   "cell_type": "code",
   "execution_count": null,
   "id": "9e519a7e",
   "metadata": {},
   "outputs": [],
   "source": []
  },
  {
   "cell_type": "code",
   "execution_count": 8,
   "id": "1bb8a4d8",
   "metadata": {},
   "outputs": [
    {
     "data": {
      "text/plain": [
       "11"
      ]
     },
     "execution_count": 8,
     "metadata": {},
     "output_type": "execute_result"
    }
   ],
   "source": [
    "1+10"
   ]
  },
  {
   "cell_type": "code",
   "execution_count": 13,
   "id": "b436de0e",
   "metadata": {},
   "outputs": [
    {
     "data": {
      "text/plain": [
       "2"
      ]
     },
     "execution_count": 13,
     "metadata": {},
     "output_type": "execute_result"
    }
   ],
   "source": [
    "1*2"
   ]
  },
  {
   "cell_type": "code",
   "execution_count": 11,
   "id": "34b7826b",
   "metadata": {},
   "outputs": [
    {
     "data": {
      "text/plain": [
       "1"
      ]
     },
     "execution_count": 11,
     "metadata": {},
     "output_type": "execute_result"
    }
   ],
   "source": [
    "1"
   ]
  },
  {
   "cell_type": "code",
   "execution_count": 12,
   "id": "c960443c",
   "metadata": {},
   "outputs": [
    {
     "data": {
      "text/plain": [
       "22"
      ]
     },
     "execution_count": 12,
     "metadata": {},
     "output_type": "execute_result"
    }
   ],
   "source": [
    "22"
   ]
  }
 ],
 "metadata": {
  "kernelspec": {
   "display_name": "Python 3",
   "language": "python",
   "name": "python3"
  },
  "language_info": {
   "codemirror_mode": {
    "name": "ipython",
    "version": 3
   },
   "file_extension": ".py",
   "mimetype": "text/x-python",
   "name": "python",
   "nbconvert_exporter": "python",
   "pygments_lexer": "ipython3",
   "version": "3.8.8"
  }
 },
 "nbformat": 4,
 "nbformat_minor": 5
}
