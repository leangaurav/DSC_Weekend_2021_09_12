{
 "cells": [
  {
   "cell_type": "code",
   "execution_count": 1,
   "id": "fe76b120",
   "metadata": {},
   "outputs": [
    {
     "data": {
      "text/plain": [
       "1"
      ]
     },
     "execution_count": 1,
     "metadata": {},
     "output_type": "execute_result"
    }
   ],
   "source": [
    "1"
   ]
  },
  {
   "cell_type": "code",
   "execution_count": 2,
   "id": "ee9148f7",
   "metadata": {},
   "outputs": [
    {
     "data": {
      "text/plain": [
       "float"
      ]
     },
     "execution_count": 2,
     "metadata": {},
     "output_type": "execute_result"
    }
   ],
   "source": [
    "type(1)\n",
    "type(1.0)"
   ]
  },
  {
   "cell_type": "code",
   "execution_count": 3,
   "id": "ccbbb822",
   "metadata": {},
   "outputs": [
    {
     "name": "stdout",
     "output_type": "stream",
     "text": [
      "<class 'int'>\n",
      "<class 'float'>\n"
     ]
    }
   ],
   "source": [
    "print(type(1))\n",
    "print(type(1.0))"
   ]
  },
  {
   "cell_type": "code",
   "execution_count": 4,
   "id": "db8bed55",
   "metadata": {},
   "outputs": [
    {
     "name": "stdout",
     "output_type": "stream",
     "text": [
      "21474836489999999999\n",
      "1\n"
     ]
    }
   ],
   "source": [
    "# there's no fixed size in bytes for int type in python\n",
    "print(21474836489999999999)\n",
    "print(1)"
   ]
  },
  {
   "cell_type": "code",
   "execution_count": 5,
   "id": "469c4620",
   "metadata": {},
   "outputs": [
    {
     "name": "stdout",
     "output_type": "stream",
     "text": [
      "2\n",
      "2.2\n",
      "<class 'int'>\n",
      "<class 'float'>\n"
     ]
    }
   ],
   "source": [
    "print  ( 1   +   1 )\n",
    "print(1+1.2)\n",
    "print( type( 1 + 1 ) )\n",
    "print( type( 1 + 1.2 ) )"
   ]
  },
  {
   "cell_type": "code",
   "execution_count": 6,
   "id": "6b3c91df",
   "metadata": {},
   "outputs": [],
   "source": [
    "# expressions => generates a value/result\n",
    "1+1;"
   ]
  },
  {
   "cell_type": "code",
   "execution_count": 7,
   "id": "a634ed0d",
   "metadata": {},
   "outputs": [
    {
     "name": "stdout",
     "output_type": "stream",
     "text": [
      "3\n",
      "gaurav\n"
     ]
    }
   ],
   "source": [
    "# this is a comment\n",
    "# in python we can use ; but it's rarely used.\n",
    "# instead python relies on line breaks to identify individual statements\n",
    "print(1+2);\n",
    "print(\"gaurav\");"
   ]
  },
  {
   "cell_type": "code",
   "execution_count": 8,
   "id": "6c7f16f4",
   "metadata": {},
   "outputs": [
    {
     "name": "stdout",
     "output_type": "stream",
     "text": [
      "3\n",
      "gaurav\n"
     ]
    }
   ],
   "source": [
    "print(1+2);print(\"gaurav\");"
   ]
  },
  {
   "cell_type": "code",
   "execution_count": 9,
   "id": "92cf7351",
   "metadata": {},
   "outputs": [
    {
     "name": "stdout",
     "output_type": "stream",
     "text": [
      "3\n"
     ]
    }
   ],
   "source": [
    "print(1 + 2) # this is a  comment"
   ]
  },
  {
   "cell_type": "code",
   "execution_count": 10,
   "id": "9a687216",
   "metadata": {},
   "outputs": [
    {
     "name": "stdout",
     "output_type": "stream",
     "text": [
      "<class 'str'>\n",
      "<class 'str'>\n"
     ]
    }
   ],
   "source": [
    "# string type\n",
    "print(type(\"gaurav\"))\n",
    "print(type(\"1+2\"))"
   ]
  },
  {
   "cell_type": "markdown",
   "id": "2e7811b9",
   "metadata": {},
   "source": [
    "## Variables"
   ]
  },
  {
   "cell_type": "code",
   "execution_count": 11,
   "id": "3d629b5d",
   "metadata": {},
   "outputs": [
    {
     "name": "stdout",
     "output_type": "stream",
     "text": [
      "1\n",
      "3\n",
      "<class 'int'>\n"
     ]
    }
   ],
   "source": [
    "x = 1\n",
    "print(x)\n",
    "print(x + 2)\n",
    "print( type(x) )"
   ]
  },
  {
   "cell_type": "code",
   "execution_count": 12,
   "id": "823cb629",
   "metadata": {},
   "outputs": [
    {
     "name": "stdout",
     "output_type": "stream",
     "text": [
      "1\n",
      "<class 'int'>\n",
      "1.3\n",
      "<class 'float'>\n",
      "abcd\n",
      "<class 'str'>\n"
     ]
    }
   ],
   "source": [
    "# dynamic typing: type of variable is deduced automatically from the data it holds\n",
    "x = 1\n",
    "print(x)\n",
    "print(type(x))\n",
    "x = 1.3\n",
    "print(x)\n",
    "print(type(x))\n",
    "x = \"abcd\"\n",
    "print(x)\n",
    "print(type(x))"
   ]
  },
  {
   "cell_type": "code",
   "execution_count": 13,
   "id": "dedd0d22",
   "metadata": {},
   "outputs": [],
   "source": [
    "# in c/c++/Java : each variable is associated with datatype: how much memory it takes\n",
    "# int x = 1; # 4 bytes\n",
    "# double y = 1.5; # 8 bytes\n",
    "# you can check the memory address of a vaiable and it doesn't change as you change the data\n",
    "# int x = 10;\n",
    "# x = 20;"
   ]
  },
  {
   "cell_type": "code",
   "execution_count": 14,
   "id": "71dd97de",
   "metadata": {},
   "outputs": [
    {
     "name": "stdout",
     "output_type": "stream",
     "text": [
      "9788896\n",
      "9789216\n",
      "140115258918960\n"
     ]
    }
   ],
   "source": [
    "x = 10\n",
    "print( id(x) )\n",
    "x = 20\n",
    "print( id(x) )\n",
    "x = 2.03\n",
    "print( id(x) )"
   ]
  },
  {
   "cell_type": "code",
   "execution_count": 15,
   "id": "3c0cfab9",
   "metadata": {},
   "outputs": [
    {
     "name": "stdout",
     "output_type": "stream",
     "text": [
      "2.03\n"
     ]
    }
   ],
   "source": [
    "print(x)"
   ]
  },
  {
   "cell_type": "markdown",
   "id": "792de9f0",
   "metadata": {},
   "source": [
    "print -> print on screen  \n",
    "type -> tells/returns  the datatype of what  you write in brackets  \n",
    "id -> memory address of what you put in thee bracket  of id"
   ]
  },
  {
   "cell_type": "code",
   "execution_count": 17,
   "id": "ef23d19b",
   "metadata": {},
   "outputs": [
    {
     "name": "stdout",
     "output_type": "stream",
     "text": [
      "4 2 3\n"
     ]
    }
   ],
   "source": [
    "x = 1\n",
    "y = 2\n",
    "z = x + y\n",
    "x = x + z\n",
    "print(x, y, z)\n",
    "\n",
    "# x 1 4\n",
    "# y 2 2\n",
    "# z 3 3"
   ]
  },
  {
   "cell_type": "code",
   "execution_count": 18,
   "id": "0b7b2ccd",
   "metadata": {},
   "outputs": [],
   "source": [
    "x = 1 # x is an identifier/ name of a variable"
   ]
  },
  {
   "cell_type": "code",
   "execution_count": 24,
   "id": "5c70bc68",
   "metadata": {},
   "outputs": [
    {
     "name": "stdout",
     "output_type": "stream",
     "text": [
      "1 1 1 2 3\n",
      "10 20\n"
     ]
    }
   ],
   "source": [
    "# valid  and invalid  identifieres\n",
    "x = 1\n",
    "_x= 1\n",
    "__X = 1\n",
    "x_y = 2\n",
    "s1 = 3\n",
    "s4343242342ffsfsdf = 10\n",
    "# 1x = 1\n",
    "# if = 1 # if is an identifier\n",
    "print(x, _x, __X, x_y, s1) # case sensitive\n",
    "# ABCD -> Upper case/capital\n",
    "# abcd -> lower case/small\n",
    "x = 10\n",
    "X = 20\n",
    "print(x, X)"
   ]
  },
  {
   "cell_type": "code",
   "execution_count": 25,
   "id": "ebd0220f",
   "metadata": {},
   "outputs": [
    {
     "name": "stdout",
     "output_type": "stream",
     "text": [
      "10 30 20\n"
     ]
    }
   ],
   "source": [
    "If = 10\n",
    "IF = 30\n",
    "iF = 20\n",
    "print(If, IF, iF)"
   ]
  },
  {
   "cell_type": "markdown",
   "id": "d19d5688",
   "metadata": {},
   "source": [
    "# messing up with print"
   ]
  },
  {
   "cell_type": "code",
   "execution_count": 26,
   "id": "160bec74",
   "metadata": {},
   "outputs": [
    {
     "name": "stdout",
     "output_type": "stream",
     "text": [
      "20 10\n"
     ]
    }
   ],
   "source": [
    "x = 10\n",
    "y = x\n",
    "x = 20\n",
    "print(x,y)"
   ]
  },
  {
   "cell_type": "code",
   "execution_count": 28,
   "id": "c4005003",
   "metadata": {},
   "outputs": [
    {
     "name": "stdout",
     "output_type": "stream",
     "text": [
      "<built-in function print>\n",
      "<built-in function print>\n"
     ]
    }
   ],
   "source": [
    "print( print )\n",
    "p = print\n",
    "print(p)"
   ]
  },
  {
   "cell_type": "code",
   "execution_count": null,
   "id": "333c6895",
   "metadata": {},
   "outputs": [],
   "source": []
  }
 ],
 "metadata": {
  "kernelspec": {
   "display_name": "Python 3 (ipykernel)",
   "language": "python",
   "name": "python3"
  },
  "language_info": {
   "codemirror_mode": {
    "name": "ipython",
    "version": 3
   },
   "file_extension": ".py",
   "mimetype": "text/x-python",
   "name": "python",
   "nbconvert_exporter": "python",
   "pygments_lexer": "ipython3",
   "version": "3.8.10"
  }
 },
 "nbformat": 4,
 "nbformat_minor": 5
}
