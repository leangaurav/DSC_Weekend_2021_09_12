{
 "cells": [
  {
   "cell_type": "code",
   "execution_count": null,
   "id": "524745bf",
   "metadata": {},
   "outputs": [],
   "source": [
    "# Doubt"
   ]
  },
  {
   "cell_type": "code",
   "execution_count": null,
   "id": "fcb2f60e",
   "metadata": {},
   "outputs": [],
   "source": [
    "p = float(input(\"Enter the time in seconds : \"))\n",
    "day=p//86400\n",
    "hour=p//3600\n",
    "min=p%60\n",
    "sec=p/60\n",
    "print(day,\"day\",hour,\"hour\", min,\"min\",sec,\"sec\")\n"
   ]
  },
  {
   "cell_type": "code",
   "execution_count": 1,
   "id": "13d51c5a",
   "metadata": {},
   "outputs": [
    {
     "ename": "SyntaxError",
     "evalue": "invalid syntax (Temp/ipykernel_20336/3095514377.py, line 1)",
     "output_type": "error",
     "traceback": [
      "\u001b[1;36m  File \u001b[1;32m\"C:\\Users\\LEANGA~1\\AppData\\Local\\Temp/ipykernel_20336/3095514377.py\"\u001b[1;36m, line \u001b[1;32m1\u001b[0m\n\u001b[1;33m    126s -> 2m 6s\u001b[0m\n\u001b[1;37m       ^\u001b[0m\n\u001b[1;31mSyntaxError\u001b[0m\u001b[1;31m:\u001b[0m invalid syntax\n"
     ]
    }
   ],
   "source": [
    "126s -> 2m 6s\n",
    "s//60 -> m   s%60 -> 6\n",
    "3726s -> 3600s + 126s -> 62m 6s\n",
    "62m -> 1h   2m\n",
    "1h 2m 6s"
   ]
  },
  {
   "cell_type": "code",
   "execution_count": null,
   "id": "5de6d0a8",
   "metadata": {},
   "outputs": [],
   "source": []
  },
  {
   "cell_type": "code",
   "execution_count": null,
   "id": "45989b61",
   "metadata": {},
   "outputs": [],
   "source": [
    "## Bool conversion and logical expressions"
   ]
  },
  {
   "cell_type": "code",
   "execution_count": 2,
   "id": "72383567",
   "metadata": {},
   "outputs": [
    {
     "name": "stdout",
     "output_type": "stream",
     "text": [
      "True\n",
      "True\n",
      "False\n"
     ]
    }
   ],
   "source": [
    "print(bool(10))\n",
    "print(bool(-10))\n",
    "print(bool(0))"
   ]
  },
  {
   "cell_type": "code",
   "execution_count": 4,
   "id": "4debf383",
   "metadata": {},
   "outputs": [
    {
     "name": "stdout",
     "output_type": "stream",
     "text": [
      "False\n",
      "True\n"
     ]
    }
   ],
   "source": [
    "print(bool(\"\"))\n",
    "print(bool(\" \"))"
   ]
  },
  {
   "cell_type": "code",
   "execution_count": 5,
   "id": "f1914ba6",
   "metadata": {},
   "outputs": [
    {
     "name": "stdout",
     "output_type": "stream",
     "text": [
      "False\n",
      "True\n"
     ]
    }
   ],
   "source": [
    "print(bool([]))\n",
    "print(bool([0]))"
   ]
  },
  {
   "cell_type": "code",
   "execution_count": null,
   "id": "440c4944",
   "metadata": {},
   "outputs": [],
   "source": [
    "%, + , - , *, ..."
   ]
  },
  {
   "cell_type": "code",
   "execution_count": 8,
   "id": "af088283",
   "metadata": {},
   "outputs": [
    {
     "name": "stdout",
     "output_type": "stream",
     "text": [
      "enter a number-1\n",
      "non-zero number\n"
     ]
    }
   ],
   "source": [
    "n = int(input(\"enter a number\"))\n",
    "if n:\n",
    "    print(\"non-zero number\")\n",
    "else:\n",
    "    print(\"zero\")"
   ]
  },
  {
   "cell_type": "code",
   "execution_count": 9,
   "id": "02168a3d",
   "metadata": {},
   "outputs": [
    {
     "name": "stdout",
     "output_type": "stream",
     "text": [
      "True\n",
      "False\n",
      "False\n",
      "True\n"
     ]
    }
   ],
   "source": [
    "# < , > , >= , <= , == , != : relational\n",
    "# = Assignment operator\n",
    "print(1==1)\n",
    "print(2==1)\n",
    "print(1!=1)\n",
    "print(2!=1)"
   ]
  },
  {
   "cell_type": "code",
   "execution_count": null,
   "id": "ada13452",
   "metadata": {},
   "outputs": [],
   "source": [
    "n = int(input(\"enter a number\"))\n",
    "if n != 0: # explicit\n",
    "    print(\"non-zero number\")\n",
    "else:\n",
    "    print(\"zero\")"
   ]
  },
  {
   "cell_type": "code",
   "execution_count": null,
   "id": "ec7bfe16",
   "metadata": {},
   "outputs": [],
   "source": [
    "# logical operators\n",
    "# and , or , not -> other languages && , || , !"
   ]
  },
  {
   "cell_type": "code",
   "execution_count": 16,
   "id": "396b01eb",
   "metadata": {},
   "outputs": [
    {
     "name": "stdout",
     "output_type": "stream",
     "text": [
      "False\n",
      "False\n",
      "False\n",
      "True\n"
     ]
    }
   ],
   "source": [
    "print(True and False)\n",
    "print(False and False)\n",
    "print(True and False and  True)\n",
    "print(True and True and True)\n",
    "# gives you true when all operands are true"
   ]
  },
  {
   "cell_type": "code",
   "execution_count": 15,
   "id": "cf9aae6c",
   "metadata": {},
   "outputs": [
    {
     "name": "stdout",
     "output_type": "stream",
     "text": [
      "enter a number30\n",
      "True\n"
     ]
    }
   ],
   "source": [
    "# WAP that inputs a number and prints True if the number is a multiple of both 3 and 5.. not a multiple\n",
    "n = int(input(\"enter a number\"))\n",
    "\n",
    "if n%3 == 0 and n%5==0 : # -> (n%3 == 0) and (n%5 == 0)\n",
    "    print(\"True\")\n",
    "else:\n",
    "    print(\"not a multiple\")"
   ]
  },
  {
   "cell_type": "code",
   "execution_count": 18,
   "id": "485e0a56",
   "metadata": {},
   "outputs": [
    {
     "name": "stdout",
     "output_type": "stream",
     "text": [
      "True\n",
      "True\n",
      "True\n",
      "False\n"
     ]
    }
   ],
   "source": [
    "print(True or False)\n",
    "print(True or False or True)\n",
    "print(True or True  or True)\n",
    "print(False or False  or False)\n",
    "# gives you true when all operands are true"
   ]
  },
  {
   "cell_type": "code",
   "execution_count": null,
   "id": "55920d35",
   "metadata": {},
   "outputs": [],
   "source": [
    "# WAP to input a character: len(str) -> 1\n",
    "# print whether it's a vowel or not. -> a e i o u"
   ]
  },
  {
   "cell_type": "code",
   "execution_count": 21,
   "id": "6e2ce778",
   "metadata": {},
   "outputs": [
    {
     "name": "stdout",
     "output_type": "stream",
     "text": [
      "enter a character1\n",
      "Not a vowel\n"
     ]
    }
   ],
   "source": [
    "s=input(\"enter a character\")\n",
    "if s=='a' or s=='e' or s=='i' or s=='o' or s=='u':\n",
    "    print(\"its a vowel\")\n",
    "else:\n",
    "    print(\"Not a vowel\")"
   ]
  },
  {
   "cell_type": "code",
   "execution_count": 25,
   "id": "ed74d0b1",
   "metadata": {},
   "outputs": [
    {
     "name": "stdout",
     "output_type": "stream",
     "text": [
      "enter a character:aa\n",
      "Not a vowel\n"
     ]
    }
   ],
   "source": [
    "s=input(\"enter a character:\")\n",
    "\n",
    "s=s.lower()\n",
    "if s=='a' or s=='e' or s=='i' or s=='o' or s=='u':\n",
    "    print(\"its a vowel\")\n",
    "else:\n",
    "    print(\"Not a vowel\")"
   ]
  },
  {
   "cell_type": "code",
   "execution_count": 30,
   "id": "f0eea309",
   "metadata": {},
   "outputs": [
    {
     "name": "stdout",
     "output_type": "stream",
     "text": [
      "enter a character:ae\n",
      "its a vowel\n"
     ]
    }
   ],
   "source": [
    "s=input(\"enter a character:\")\n",
    "\n",
    "s=s.lower()\n",
    "if s in 'aeiou':\n",
    "    print(\"its a vowel\")\n",
    "else:\n",
    "    print(\"Not a vowel\")"
   ]
  },
  {
   "cell_type": "code",
   "execution_count": null,
   "id": "e0cb6234",
   "metadata": {},
   "outputs": [],
   "source": []
  },
  {
   "cell_type": "code",
   "execution_count": null,
   "id": "5a54a125",
   "metadata": {},
   "outputs": [],
   "source": [
    "def f():\n",
    "    print(1)\n",
    "    print(2)"
   ]
  },
  {
   "cell_type": "code",
   "execution_count": null,
   "id": "808b66c4",
   "metadata": {},
   "outputs": [],
   "source": [
    "# nested if else\n"
   ]
  },
  {
   "cell_type": "code",
   "execution_count": null,
   "id": "e0b60b0a",
   "metadata": {},
   "outputs": [],
   "source": [
    "# add validation on length of string\n",
    "s=input(\"enter a character:\")\n",
    "\n",
    "s=s.lower()\n",
    "if s=='a' or s=='e' or s=='i' or s=='o' or s=='u':\n",
    "    print(\"its a vowel\")\n",
    "else:\n",
    "    print(\"Not a vowel\")"
   ]
  },
  {
   "cell_type": "code",
   "execution_count": 33,
   "id": "ae4ef2c6",
   "metadata": {},
   "outputs": [
    {
     "name": "stdout",
     "output_type": "stream",
     "text": [
      "enter a character:333\n",
      "you entered 3 characters, expected 1 character\n"
     ]
    }
   ],
   "source": [
    "# add validation on length of string\n",
    "s=input(\"enter a character:\")\n",
    "\n",
    "s=s.lower()\n",
    "if len(s) == 1:\n",
    "    if s=='a' or s=='e' or s=='i' or s=='o' or s=='u': # 1 level of indentation\n",
    "        print(\"its a vowel\") # 2 level of indentation\n",
    "    else:\n",
    "        print(\"Not a vowel\")\n",
    "else:\n",
    "#    print(\"you entered %d characters, expected 1 character\" % len(s))\n",
    "    print(f\"you entered {len(s)} characters, expected 1 character\")"
   ]
  },
  {
   "cell_type": "code",
   "execution_count": null,
   "id": "edd9b380",
   "metadata": {},
   "outputs": [],
   "source": [
    "# add validation on length of string\n",
    "# does the issue of ae being recognized as vowel arise here  ? No\n",
    "s=input(\"enter a character:\")\n",
    "\n",
    "s=s.lower()\n",
    "if len(s) == 1:\n",
    "    if s in 'aeiou': # 1 level of indentation\n",
    "        print(\"its a vowel\") # 2 level of indentation\n",
    "    else:\n",
    "        print(\"Not a vowel\")\n",
    "else:\n",
    "#    print(\"you entered %d characters, expected 1 character\" % len(s))\n",
    "    print(f\"you entered {len(s)} characters, expected 1 character\")"
   ]
  },
  {
   "cell_type": "code",
   "execution_count": null,
   "id": "d7013765",
   "metadata": {},
   "outputs": [],
   "source": []
  },
  {
   "cell_type": "markdown",
   "id": "7c2248ee",
   "metadata": {},
   "source": [
    "## if-elif-else"
   ]
  },
  {
   "cell_type": "code",
   "execution_count": null,
   "id": "4e726056",
   "metadata": {},
   "outputs": [],
   "source": [
    "#  age : bus fee\n",
    "# 0-5 -> 0\n",
    "# 6-12 -> 10\n",
    "# 12 - ... -> 20"
   ]
  },
  {
   "cell_type": "code",
   "execution_count": null,
   "id": "06efdb77",
   "metadata": {},
   "outputs": [],
   "source": [
    "# WAP to input 3 numbers  and print the largest one"
   ]
  },
  {
   "cell_type": "code",
   "execution_count": 34,
   "id": "1f3e6390",
   "metadata": {},
   "outputs": [
    {
     "name": "stdout",
     "output_type": "stream",
     "text": [
      "Enter number:1\n",
      "Enter number:2\n",
      "Enter number:3\n",
      "3\n"
     ]
    }
   ],
   "source": [
    "a = int(input(\"Enter number:\"))\n",
    "b = int(input(\"Enter number:\"))\n",
    "c = int(input(\"Enter number:\"))\n",
    "\n",
    "if a > b:\n",
    "    if a > c:\n",
    "        print(a)\n",
    "    else:\n",
    "        print(c)\n",
    "else:\n",
    "    if b > c:\n",
    "        print(b)\n",
    "    else:\n",
    "        print(c)"
   ]
  },
  {
   "cell_type": "code",
   "execution_count": 35,
   "id": "997926f8",
   "metadata": {},
   "outputs": [
    {
     "name": "stdout",
     "output_type": "stream",
     "text": [
      "Enter number:1\n",
      "Enter number:2\n",
      "Enter number:3\n",
      "3\n"
     ]
    }
   ],
   "source": [
    "a = int(input(\"Enter number:\"))\n",
    "b = int(input(\"Enter number:\"))\n",
    "c = int(input(\"Enter number:\"))\n",
    "\n",
    "res = a\n",
    "if b > res:\n",
    "    res = b\n",
    "\n",
    "if c > res:\n",
    "    res = c\n",
    "print(res)"
   ]
  },
  {
   "cell_type": "code",
   "execution_count": null,
   "id": "58786ab0",
   "metadata": {},
   "outputs": [],
   "source": [
    "a = int(input(\"Enter number:\"))\n",
    "b = int(input(\"Enter number:\"))\n",
    "c = int(input(\"Enter number:\"))\n",
    "  \n",
    "if (a >= b) and (a >= c):\n",
    "    largest = a\n",
    "elif (b >= a) and (b >= c):\n",
    "    largest = b\n",
    "else: # optional\n",
    "    largest = c\n",
    "print(largest)"
   ]
  },
  {
   "cell_type": "code",
   "execution_count": null,
   "id": "7489af40",
   "metadata": {},
   "outputs": [],
   "source": [
    "# WAP to input a string and print whether it's a pallindrom or not\n",
    "# \"ABA\" True\n",
    "# \"ABC\" False"
   ]
  },
  {
   "cell_type": "code",
   "execution_count": 36,
   "id": "21341005",
   "metadata": {},
   "outputs": [
    {
     "name": "stdout",
     "output_type": "stream",
     "text": [
      "Enter the string:- 1\n",
      "Entered string is a pallandrome\n"
     ]
    }
   ],
   "source": [
    "a=input(\"Enter the string:- \")\n",
    "b=a[::-1]\n",
    "if a !=b:\n",
    "    print(\"Not a pallandrome\")\n",
    "else:\n",
    "    print(\"Entered string is a pallandrome\")\n"
   ]
  },
  {
   "cell_type": "code",
   "execution_count": null,
   "id": "a07ab187",
   "metadata": {},
   "outputs": [],
   "source": [
    "my_str = input(\"enter a string\") \n",
    "\n",
    "my_str = my_str.lower()\n",
    "rev_str = reversed(my_str) # reverse string \n",
    "\n",
    "if list(my_str) == list(rev_str): #string and rev string is equal or not ### ??\n",
    "    print(\"The string is a palindrome.\")\n",
    "else:\n",
    "\n",
    "    print(\"The string is not a palindrome.\")\n",
    " "
   ]
  },
  {
   "cell_type": "code",
   "execution_count": null,
   "id": "201ba9f4",
   "metadata": {},
   "outputs": [],
   "source": [
    "# WAP to input a number and tell whether even or odd"
   ]
  },
  {
   "cell_type": "code",
   "execution_count": null,
   "id": "e7ffc04e",
   "metadata": {},
   "outputs": [],
   "source": [
    "# https://www.hackerrank.com/challenges/py-if-else/problem"
   ]
  },
  {
   "cell_type": "code",
   "execution_count": null,
   "id": "066cd691",
   "metadata": {},
   "outputs": [],
   "source": [
    "# venkat\n",
    "N = int(input(\"Enter a number\"))\n",
    "\n",
    "if N % 2 != 0:\n",
    "    print (\"Weird\")\n",
    "else:\n",
    "    if N >= 2 and N <= 5:\n",
    "        print (\"Not Weird\")\n",
    "    elif N >= 6 and N <= 20:\n",
    "        print (\"Weird\")\n",
    "    elif N > 20:\n",
    "        print (\"Not Weird\")\n"
   ]
  },
  {
   "cell_type": "code",
   "execution_count": null,
   "id": "0d4de9cd",
   "metadata": {},
   "outputs": [],
   "source": [
    "# vedang\n",
    "a=int(input(\"Enter the number :- \"))\n",
    "if a%2!=0:\n",
    "    print(\"Weird\")\n",
    "if a in range (1,6):\n",
    "    if a %2==0:\n",
    "        print(\"Not Weird\")\n",
    "if a in range (5,21):\n",
    "    if a %2==0:\n",
    "        print(\"Weird\")\n",
    "elif a>=20 and a%2==0:\n",
    "    print(\"Not Weird\")"
   ]
  },
  {
   "cell_type": "code",
   "execution_count": 37,
   "id": "e7410c7a",
   "metadata": {},
   "outputs": [
    {
     "name": "stdout",
     "output_type": "stream",
     "text": [
      "True\n"
     ]
    }
   ],
   "source": [
    "print(1 < 2 < 3)"
   ]
  },
  {
   "cell_type": "code",
   "execution_count": 40,
   "id": "b4dcff4a",
   "metadata": {},
   "outputs": [
    {
     "name": "stdout",
     "output_type": "stream",
     "text": [
      "Enter a number8\n",
      "Weird\n"
     ]
    }
   ],
   "source": [
    "# venkat\n",
    "N = int(input(\"Enter a number\"))\n",
    "\n",
    "if N % 2 != 0:\n",
    "    print (\"Weird\")\n",
    "else:\n",
    "    if 2 <= N <= 5:\n",
    "        print (\"Not Weird\")\n",
    "    elif 6 <= N <= 20:\n",
    "        print (\"Weird\")\n",
    "    elif N > 20:\n",
    "        print (\"Not Weird\")\n"
   ]
  },
  {
   "cell_type": "code",
   "execution_count": null,
   "id": "daa9f110",
   "metadata": {},
   "outputs": [],
   "source": []
  },
  {
   "cell_type": "code",
   "execution_count": null,
   "id": "005874c8",
   "metadata": {},
   "outputs": [],
   "source": []
  },
  {
   "cell_type": "code",
   "execution_count": null,
   "id": "9bde0f74",
   "metadata": {},
   "outputs": [],
   "source": [
    "## WAS called f1_op.py\n",
    "# f1_op.py 10  + 20 -> 30\n",
    "# f1_op.py 10  - 20 -> -10\n",
    "# f1_op.py 10  * 20 -> 200\n",
    "# f1_op.py 10  / 20 -> 0.5"
   ]
  }
 ],
 "metadata": {
  "kernelspec": {
   "display_name": "Python 3",
   "language": "python",
   "name": "python3"
  },
  "language_info": {
   "codemirror_mode": {
    "name": "ipython",
    "version": 3
   },
   "file_extension": ".py",
   "mimetype": "text/x-python",
   "name": "python",
   "nbconvert_exporter": "python",
   "pygments_lexer": "ipython3",
   "version": "3.8.8"
  }
 },
 "nbformat": 4,
 "nbformat_minor": 5
}
