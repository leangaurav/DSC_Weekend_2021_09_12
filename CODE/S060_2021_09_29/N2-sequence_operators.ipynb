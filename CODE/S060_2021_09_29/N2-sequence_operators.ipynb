{
 "cells": [
  {
   "cell_type": "code",
   "execution_count": null,
   "id": "c8342f92",
   "metadata": {},
   "outputs": [],
   "source": [
    "## sequence and operators"
   ]
  },
  {
   "cell_type": "code",
   "execution_count": null,
   "id": "9c37803a",
   "metadata": {},
   "outputs": [],
   "source": [
    "# in : membership check\n",
    "# not in"
   ]
  },
  {
   "cell_type": "code",
   "execution_count": 1,
   "id": "6139f00d",
   "metadata": {},
   "outputs": [
    {
     "data": {
      "text/plain": [
       "True"
      ]
     },
     "execution_count": 1,
     "metadata": {},
     "output_type": "execute_result"
    }
   ],
   "source": [
    "\"a\" in \"abcd\""
   ]
  },
  {
   "cell_type": "code",
   "execution_count": 2,
   "id": "e6001997",
   "metadata": {},
   "outputs": [
    {
     "data": {
      "text/plain": [
       "0"
      ]
     },
     "execution_count": 2,
     "metadata": {},
     "output_type": "execute_result"
    }
   ],
   "source": [
    "\"abcd\".find(\"a\")"
   ]
  },
  {
   "cell_type": "code",
   "execution_count": 3,
   "id": "be17a466",
   "metadata": {},
   "outputs": [
    {
     "data": {
      "text/plain": [
       "True"
      ]
     },
     "execution_count": 3,
     "metadata": {},
     "output_type": "execute_result"
    }
   ],
   "source": [
    "\"abcd\".find(\"a\") != -1 # \"a\" in \"abcd\""
   ]
  },
  {
   "cell_type": "code",
   "execution_count": 4,
   "id": "c4530abc",
   "metadata": {},
   "outputs": [
    {
     "data": {
      "text/plain": [
       "False"
      ]
     },
     "execution_count": 4,
     "metadata": {},
     "output_type": "execute_result"
    }
   ],
   "source": [
    "\"A\" in \"abcd\""
   ]
  },
  {
   "cell_type": "code",
   "execution_count": 5,
   "id": "b304f344",
   "metadata": {},
   "outputs": [
    {
     "data": {
      "text/plain": [
       "False"
      ]
     },
     "execution_count": 5,
     "metadata": {},
     "output_type": "execute_result"
    }
   ],
   "source": [
    "\"abcd\".find(\"A\") != -1 # \"a\" in \"abcd\""
   ]
  },
  {
   "cell_type": "code",
   "execution_count": 6,
   "id": "ea2f9200",
   "metadata": {},
   "outputs": [
    {
     "data": {
      "text/plain": [
       "True"
      ]
     },
     "execution_count": 6,
     "metadata": {},
     "output_type": "execute_result"
    }
   ],
   "source": [
    "\"A\" not in \"abcd\""
   ]
  },
  {
   "cell_type": "code",
   "execution_count": 14,
   "id": "1121b10e",
   "metadata": {},
   "outputs": [
    {
     "data": {
      "text/plain": [
       "True"
      ]
     },
     "execution_count": 14,
     "metadata": {},
     "output_type": "execute_result"
    }
   ],
   "source": [
    "\"ab\" in \"abcd\""
   ]
  },
  {
   "cell_type": "code",
   "execution_count": null,
   "id": "50e6f6c1",
   "metadata": {},
   "outputs": [],
   "source": [
    "# is\n",
    "# whether 2 objects are same or not"
   ]
  },
  {
   "cell_type": "code",
   "execution_count": 9,
   "id": "dddd77e9",
   "metadata": {},
   "outputs": [
    {
     "name": "stdout",
     "output_type": "stream",
     "text": [
      "True\n",
      "1793025099056 1793025098736\n",
      "False\n",
      "True\n"
     ]
    }
   ],
   "source": [
    "f1 = 10.55\n",
    "f2 = 10.55\n",
    "print(f1 == f2)\n",
    "print(id(f1), id(f2))\n",
    "print(f1 is f2)\n",
    "f3 = f2\n",
    "print(f2 is f3)"
   ]
  },
  {
   "cell_type": "code",
   "execution_count": 10,
   "id": "6d40c528",
   "metadata": {},
   "outputs": [
    {
     "data": {
      "text/plain": [
       "False"
      ]
     },
     "execution_count": 10,
     "metadata": {},
     "output_type": "execute_result"
    }
   ],
   "source": [
    "1 in [3,4,5]"
   ]
  },
  {
   "cell_type": "code",
   "execution_count": 11,
   "id": "d07abf88",
   "metadata": {},
   "outputs": [
    {
     "data": {
      "text/plain": [
       "True"
      ]
     },
     "execution_count": 11,
     "metadata": {},
     "output_type": "execute_result"
    }
   ],
   "source": [
    "1 in [1,4,5]"
   ]
  },
  {
   "cell_type": "code",
   "execution_count": 12,
   "id": "f7abf1dd",
   "metadata": {},
   "outputs": [
    {
     "data": {
      "text/plain": [
       "False"
      ]
     },
     "execution_count": 12,
     "metadata": {},
     "output_type": "execute_result"
    }
   ],
   "source": [
    "1 in [3,4,5, \"1\"]"
   ]
  },
  {
   "cell_type": "code",
   "execution_count": 13,
   "id": "f488dce8",
   "metadata": {},
   "outputs": [
    {
     "ename": "TypeError",
     "evalue": "'<' not supported between instances of 'str' and 'int'",
     "output_type": "error",
     "traceback": [
      "\u001b[1;31m---------------------------------------------------------------------------\u001b[0m",
      "\u001b[1;31mTypeError\u001b[0m                                 Traceback (most recent call last)",
      "\u001b[1;32mC:\\Users\\LEANGA~1\\AppData\\Local\\Temp/ipykernel_21708/1387203248.py\u001b[0m in \u001b[0;36m<module>\u001b[1;34m\u001b[0m\n\u001b[1;32m----> 1\u001b[1;33m \u001b[1;33m[\u001b[0m\u001b[1;36m1\u001b[0m\u001b[1;33m,\u001b[0m\u001b[1;36m2\u001b[0m\u001b[1;33m,\u001b[0m\u001b[1;34m\"4\"\u001b[0m\u001b[1;33m]\u001b[0m\u001b[1;33m.\u001b[0m\u001b[0msort\u001b[0m\u001b[1;33m(\u001b[0m\u001b[1;33m)\u001b[0m\u001b[1;33m\u001b[0m\u001b[1;33m\u001b[0m\u001b[0m\n\u001b[0m",
      "\u001b[1;31mTypeError\u001b[0m: '<' not supported between instances of 'str' and 'int'"
     ]
    }
   ],
   "source": [
    "[1,2,\"4\"].sort()"
   ]
  },
  {
   "cell_type": "code",
   "execution_count": 15,
   "id": "26600a1e",
   "metadata": {},
   "outputs": [
    {
     "name": "stdout",
     "output_type": "stream",
     "text": [
      "['C:\\\\Users\\\\leangaurav\\\\AppData\\\\Roaming\\\\Python\\\\Python38\\\\site-packages\\\\ipykernel_launcher.py', '-f', 'C:\\\\Users\\\\leangaurav\\\\AppData\\\\Roaming\\\\jupyter\\\\runtime\\\\kernel-caf48431-4132-46c1-9ab1-4e4d1d264f3f.json']\n"
     ]
    }
   ],
   "source": [
    "import sys\n",
    "print(sys.argv)"
   ]
  }
 ],
 "metadata": {
  "kernelspec": {
   "display_name": "Python 3",
   "language": "python",
   "name": "python3"
  },
  "language_info": {
   "codemirror_mode": {
    "name": "ipython",
    "version": 3
   },
   "file_extension": ".py",
   "mimetype": "text/x-python",
   "name": "python",
   "nbconvert_exporter": "python",
   "pygments_lexer": "ipython3",
   "version": "3.8.8"
  }
 },
 "nbformat": 4,
 "nbformat_minor": 5
}
