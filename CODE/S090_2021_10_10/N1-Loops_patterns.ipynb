{
 "cells": [
  {
   "cell_type": "markdown",
   "id": "40021582",
   "metadata": {},
   "source": [
    "## Factorial"
   ]
  },
  {
   "cell_type": "markdown",
   "id": "0e440b0a",
   "metadata": {},
   "source": [
    "n! -> 1 * 2 * 3... *  (n-1) * n\n",
    "\n",
    "4! -> 1*2*3*4 -> 4*3*2*1"
   ]
  },
  {
   "cell_type": "code",
   "execution_count": 7,
   "id": "669b2f2b",
   "metadata": {},
   "outputs": [
    {
     "name": "stdout",
     "output_type": "stream",
     "text": [
      "enter a number:3\n",
      "3! = 6\n"
     ]
    }
   ],
   "source": [
    "n = int(input(\"enter a number:\"))\n",
    "\n",
    "ans = 1\n",
    "for i in range(1, n+1):\n",
    "    ans = ans * i\n",
    "    \n",
    "print(f\"{n}! = {ans}\")"
   ]
  },
  {
   "cell_type": "code",
   "execution_count": 5,
   "id": "129c9697",
   "metadata": {},
   "outputs": [
    {
     "name": "stdout",
     "output_type": "stream",
     "text": [
      "[0, 1, 2, 3, 4, 5, 6, 7, 8, 9]\n",
      "[0, 1, 2, 3, 4, 5, 6, 7, 8, 9, 10]\n"
     ]
    }
   ],
   "source": [
    "print(list(range(10)))\n",
    "print(list(range(10 + 1)))"
   ]
  },
  {
   "cell_type": "markdown",
   "id": "437101c6",
   "metadata": {},
   "source": [
    "given 'n'\n",
    "\n",
    "sum = 0\n",
    "from 1 till n\n",
    "    sum = sum + n!\n"
   ]
  },
  {
   "cell_type": "code",
   "execution_count": 11,
   "id": "8e9a5f56",
   "metadata": {},
   "outputs": [
    {
     "name": "stdout",
     "output_type": "stream",
     "text": [
      "enter a number:4\n",
      "Sum of series = 33\n"
     ]
    }
   ],
   "source": [
    "n = int(input(\"enter a number:\"))\n",
    "\n",
    "ans = 0\n",
    "for i in range(1, n+1):\n",
    "    fact = 1\n",
    "    for j in range(1, i+1):\n",
    "        fact *= j\n",
    "    ans += fact\n",
    "    \n",
    "print(f\"Sum of series = {ans}\")\n",
    "\n",
    "# if n = 3\n",
    "# i  j\n",
    "# 1  1\n",
    "# 2  1\n",
    "# 2  2\n",
    "# 3  1\n",
    "# 3  2\n",
    "# 3  3"
   ]
  },
  {
   "cell_type": "code",
   "execution_count": 12,
   "id": "02452f74",
   "metadata": {},
   "outputs": [
    {
     "name": "stdout",
     "output_type": "stream",
     "text": [
      "enter a number:4\n",
      "Sum of series = 33\n"
     ]
    }
   ],
   "source": [
    "n = int(input(\"enter a number:\"))\n",
    "\n",
    "ans = 0\n",
    "fact = 1\n",
    "for i in range(1, n+1):\n",
    "    fact *= i\n",
    "    ans += fact\n",
    "    \n",
    "print(f\"Sum of series = {ans}\")\n",
    "\n",
    "# 4! = 4 * 3! = 4 * 3 * 2!..."
   ]
  },
  {
   "cell_type": "code",
   "execution_count": null,
   "id": "42556c42",
   "metadata": {},
   "outputs": [],
   "source": []
  },
  {
   "cell_type": "code",
   "execution_count": null,
   "id": "93e678c3",
   "metadata": {},
   "outputs": [],
   "source": []
  },
  {
   "cell_type": "markdown",
   "id": "5fd87ed5",
   "metadata": {},
   "source": [
    "## Patterns"
   ]
  },
  {
   "cell_type": "code",
   "execution_count": 13,
   "id": "a2664003",
   "metadata": {},
   "outputs": [
    {
     "name": "stdout",
     "output_type": "stream",
     "text": [
      "*\n",
      "*\n",
      "*\n",
      "*\n",
      "*\n"
     ]
    }
   ],
   "source": [
    "for i in range(5):\n",
    "    print(\"*\")"
   ]
  },
  {
   "cell_type": "code",
   "execution_count": 14,
   "id": "425ac2f7",
   "metadata": {},
   "outputs": [
    {
     "name": "stdout",
     "output_type": "stream",
     "text": [
      "*****"
     ]
    }
   ],
   "source": [
    "for i in range(5):\n",
    "    print(\"*\", end='')"
   ]
  },
  {
   "cell_type": "code",
   "execution_count": 15,
   "id": "a3be93b3",
   "metadata": {},
   "outputs": [
    {
     "name": "stdout",
     "output_type": "stream",
     "text": [
      "* * * * * "
     ]
    }
   ],
   "source": [
    "for i in range(5):\n",
    "    print(\"*\", end=' ')"
   ]
  },
  {
   "cell_type": "code",
   "execution_count": 17,
   "id": "f8f0d252",
   "metadata": {},
   "outputs": [
    {
     "name": "stdout",
     "output_type": "stream",
     "text": [
      "*************************"
     ]
    }
   ],
   "source": [
    "for i in range(5):\n",
    "    for j in range(5):\n",
    "        print(\"*\", end='')\n",
    "    "
   ]
  },
  {
   "cell_type": "code",
   "execution_count": 18,
   "id": "1c8e5086",
   "metadata": {},
   "outputs": [
    {
     "name": "stdout",
     "output_type": "stream",
     "text": [
      "**********"
     ]
    }
   ],
   "source": [
    "for i in range(5):\n",
    "    print(\"*\", end='')\n",
    "for j in range(5):\n",
    "    print(\"*\", end='')\n",
    "    "
   ]
  },
  {
   "cell_type": "code",
   "execution_count": 19,
   "id": "b6dc2982",
   "metadata": {},
   "outputs": [
    {
     "name": "stdout",
     "output_type": "stream",
     "text": [
      "*****\n",
      "*****"
     ]
    }
   ],
   "source": [
    "for i in range(5):\n",
    "    print(\"*\", end='')\n",
    "\n",
    "print()\n",
    "for j in range(5):\n",
    "    print(\"*\", end='')\n",
    "    "
   ]
  },
  {
   "cell_type": "code",
   "execution_count": 20,
   "id": "09cdfaee",
   "metadata": {},
   "outputs": [
    {
     "name": "stdout",
     "output_type": "stream",
     "text": [
      "*\n",
      "*\n",
      "*\n",
      "*\n",
      "*\n",
      "*\n",
      "*\n",
      "*\n",
      "*\n",
      "*\n",
      "*\n",
      "*\n",
      "*\n",
      "*\n",
      "*\n",
      "*\n",
      "*\n",
      "*\n",
      "*\n",
      "*\n",
      "*\n",
      "*\n",
      "*\n",
      "*\n",
      "*\n"
     ]
    }
   ],
   "source": [
    "for i in range(5):\n",
    "    for j in range(5):\n",
    "        print(\"*\", end='')\n",
    "        print()\n",
    "    "
   ]
  },
  {
   "cell_type": "code",
   "execution_count": 21,
   "id": "181bc912",
   "metadata": {},
   "outputs": [
    {
     "name": "stdout",
     "output_type": "stream",
     "text": [
      "*****\n",
      "*****\n",
      "*****\n",
      "*****\n",
      "*****\n"
     ]
    }
   ],
   "source": [
    "for i in range(5): # -> no. of lines\n",
    "    for j in range(5): # -> no. of symbols in a line\n",
    "        print(\"*\", end='') \n",
    "    print()  # -> this adds the line break\n",
    "    "
   ]
  },
  {
   "cell_type": "code",
   "execution_count": 22,
   "id": "f3ba7872",
   "metadata": {},
   "outputs": [
    {
     "name": "stdout",
     "output_type": "stream",
     "text": [
      "\n",
      "*\n",
      "**\n",
      "***\n",
      "****\n"
     ]
    }
   ],
   "source": [
    "for i in range(5): # -> no. of lines\n",
    "    for j in range(i): # -> no. of symbols in a line\n",
    "        print(\"*\", end='') \n",
    "    print()  # -> this adds the line break\n",
    "    "
   ]
  },
  {
   "cell_type": "code",
   "execution_count": 23,
   "id": "e03ea4f2",
   "metadata": {},
   "outputs": [
    {
     "name": "stdout",
     "output_type": "stream",
     "text": [
      "*\n",
      "**\n",
      "***\n",
      "****\n",
      "*****\n"
     ]
    }
   ],
   "source": [
    "for i in range(5): # -> no. of lines\n",
    "    for j in range(i+1): # -> no. of symbols in a line\n",
    "        print(\"*\", end='') \n",
    "    print()  # -> this adds the line break\n",
    "    "
   ]
  },
  {
   "cell_type": "code",
   "execution_count": 24,
   "id": "695c897f",
   "metadata": {},
   "outputs": [
    {
     "name": "stdout",
     "output_type": "stream",
     "text": [
      "0\n",
      "01\n",
      "012\n",
      "0123\n",
      "01234\n"
     ]
    }
   ],
   "source": [
    "for i in range(5):\n",
    "    for j in range(i+1):\n",
    "        print(j, end='') \n",
    "    print()\n",
    "    "
   ]
  },
  {
   "cell_type": "code",
   "execution_count": 26,
   "id": "e25b43b5",
   "metadata": {},
   "outputs": [
    {
     "name": "stdout",
     "output_type": "stream",
     "text": [
      "1\n",
      "22\n",
      "333\n",
      "4444\n",
      "55555\n"
     ]
    }
   ],
   "source": [
    "for i in range(1,5+1):\n",
    "    for j in range(i):\n",
    "        print(i, end='')\n",
    "    print()\n"
   ]
  },
  {
   "cell_type": "code",
   "execution_count": 49,
   "id": "a8ca7172",
   "metadata": {},
   "outputs": [
    {
     "name": "stdout",
     "output_type": "stream",
     "text": [
      "1\n",
      "22\n",
      "333\n",
      "4444\n",
      "55555\n"
     ]
    }
   ],
   "source": [
    "for i in range(1,5+1):\n",
    "    print(str(i) * i)\n"
   ]
  },
  {
   "cell_type": "code",
   "execution_count": 29,
   "id": "70730922",
   "metadata": {},
   "outputs": [
    {
     "name": "stdout",
     "output_type": "stream",
     "text": [
      "1\n",
      "12\n",
      "123\n",
      "1234\n",
      "12345\n"
     ]
    }
   ],
   "source": [
    "for i in range(5):\n",
    "    for j in range(i + 1):\n",
    "        print(j+1, end='')\n",
    "    print()\n"
   ]
  },
  {
   "cell_type": "code",
   "execution_count": 30,
   "id": "f340cf3a",
   "metadata": {},
   "outputs": [
    {
     "name": "stdout",
     "output_type": "stream",
     "text": [
      "5\n",
      "44\n",
      "333\n",
      "2222\n",
      "11111\n"
     ]
    }
   ],
   "source": [
    "for i in range(5):\n",
    "    for j in range(i + 1):\n",
    "        print(5-i, end='')\n",
    "    print()\n"
   ]
  },
  {
   "cell_type": "code",
   "execution_count": 34,
   "id": "c142de50",
   "metadata": {},
   "outputs": [
    {
     "name": "stdout",
     "output_type": "stream",
     "text": [
      "5\n",
      "44\n",
      "333\n",
      "2222\n",
      "11111\n"
     ]
    }
   ],
   "source": [
    "for i in range(5,0,-1):\n",
    "    for j in range(i,5+1):\n",
    "        print(i, end='')\n",
    "    print()\n"
   ]
  },
  {
   "cell_type": "code",
   "execution_count": 36,
   "id": "56f6c16f",
   "metadata": {},
   "outputs": [
    {
     "name": "stdout",
     "output_type": "stream",
     "text": [
      "*****\n",
      "****\n",
      "***\n",
      "**\n",
      "*\n"
     ]
    }
   ],
   "source": [
    "for i in range(5, 0, -1):\n",
    "    for j in range(i):\n",
    "        print(\"*\", end='')\n",
    "    print()\n"
   ]
  },
  {
   "cell_type": "code",
   "execution_count": 40,
   "id": "096ae684",
   "metadata": {},
   "outputs": [
    {
     "name": "stdout",
     "output_type": "stream",
     "text": [
      "*****\n",
      "****\n",
      "***\n",
      "**\n",
      "*\n",
      "\n",
      "*\n",
      "**\n",
      "***\n",
      "****\n",
      "*****\n"
     ]
    }
   ],
   "source": [
    "for i in range(5):\n",
    "    for j in range(5-i):\n",
    "        print(\"*\", end='')\n",
    "    print()\n",
    "\n",
    "print()\n",
    "for i in range(5): # -> no. of lines\n",
    "    for j in range(i+1): # -> no. of symbols in a line\n",
    "        print(\"*\", end='') \n",
    "    print()  # -> this adds the line break\n",
    "    "
   ]
  },
  {
   "cell_type": "code",
   "execution_count": 42,
   "id": "2044535d",
   "metadata": {},
   "outputs": [
    {
     "name": "stdout",
     "output_type": "stream",
     "text": [
      "     *\n",
      "    **\n",
      "   ***\n",
      "  ****\n",
      " *****\n"
     ]
    }
   ],
   "source": [
    "for i in range(5):\n",
    "    for j in range(5-i): # spaces\n",
    "        print(\" \", end='')\n",
    "    for j in range(i+1): # print *\n",
    "        print(\"*\", end='') \n",
    "    print()\n"
   ]
  },
  {
   "cell_type": "code",
   "execution_count": 43,
   "id": "8a94e2b3",
   "metadata": {},
   "outputs": [
    {
     "name": "stdout",
     "output_type": "stream",
     "text": [
      "     * \n",
      "    * * \n",
      "   * * * \n",
      "  * * * * \n",
      " * * * * * \n"
     ]
    }
   ],
   "source": [
    "for i in range(5):\n",
    "    for j in range(5-i): # spaces\n",
    "        print(\" \", end='')\n",
    "    for j in range(i+1): # print *\n",
    "        print(\"* \", end='') \n",
    "    print()\n"
   ]
  },
  {
   "cell_type": "code",
   "execution_count": 47,
   "id": "cd510266",
   "metadata": {},
   "outputs": [
    {
     "name": "stdout",
     "output_type": "stream",
     "text": [
      "        A \n",
      "      A B A \n",
      "    A B C B A \n",
      "  A B C D C B A \n",
      "A B C D E D C B A \n"
     ]
    }
   ],
   "source": [
    "start = 65 # for A\n",
    "end = 70 # for E\n",
    "n=6   \n",
    "\n",
    "for i in range(start,end): # outer loop for 5 rows \n",
    "    n = n -1\n",
    "    for j in range(n,1,-1): # loop # 1 to print spaces for each row     syntax  ===> range(start, stop[, step])\n",
    "        print(\" \",end=\" \")\n",
    "    for j in range(start,i+1): # loop # 2 to print actual alphabet values\n",
    "        print(chr(j),end=\" \")\n",
    "    for j in range(i-1, start -1, -1): # loop # 3 to print again alphabet starting from 65\n",
    "        print(chr(j),end=\" \")\n",
    "    print()\n"
   ]
  },
  {
   "cell_type": "code",
   "execution_count": 52,
   "id": "1f56543f",
   "metadata": {},
   "outputs": [
    {
     "name": "stdout",
     "output_type": "stream",
     "text": [
      "enter the list  1,2,3\n",
      "tutple ('1', '2', '3')\n",
      "enter the number to check whether its present in tuple or not   4\n",
      "not found\n"
     ]
    }
   ],
   "source": [
    "list1 = input(\"enter the list  \")\n",
    "list1 = list1.split(\",\")\n",
    "t = tuple(list1)\n",
    "print('tutple', t)\n",
    "n = int(input('enter the number to check whether its present in tuple or not   '))\n",
    "\n",
    "if str(n) in t:\n",
    "    index = t.index(str(n))\n",
    "    print(\"index is \", index )\n",
    "else:\n",
    "    print(\"not found\")"
   ]
  }
 ],
 "metadata": {
  "kernelspec": {
   "display_name": "Python 3",
   "language": "python",
   "name": "python3"
  },
  "language_info": {
   "codemirror_mode": {
    "name": "ipython",
    "version": 3
   },
   "file_extension": ".py",
   "mimetype": "text/x-python",
   "name": "python",
   "nbconvert_exporter": "python",
   "pygments_lexer": "ipython3",
   "version": "3.8.8"
  }
 },
 "nbformat": 4,
 "nbformat_minor": 5
}
