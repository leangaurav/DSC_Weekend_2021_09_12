{
 "cells": [
  {
   "cell_type": "code",
   "execution_count": null,
   "id": "13b9a90e",
   "metadata": {},
   "outputs": [],
   "source": [
    "l1_new=[]\n",
    "l2_new=[]\n",
    "l3_new=[]\n",
    "\n",
    "data=['5ft2inch','5ft10inch']\n",
    "for i in data:\n",
    "    l1_new.append(i.split('ft')[0])\n",
    "for i in data:\n",
    "    l2_new.append(i.split('ft')[-1])\n",
    "for p in l2_new:\n",
    "    l3_new.append(p.split('inch')[0])\n",
    "\n",
    "print(l1_new)\n",
    "print(l3_new)\n",
    "\n",
    "ft = [int(i) for i in l1_new]\n",
    "inch = [int(i) for i in l3_new]\n",
    "\n",
    "\n",
    "ft_sum=sum(ft) *30.48\n",
    "ft_inch=sum(inch) * 2.54\n",
    "\n",
    "print(\"Height in Meter is :- \",ft_sum+ft_inch)\n",
    "s=[]\n"
   ]
  },
  {
   "cell_type": "code",
   "execution_count": 10,
   "id": "09ab7fee",
   "metadata": {},
   "outputs": [
    {
     "name": "stdout",
     "output_type": "stream",
     "text": [
      "62\n",
      "\n",
      "60\n",
      "\n",
      "3\n"
     ]
    }
   ],
   "source": [
    "def ft_to_m(s):\n",
    "    \n",
    "    ft = 0\n",
    "    inch = 0\n",
    "    r = s.split('ft')\n",
    "    \n",
    "    if len(r) == 1:\n",
    "        inch_str = r[0]\n",
    "    else:\n",
    "        ft = int(r[0])\n",
    "        inch_str = r[1]\n",
    "        \n",
    "    r = inch_str.find('inch')\n",
    "    if r > 0:\n",
    "        inch = int(inch_str[:r])\n",
    "\n",
    "    return (12*ft + inch)\n",
    "\n",
    "s = '5ft2inch'\n",
    "m = ft_to_m(s)\n",
    "print(m)\n",
    "\n",
    "print()\n",
    "s = '5ft'\n",
    "m = ft_to_m(s)\n",
    "print(m)\n",
    "\n",
    "print()\n",
    "s = '3inch'\n",
    "m = ft_to_m(s)\n",
    "print(m)\n"
   ]
  },
  {
   "cell_type": "code",
   "execution_count": 23,
   "id": "27ca3d16",
   "metadata": {},
   "outputs": [
    {
     "name": "stdout",
     "output_type": "stream",
     "text": [
      "62\n",
      "\n",
      "60\n",
      "\n",
      "3\n",
      "\n",
      "0\n"
     ]
    }
   ],
   "source": [
    "import re\n",
    "\n",
    "def ft_to_m(s):\n",
    "    \n",
    "    m = re.match(\"(?:(\\d+)ft)?(?:(\\d+)inch)?\", s)\n",
    "    \n",
    "    ft = m.groups()[0] \n",
    "    ft = 0 if ft is None  else int(ft)\n",
    "    \n",
    "    inch = m.groups()[1] \n",
    "    inch = 0 if inch is None  else int(inch)\n",
    "    return ft*12 + inch\n",
    "    \n",
    "s = '5ft2inch'\n",
    "m = ft_to_m(s)\n",
    "print(m)\n",
    "\n",
    "print()\n",
    "s = '5ft'\n",
    "m = ft_to_m(s)\n",
    "print(m)\n",
    "\n",
    "print()\n",
    "s = '3inch'\n",
    "m = ft_to_m(s)\n",
    "print(m)\n"
   ]
  },
  {
   "cell_type": "code",
   "execution_count": 24,
   "id": "c158b72b",
   "metadata": {},
   "outputs": [
    {
     "name": "stdout",
     "output_type": "stream",
     "text": [
      "(None, None)\n",
      "('5ft', '2inch')\n",
      "('5ft', '5', '2inch', '2')\n",
      "('5', '2')\n"
     ]
    }
   ],
   "source": [
    "print(re.match(\"(\\d+ft)?(\\d+inch)?\", \"ft2inch\").groups())\n",
    "print(re.match(\"(\\d+ft)?(\\d+inch)?\", \"5ft2inch\").groups())\n",
    "print(re.match(\"((\\d+)ft)?((\\d+)inch)?\", \"5ft2inch\").groups())\n",
    "print(re.match(\"(?:(\\d+)ft)?(?:(\\d+)inch)?\", \"5ft2inch\").groups())"
   ]
  },
  {
   "cell_type": "code",
   "execution_count": null,
   "id": "55413a2f",
   "metadata": {},
   "outputs": [],
   "source": []
  },
  {
   "cell_type": "code",
   "execution_count": 8,
   "id": "bbd593c1",
   "metadata": {},
   "outputs": [
    {
     "name": "stdout",
     "output_type": "stream",
     "text": [
      "['5', '']\n",
      "['5inch']\n",
      "['3', '5inch']\n"
     ]
    }
   ],
   "source": [
    "print(\"5ft\".split('ft'))\n",
    "print(\"5inch\".split('ft'))\n",
    "print(\"3ft5inch\".split('ft'))\n",
    "\n"
   ]
  }
 ],
 "metadata": {
  "kernelspec": {
   "display_name": "Python 3",
   "language": "python",
   "name": "python3"
  },
  "language_info": {
   "codemirror_mode": {
    "name": "ipython",
    "version": 3
   },
   "file_extension": ".py",
   "mimetype": "text/x-python",
   "name": "python",
   "nbconvert_exporter": "python",
   "pygments_lexer": "ipython3",
   "version": "3.8.8"
  }
 },
 "nbformat": 4,
 "nbformat_minor": 5
}
