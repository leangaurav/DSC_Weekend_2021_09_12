{
 "cells": [
  {
   "cell_type": "markdown",
   "id": "6527456f",
   "metadata": {},
   "source": [
    "## Regular  Expressions"
   ]
  },
  {
   "cell_type": "code",
   "execution_count": null,
   "id": "6b5be5ba",
   "metadata": {},
   "outputs": [],
   "source": []
  },
  {
   "cell_type": "code",
   "execution_count": 3,
   "id": "ef66a288",
   "metadata": {},
   "outputs": [
    {
     "name": "stdout",
     "output_type": "stream",
     "text": [
      "this.\n",
      "next.\n"
     ]
    }
   ],
   "source": [
    "#  given a list of strings find which strings end with a '.'\n",
    "\n",
    "a = [\"this.\", \"that?\", \"what?\", \"woow!\", \"next.\", \"\"]\n",
    "\n",
    "for s in a:\n",
    "    if len(s) > 0 and s[-1] == '.':\n",
    "        print(s)\n"
   ]
  },
  {
   "cell_type": "code",
   "execution_count": 4,
   "id": "844a984c",
   "metadata": {},
   "outputs": [
    {
     "name": "stdout",
     "output_type": "stream",
     "text": [
      "this.\n",
      "that?\n",
      "what?\n",
      "next.\n"
     ]
    }
   ],
   "source": [
    "#  given a list of strings find which strings end with a '.' or a '?'\n",
    "\n",
    "a = [\"this.\", \"that?\", \"what?\", \"woow!\", \"next.\", \"\"]\n",
    "\n",
    "for s in a:\n",
    "    if len(s) > 0 and (s[-1] == '.' or s[-1] == '?'):\n",
    "        print(s)\n"
   ]
  },
  {
   "cell_type": "code",
   "execution_count": 5,
   "id": "e11f8e1f",
   "metadata": {},
   "outputs": [
    {
     "name": "stdout",
     "output_type": "stream",
     "text": [
      "this.\n",
      "that?\n"
     ]
    }
   ],
   "source": [
    "#  given a list of strings find which strings end with a '.' or a '?', and the string starts with a 't'\n",
    "\n",
    "a = [\"this.\", \"that?\", \"what?\", \"woow!\", \"next.\", \"\"]\n",
    "\n",
    "for s in a:\n",
    "    if len(s) > 0 and (s[-1] == '.' or s[-1] == '?') and s[0] == 't':\n",
    "        print(s)\n"
   ]
  },
  {
   "cell_type": "code",
   "execution_count": 7,
   "id": "76083572",
   "metadata": {},
   "outputs": [
    {
     "name": "stdout",
     "output_type": "stream",
     "text": [
      "what1\n"
     ]
    }
   ],
   "source": [
    "#  given a list of strings find which strings which start with an alphabet and end with a number\n",
    "\n",
    "a = [\"this.\", \"that?\", \"what1\", \"woow!\", \"next.\", \"\"]\n",
    "\n",
    "for s in a:\n",
    "    if len(s) > 0 and s[-1].isdigit() and s[0].isalpha():\n",
    "        print(s)\n"
   ]
  },
  {
   "cell_type": "code",
   "execution_count": null,
   "id": "a4b64b00",
   "metadata": {},
   "outputs": [],
   "source": [
    "#  given a list of strings find which strings which start with an alphabet, length is atleast 5 character, ends with either a .!?\n",
    "# the third character should be e, ignore whitespace in beginning and end of the strings\n",
    "\n",
    "a = [\"  this.  \", \" that?\", \"what1\", \"woow!\", \"next.\", \"\"]\n",
    "\n",
    "for s in a:\n",
    "    if len(s) > 0 and s[-1].isdigit() and s[0].isalpha():\n",
    "        print(s)\n"
   ]
  },
  {
   "cell_type": "code",
   "execution_count": null,
   "id": "1c5581fe",
   "metadata": {},
   "outputs": [],
   "source": []
  },
  {
   "cell_type": "code",
   "execution_count": 8,
   "id": "d404156b",
   "metadata": {},
   "outputs": [],
   "source": [
    "import re"
   ]
  },
  {
   "cell_type": "code",
   "execution_count": 9,
   "id": "627e323b",
   "metadata": {},
   "outputs": [
    {
     "name": "stdout",
     "output_type": "stream",
     "text": [
      "['A', 'ASCII', 'DEBUG', 'DOTALL', 'I', 'IGNORECASE', 'L', 'LOCALE', 'M', 'MULTILINE', 'Match', 'Pattern', 'RegexFlag', 'S', 'Scanner', 'T', 'TEMPLATE', 'U', 'UNICODE', 'VERBOSE', 'X', '_MAXCACHE', '__all__', '__builtins__', '__cached__', '__doc__', '__file__', '__loader__', '__name__', '__package__', '__spec__', '__version__', '_cache', '_compile', '_compile_repl', '_expand', '_locale', '_pickle', '_special_chars_map', '_subx', 'compile', 'copyreg', 'enum', 'error', 'escape', 'findall', 'finditer', 'fullmatch', 'functools', 'match', 'purge', 'search', 'split', 'sre_compile', 'sre_parse', 'sub', 'subn', 'template']\n"
     ]
    }
   ],
   "source": [
    "print(dir(re))"
   ]
  },
  {
   "cell_type": "code",
   "execution_count": 13,
   "id": "5042b2ba",
   "metadata": {},
   "outputs": [
    {
     "name": "stdout",
     "output_type": "stream",
     "text": [
      "this.  \n"
     ]
    }
   ],
   "source": [
    "# given a list of string, find which all start with 't'\n",
    "\n",
    "a = [\"this.  \", \" that?\", \"what1\", \"woow!\", \"next.\", \"\"]\n",
    "\n",
    "for s in a:\n",
    "    if re.match(\"t\", s): # match, tries to match the pattern from the start of string\n",
    "        print(s)"
   ]
  },
  {
   "cell_type": "code",
   "execution_count": 18,
   "id": "af7b7476",
   "metadata": {},
   "outputs": [
    {
     "name": "stdout",
     "output_type": "stream",
     "text": [
      "this.  \n",
      " that?\n",
      "what1\n",
      "next.\n"
     ]
    }
   ],
   "source": [
    "a = [\"this.  \", \" that?\", \"what1\", \"woow!\", \"next.\", \"\"]\n",
    "\n",
    "for s in a:\n",
    "    if re.search(\"t\", s): # search, tries to match the pattern anywhere in the string\n",
    "        print(s)"
   ]
  },
  {
   "cell_type": "code",
   "execution_count": null,
   "id": "8c9970b2",
   "metadata": {},
   "outputs": [],
   "source": [
    "# anchor tags\n",
    "# - ^ : anchor to the beginning of string \n",
    "# - $ : anchor to the end of string"
   ]
  },
  {
   "cell_type": "code",
   "execution_count": 20,
   "id": "d0c6c5dd",
   "metadata": {},
   "outputs": [
    {
     "name": "stdout",
     "output_type": "stream",
     "text": [
      "this.  \n"
     ]
    }
   ],
   "source": [
    "# given a list of string, find which all start with 't'\n",
    "a = [\"this.  \", \" that?\", \"what1\", \"woow!\", \"next.\", \"\", \"ab^tcd\"]\n",
    "\n",
    "for s in a:\n",
    "    if re.search(\"^t\", s): # search, tries to match the pattern anywhere in the string\n",
    "        print(s)"
   ]
  },
  {
   "cell_type": "code",
   "execution_count": 25,
   "id": "75a26a9f",
   "metadata": {},
   "outputs": [
    {
     "name": "stdout",
     "output_type": "stream",
     "text": [
      "ab\tcd\n",
      "ab\\tcd\n",
      "ab\\tcd\n"
     ]
    }
   ],
   "source": [
    "print(\"ab\\tcd\")\n",
    "print(\"ab\\\\tcd\")\n",
    "\n",
    "# raw strings: escape sequences are going be ignored\n",
    "print(r'ab\\tcd')"
   ]
  },
  {
   "cell_type": "code",
   "execution_count": 23,
   "id": "e1606876",
   "metadata": {},
   "outputs": [
    {
     "name": "stdout",
     "output_type": "stream",
     "text": [
      "next.\n"
     ]
    }
   ],
   "source": [
    "# given a list of string, find which all ending with '.'\n",
    "a = [\"this.  \", \" that?\", \"what1\", \"woow!\", \"next.\", \"\", \"ab^tcd\"]\n",
    "\n",
    "for s in a:\n",
    "    if re.search(\"\\.$\", s): # search, tries to match the pattern anywhere in the string\n",
    "        print(s)"
   ]
  },
  {
   "cell_type": "code",
   "execution_count": 26,
   "id": "13385425",
   "metadata": {},
   "outputs": [
    {
     "name": "stdout",
     "output_type": "stream",
     "text": [
      ".$\n"
     ]
    }
   ],
   "source": [
    "print(\".$\")"
   ]
  },
  {
   "cell_type": "code",
   "execution_count": null,
   "id": "eba947be",
   "metadata": {},
   "outputs": [],
   "source": [
    "## matching alphabets ,strings and searchsets"
   ]
  },
  {
   "cell_type": "code",
   "execution_count": null,
   "id": "8d8f58f6",
   "metadata": {},
   "outputs": [],
   "source": []
  },
  {
   "cell_type": "code",
   "execution_count": null,
   "id": "009d6dc4",
   "metadata": {},
   "outputs": [],
   "source": [
    "# given a list of string, find which all ending with '.'\n",
    "a = [\"this.  \", \" that?\", \"what1\", \"woow!\", \"next.\", \"\", \"ab^tcd\"]\n",
    "\n",
    "for s in a:\n",
    "    if re.search(\"\\.$\", s): # search, tries to match the pattern anywhere in the string\n",
    "        print(s)"
   ]
  },
  {
   "cell_type": "code",
   "execution_count": null,
   "id": "0c98c5dd",
   "metadata": {},
   "outputs": [],
   "source": []
  },
  {
   "cell_type": "code",
   "execution_count": 28,
   "id": "e1de31b0",
   "metadata": {},
   "outputs": [
    {
     "name": "stdout",
     "output_type": "stream",
     "text": [
      "11\n",
      "ab12cd\n",
      "123\n",
      "99\n"
     ]
    }
   ],
   "source": [
    "# find all two digit numbers from a list of strings\n",
    "a = [\"11\", \"ab12cd\", \"123\", \"1\", \"99\", \"\", \"1ab2\", \"ab\"]\n",
    "\n",
    "for s in a:\n",
    "    if re.search(\"\\d\\d\", s):\n",
    "        print(s)"
   ]
  },
  {
   "cell_type": "code",
   "execution_count": 29,
   "id": "75d93fad",
   "metadata": {},
   "outputs": [
    {
     "name": "stdout",
     "output_type": "stream",
     "text": [
      "11\n",
      "99\n"
     ]
    }
   ],
   "source": [
    "# find all two digit numbers from a list of strings\n",
    "a = [\"11\", \"ab12cd\", \"123\", \"1\", \"99\", \"\", \"1ab2\", \"ab\"]\n",
    "\n",
    "for s in a:\n",
    "    if re.search(\"^\\d\\d$\", s):\n",
    "        print(s)"
   ]
  },
  {
   "cell_type": "code",
   "execution_count": null,
   "id": "fdd02ae5",
   "metadata": {},
   "outputs": [],
   "source": []
  },
  {
   "cell_type": "code",
   "execution_count": null,
   "id": "3365a07c",
   "metadata": {},
   "outputs": [],
   "source": [
    "# search set\n",
    "# []\n",
    "# whatever values are specified in the [] can be present\n",
    "# [abc*] match either a or b or c or *\n",
    "# [a-d] Match a or b or c or d\n",
    "# [a-z]\n",
    "# [A-Z] -> all upper case alphabets\n",
    "# [a-zA-Z] -> all alphabets\n",
    "# [0-9] -> \\d\n",
    "\n",
    "# negate search sets: invert\n",
    "# [^ab*] match anything apart from a and b and *\n",
    "# [^a-z] match anything apart from small alphabets"
   ]
  },
  {
   "cell_type": "code",
   "execution_count": 30,
   "id": "b1d92a5b",
   "metadata": {},
   "outputs": [
    {
     "name": "stdout",
     "output_type": "stream",
     "text": [
      "this.  \n",
      "are\n"
     ]
    }
   ],
   "source": [
    "# find all values which start with t or a\n",
    "\n",
    "# case sensitive\n",
    "a = [\"this.  \", \" that?\", \"are\", \"ABC!\", \"next.\", \"\"]\n",
    "for s in a:\n",
    "    if re.search(\"^[ta]\", s):\n",
    "        print(s)"
   ]
  },
  {
   "cell_type": "code",
   "execution_count": 31,
   "id": "6ca14698",
   "metadata": {},
   "outputs": [
    {
     "name": "stdout",
     "output_type": "stream",
     "text": [
      "this.  \n",
      "are\n",
      "ABC!\n"
     ]
    }
   ],
   "source": [
    "# find all values which start with t or a\n",
    "\n",
    "# case sensitive\n",
    "a = [\"this.  \", \" that?\", \"are\", \"ABC!\", \"next.\", \"\"]\n",
    "for s in a:\n",
    "    if re.search(\"^[ta]\", s, re.IGNORECASE):\n",
    "        print(s)"
   ]
  },
  {
   "cell_type": "code",
   "execution_count": 36,
   "id": "c2c89873",
   "metadata": {},
   "outputs": [
    {
     "name": "stdout",
     "output_type": "stream",
     "text": [
      "this.  \n",
      "Are\n",
      "ABC\n",
      "\n",
      " that?\n",
      "0ABC!\n",
      "@next.\n",
      "\n",
      "this.  \n",
      "Are\n",
      "ABC\n"
     ]
    }
   ],
   "source": [
    "# find all values which start with an alphabet\n",
    "\n",
    "# case sensitive\n",
    "a = [\"this.  \", \" that?\", \"Are\", \"0ABC!\", \"@next.\", \"ABC\"]\n",
    "for s in a:\n",
    "    if re.search(\"^[a-z]\", s, re.IGNORECASE):\n",
    "        print(s)\n",
    "        \n",
    "print()\n",
    "for s in a:\n",
    "    if re.search(\"^[^a-z]\", s, re.IGNORECASE):\n",
    "        print(s)\n",
    "        \n",
    "print()\n",
    "for s in a:\n",
    "    if re.search(\"^[a-zA-Z]\", s):\n",
    "        print(s)"
   ]
  },
  {
   "cell_type": "code",
   "execution_count": 37,
   "id": "e54ca829",
   "metadata": {},
   "outputs": [],
   "source": [
    "# case sensitive\n",
    "a = [\"this.  \", \" that?\", \"Are\", \"0ABC!\", \"@next.\", \"ABC\"]\n",
    "for s in a:\n",
    "    if re.search(\"t^\", s): # a regular expression which can never match\n",
    "        print(s)"
   ]
  },
  {
   "cell_type": "code",
   "execution_count": null,
   "id": "9f15ed2e",
   "metadata": {},
   "outputs": [],
   "source": []
  },
  {
   "cell_type": "code",
   "execution_count": 40,
   "id": "4a89bc4d",
   "metadata": {},
   "outputs": [
    {
     "name": "stdout",
     "output_type": "stream",
     "text": [
      "this. <re.Match object; span=(4, 5), match='.'>\n",
      "tha89t? <re.Match object; span=(3, 4), match='8'>\n",
      "w99hat? <re.Match object; span=(1, 2), match='9'>\n",
      "wow None\n",
      "next3 <re.Match object; span=(4, 5), match='3'>\n",
      "23 <re.Match object; span=(0, 1), match='2'>\n",
      "45 <re.Match object; span=(0, 1), match='4'>\n",
      "67 <re.Match object; span=(0, 1), match='6'>\n",
      "an None\n"
     ]
    }
   ],
   "source": [
    "import re\n",
    "s = ['this.','tha89t?','w99hat?','wow', 'next3','23','45','67','an']\n",
    "\n",
    "for i in s:\n",
    "    print(i, re.search('[^a-zA-Z]',i))\n"
   ]
  },
  {
   "cell_type": "code",
   "execution_count": null,
   "id": "131dd53b",
   "metadata": {},
   "outputs": [],
   "source": []
  },
  {
   "cell_type": "code",
   "execution_count": 41,
   "id": "f4ed61d5",
   "metadata": {},
   "outputs": [
    {
     "name": "stdout",
     "output_type": "stream",
     "text": [
      "this. <re.Match object; span=(0, 2), match='th'>\n",
      "tha89t? <re.Match object; span=(0, 2), match='th'>\n",
      "w99hat? None\n",
      "wow <re.Match object; span=(0, 2), match='wo'>\n",
      "next3 <re.Match object; span=(0, 2), match='ne'>\n",
      "23 None\n",
      "45 None\n",
      "67 None\n",
      "an <re.Match object; span=(0, 2), match='an'>\n"
     ]
    }
   ],
   "source": [
    "# find all values which have two alphabets in begining of string\n",
    "import re\n",
    "s = ['this.','tha89t?','w99hat?','wow', 'next3','23','45','67','an']\n",
    "\n",
    "for i in s:\n",
    "    print(i, re.search('^[a-zA-Z][a-zA-Z]',i))\n"
   ]
  },
  {
   "cell_type": "code",
   "execution_count": 42,
   "id": "8f3a3d77",
   "metadata": {},
   "outputs": [
    {
     "name": "stdout",
     "output_type": "stream",
     "text": [
      "this. None\n",
      "tha89t? None\n",
      "w99hat? None\n",
      "wow None\n",
      "next3 None\n",
      "23 <re.Match object; span=(0, 2), match='23'>\n",
      "45 <re.Match object; span=(0, 2), match='45'>\n",
      "67 <re.Match object; span=(0, 2), match='67'>\n",
      "an None\n"
     ]
    }
   ],
   "source": [
    "# find all two digit numbers\n",
    "import re\n",
    "s = ['this.','tha89t?','w99hat?','wow', 'next3','23','45','67','an']\n",
    "\n",
    "for i in s:\n",
    "    print(i, re.search('^\\d\\d$',i))\n"
   ]
  },
  {
   "cell_type": "code",
   "execution_count": null,
   "id": "38f0b49c",
   "metadata": {},
   "outputs": [],
   "source": [
    "# repetition\n",
    "# {min, max} of the pattern before the {}\n",
    "# {exact count}\n",
    "# {min, } atleast min\n",
    "# {, max} atmost max"
   ]
  },
  {
   "cell_type": "code",
   "execution_count": 46,
   "id": "5421cf73",
   "metadata": {},
   "outputs": [
    {
     "name": "stdout",
     "output_type": "stream",
     "text": [
      "9999 None\n",
      "tha89t? None\n",
      "123456 None\n",
      "wow None\n",
      "123 None\n",
      "23 <re.Match object; span=(0, 2), match='23'>\n",
      "45 <re.Match object; span=(0, 2), match='45'>\n",
      "67 <re.Match object; span=(0, 2), match='67'>\n",
      "an None\n"
     ]
    }
   ],
   "source": [
    "# find all two digit numbers\n",
    "import re\n",
    "s = ['9999','tha89t?','123456','wow', '123','23','45','67','an']\n",
    "\n",
    "for i in s:\n",
    "    print(i, re.search('^\\d{2}$',i)) # \"^\\d\\d$\""
   ]
  },
  {
   "cell_type": "code",
   "execution_count": 47,
   "id": "f809c270",
   "metadata": {},
   "outputs": [
    {
     "name": "stdout",
     "output_type": "stream",
     "text": [
      "9999 None\n",
      "tha89t? None\n",
      "123456 None\n",
      "wow None\n",
      "123 <re.Match object; span=(0, 3), match='123'>\n",
      "23 None\n",
      "45 None\n",
      "67 None\n",
      "an None\n"
     ]
    }
   ],
   "source": [
    "# find all three digit numbers\n",
    "import re\n",
    "s = ['9999','tha89t?','123456','wow', '123','23','45','67','an']\n",
    "\n",
    "for i in s:\n",
    "    print(i, re.search('^\\d{3}$',i)) # \"^\\d\\d$\""
   ]
  },
  {
   "cell_type": "code",
   "execution_count": 48,
   "id": "7f6bbdd5",
   "metadata": {},
   "outputs": [
    {
     "name": "stdout",
     "output_type": "stream",
     "text": [
      "9999 <re.Match object; span=(0, 4), match='9999'>\n",
      "tha89t? None\n",
      "123456 <re.Match object; span=(0, 6), match='123456'>\n",
      "wow None\n",
      "123 <re.Match object; span=(0, 3), match='123'>\n",
      "23 None\n",
      "45 None\n",
      "67 None\n",
      "an None\n"
     ]
    }
   ],
   "source": [
    "# find all numbers which have atleast 3 digits\n",
    "import re\n",
    "s = ['9999','tha89t?','123456','wow', '123','23','45','67','an']\n",
    "\n",
    "for i in s:\n",
    "    print(i, re.search('^\\d{3,}$',i)) # \"^\\d\\d$\""
   ]
  },
  {
   "cell_type": "code",
   "execution_count": 49,
   "id": "73e39a9e",
   "metadata": {},
   "outputs": [
    {
     "name": "stdout",
     "output_type": "stream",
     "text": [
      "9999 None\n",
      "tha89t? None\n",
      "123456 None\n",
      "wow None\n",
      "123 <re.Match object; span=(0, 3), match='123'>\n",
      "23 <re.Match object; span=(0, 2), match='23'>\n",
      "45 <re.Match object; span=(0, 2), match='45'>\n",
      "67 <re.Match object; span=(0, 2), match='67'>\n",
      "an None\n"
     ]
    }
   ],
   "source": [
    "# find all numbers which have atmost 3 digits\n",
    "import re\n",
    "s = ['9999','tha89t?','123456','wow', '123','23','45','67','an']\n",
    "\n",
    "for i in s:\n",
    "    print(i, re.search('^\\d{,3}$',i)) # \"^\\d\\d$\""
   ]
  },
  {
   "cell_type": "code",
   "execution_count": 50,
   "id": "106ee041",
   "metadata": {},
   "outputs": [
    {
     "name": "stdout",
     "output_type": "stream",
     "text": [
      "9999 <re.Match object; span=(0, 4), match='9999'>\n",
      "tha89t? None\n",
      "123456 None\n",
      "wow None\n",
      "123 <re.Match object; span=(0, 3), match='123'>\n",
      "23 None\n",
      "45 None\n",
      "67 None\n",
      "an None\n"
     ]
    }
   ],
   "source": [
    "# find all numbers which have 3-5 digits\n",
    "import re\n",
    "s = ['9999','tha89t?','123456','wow', '123','23','45','67','an']\n",
    "\n",
    "for i in s:\n",
    "    print(i, re.search('^\\d{3,5}$',i)) # \"^\\d\\d$\""
   ]
  },
  {
   "cell_type": "code",
   "execution_count": 53,
   "id": "384c7e8e",
   "metadata": {},
   "outputs": [
    {
     "name": "stdout",
     "output_type": "stream",
     "text": [
      "a None\n",
      "ab None\n",
      "abcd <re.Match object; span=(0, 4), match='abcd'>\n",
      "wow <re.Match object; span=(0, 3), match='wow'>\n",
      "abcdefg None\n",
      "23 None\n"
     ]
    }
   ],
   "source": [
    "# find all wordds which have 3-5 characters long\n",
    "import re\n",
    "s = ['a','ab','abcd','wow', 'abcdefg','23']\n",
    "\n",
    "for i in s:\n",
    "    print(i, re.search('^[a-zA-Z]{3,5}$',i))"
   ]
  },
  {
   "cell_type": "code",
   "execution_count": null,
   "id": "ae216b0e",
   "metadata": {},
   "outputs": [],
   "source": []
  },
  {
   "cell_type": "code",
   "execution_count": null,
   "id": "f7bbe1e0",
   "metadata": {},
   "outputs": [],
   "source": [
    "# *, +, ?\n",
    "# . -> exactly any one symbol"
   ]
  },
  {
   "cell_type": "code",
   "execution_count": 56,
   "id": "1ae1faef",
   "metadata": {},
   "outputs": [
    {
     "name": "stdout",
     "output_type": "stream",
     "text": [
      "abcd! None\n",
      "abc? None\n",
      "abc! <re.Match object; span=(0, 4), match='abc!'>\n",
      "1wo! None\n",
      "abc. None\n",
      "234! None\n",
      "\n",
      "abcd! None\n",
      "abc? None\n",
      "abc! <re.Match object; span=(0, 4), match='abc!'>\n",
      "1wo! None\n",
      "abc. None\n",
      "234! None\n"
     ]
    }
   ],
   "source": [
    "# FInd all string which start  with and alphabet and  end with a '!' and is exactly 4 chars long\n",
    "\n",
    "s = ['abcd!','abc?','abc!','1wo!', 'abc.','234!']\n",
    "\n",
    "for i in s:\n",
    "    print(i, re.search('^[a-zA-Z]..!$',i))\n",
    "    \n",
    "print()\n",
    "\n",
    "for i in s:\n",
    "    print(i, re.search('^[a-zA-Z].{2}!$',i))"
   ]
  },
  {
   "cell_type": "code",
   "execution_count": 59,
   "id": "052f8dfc",
   "metadata": {},
   "outputs": [
    {
     "name": "stdout",
     "output_type": "stream",
     "text": [
      "abcd! <re.Match object; span=(0, 5), match='abcd!'>\n",
      "abc? None\n",
      "abc! <re.Match object; span=(0, 4), match='abc!'>\n",
      "1wo! None\n",
      "abc. None\n",
      "234! None\n",
      "a! <re.Match object; span=(0, 2), match='a!'>\n"
     ]
    }
   ],
   "source": [
    "# Find all string which start  with and alphabet and  end with a '!'\n",
    "\n",
    "s = ['abcd!','abc?','abc!','1wo!', 'abc.','234!', \"a!\"]\n",
    "\n",
    "for i in s:\n",
    "    print(i, re.search('^[a-zA-Z].*!$',i))"
   ]
  },
  {
   "cell_type": "code",
   "execution_count": null,
   "id": "c39daaf9",
   "metadata": {},
   "outputs": [],
   "source": []
  },
  {
   "cell_type": "code",
   "execution_count": null,
   "id": "2aa17a62",
   "metadata": {},
   "outputs": [],
   "source": [
    "# special matching symbols  : \\d \\s \\w\n",
    "# search set [..]  [^..]\n",
    "# repetetion  * , + < ? , {min, max}\n",
    "# anchors: ^ , $\n",
    "# . dot: matches any character except newline '\\n'"
   ]
  },
  {
   "cell_type": "code",
   "execution_count": null,
   "id": "f466a625",
   "metadata": {},
   "outputs": [],
   "source": [
    "# Pattern for 5 character string with first and last character should not be digit.\n",
    "# Second character should not be a vowel and white space. \n",
    "# Third should not be lower case character \n",
    "# Fourth should not be Uppercase character.\n",
    "\"^\\D\\D$\" # \"^[^0-9][^0-9]$\"\n",
    "\"^\\D[^\\saeiouAEIOU][^a-z][^A-Z]\\D$\"\n"
   ]
  },
  {
   "cell_type": "code",
   "execution_count": null,
   "id": "cf519261",
   "metadata": {},
   "outputs": [],
   "source": []
  },
  {
   "cell_type": "markdown",
   "id": "c6d31307",
   "metadata": {},
   "source": [
    "## functions"
   ]
  },
  {
   "cell_type": "code",
   "execution_count": null,
   "id": "6f18eb49",
   "metadata": {},
   "outputs": [],
   "source": [
    "# search\n",
    "# match\n",
    "# findall\n",
    "# finditer"
   ]
  },
  {
   "cell_type": "code",
   "execution_count": 61,
   "id": "c2bf7e07",
   "metadata": {},
   "outputs": [
    {
     "name": "stdout",
     "output_type": "stream",
     "text": [
      "<re.Match object; span=(0, 3), match='abc'>\n",
      "None\n"
     ]
    }
   ],
   "source": [
    "r = re.match(\"abc\", \"abcde abcef\") # gives the first match\n",
    "print(r)\n",
    "r = re.match(\"ABC\", \"abcde\")\n",
    "print(r)"
   ]
  },
  {
   "cell_type": "code",
   "execution_count": 64,
   "id": "714ff166",
   "metadata": {},
   "outputs": [
    {
     "name": "stdout",
     "output_type": "stream",
     "text": [
      "<re.Match object; span=(0, 3), match='abc'>\n",
      "['__class__', '__copy__', '__deepcopy__', '__delattr__', '__dir__', '__doc__', '__eq__', '__format__', '__ge__', '__getattribute__', '__getitem__', '__gt__', '__hash__', '__init__', '__init_subclass__', '__le__', '__lt__', '__ne__', '__new__', '__reduce__', '__reduce_ex__', '__repr__', '__setattr__', '__sizeof__', '__str__', '__subclasshook__', 'end', 'endpos', 'expand', 'group', 'groupdict', 'groups', 'lastgroup', 'lastindex', 'pos', 're', 'regs', 'span', 'start', 'string']\n",
      "None\n"
     ]
    }
   ],
   "source": [
    "r = re.search(\"abc\", \"abcde abcef\") # gives the first match\n",
    "print(r)\n",
    "\n",
    "print(dir(r))\n",
    "\n",
    "r = re.search(\"ABC\", \"abcde\")\n",
    "print(r)\n",
    "\n"
   ]
  },
  {
   "cell_type": "code",
   "execution_count": null,
   "id": "d1f6d82d",
   "metadata": {},
   "outputs": [],
   "source": [
    "r = re.search(\"abc\", \"abcde abcef\") # gives the first match\n",
    "print(r)\n",
    "r = re.search(\"ABC\", \"abcde\")\n",
    "print(r)"
   ]
  },
  {
   "cell_type": "code",
   "execution_count": 66,
   "id": "67ffbfa6",
   "metadata": {},
   "outputs": [
    {
     "name": "stdout",
     "output_type": "stream",
     "text": [
      "['abc', 'adc']\n",
      "[]\n"
     ]
    }
   ],
   "source": [
    "r = re.findall(\"a.c\", \"abcde adc\") # gives all the matching strings\n",
    "print(r)\n",
    "r = re.findall(\"ABC\", \"abcde\")\n",
    "print(r)"
   ]
  },
  {
   "cell_type": "code",
   "execution_count": 72,
   "id": "3f99b57e",
   "metadata": {},
   "outputs": [
    {
     "name": "stdout",
     "output_type": "stream",
     "text": [
      "<callable_iterator object at 0x000001B65696EA90>\n",
      "<re.Match object; span=(0, 3), match='abc'>\n",
      "<re.Match object; span=(6, 9), match='adc'>\n",
      "\n",
      "<callable_iterator object at 0x000001B65696E340>\n"
     ]
    }
   ],
   "source": [
    "r = re.finditer(\"a.c\", \"abcde adc\") # gives iterator of match objects\n",
    "print(r)\n",
    "for i in r:\n",
    "    print(i)\n",
    "\n",
    "print()\n",
    "r = re.finditer(\"ABC\", \"abcde\")\n",
    "print(r)\n",
    "for i in r:\n",
    "    print(i)"
   ]
  },
  {
   "cell_type": "code",
   "execution_count": null,
   "id": "385f29e3",
   "metadata": {},
   "outputs": [],
   "source": []
  },
  {
   "cell_type": "code",
   "execution_count": 90,
   "id": "d4a4c3c7",
   "metadata": {},
   "outputs": [
    {
     "name": "stdout",
     "output_type": "stream",
     "text": [
      "[' with ']\n",
      "[' with ', '\\tthis\\t']\n",
      "['this', 'with', 'four', 'this', 'this', 'What']\n",
      "['this', 'with', 'four', 'this', 'this', 'What']\n"
     ]
    }
   ],
   "source": [
    "# find all 4 letter words in a string\n",
    "s = \"this is a sentence with four letter\\tthis\\twords and numbers 123 12345 1234,this.What?\"\n",
    "\n",
    "print(re.findall(r' [a-zA-Z]{4} ', s))\n",
    "print(re.findall(r'\\s[a-zA-Z]{4}\\s', s))\n",
    "print(re.findall(r'\\b[a-zA-Z]{4}\\b', s)) # word boundary -> start of string, end of string, white space characters...\n",
    "print(re.findall(r'\\b[a-zA-Z]{4}\\b', s))"
   ]
  },
  {
   "cell_type": "code",
   "execution_count": 89,
   "id": "ad9d0cee",
   "metadata": {},
   "outputs": [
    {
     "name": "stdout",
     "output_type": "stream",
     "text": [
      "a\\sb\n",
      "a\bc\n",
      "a\\bc\n"
     ]
    }
   ],
   "source": [
    "print(\"a\\sb\")\n",
    "print(\"a\\bc\") # backspace\n",
    "print(r\"a\\bc\")"
   ]
  },
  {
   "cell_type": "code",
   "execution_count": null,
   "id": "0e3dd4b1",
   "metadata": {},
   "outputs": [],
   "source": [
    "# groups and or '|'"
   ]
  },
  {
   "cell_type": "code",
   "execution_count": 96,
   "id": "19725bab",
   "metadata": {},
   "outputs": [
    {
     "name": "stdout",
     "output_type": "stream",
     "text": [
      "+91 11111111    <re.Match object; span=(0, 12), match='+91 11111111'>\n",
      "+1 11111111     <re.Match object; span=(0, 11), match='+1 11111111'>\n",
      "+91 11111111    <re.Match object; span=(0, 12), match='+91 11111111'>\n",
      "91 11111111     no match\n",
      "1 11111111      no match\n",
      "1 1111111       no match\n",
      "111111111       no match\n"
     ]
    }
   ],
   "source": [
    "# regular  expression to extract the country code from 9-10 digit phone numbers, + symbol is optional\n",
    "nums = [\"+91 11111111\", \"+1 11111111\", \"+91 11111111\", \"91 11111111\", \"1 11111111\", \"1 1111111\", \"111111111\"]\n",
    "\n",
    "for num in nums:\n",
    "    m = re.match(\"\\+\\d{1,2} \\d{8}\", num)\n",
    "    if m is not None:\n",
    "        print(\"%-15s\" % num, m)\n",
    "    else:\n",
    "        print(\"%-15s\" % num, \"no match\")"
   ]
  },
  {
   "cell_type": "code",
   "execution_count": 97,
   "id": "1bb4b28e",
   "metadata": {},
   "outputs": [
    {
     "name": "stdout",
     "output_type": "stream",
     "text": [
      "+91 11111111    <re.Match object; span=(0, 12), match='+91 11111111'>\n",
      "+1 11111111     <re.Match object; span=(0, 11), match='+1 11111111'>\n",
      "+91 11111111    <re.Match object; span=(0, 12), match='+91 11111111'>\n",
      "91 11111111     <re.Match object; span=(0, 11), match='91 11111111'>\n",
      "1 11111111      <re.Match object; span=(0, 10), match='1 11111111'>\n",
      "1 1111111       no match\n",
      "111111111       no match\n"
     ]
    }
   ],
   "source": [
    "nums = [\"+91 11111111\", \"+1 11111111\", \"+91 11111111\", \"91 11111111\", \"1 11111111\", \"1 1111111\", \"111111111\"]\n",
    "\n",
    "for num in nums:\n",
    "    m = re.match(\"\\+?\\d{1,2} \\d{8}\", num)\n",
    "    if m is not None:\n",
    "        print(\"%-15s\" % num, m)\n",
    "    else:\n",
    "        print(\"%-15s\" % num, \"no match\")"
   ]
  },
  {
   "cell_type": "code",
   "execution_count": 99,
   "id": "8ec98745",
   "metadata": {},
   "outputs": [
    {
     "name": "stdout",
     "output_type": "stream",
     "text": [
      "\n",
      "+91 11111111    <re.Match object; span=(0, 12), match='+91 11111111'>\n",
      "('91',)\n",
      "\n",
      "+1 11111111     <re.Match object; span=(0, 11), match='+1 11111111'>\n",
      "('1',)\n",
      "\n",
      "+91 11111111    <re.Match object; span=(0, 12), match='+91 11111111'>\n",
      "('91',)\n",
      "\n",
      "91 11111111     <re.Match object; span=(0, 11), match='91 11111111'>\n",
      "('91',)\n",
      "\n",
      "1 11111111      <re.Match object; span=(0, 10), match='1 11111111'>\n",
      "('1',)\n",
      "\n",
      "1 1111111       no match\n",
      "\n",
      "111111111       no match\n"
     ]
    }
   ],
   "source": [
    "# exatract  contry codes\n",
    "# capture group is written in ()\n",
    "nums = [\"+91 11111111\", \"+1 11111111\", \"+91 11111111\", \"91 11111111\", \"1 11111111\", \"1 1111111\", \"111111111\"]\n",
    "\n",
    "for num in nums:\n",
    "    m = re.match(\"\\+?(\\d{1,2}) \\d{8}\", num)\n",
    "    print()\n",
    "    if m is not None:\n",
    "        print(\"%-15s\" % num, m)\n",
    "        print(m.groups())\n",
    "    else:\n",
    "        print(\"%-15s\" % num, \"no match\")"
   ]
  },
  {
   "cell_type": "code",
   "execution_count": 101,
   "id": "b514e3ab",
   "metadata": {},
   "outputs": [
    {
     "name": "stdout",
     "output_type": "stream",
     "text": [
      "\n",
      "+91 11111111    <re.Match object; span=(0, 12), match='+91 11111111'>\n",
      "('+', '91')\n",
      "\n",
      "+1 11111111     <re.Match object; span=(0, 11), match='+1 11111111'>\n",
      "('+', '1')\n",
      "\n",
      "+91 11111111    <re.Match object; span=(0, 12), match='+91 11111111'>\n",
      "('+', '91')\n",
      "\n",
      "91 11111111     <re.Match object; span=(0, 11), match='91 11111111'>\n",
      "('', '91')\n",
      "\n",
      "1 11111111      <re.Match object; span=(0, 10), match='1 11111111'>\n",
      "('', '1')\n",
      "\n",
      "1 1111111       no match\n",
      "\n",
      "111111111       no match\n"
     ]
    }
   ],
   "source": [
    "# exatract  contry codes\n",
    "# capture group is written in ()\n",
    "nums = [\"+91 11111111\", \"+1 11111111\", \"+91 11111111\", \"91 11111111\", \"1 11111111\", \"1 1111111\", \"111111111\"]\n",
    "\n",
    "for num in nums:\n",
    "    m = re.match(\"(\\+?)(\\d{1,2}) \\d{8}\", num)\n",
    "    print()\n",
    "    if m is not None:\n",
    "        print(\"%-15s\" % num, m)\n",
    "        print(m.groups())\n",
    "    else:\n",
    "        print(\"%-15s\" % num, \"no match\")"
   ]
  },
  {
   "cell_type": "code",
   "execution_count": null,
   "id": "6e2da3b5",
   "metadata": {},
   "outputs": [],
   "source": []
  },
  {
   "cell_type": "code",
   "execution_count": 103,
   "id": "b20a6e5e",
   "metadata": {},
   "outputs": [
    {
     "name": "stdout",
     "output_type": "stream",
     "text": [
      "ab  #  cd  #  ef\n"
     ]
    }
   ],
   "source": [
    "s  = \"ab 1 cd 2 ef\"\n",
    "r  = re.sub('\\d', ' # ', s) # substitution\n",
    "print(r)"
   ]
  },
  {
   "cell_type": "code",
   "execution_count": null,
   "id": "45d3b99b",
   "metadata": {},
   "outputs": [],
   "source": []
  },
  {
   "cell_type": "code",
   "execution_count": 108,
   "id": "ee758fea",
   "metadata": {},
   "outputs": [
    {
     "name": "stdout",
     "output_type": "stream",
     "text": [
      "'abc'      no match\n",
      "'aba'      match\n",
      "'abc aba'  match\n",
      "'1 sdf 1'  match\n",
      "'1 dfsdf'  no match\n",
      "' 12 '     match\n",
      "'.123?'    no match\n",
      "'a'        no regex match\n",
      "'ab'       no match\n",
      "'aa'       match\n"
     ]
    }
   ],
   "source": [
    "# WAR that check for the first and last symbol of a string should be the same\n",
    "\n",
    "values = [\"abc\", \"aba\", \"abc aba\", \"1 sdf 1\", \"1 dfsdf\", \" 12 \", \".123?\", \"a\", \"ab\", \"aa\"]\n",
    "\n",
    "for v  in values:\n",
    "    m = re.match(\"^(.).*(.)$\", v)\n",
    "    if m is  not None:\n",
    "        g =  m.groups()\n",
    "        if g[0] == g[1]:\n",
    "            print(\"%-10s\" % repr(v), \"match\")\n",
    "        else:\n",
    "            print(\"%-10s\" % repr(v), \"no match\")\n",
    "    else:\n",
    "        print(\"%-10s\" % repr(v), \"no regex match\")\n",
    "        "
   ]
  },
  {
   "cell_type": "code",
   "execution_count": 112,
   "id": "5bb7f367",
   "metadata": {},
   "outputs": [
    {
     "name": "stdout",
     "output_type": "stream",
     "text": [
      "'abc'      no regex match\n",
      "'aba'      match\n",
      "'abc aba'  match\n",
      "'1 sdf 1'  match\n",
      "'1 dfsdf'  no regex match\n",
      "' 12 '     match\n",
      "'.123?'    no regex match\n",
      "'a'        no regex match\n",
      "'ab'       no regex match\n",
      "'aa'       match\n"
     ]
    }
   ],
   "source": [
    "# back reference \n",
    "values = [\"abc\", \"aba\", \"abc aba\", \"1 sdf 1\", \"1 dfsdf\", \" 12 \", \".123?\", \"a\", \"ab\", \"aa\"]\n",
    "\n",
    "for v  in values:\n",
    "    m = re.match(r\"^(.).*\\1$\", v)\n",
    "    if m is  not None:\n",
    "        print(\"%-10s\" % repr(v), \"match\")\n",
    "    else:\n",
    "        print(\"%-10s\" % repr(v), \"no regex match\")"
   ]
  },
  {
   "cell_type": "code",
   "execution_count": 111,
   "id": "8b8ab0c1",
   "metadata": {},
   "outputs": [
    {
     "name": "stdout",
     "output_type": "stream",
     "text": [
      "\u0001\n"
     ]
    }
   ],
   "source": [
    "print(\"\\1\")"
   ]
  },
  {
   "cell_type": "code",
   "execution_count": null,
   "id": "288bd001",
   "metadata": {},
   "outputs": [],
   "source": []
  },
  {
   "cell_type": "code",
   "execution_count": 119,
   "id": "e872c60e",
   "metadata": {},
   "outputs": [
    {
     "name": "stdout",
     "output_type": "stream",
     "text": [
      "abc 123 ('c 123',)\n",
      "pqr. abc ('r. abc',)\n",
      "123. no match\n"
     ]
    }
   ],
   "source": [
    "# find all strings which start with ab or pq and capture the value after ab/pq\n",
    "words = [\"abc 123\", \"pqr. abc\", \"123.\"]\n",
    "\n",
    "for w in words:\n",
    "    m = re.match(\"(?:ab|pq)(.*)\", w)\n",
    "    if m:\n",
    "        print(w, m.groups())\n",
    "    else:\n",
    "        print(w, \"no match\")"
   ]
  },
  {
   "cell_type": "code",
   "execution_count": null,
   "id": "f0dea071",
   "metadata": {},
   "outputs": [],
   "source": []
  },
  {
   "cell_type": "code",
   "execution_count": 123,
   "id": "9dc598da",
   "metadata": {},
   "outputs": [
    {
     "name": "stdout",
     "output_type": "stream",
     "text": [
      "<re.Match object; span=(0, 48), match='this is sentence. this is second one. this. 123.'>\n",
      "<re.Match object; span=(0, 17), match='this is sentence.'>\n"
     ]
    }
   ],
   "source": [
    "# Extract a sentence from a string, assuming sentences end with a '.'\n",
    "\n",
    "\n",
    "s = \"this is sentence. this is second one. this. 123.\"\n",
    "\n",
    "print(re.search(\".*\\.\", s)) # greedy search.. finds longest match\n",
    "print(re.search(\".*?\\.\", s)) # .*? -> makes search non-greedy \n",
    "\n",
    "# *?\n",
    "# +?"
   ]
  },
  {
   "cell_type": "code",
   "execution_count": null,
   "id": "39d3343b",
   "metadata": {},
   "outputs": [],
   "source": []
  },
  {
   "cell_type": "markdown",
   "id": "3b34e5df",
   "metadata": {},
   "source": [
    "### Assignment Problem"
   ]
  },
  {
   "cell_type": "code",
   "execution_count": null,
   "id": "f0427394",
   "metadata": {},
   "outputs": [],
   "source": [
    "s = '232323'\n",
    "list1 = list(s)\n",
    "print(list1)\n",
    "for i in list1:\n",
    "    print()\n",
    "    y = lambda i:i.isdigit()\n",
    "    print(y(i))\n"
   ]
  },
  {
   "cell_type": "code",
   "execution_count": 16,
   "id": "252025bf",
   "metadata": {},
   "outputs": [
    {
     "name": "stdout",
     "output_type": "stream",
     "text": [
      "[1, 2, '11', 'ab', 55, -1]\n",
      "\n",
      "True 1\n",
      "\n",
      "True 2\n",
      "\n",
      "False '11'\n",
      "\n",
      "False 'ab'\n",
      "\n",
      "True 55\n",
      "\n",
      "True -1\n"
     ]
    }
   ],
   "source": [
    "list1 = [1,2,'11', 'ab', 55, -1]\n",
    "print(list1)\n",
    "for i in list1:\n",
    "    print()\n",
    "    y = lambda i:isinstance(i, int)\n",
    "    print(y(i), repr(i))\n"
   ]
  },
  {
   "cell_type": "code",
   "execution_count": null,
   "id": "687c5c3c",
   "metadata": {},
   "outputs": [],
   "source": []
  },
  {
   "cell_type": "code",
   "execution_count": null,
   "id": "4071547f",
   "metadata": {},
   "outputs": [],
   "source": [
    "a = lambda x : x * x\n",
    "print(a(5))\n",
    "a = lambda x : 1/x\n",
    "print(a(5))\n",
    "\n",
    "a = lambda x : x * -1\n",
    "print(a(5))\n"
   ]
  },
  {
   "cell_type": "code",
   "execution_count": 127,
   "id": "99dfc845",
   "metadata": {},
   "outputs": [
    {
     "name": "stdout",
     "output_type": "stream",
     "text": [
      "[-1.0, -0.25, -0.0625]\n"
     ]
    }
   ],
   "source": [
    "def map_mulitple(functs, seq):\n",
    "    for funct in functs:\n",
    "        seq = map(funct, seq)\n",
    "        \n",
    "    return list(seq)\n",
    "\n",
    "\n",
    "print(map_mulitple([lambda x : x * x, lambda x : 1/x, lambda x : -x], [1,2,4]))"
   ]
  },
  {
   "cell_type": "code",
   "execution_count": 129,
   "id": "a953dfa8",
   "metadata": {},
   "outputs": [
    {
     "name": "stdout",
     "output_type": "stream",
     "text": [
      "[1, 4, 16]\n",
      "[1.0, 0.25, 0.0625]\n",
      "[-1.0, -0.25, -0.0625]\n",
      "\n",
      "[-1.0, -0.25, -0.0625]\n"
     ]
    }
   ],
   "source": [
    "def map_mulitple(functs, seq):\n",
    "    for funct in functs:\n",
    "        seq = list(map(funct, seq))\n",
    "        print(seq)\n",
    "        \n",
    "    return list(seq)\n",
    "\n",
    "res = map_mulitple([lambda x : x * x, lambda x : 1/x, lambda x : -x], [1,2,4])\n",
    "print()\n",
    "print(res)"
   ]
  },
  {
   "cell_type": "code",
   "execution_count": 131,
   "id": "3d91acec",
   "metadata": {},
   "outputs": [
    {
     "data": {
      "text/plain": [
       "[2, 4, 6]"
      ]
     },
     "execution_count": 131,
     "metadata": {},
     "output_type": "execute_result"
    }
   ],
   "source": [
    "list(map(lambda x: x*2, [1,2,3]))"
   ]
  }
 ],
 "metadata": {
  "kernelspec": {
   "display_name": "Python 3",
   "language": "python",
   "name": "python3"
  },
  "language_info": {
   "codemirror_mode": {
    "name": "ipython",
    "version": 3
   },
   "file_extension": ".py",
   "mimetype": "text/x-python",
   "name": "python",
   "nbconvert_exporter": "python",
   "pygments_lexer": "ipython3",
   "version": "3.8.8"
  }
 },
 "nbformat": 4,
 "nbformat_minor": 5
}
