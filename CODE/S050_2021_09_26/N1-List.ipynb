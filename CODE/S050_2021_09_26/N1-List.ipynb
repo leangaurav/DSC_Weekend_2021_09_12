{
 "cells": [
  {
   "cell_type": "markdown",
   "id": "97a7bee3",
   "metadata": {},
   "source": [
    "Datatype\n",
    "- int\n",
    "- str : sequence types\n",
    "- bool\n",
    "- float\n",
    "- None\n",
    "\n",
    "- list : sequence types"
   ]
  },
  {
   "cell_type": "markdown",
   "id": "b35185fc",
   "metadata": {},
   "source": [
    "\"abcd\" is a str\n",
    " 0123\n",
    "a comes before b"
   ]
  },
  {
   "cell_type": "code",
   "execution_count": null,
   "id": "ec8f1073",
   "metadata": {},
   "outputs": [],
   "source": [
    "# s[n] => indexing\n",
    "# gives only on element\n",
    "# give  an error if n in invalid\n",
    "\n",
    "# s[start : end : step] => slicing\n",
    "# gives 0-N elements\n",
    "# doesn't give an error if start and end are invalid"
   ]
  },
  {
   "cell_type": "code",
   "execution_count": 1,
   "id": "0cc174cb",
   "metadata": {},
   "outputs": [
    {
     "name": "stdout",
     "output_type": "stream",
     "text": [
      "\n",
      "bcd\n"
     ]
    }
   ],
   "source": [
    "s = \"abcd\"\n",
    "# s[-1]\n",
    "# s[4]\n",
    "print( s[1:1] )\n",
    "print( s[1:] )"
   ]
  },
  {
   "cell_type": "code",
   "execution_count": null,
   "id": "fa6f849a",
   "metadata": {},
   "outputs": [],
   "source": [
    "s = \"10\""
   ]
  },
  {
   "cell_type": "code",
   "execution_count": null,
   "id": "3b6ca13f",
   "metadata": {},
   "outputs": [],
   "source": []
  },
  {
   "cell_type": "markdown",
   "id": "7ec8e9ce",
   "metadata": {},
   "source": [
    "List -> array\n",
    "- sequence\n",
    "- uses [] for syntax\n",
    "- heterogeneous type\n",
    "- list is mutable"
   ]
  },
  {
   "cell_type": "code",
   "execution_count": 7,
   "id": "1c5791c6",
   "metadata": {},
   "outputs": [
    {
     "name": "stdout",
     "output_type": "stream",
     "text": [
      "[] 0 <class 'list'>\n",
      "[1, 2, 3] 3 <class 'list'>\n",
      "[] 0 <class 'list'>\n"
     ]
    }
   ],
   "source": [
    "# list creation\n",
    "a = []\n",
    "print(a, len(a),type(a))\n",
    "\n",
    "a = [1, 2, 3]\n",
    "print(a, len(a), type(a))\n",
    "\n",
    "a = list()\n",
    "print(a, len(a),type(a))"
   ]
  },
  {
   "cell_type": "code",
   "execution_count": 11,
   "id": "a0d6588b",
   "metadata": {},
   "outputs": [
    {
     "name": "stdout",
     "output_type": "stream",
     "text": [
      "10\n",
      "50 50\n",
      "[50, 40, 30, 20, 10]\n",
      "[40, 30, 20, 10]\n"
     ]
    }
   ],
   "source": [
    "# sequence: collection\n",
    "a = [10,20,30,40,50]\n",
    "  #   0  1  2  3  4\n",
    "    \n",
    "print(a[0])\n",
    "print(a[-1], a[len(a) - 1])\n",
    "\n",
    "print(a[::-1])\n",
    "print(a[3::-1])"
   ]
  },
  {
   "cell_type": "code",
   "execution_count": 13,
   "id": "c69abf83",
   "metadata": {},
   "outputs": [
    {
     "name": "stdout",
     "output_type": "stream",
     "text": [
      "[10, False, 10.5, 'abcd']\n",
      "10.5\n",
      "d\n"
     ]
    }
   ],
   "source": [
    "# heteregeneous\n",
    "a = [10,False, 10.5, \"abcd\"]\n",
    "print(a)\n",
    "print(a[2])\n",
    "print(a[3][3])"
   ]
  },
  {
   "cell_type": "code",
   "execution_count": 14,
   "id": "ea8ec349",
   "metadata": {},
   "outputs": [
    {
     "name": "stdout",
     "output_type": "stream",
     "text": [
      "3\n"
     ]
    }
   ],
   "source": [
    "a = [10, 20, [], [1,2,3]]\n",
    "print(a[3][-1])"
   ]
  },
  {
   "cell_type": "code",
   "execution_count": null,
   "id": "c10d3e9f",
   "metadata": {},
   "outputs": [],
   "source": [
    "# 'append', 'clear', 'copy', 'count', 'extend', 'index', 'insert', 'pop', 'remove', 'reverse', 'sort'"
   ]
  },
  {
   "cell_type": "code",
   "execution_count": 15,
   "id": "a5333ff3",
   "metadata": {},
   "outputs": [
    {
     "name": "stdout",
     "output_type": "stream",
     "text": [
      "[1, 2, 3, 10]\n"
     ]
    }
   ],
   "source": [
    "a = [1,2,3]\n",
    "a.append(10)\n",
    "print(a)"
   ]
  },
  {
   "cell_type": "code",
   "execution_count": 18,
   "id": "67861bb9",
   "metadata": {},
   "outputs": [
    {
     "name": "stdout",
     "output_type": "stream",
     "text": [
      "[1, 2, 3, [10, 20], 'abcd']\n",
      "[]\n"
     ]
    }
   ],
   "source": [
    "a = [1,2,3]\n",
    "a.append([10,20])\n",
    "a.append(\"abcd\")\n",
    "print(a)\n",
    "a.clear()\n",
    "print(a)"
   ]
  },
  {
   "cell_type": "code",
   "execution_count": 23,
   "id": "7677bf28",
   "metadata": {},
   "outputs": [
    {
     "name": "stdout",
     "output_type": "stream",
     "text": [
      "1\n",
      "0\n",
      "2\n",
      "0\n",
      "2\n"
     ]
    }
   ],
   "source": [
    "a = [1,2,3,4, 1]\n",
    "print(a.count(2))\n",
    "print(a.count(40))\n",
    "print(a.count(1))\n",
    "print(a.count(\"dfs\"))\n",
    "\n",
    "print(a.count(True))"
   ]
  },
  {
   "cell_type": "code",
   "execution_count": 29,
   "id": "69c15ef2",
   "metadata": {},
   "outputs": [
    {
     "name": "stdout",
     "output_type": "stream",
     "text": [
      "[1, 2, 3, [10, 20], 10, 20]\n",
      "[1, 2, 3, [10, 20], 10, 20, 'a', 'b', 'c', 'd']\n"
     ]
    }
   ],
   "source": [
    "a = [1,2,3]\n",
    "a.append([10,20])\n",
    "a.extend([10,20])\n",
    "print(a)\n",
    "a.extend(\"abcd\")\n",
    "# a.extend(10) : 'int' object is not iterable\n",
    "print(a)"
   ]
  },
  {
   "cell_type": "code",
   "execution_count": null,
   "id": "05ac4a48",
   "metadata": {},
   "outputs": [],
   "source": []
  },
  {
   "cell_type": "code",
   "execution_count": 31,
   "id": "83ad09eb",
   "metadata": {},
   "outputs": [
    {
     "name": "stdout",
     "output_type": "stream",
     "text": [
      "[]\n",
      "\n",
      "[1, 2, 3]\n",
      "\n",
      "['a', 'b', 'c', 'd'] 4\n"
     ]
    }
   ],
   "source": [
    "a = list()\n",
    "print(a)\n",
    "\n",
    "print()\n",
    "a = list( [1,2,3] )\n",
    "print(a)\n",
    "\n",
    "print()\n",
    "a = list( \"abcd\" )\n",
    "print(a, len(a))"
   ]
  },
  {
   "cell_type": "code",
   "execution_count": 34,
   "id": "ee8dceb2",
   "metadata": {},
   "outputs": [
    {
     "name": "stdout",
     "output_type": "stream",
     "text": [
      "None\n",
      "[10]\n"
     ]
    }
   ],
   "source": [
    "a = []\n",
    "r = a.append(10)\n",
    "print(r)\n",
    "print(a)"
   ]
  },
  {
   "cell_type": "code",
   "execution_count": 38,
   "id": "29603040",
   "metadata": {},
   "outputs": [
    {
     "name": "stdout",
     "output_type": "stream",
     "text": [
      "['a', 'b', 'c', 'd']\n",
      "['a', 'b', 'c'] d\n",
      "['a', 'b']\n",
      "[]\n"
     ]
    },
    {
     "ename": "IndexError",
     "evalue": "pop from empty list",
     "output_type": "error",
     "traceback": [
      "\u001b[1;31m---------------------------------------------------------------------------\u001b[0m",
      "\u001b[1;31mIndexError\u001b[0m                                Traceback (most recent call last)",
      "\u001b[1;32mC:\\Users\\LEANGA~1\\AppData\\Local\\Temp/ipykernel_13804/2297020342.py\u001b[0m in \u001b[0;36m<module>\u001b[1;34m\u001b[0m\n\u001b[0;32m     12\u001b[0m \u001b[0mprint\u001b[0m\u001b[1;33m(\u001b[0m\u001b[0ma\u001b[0m\u001b[1;33m)\u001b[0m\u001b[1;33m\u001b[0m\u001b[1;33m\u001b[0m\u001b[0m\n\u001b[0;32m     13\u001b[0m \u001b[1;33m\u001b[0m\u001b[0m\n\u001b[1;32m---> 14\u001b[1;33m \u001b[0ma\u001b[0m\u001b[1;33m.\u001b[0m\u001b[0mpop\u001b[0m\u001b[1;33m(\u001b[0m\u001b[1;33m)\u001b[0m\u001b[1;33m\u001b[0m\u001b[1;33m\u001b[0m\u001b[0m\n\u001b[0m\u001b[0;32m     15\u001b[0m \u001b[0mprint\u001b[0m\u001b[1;33m(\u001b[0m\u001b[0ma\u001b[0m\u001b[1;33m)\u001b[0m\u001b[1;33m\u001b[0m\u001b[1;33m\u001b[0m\u001b[0m\n",
      "\u001b[1;31mIndexError\u001b[0m: pop from empty list"
     ]
    }
   ],
   "source": [
    "a = list(\"abcd\")\n",
    "print(a)\n",
    "\n",
    "r = a.pop()\n",
    "print(a, r)\n",
    "\n",
    "a.pop()\n",
    "print(a)\n",
    "\n",
    "a.pop()\n",
    "a.pop()\n",
    "print(a)\n",
    "\n",
    "# a.pop() # can't pop from empty list\n",
    "print(a)"
   ]
  },
  {
   "cell_type": "code",
   "execution_count": 41,
   "id": "40bcf048",
   "metadata": {},
   "outputs": [
    {
     "name": "stdout",
     "output_type": "stream",
     "text": [
      "['a', 'b', 'c', 'd']\n",
      "['b', 'c', 'd'] a\n",
      "['b', 'c']\n"
     ]
    }
   ],
   "source": [
    "a = list(\"abcd\")\n",
    "print(a)\n",
    "\n",
    "r = a.pop(0)\n",
    "print(a, r)\n",
    "\n",
    "a.pop()\n",
    "print(a)"
   ]
  },
  {
   "cell_type": "code",
   "execution_count": 47,
   "id": "ada17313",
   "metadata": {},
   "outputs": [
    {
     "name": "stdout",
     "output_type": "stream",
     "text": [
      "['a', 'b', 'c', 'd', 'a']\n",
      "['b', 'c', 'd', 'a'] None\n",
      "['b', 'c', 'd']\n"
     ]
    },
    {
     "ename": "ValueError",
     "evalue": "list.remove(x): x not in list",
     "output_type": "error",
     "traceback": [
      "\u001b[1;31m---------------------------------------------------------------------------\u001b[0m",
      "\u001b[1;31mValueError\u001b[0m                                Traceback (most recent call last)",
      "\u001b[1;32mC:\\Users\\LEANGA~1\\AppData\\Local\\Temp/ipykernel_13804/3668201313.py\u001b[0m in \u001b[0;36m<module>\u001b[1;34m\u001b[0m\n\u001b[0;32m      5\u001b[0m \u001b[0mr\u001b[0m \u001b[1;33m=\u001b[0m \u001b[0ma\u001b[0m\u001b[1;33m.\u001b[0m\u001b[0mremove\u001b[0m\u001b[1;33m(\u001b[0m\u001b[1;34m'a'\u001b[0m\u001b[1;33m)\u001b[0m\u001b[1;33m\u001b[0m\u001b[1;33m\u001b[0m\u001b[0m\n\u001b[0;32m      6\u001b[0m \u001b[0mprint\u001b[0m\u001b[1;33m(\u001b[0m\u001b[0ma\u001b[0m\u001b[1;33m)\u001b[0m\u001b[1;33m\u001b[0m\u001b[1;33m\u001b[0m\u001b[0m\n\u001b[1;32m----> 7\u001b[1;33m \u001b[0mr\u001b[0m \u001b[1;33m=\u001b[0m \u001b[0ma\u001b[0m\u001b[1;33m.\u001b[0m\u001b[0mremove\u001b[0m\u001b[1;33m(\u001b[0m\u001b[1;34m'a'\u001b[0m\u001b[1;33m)\u001b[0m\u001b[1;33m\u001b[0m\u001b[1;33m\u001b[0m\u001b[0m\n\u001b[0m\u001b[0;32m      8\u001b[0m \u001b[0mprint\u001b[0m\u001b[1;33m(\u001b[0m\u001b[0ma\u001b[0m\u001b[1;33m)\u001b[0m\u001b[1;33m\u001b[0m\u001b[1;33m\u001b[0m\u001b[0m\n",
      "\u001b[1;31mValueError\u001b[0m: list.remove(x): x not in list"
     ]
    }
   ],
   "source": [
    "a  = list('abcda')\n",
    "print(a)\n",
    "r = a.remove('a')\n",
    "print(a, r)\n",
    "r = a.remove('a')\n",
    "print(a)\n",
    "r = a.remove('a')\n",
    "print(a)"
   ]
  },
  {
   "cell_type": "code",
   "execution_count": null,
   "id": "de09d154",
   "metadata": {},
   "outputs": [],
   "source": []
  },
  {
   "cell_type": "code",
   "execution_count": 49,
   "id": "d0a5042b",
   "metadata": {},
   "outputs": [
    {
     "name": "stdout",
     "output_type": "stream",
     "text": [
      "[10, 20, 15, 30]\n",
      "[30, 15, 20, 10] None\n"
     ]
    }
   ],
   "source": [
    "# reverse\n",
    "a = [10, 20,15,30]\n",
    "print(a)\n",
    "r = a.reverse() # reverses in place\n",
    "print(a, r)"
   ]
  },
  {
   "cell_type": "code",
   "execution_count": 51,
   "id": "0842ca4b",
   "metadata": {},
   "outputs": [
    {
     "name": "stdout",
     "output_type": "stream",
     "text": [
      "[10, 20, 15, 30] [30, 15, 20, 10]\n"
     ]
    }
   ],
   "source": [
    "a = [10, 20,15,30]\n",
    "r = a[::-1]\n",
    "print(a, r)"
   ]
  },
  {
   "cell_type": "code",
   "execution_count": 52,
   "id": "a8ed0ab5",
   "metadata": {},
   "outputs": [
    {
     "name": "stdout",
     "output_type": "stream",
     "text": [
      "[10, 20, 30, 40] [10, 20, 30, 40]\n"
     ]
    }
   ],
   "source": [
    "a = [10,20,30]\n",
    "b = a\n",
    "b.append(40)\n",
    "print(a,b)"
   ]
  },
  {
   "cell_type": "code",
   "execution_count": 53,
   "id": "ea4ba891",
   "metadata": {},
   "outputs": [
    {
     "name": "stdout",
     "output_type": "stream",
     "text": [
      "[10, 20, 30] [10, 20, 30, 40]\n"
     ]
    }
   ],
   "source": [
    "a = [10,20,30]\n",
    "b = a.copy()\n",
    "b.append(40)\n",
    "print(a,b)"
   ]
  },
  {
   "cell_type": "code",
   "execution_count": null,
   "id": "ee9c244c",
   "metadata": {},
   "outputs": [],
   "source": []
  },
  {
   "cell_type": "code",
   "execution_count": 56,
   "id": "cf896c09",
   "metadata": {},
   "outputs": [
    {
     "name": "stdout",
     "output_type": "stream",
     "text": [
      "[10, 15, 20, 30] None\n",
      "[30, 20, 15, 10] None\n"
     ]
    }
   ],
   "source": [
    "a = [10, 20,15,30]\n",
    "r = a.sort()\n",
    "print(a, r)\n",
    "a.sort(reverse=True)\n",
    "print(a, r)"
   ]
  },
  {
   "cell_type": "code",
   "execution_count": 58,
   "id": "98774b1f",
   "metadata": {},
   "outputs": [
    {
     "name": "stdout",
     "output_type": "stream",
     "text": [
      "['A', 'C', 'D', 'a', 'b']\n"
     ]
    }
   ],
   "source": [
    "a = list(\"abADC\")\n",
    "a.sort()\n",
    "print(a)"
   ]
  },
  {
   "cell_type": "code",
   "execution_count": 59,
   "id": "e7dec406",
   "metadata": {},
   "outputs": [
    {
     "name": "stdout",
     "output_type": "stream",
     "text": [
      "[0.1, 1, 2, 3, 4.5]\n"
     ]
    }
   ],
   "source": [
    "a = [1,2,3, 4.5, 0.1]\n",
    "a.sort()\n",
    "print(a)"
   ]
  },
  {
   "cell_type": "code",
   "execution_count": 60,
   "id": "6b0a79c0",
   "metadata": {},
   "outputs": [
    {
     "ename": "TypeError",
     "evalue": "'<' not supported between instances of 'str' and 'int'",
     "output_type": "error",
     "traceback": [
      "\u001b[1;31m---------------------------------------------------------------------------\u001b[0m",
      "\u001b[1;31mTypeError\u001b[0m                                 Traceback (most recent call last)",
      "\u001b[1;32mC:\\Users\\LEANGA~1\\AppData\\Local\\Temp/ipykernel_13804/3138319833.py\u001b[0m in \u001b[0;36m<module>\u001b[1;34m\u001b[0m\n\u001b[0;32m      1\u001b[0m \u001b[0ma\u001b[0m \u001b[1;33m=\u001b[0m \u001b[1;33m[\u001b[0m\u001b[1;36m1\u001b[0m\u001b[1;33m,\u001b[0m\u001b[1;36m2\u001b[0m\u001b[1;33m,\u001b[0m\u001b[1;36m3\u001b[0m\u001b[1;33m,\u001b[0m \u001b[1;36m4.5\u001b[0m\u001b[1;33m,\u001b[0m \u001b[1;36m0.1\u001b[0m\u001b[1;33m,\u001b[0m \u001b[1;34m\"a\"\u001b[0m\u001b[1;33m]\u001b[0m\u001b[1;33m\u001b[0m\u001b[1;33m\u001b[0m\u001b[0m\n\u001b[1;32m----> 2\u001b[1;33m \u001b[0ma\u001b[0m\u001b[1;33m.\u001b[0m\u001b[0msort\u001b[0m\u001b[1;33m(\u001b[0m\u001b[1;33m)\u001b[0m\u001b[1;33m\u001b[0m\u001b[1;33m\u001b[0m\u001b[0m\n\u001b[0m\u001b[0;32m      3\u001b[0m \u001b[0mprint\u001b[0m\u001b[1;33m(\u001b[0m\u001b[0ma\u001b[0m\u001b[1;33m)\u001b[0m\u001b[1;33m\u001b[0m\u001b[1;33m\u001b[0m\u001b[0m\n",
      "\u001b[1;31mTypeError\u001b[0m: '<' not supported between instances of 'str' and 'int'"
     ]
    }
   ],
   "source": [
    "a = [1,2,3, 4.5, 0.1, \"a\"]\n",
    "a.sort()\n",
    "print(a)"
   ]
  },
  {
   "cell_type": "code",
   "execution_count": 67,
   "id": "a3c5d59a",
   "metadata": {},
   "outputs": [
    {
     "name": "stdout",
     "output_type": "stream",
     "text": [
      "[10, 1, 2, 3]\n",
      "[10, 1, 2, 100, 3]\n",
      "[10, 1, 2, 100, 1000, 3]\n",
      "[10, 1, 2, 100, 1000, 3, 10000]\n",
      "[10, 1, 2, 100, 1000, 3, 10000, -100]\n"
     ]
    }
   ],
   "source": [
    "# insert\n",
    "a = [1,2,3]\n",
    "a.insert(0,10)\n",
    "print(a)\n",
    "a.insert(-1,100)\n",
    "print(a)\n",
    "a.insert(4,1000)\n",
    "print(a)\n",
    "a.insert(6,10000)\n",
    "print(a)\n",
    "a.insert(60,-100)\n",
    "print(a)"
   ]
  }
 ],
 "metadata": {
  "kernelspec": {
   "display_name": "Python 3",
   "language": "python",
   "name": "python3"
  },
  "language_info": {
   "codemirror_mode": {
    "name": "ipython",
    "version": 3
   },
   "file_extension": ".py",
   "mimetype": "text/x-python",
   "name": "python",
   "nbconvert_exporter": "python",
   "pygments_lexer": "ipython3",
   "version": "3.8.8"
  }
 },
 "nbformat": 4,
 "nbformat_minor": 5
}
