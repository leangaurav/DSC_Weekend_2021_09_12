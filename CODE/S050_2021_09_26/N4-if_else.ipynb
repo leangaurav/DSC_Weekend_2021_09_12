{
 "cells": [
  {
   "cell_type": "markdown",
   "id": "14c41fe2",
   "metadata": {},
   "source": [
    "### if-else, if"
   ]
  },
  {
   "cell_type": "code",
   "execution_count": null,
   "id": "513363e4",
   "metadata": {},
   "outputs": [],
   "source": [
    "if <condition>:\n",
    "    # code to execute when condition if true\n",
    "    \n"
   ]
  },
  {
   "cell_type": "code",
   "execution_count": 3,
   "id": "a40eaafd",
   "metadata": {},
   "outputs": [
    {
     "name": "stdout",
     "output_type": "stream",
     "text": [
      "True\n",
      "1\n"
     ]
    }
   ],
   "source": [
    "if True:\n",
    "    print(True)\n",
    "\n",
    "if 1:\n",
    "    print(1)"
   ]
  },
  {
   "cell_type": "code",
   "execution_count": 4,
   "id": "696d899d",
   "metadata": {},
   "outputs": [
    {
     "name": "stdout",
     "output_type": "stream",
     "text": [
      "nothing execcuted\n"
     ]
    }
   ],
   "source": [
    "if False:\n",
    "    print(False)\n",
    "\n",
    "if 0:\n",
    "    print(0)\n",
    "\n",
    "print(\"nothing execcuted\")"
   ]
  },
  {
   "cell_type": "code",
   "execution_count": 5,
   "id": "366671b4",
   "metadata": {},
   "outputs": [
    {
     "name": "stdout",
     "output_type": "stream",
     "text": [
      "10\n",
      "20\n",
      "Later\n"
     ]
    }
   ],
   "source": [
    "if 10 < 20:\n",
    "    print(10)\n",
    "    print(20)\n",
    "    \n",
    "print(\"Later\")"
   ]
  },
  {
   "cell_type": "code",
   "execution_count": null,
   "id": "2c84e238",
   "metadata": {},
   "outputs": [],
   "source": [
    "if <condition>:\n",
    "    Run if condition is true\n",
    "    ...\n",
    "else:\n",
    "    Run if conition is false\n",
    "    ...\n"
   ]
  },
  {
   "cell_type": "code",
   "execution_count": null,
   "id": "c66ae056",
   "metadata": {},
   "outputs": [],
   "source": [
    "if 10 < 20:\n",
    "    print(10)\n",
    "    print(20)\n",
    "    \n",
    "print(\"Later\")"
   ]
  },
  {
   "cell_type": "code",
   "execution_count": 2,
   "id": "f6784002",
   "metadata": {},
   "outputs": [
    {
     "name": "stdout",
     "output_type": "stream",
     "text": [
      "enter a number:20\n",
      "enter a number:10\n",
      "20\n"
     ]
    }
   ],
   "source": [
    "a = int(input(\"enter a number:\"))\n",
    "b = int(input(\"enter a number:\"))\n",
    "\n",
    "l = a\n",
    "if b > l:\n",
    "    l = b\n",
    "\n",
    "print(l)"
   ]
  },
  {
   "cell_type": "code",
   "execution_count": 8,
   "id": "cc3af3b7",
   "metadata": {},
   "outputs": [
    {
     "name": "stdout",
     "output_type": "stream",
     "text": [
      "enter a number:1\n",
      "enter a number:2\n",
      "2\n"
     ]
    }
   ],
   "source": [
    "# print larger of  two values\n",
    "a = int(input(\"enter a number:\"))\n",
    "b = int(input(\"enter a number:\"))\n",
    "\n",
    "if a > b:\n",
    "    print(a)\n",
    "else:\n",
    "    print(b)"
   ]
  },
  {
   "cell_type": "code",
   "execution_count": 15,
   "id": "58fa43dd",
   "metadata": {},
   "outputs": [
    {
     "name": "stdout",
     "output_type": "stream",
     "text": [
      "enter a string:\n",
      "0\n"
     ]
    },
    {
     "ename": "IndexError",
     "evalue": "string index out of range",
     "output_type": "error",
     "traceback": [
      "\u001b[1;31m---------------------------------------------------------------------------\u001b[0m",
      "\u001b[1;31mIndexError\u001b[0m                                Traceback (most recent call last)",
      "\u001b[1;32mC:\\Users\\LEANGA~1\\AppData\\Local\\Temp/ipykernel_15364/1015987509.py\u001b[0m in \u001b[0;36m<module>\u001b[1;34m\u001b[0m\n\u001b[0;32m      2\u001b[0m \u001b[0ma\u001b[0m\u001b[1;33m=\u001b[0m\u001b[0minput\u001b[0m\u001b[1;33m(\u001b[0m\u001b[1;34m\"enter a string:\"\u001b[0m\u001b[1;33m)\u001b[0m\u001b[1;33m\u001b[0m\u001b[1;33m\u001b[0m\u001b[0m\n\u001b[0;32m      3\u001b[0m \u001b[0mprint\u001b[0m\u001b[1;33m(\u001b[0m\u001b[0mlen\u001b[0m\u001b[1;33m(\u001b[0m\u001b[0ma\u001b[0m\u001b[1;33m)\u001b[0m\u001b[1;33m)\u001b[0m\u001b[1;33m\u001b[0m\u001b[1;33m\u001b[0m\u001b[0m\n\u001b[1;32m----> 4\u001b[1;33m \u001b[0mprint\u001b[0m\u001b[1;33m(\u001b[0m\u001b[0ma\u001b[0m\u001b[1;33m[\u001b[0m\u001b[1;36m0\u001b[0m\u001b[1;33m]\u001b[0m\u001b[1;33m)\u001b[0m\u001b[1;33m\u001b[0m\u001b[1;33m\u001b[0m\u001b[0m\n\u001b[0m\u001b[0;32m      5\u001b[0m \u001b[0mprint\u001b[0m\u001b[1;33m(\u001b[0m\u001b[0ma\u001b[0m\u001b[1;33m[\u001b[0m\u001b[1;33m-\u001b[0m\u001b[1;36m1\u001b[0m\u001b[1;33m]\u001b[0m\u001b[1;33m)\u001b[0m\u001b[1;33m\u001b[0m\u001b[1;33m\u001b[0m\u001b[0m\n",
      "\u001b[1;31mIndexError\u001b[0m: string index out of range"
     ]
    }
   ],
   "source": [
    "# WAP to input a string and print the first and last character of the string\n",
    "a=input(\"enter a string:\")\n",
    "print(len(a))\n",
    "print(a[0])\n",
    "print(a[-1])"
   ]
  },
  {
   "cell_type": "code",
   "execution_count": null,
   "id": "00ab2712",
   "metadata": {},
   "outputs": [],
   "source": [
    "# WAP to input a string and print its length. if the length is zero.. you should print 'string is empty'"
   ]
  },
  {
   "cell_type": "code",
   "execution_count": 14,
   "id": "8c23b4f4",
   "metadata": {},
   "outputs": [
    {
     "name": "stdout",
     "output_type": "stream",
     "text": [
      "enter a string \n",
      "string is empty\n"
     ]
    }
   ],
   "source": [
    "s=input(\"enter a string \")\n",
    "l=len(s)\n",
    "if l == 0:\n",
    "    print(\"string is empty\")\n",
    "else:\n",
    "    print('length is %d' % l)"
   ]
  },
  {
   "cell_type": "code",
   "execution_count": 19,
   "id": "e3a96c83",
   "metadata": {},
   "outputs": [
    {
     "name": "stdout",
     "output_type": "stream",
     "text": [
      "enter a string dfsdf\n",
      "d\n",
      "f\n"
     ]
    }
   ],
   "source": [
    "# WAP to input a string and print the first and last character of the string\n",
    "\n",
    "s=input(\"enter a string \")\n",
    "l=len(s)\n",
    "if l == 0:\n",
    "    print(\"string is empty\")\n",
    "else:\n",
    "    print(s[0])\n",
    "    print(s[-1])"
   ]
  },
  {
   "cell_type": "code",
   "execution_count": 23,
   "id": "582a01a0",
   "metadata": {},
   "outputs": [
    {
     "name": "stdout",
     "output_type": "stream",
     "text": [
      "('a', 'd')\n",
      "\n",
      "('1', '3')\n"
     ]
    }
   ],
   "source": [
    "# WAP to input a string and print the first and last character of the string\n",
    "\n",
    "def get_first_last_char(s):\n",
    "    if len(s) == 0:\n",
    "        return ''\n",
    "    \n",
    "    return s[0], s[-1]\n",
    "\n",
    "print(get_first_last_char('abcd'))\n",
    "print(get_first_last_char(''))\n",
    "print(get_first_last_char('123'))"
   ]
  },
  {
   "cell_type": "code",
   "execution_count": null,
   "id": "21b91fa0",
   "metadata": {},
   "outputs": [],
   "source": []
  }
 ],
 "metadata": {
  "kernelspec": {
   "display_name": "Python 3",
   "language": "python",
   "name": "python3"
  },
  "language_info": {
   "codemirror_mode": {
    "name": "ipython",
    "version": 3
   },
   "file_extension": ".py",
   "mimetype": "text/x-python",
   "name": "python",
   "nbconvert_exporter": "python",
   "pygments_lexer": "ipython3",
   "version": "3.8.8"
  }
 },
 "nbformat": 4,
 "nbformat_minor": 5
}
