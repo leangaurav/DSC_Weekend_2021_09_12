{
 "cells": [
  {
   "cell_type": "code",
   "execution_count": null,
   "id": "0cea69c0",
   "metadata": {},
   "outputs": [],
   "source": [
    "# WAP to print 1 random no. between 1-10. including 1 and 10"
   ]
  },
  {
   "cell_type": "code",
   "execution_count": 32,
   "id": "c0412b84",
   "metadata": {},
   "outputs": [
    {
     "name": "stdout",
     "output_type": "stream",
     "text": [
      "4\n",
      "10\n"
     ]
    }
   ],
   "source": [
    "import random\n",
    "print(random.randrange(1, 11))\n",
    "print(random.randint(1, 10))"
   ]
  },
  {
   "cell_type": "code",
   "execution_count": 40,
   "id": "19a2d58a",
   "metadata": {},
   "outputs": [
    {
     "name": "stdout",
     "output_type": "stream",
     "text": [
      "1\n",
      "116\n",
      "58.5\n"
     ]
    }
   ],
   "source": [
    "# WAP to generate two random no's  (1-10)  (100-1000)\n",
    "# print the numbers and their average\n",
    "\n",
    "import random\n",
    "a= random.randrange(1,11)\n",
    "print(a)\n",
    "b=random.randrange(100,1000)\n",
    "print(b)\n",
    "\n",
    "c=(a+b)/2\n",
    "print(c)\n"
   ]
  },
  {
   "cell_type": "code",
   "execution_count": 44,
   "id": "324f042a",
   "metadata": {},
   "outputs": [
    {
     "name": "stdout",
     "output_type": "stream",
     "text": [
      "enter a string:abcd\n",
      "4\n",
      "a\n",
      "d\n"
     ]
    }
   ],
   "source": [
    "# WAP to input a string and print the first and last character of the string\n",
    "a=input(\"enter a string:\")\n",
    "print(len(a))\n",
    "print(a[0])\n",
    "print(a[-1])"
   ]
  },
  {
   "cell_type": "code",
   "execution_count": 51,
   "id": "41766229",
   "metadata": {},
   "outputs": [
    {
     "name": "stdout",
     "output_type": "stream",
     "text": [
      "enter a string:abcd\n",
      "c\n"
     ]
    }
   ],
   "source": [
    "# WAP to input a string and print a random character from the string\n",
    "from random import randrange\n",
    "s = input(\"enter a string:\")\n",
    "idx = randrange(len(s))\n",
    "print(s[idx])"
   ]
  },
  {
   "cell_type": "code",
   "execution_count": null,
   "id": "eebe81e8",
   "metadata": {},
   "outputs": [],
   "source": []
  },
  {
   "cell_type": "code",
   "execution_count": null,
   "id": "09141f8e",
   "metadata": {},
   "outputs": [],
   "source": []
  }
 ],
 "metadata": {
  "kernelspec": {
   "display_name": "Python 3",
   "language": "python",
   "name": "python3"
  },
  "language_info": {
   "codemirror_mode": {
    "name": "ipython",
    "version": 3
   },
   "file_extension": ".py",
   "mimetype": "text/x-python",
   "name": "python",
   "nbconvert_exporter": "python",
   "pygments_lexer": "ipython3",
   "version": "3.8.8"
  }
 },
 "nbformat": 4,
 "nbformat_minor": 5
}
