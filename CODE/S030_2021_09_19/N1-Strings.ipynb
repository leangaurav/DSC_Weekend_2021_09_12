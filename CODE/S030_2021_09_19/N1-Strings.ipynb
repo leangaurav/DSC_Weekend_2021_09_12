{
 "cells": [
  {
   "cell_type": "code",
   "execution_count": 3,
   "id": "0b6f1912",
   "metadata": {},
   "outputs": [
    {
     "name": "stdout",
     "output_type": "stream",
     "text": [
      "enter a number:aa\n"
     ]
    },
    {
     "ename": "ValueError",
     "evalue": "invalid literal for int() with base 10: 'aa'",
     "output_type": "error",
     "traceback": [
      "\u001b[1;31m---------------------------------------------------------------------------\u001b[0m",
      "\u001b[1;31mValueError\u001b[0m                                Traceback (most recent call last)",
      "\u001b[1;32mC:\\Users\\LEANGA~1\\AppData\\Local\\Temp/ipykernel_9912/1872242867.py\u001b[0m in \u001b[0;36m<module>\u001b[1;34m\u001b[0m\n\u001b[0;32m      1\u001b[0m \u001b[1;31m# WAP to input a number and print it's square\u001b[0m\u001b[1;33m\u001b[0m\u001b[1;33m\u001b[0m\u001b[1;33m\u001b[0m\u001b[0m\n\u001b[1;32m----> 2\u001b[1;33m \u001b[0ma\u001b[0m\u001b[1;33m=\u001b[0m\u001b[0mint\u001b[0m\u001b[1;33m(\u001b[0m\u001b[0minput\u001b[0m\u001b[1;33m(\u001b[0m\u001b[1;34m\"enter a number:\"\u001b[0m\u001b[1;33m)\u001b[0m\u001b[1;33m)\u001b[0m\u001b[1;33m\u001b[0m\u001b[1;33m\u001b[0m\u001b[0m\n\u001b[0m\u001b[0;32m      3\u001b[0m \u001b[0mprint\u001b[0m\u001b[1;33m(\u001b[0m\u001b[1;34m\" square is\"\u001b[0m\u001b[1;33m,\u001b[0m \u001b[0ma\u001b[0m\u001b[1;33m*\u001b[0m\u001b[0ma\u001b[0m\u001b[1;33m)\u001b[0m\u001b[1;33m\u001b[0m\u001b[1;33m\u001b[0m\u001b[0m\n",
      "\u001b[1;31mValueError\u001b[0m: invalid literal for int() with base 10: 'aa'"
     ]
    }
   ],
   "source": [
    "# WAP to input a number and print it's square\n",
    "a=int(input(\"enter a number:\"))\n",
    "print(\" square is\", a*a)\n"
   ]
  },
  {
   "cell_type": "code",
   "execution_count": 11,
   "id": "d4a10736",
   "metadata": {},
   "outputs": [
    {
     "name": "stdout",
     "output_type": "stream",
     "text": [
      "enter x1 : 1\n",
      "enter x2 : 2\n",
      "enter y1 : 2\n",
      "enter y2 : 2\n",
      "distance between (1, 2) and (2, 2) is :  1.0\n"
     ]
    }
   ],
   "source": [
    "# WAP to find distance between two points in a 2D coordinate system\n",
    "#  x1,y1\n",
    "# x2, y2\n",
    "x1=int(input(\"enter x1 : \"))\n",
    "x2=int(input(\"enter x2 : \"))\n",
    "y1=int(input(\"enter y1 : \"))\n",
    "y2=int(input(\"enter y2 : \"))\n",
    "\n",
    "result= ((((x2 - x1 )**2) + ((y2-y1)**2) )**0.5)\n",
    "\n",
    "print(\"distance between\", (x1,x2), \"and\", (y1,y2), \"is : \", result)\n"
   ]
  },
  {
   "cell_type": "code",
   "execution_count": 8,
   "id": "5ba01bff",
   "metadata": {},
   "outputs": [
    {
     "name": "stdout",
     "output_type": "stream",
     "text": [
      "2.0\n",
      "2.0\n"
     ]
    }
   ],
   "source": [
    "import math\n",
    "\n",
    "print(math.sqrt(4))\n",
    "print(4**0.5)"
   ]
  },
  {
   "cell_type": "markdown",
   "id": "3b265b29",
   "metadata": {},
   "source": [
    "## Strings"
   ]
  },
  {
   "cell_type": "code",
   "execution_count": 12,
   "id": "27e233fd",
   "metadata": {},
   "outputs": [],
   "source": [
    "# char -> 1 symbol\n",
    "# char  = 'A'\n",
    "# string = \"\", \"A\" ,\"ABC sdf3342%$#\"\n",
    "\n",
    "## python\n",
    "# str -> \"\", \"A\", \"fsdfs\""
   ]
  },
  {
   "cell_type": "code",
   "execution_count": 14,
   "id": "6040003e",
   "metadata": {},
   "outputs": [
    {
     "name": "stdout",
     "output_type": "stream",
     "text": [
      "abc <class 'str'>\n",
      "abc <class 'str'>\n",
      "abc <class 'str'>\n",
      "abc <class 'str'>\n"
     ]
    }
   ],
   "source": [
    "### representing a string in python\n",
    "print('abc', type('abc'))\n",
    "print(\"abc\", type(\"abc\"))\n",
    "print(\"\"\"abc\"\"\", type(\"\"\"abc\"\"\"))\n",
    "print('''abc''', type('''abc'''))"
   ]
  },
  {
   "cell_type": "code",
   "execution_count": 18,
   "id": "92beb05a",
   "metadata": {},
   "outputs": [
    {
     "name": "stdout",
     "output_type": "stream",
     "text": [
      "Python is a language.\n",
      "It is interpreted.\n"
     ]
    }
   ],
   "source": [
    "# escape sequences: use a slash before a symbol to tell that this  is special\n",
    "s = \"Python is a language.\\nIt is interpreted.\"\n",
    "print(s)"
   ]
  },
  {
   "cell_type": "code",
   "execution_count": null,
   "id": "736a3300",
   "metadata": {},
   "outputs": [],
   "source": [
    "# \\t => tab\n",
    "# \\r => carriage return\n",
    "# \\b\n",
    "# \\a"
   ]
  },
  {
   "cell_type": "code",
   "execution_count": 20,
   "id": "4853c066",
   "metadata": {},
   "outputs": [
    {
     "name": "stdout",
     "output_type": "stream",
     "text": [
      "\u0007\n",
      "ABC\tpqr\n",
      "123\n"
     ]
    }
   ],
   "source": [
    "print('\\a')\n",
    "print('ABC\\tpqr\\n123')\n",
    "print(len('ABC\\tpqr\\n123')"
   ]
  },
  {
   "cell_type": "code",
   "execution_count": 24,
   "id": "68751833",
   "metadata": {},
   "outputs": [
    {
     "name": "stdout",
     "output_type": "stream",
     "text": [
      "3\n",
      "0\n",
      "1\n",
      "1\n"
     ]
    }
   ],
   "source": [
    "# strings are sequence types\n",
    "# - have a notion of position\n",
    "# - have a notion of length\n",
    "s = 'abc'\n",
    "print(len(s))\n",
    "print(len(''))\n",
    "print(len(' '))\n",
    "print(len('1'))"
   ]
  },
  {
   "cell_type": "code",
   "execution_count": 25,
   "id": "8cebb5fc",
   "metadata": {},
   "outputs": [
    {
     "name": "stdout",
     "output_type": "stream",
     "text": [
      "1\n"
     ]
    }
   ],
   "source": [
    "print(len('\\n'))"
   ]
  },
  {
   "cell_type": "code",
   "execution_count": 27,
   "id": "84fe87b7",
   "metadata": {},
   "outputs": [
    {
     "name": "stdout",
     "output_type": "stream",
     "text": [
      "1\u0002\n",
      "1\\2\n"
     ]
    }
   ],
   "source": [
    "print('1\\2')\n",
    "print('1\\\\2')"
   ]
  },
  {
   "cell_type": "code",
   "execution_count": 31,
   "id": "02355b50",
   "metadata": {},
   "outputs": [
    {
     "name": "stdout",
     "output_type": "stream",
     "text": [
      "a\"B\n",
      "a\"B\n",
      "123\"abc'pqer\n"
     ]
    }
   ],
   "source": [
    "print(\"a\\\"B\")\n",
    "print('a\"B')\n",
    "print(\"\"\"123\"abc'pqer\"\"\")"
   ]
  },
  {
   "cell_type": "code",
   "execution_count": 32,
   "id": "d40db801",
   "metadata": {},
   "outputs": [
    {
     "ename": "SyntaxError",
     "evalue": "EOL while scanning string literal (Temp/ipykernel_9912/312412354.py, line 2)",
     "output_type": "error",
     "traceback": [
      "\u001b[1;36m  File \u001b[1;32m\"C:\\Users\\LEANGA~1\\AppData\\Local\\Temp/ipykernel_9912/312412354.py\"\u001b[1;36m, line \u001b[1;32m2\u001b[0m\n\u001b[1;33m    s = \"this is line 1\u001b[0m\n\u001b[1;37m                       ^\u001b[0m\n\u001b[1;31mSyntaxError\u001b[0m\u001b[1;31m:\u001b[0m EOL while scanning string literal\n"
     ]
    }
   ],
   "source": [
    "# multiline  strings\n",
    "s = \"this is line 1\n",
    "this  is line2\""
   ]
  },
  {
   "cell_type": "code",
   "execution_count": 34,
   "id": "63361bf1",
   "metadata": {},
   "outputs": [
    {
     "name": "stdout",
     "output_type": "stream",
     "text": [
      "this is line 1\n",
      "this  is line2\n"
     ]
    }
   ],
   "source": [
    "s = \"this is line 1\\nthis  is line2\"\n",
    "print(s)"
   ]
  },
  {
   "cell_type": "code",
   "execution_count": 36,
   "id": "213e7a68",
   "metadata": {},
   "outputs": [
    {
     "name": "stdout",
     "output_type": "stream",
     "text": [
      "this is line 1\n",
      "  this  is line2\n"
     ]
    }
   ],
   "source": [
    "s = \"\"\"this is line 1\n",
    "  this  is line2\"\"\"\n",
    "print(s)"
   ]
  },
  {
   "cell_type": "markdown",
   "id": "db21487b",
   "metadata": {},
   "source": [
    "## indexing and slicing"
   ]
  },
  {
   "cell_type": "code",
   "execution_count": 37,
   "id": "6d9bc5fc",
   "metadata": {},
   "outputs": [],
   "source": [
    "# indexing"
   ]
  },
  {
   "cell_type": "code",
   "execution_count": 38,
   "id": "fc8f6cc3",
   "metadata": {},
   "outputs": [
    {
     "name": "stdout",
     "output_type": "stream",
     "text": [
      "6\n"
     ]
    }
   ],
   "source": [
    "s = \"abcdef\"\n",
    "#    012345\n",
    "print(len(s))"
   ]
  },
  {
   "cell_type": "code",
   "execution_count": 43,
   "id": "b3f4a9d1",
   "metadata": {},
   "outputs": [
    {
     "name": "stdout",
     "output_type": "stream",
     "text": [
      "a\n",
      "b\n",
      "f\n"
     ]
    },
    {
     "ename": "IndexError",
     "evalue": "string index out of range",
     "output_type": "error",
     "traceback": [
      "\u001b[1;31m---------------------------------------------------------------------------\u001b[0m",
      "\u001b[1;31mIndexError\u001b[0m                                Traceback (most recent call last)",
      "\u001b[1;32mC:\\Users\\LEANGA~1\\AppData\\Local\\Temp/ipykernel_9912/2139970296.py\u001b[0m in \u001b[0;36m<module>\u001b[1;34m\u001b[0m\n\u001b[0;32m      2\u001b[0m \u001b[0mprint\u001b[0m\u001b[1;33m(\u001b[0m \u001b[0ms\u001b[0m\u001b[1;33m[\u001b[0m\u001b[1;36m1\u001b[0m\u001b[1;33m]\u001b[0m \u001b[1;33m)\u001b[0m\u001b[1;33m\u001b[0m\u001b[1;33m\u001b[0m\u001b[0m\n\u001b[0;32m      3\u001b[0m \u001b[0mprint\u001b[0m\u001b[1;33m(\u001b[0m \u001b[0ms\u001b[0m\u001b[1;33m[\u001b[0m\u001b[1;36m5\u001b[0m\u001b[1;33m]\u001b[0m \u001b[1;33m)\u001b[0m\u001b[1;33m\u001b[0m\u001b[1;33m\u001b[0m\u001b[0m\n\u001b[1;32m----> 4\u001b[1;33m \u001b[0mprint\u001b[0m\u001b[1;33m(\u001b[0m \u001b[0ms\u001b[0m\u001b[1;33m[\u001b[0m\u001b[1;36m6\u001b[0m\u001b[1;33m]\u001b[0m \u001b[1;33m)\u001b[0m\u001b[1;33m\u001b[0m\u001b[1;33m\u001b[0m\u001b[0m\n\u001b[0m",
      "\u001b[1;31mIndexError\u001b[0m: string index out of range"
     ]
    }
   ],
   "source": [
    "print( s[0] )\n",
    "print( s[1] )\n",
    "print( s[5] )\n",
    "print( s[6] )"
   ]
  },
  {
   "cell_type": "code",
   "execution_count": 44,
   "id": "6423e9a1",
   "metadata": {},
   "outputs": [
    {
     "name": "stdout",
     "output_type": "stream",
     "text": [
      "False\n",
      "True\n"
     ]
    }
   ],
   "source": [
    "print(-1 == 1)\n",
    "print(-0 == 0)"
   ]
  },
  {
   "cell_type": "code",
   "execution_count": 46,
   "id": "a9254893",
   "metadata": {},
   "outputs": [
    {
     "name": "stdout",
     "output_type": "stream",
     "text": [
      "6\n",
      "f\n",
      "b\n",
      "a\n"
     ]
    }
   ],
   "source": [
    "# python supports negative inexing\n",
    "s = \"abcdef\"\n",
    "#    012345 -> positive L->R\n",
    "#    654321 -> negative R->L\n",
    "print(len(s))\n",
    "print(s[-1])\n",
    "print(s[-5])\n",
    "print(s[-len(s)])\n",
    "# print(s[len(s)]) # this raises index  error"
   ]
  },
  {
   "cell_type": "code",
   "execution_count": 47,
   "id": "645e9282",
   "metadata": {},
   "outputs": [
    {
     "name": "stdout",
     "output_type": "stream",
     "text": [
      "string :abcd\n",
      "c\n"
     ]
    }
   ],
   "source": [
    "# WAP to input a string and print the middle character\n",
    "# ABC -> B\n",
    "# ABCD -> B/C\n",
    "s=input(\"string :\")\n",
    "print(s[int(len(s)/2)])\n",
    "print(s[len(s)//2])"
   ]
  },
  {
   "cell_type": "code",
   "execution_count": 53,
   "id": "6954eabf",
   "metadata": {},
   "outputs": [
    {
     "name": "stdout",
     "output_type": "stream",
     "text": [
      "enter a string2222\n",
      "2\n"
     ]
    }
   ],
   "source": [
    "a=input(\"enter a string\")\n",
    "mid = len(a)//2\n",
    "print(a[mid])"
   ]
  },
  {
   "cell_type": "code",
   "execution_count": 54,
   "id": "0ebe339a",
   "metadata": {},
   "outputs": [
    {
     "name": "stdout",
     "output_type": "stream",
     "text": [
      "B\n"
     ]
    }
   ],
   "source": [
    "# hardcoding the value\n",
    "s=\"ABC\"\n",
    "print(s[1])"
   ]
  },
  {
   "cell_type": "code",
   "execution_count": null,
   "id": "e96378a5",
   "metadata": {},
   "outputs": [],
   "source": []
  },
  {
   "cell_type": "code",
   "execution_count": null,
   "id": "cbc5078a",
   "metadata": {},
   "outputs": [],
   "source": [
    "# slicing"
   ]
  },
  {
   "cell_type": "code",
   "execution_count": 56,
   "id": "cf67f4c0",
   "metadata": {},
   "outputs": [
    {
     "name": "stdout",
     "output_type": "stream",
     "text": [
      "b\n",
      "e\n",
      "bcd\n"
     ]
    }
   ],
   "source": [
    "a = \"abcdefg\"\n",
    "#    0123456\n",
    "print(a[1])\n",
    "print(a[4])\n",
    "print(a[1:4]) # slicing"
   ]
  },
  {
   "cell_type": "code",
   "execution_count": 61,
   "id": "794f0cb9",
   "metadata": {},
   "outputs": [
    {
     "name": "stdout",
     "output_type": "stream",
     "text": [
      "bcdefg\n",
      "abcd\n",
      "efg\n",
      "ef\n",
      "efg\n"
     ]
    }
   ],
   "source": [
    "a = \"abcdefg\"\n",
    "#    0123456 +\n",
    "#    7654321 -\n",
    "\n",
    "# default order is  L->R\n",
    "print(a[1:]) # skip last -> take till end of string\n",
    "print(a[:4]) # skip start -> start fromt beginning\n",
    "print(a[-3:])\n",
    "print(a[-3:-1])\n",
    "print(a[-3:7])"
   ]
  },
  {
   "cell_type": "code",
   "execution_count": 63,
   "id": "cba757d4",
   "metadata": {},
   "outputs": [
    {
     "name": "stdout",
     "output_type": "stream",
     "text": [
      "''\n"
     ]
    }
   ],
   "source": [
    "# invalid slices don't raise exeception \n",
    "print(repr(a[7:]))"
   ]
  },
  {
   "cell_type": "code",
   "execution_count": 77,
   "id": "d3da266e",
   "metadata": {},
   "outputs": [
    {
     "name": "stdout",
     "output_type": "stream",
     "text": [
      "aceg\n",
      "adg\n",
      "\n",
      "df\n",
      "bd\n",
      "\n",
      "gfedcba\n",
      "dcba\n",
      "\n",
      "a[] \n",
      "a[] g\n"
     ]
    }
   ],
   "source": [
    "# slicing with drection and jumps\n",
    "a = \"abcdefg\"\n",
    "#    0123456 +\n",
    "#    7654321 -\n",
    "\n",
    "print(a[::2])  # step size = 2\n",
    "print(a[::3])\n",
    "\n",
    "print()\n",
    "print(a[3::2])\n",
    "print(a[1:5:2])\n",
    "\n",
    "print() # using step for direction\n",
    "print(a[::-1]) # R->L # reversing a string\n",
    "print(a[3::-1])\n",
    "\n",
    "print()\n",
    "print(\"a[]\",a[3:5:-1])\n",
    "print(\"a[]\",a[:5:-1])"
   ]
  },
  {
   "cell_type": "code",
   "execution_count": 78,
   "id": "bc84db02",
   "metadata": {},
   "outputs": [
    {
     "name": "stdout",
     "output_type": "stream",
     "text": [
      "abcd abcd\n"
     ]
    }
   ],
   "source": [
    "s = \"abcd\"\n",
    "s1 = s[:]\n",
    "print(s, s1)"
   ]
  },
  {
   "cell_type": "code",
   "execution_count": null,
   "id": "ffc86c95",
   "metadata": {},
   "outputs": [],
   "source": []
  },
  {
   "cell_type": "code",
   "execution_count": 68,
   "id": "76ba48e2",
   "metadata": {},
   "outputs": [
    {
     "name": "stdout",
     "output_type": "stream",
     "text": [
      "string :abcdfsf\n",
      "d\n"
     ]
    }
   ],
   "source": [
    "# WAP to input a string and print the middle character\n",
    "# ABC -> B\n",
    "# ABCD -> BC\n",
    "s=input(\"string :\")\n",
    "m1 = (len(s) - 1) // 2\n",
    "m2 = (len(s)) // 2\n",
    "print(s[m1 : m2+1])"
   ]
  },
  {
   "cell_type": "code",
   "execution_count": 81,
   "id": "bea235ec",
   "metadata": {},
   "outputs": [
    {
     "name": "stdout",
     "output_type": "stream",
     "text": [
      "defg\n",
      "\n",
      "end\n"
     ]
    }
   ],
   "source": [
    "a = \"abcdefg\"\n",
    "#    0123456 +\n",
    "#    7654321 -\n",
    "print(a[3:7:1])\n",
    "print(a[3:7:-1])\n",
    "print('end')"
   ]
  },
  {
   "cell_type": "code",
   "execution_count": 83,
   "id": "709b0fa5",
   "metadata": {},
   "outputs": [
    {
     "name": "stdout",
     "output_type": "stream",
     "text": [
      "abcd ABCD\n"
     ]
    }
   ],
   "source": [
    "s = \"abcd\"\n",
    "s1 = s.upper() # strings are immutable\n",
    "print(s, s1)"
   ]
  },
  {
   "cell_type": "code",
   "execution_count": 84,
   "id": "ae65a223",
   "metadata": {},
   "outputs": [
    {
     "ename": "TypeError",
     "evalue": "'str' object does not support item assignment",
     "output_type": "error",
     "traceback": [
      "\u001b[1;31m---------------------------------------------------------------------------\u001b[0m",
      "\u001b[1;31mTypeError\u001b[0m                                 Traceback (most recent call last)",
      "\u001b[1;32mC:\\Users\\LEANGA~1\\AppData\\Local\\Temp/ipykernel_9912/3844491796.py\u001b[0m in \u001b[0;36m<module>\u001b[1;34m\u001b[0m\n\u001b[0;32m      1\u001b[0m \u001b[0ms\u001b[0m \u001b[1;33m=\u001b[0m \u001b[1;34m\"ABCD\"\u001b[0m\u001b[1;33m\u001b[0m\u001b[1;33m\u001b[0m\u001b[0m\n\u001b[1;32m----> 2\u001b[1;33m \u001b[0ms\u001b[0m\u001b[1;33m[\u001b[0m\u001b[1;36m0\u001b[0m\u001b[1;33m]\u001b[0m \u001b[1;33m=\u001b[0m \u001b[0ma\u001b[0m\u001b[1;33m\u001b[0m\u001b[1;33m\u001b[0m\u001b[0m\n\u001b[0m",
      "\u001b[1;31mTypeError\u001b[0m: 'str' object does not support item assignment"
     ]
    }
   ],
   "source": [
    "s = \"ABCD\"\n",
    "s[0] = a # strings are immutable"
   ]
  },
  {
   "cell_type": "code",
   "execution_count": 90,
   "id": "1c82732f",
   "metadata": {},
   "outputs": [
    {
     "name": "stdout",
     "output_type": "stream",
     "text": [
      "ABCD123ABC. ABCD\tAB\n",
      "abcd123abc. abcd\tab\n",
      "ABCD123abc. ABCD\tAB\n",
      "Abcd123Abc. Abcd\tAb\n"
     ]
    }
   ],
   "source": [
    "s = \"abcd123ABC. abcd\\tab\"\n",
    "print(s.upper())\n",
    "print(s.lower())\n",
    "print(s.swapcase())\n",
    "print(s.title())"
   ]
  },
  {
   "cell_type": "code",
   "execution_count": 93,
   "id": "044299fb",
   "metadata": {},
   "outputs": [
    {
     "name": "stdout",
     "output_type": "stream",
     "text": [
      "' abcd 123 '\n",
      "'abcd 123'\n",
      "'abcd 123 '\n",
      "' abcd 123'\n",
      "\n",
      "'\\tabcd\\t123\\n'\n",
      "'abcd\\t123'\n",
      "'abcd\\t123\\n'\n",
      "'\\tabcd\\t123'\n"
     ]
    }
   ],
   "source": [
    "s = \" abcd 123 \"\n",
    "print( repr(s) )\n",
    "print( repr( s.strip() ))\n",
    "print( repr( s.lstrip() )) # remove  leading white space chars\n",
    "print( repr( s.rstrip() )) # remove trailing white space chars\n",
    "\n",
    "print()\n",
    "s = \"\\tabcd\\t123\\n\"\n",
    "print( repr(s) )\n",
    "print( repr( s.strip() ))\n",
    "print( repr( s.lstrip() )) # remove  leading white space chars\n",
    "print( repr( s.rstrip() )) # remove trailing white space chars"
   ]
  },
  {
   "cell_type": "code",
   "execution_count": null,
   "id": "3969520f",
   "metadata": {},
   "outputs": [],
   "source": [
    "# white space chars\n",
    "# ' ', '\\n', '\\t', '\\r'"
   ]
  },
  {
   "cell_type": "code",
   "execution_count": 98,
   "id": "9c5982b5",
   "metadata": {},
   "outputs": [
    {
     "name": "stdout",
     "output_type": "stream",
     "text": [
      "False\n",
      "False\n",
      "True\n",
      "\n",
      "True\n",
      "False\n",
      "False\n"
     ]
    }
   ],
   "source": [
    "# property checking\n",
    "print(\"abc\".isupper())\n",
    "print(\"111\".isupper())\n",
    "print(\"111A\".isupper())\n",
    "\n",
    "print()\n",
    "print(\"abc\".islower())\n",
    "print(\"111\".islower())\n",
    "print(\"111A\".islower())"
   ]
  },
  {
   "cell_type": "code",
   "execution_count": 100,
   "id": "d15449ce",
   "metadata": {},
   "outputs": [
    {
     "name": "stdout",
     "output_type": "stream",
     "text": [
      "\n",
      "False\n",
      "True\n",
      "False\n",
      "\n",
      "False\n",
      "False\n",
      "False\n"
     ]
    }
   ],
   "source": [
    "print()\n",
    "print(\"abc\".isdigit())\n",
    "print(\"111\".isdigit())\n",
    "print(\"111A\".isdigit())\n",
    "\n",
    "print()\n",
    "print(\"abc\".isalpha())\n",
    "print(\"111\".isalpha())\n",
    "print(\"111A\".isalpha())\n"
   ]
  },
  {
   "cell_type": "code",
   "execution_count": 102,
   "id": "a638bd5a",
   "metadata": {},
   "outputs": [
    {
     "name": "stdout",
     "output_type": "stream",
     "text": [
      "\n",
      "True\n",
      "True\n",
      "True\n",
      "False\n"
     ]
    }
   ],
   "source": [
    "\n",
    "print()\n",
    "print(\"abc\".isalnum())\n",
    "print(\"111\".isalnum())\n",
    "print(\"111A\".isalnum())\n",
    "print(\"111A,\".isalnum())"
   ]
  },
  {
   "cell_type": "code",
   "execution_count": 107,
   "id": "94511721",
   "metadata": {},
   "outputs": [
    {
     "name": "stdout",
     "output_type": "stream",
     "text": [
      "1\n",
      "1\n",
      "2\n",
      "1\n"
     ]
    }
   ],
   "source": [
    "# count\n",
    "print(\"abc ab\".count(\"bc\"))\n",
    "print(\"abc ab\".count(\"c\"))\n",
    "print(\"abc ab\".count(\"a\"))\n",
    "print(\"abc ab\".count(\" \"))"
   ]
  },
  {
   "cell_type": "code",
   "execution_count": 111,
   "id": "568f8990",
   "metadata": {},
   "outputs": [
    {
     "name": "stdout",
     "output_type": "stream",
     "text": [
      "enter a string:ABCDE\n",
      "2\n"
     ]
    }
   ],
   "source": [
    "# WAP to count the number of vowels in a string input from user\n",
    "# aeiou\n",
    "s = input(\"enter a string:\")\n",
    "s = s.lower()\n",
    "res = s.count('a') + s.count('e') + s.count('i') + s.count('o') + s.count('u')\n",
    "print(res)"
   ]
  },
  {
   "cell_type": "code",
   "execution_count": 115,
   "id": "fe320ce0",
   "metadata": {},
   "outputs": [
    {
     "name": "stdout",
     "output_type": "stream",
     "text": [
      "0\n",
      "-1\n",
      "2\n"
     ]
    }
   ],
   "source": [
    "# find\n",
    "s = \"abcd\"\n",
    "print(s.find(\"a\"))\n",
    "print(s.find(\"A\"))\n",
    "print(s.find(\"cd\"))"
   ]
  },
  {
   "cell_type": "code",
   "execution_count": 117,
   "id": "fd10c393",
   "metadata": {},
   "outputs": [
    {
     "name": "stdout",
     "output_type": "stream",
     "text": [
      "enter a string:this is a string\n",
      "this\n",
      "is\n",
      "a\n",
      "string\n"
     ]
    }
   ],
   "source": [
    "# WAP to input a string and replace all spaces by \\n\n",
    "s = input(\"enter a string:\")\n",
    "s1 = s.replace(' ', '\\n')\n",
    "print(s1)"
   ]
  },
  {
   "cell_type": "code",
   "execution_count": 119,
   "id": "a9399fa8",
   "metadata": {},
   "outputs": [
    {
     "name": "stdout",
     "output_type": "stream",
     "text": [
      "['__abs__', '__add__', '__and__', '__bool__', '__ceil__', '__class__', '__delattr__', '__dir__', '__divmod__', '__doc__', '__eq__', '__float__', '__floor__', '__floordiv__', '__format__', '__ge__', '__getattribute__', '__getnewargs__', '__gt__', '__hash__', '__index__', '__init__', '__init_subclass__', '__int__', '__invert__', '__le__', '__lshift__', '__lt__', '__mod__', '__mul__', '__ne__', '__neg__', '__new__', '__or__', '__pos__', '__pow__', '__radd__', '__rand__', '__rdivmod__', '__reduce__', '__reduce_ex__', '__repr__', '__rfloordiv__', '__rlshift__', '__rmod__', '__rmul__', '__ror__', '__round__', '__rpow__', '__rrshift__', '__rshift__', '__rsub__', '__rtruediv__', '__rxor__', '__setattr__', '__sizeof__', '__str__', '__sub__', '__subclasshook__', '__truediv__', '__trunc__', '__xor__', 'as_integer_ratio', 'bit_length', 'conjugate', 'denominator', 'from_bytes', 'imag', 'numerator', 'real', 'to_bytes']\n"
     ]
    }
   ],
   "source": [
    "print( dir(int) )"
   ]
  },
  {
   "cell_type": "code",
   "execution_count": 120,
   "id": "70ed8249",
   "metadata": {},
   "outputs": [
    {
     "name": "stdout",
     "output_type": "stream",
     "text": [
      "1 2 3\n",
      "None\n"
     ]
    }
   ],
   "source": [
    "print(print(1,2,3))"
   ]
  }
 ],
 "metadata": {
  "kernelspec": {
   "display_name": "Python 3",
   "language": "python",
   "name": "python3"
  },
  "language_info": {
   "codemirror_mode": {
    "name": "ipython",
    "version": 3
   },
   "file_extension": ".py",
   "mimetype": "text/x-python",
   "name": "python",
   "nbconvert_exporter": "python",
   "pygments_lexer": "ipython3",
   "version": "3.8.8"
  }
 },
 "nbformat": 4,
 "nbformat_minor": 5
}
