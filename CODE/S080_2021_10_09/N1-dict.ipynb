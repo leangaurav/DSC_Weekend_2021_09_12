{
 "cells": [
  {
   "cell_type": "code",
   "execution_count": null,
   "id": "b124485c",
   "metadata": {},
   "outputs": [],
   "source": [
    "# dict -> hashmap\n",
    "# mapping type\n",
    "# mutable"
   ]
  },
  {
   "cell_type": "code",
   "execution_count": 1,
   "id": "f6e3cd49",
   "metadata": {},
   "outputs": [
    {
     "name": "stdout",
     "output_type": "stream",
     "text": [
      "{} <class 'dict'>\n"
     ]
    }
   ],
   "source": [
    "d = {} # empty dict\n",
    "print(d, type(d))"
   ]
  },
  {
   "cell_type": "code",
   "execution_count": 2,
   "id": "9095adc9",
   "metadata": {},
   "outputs": [
    {
     "name": "stdout",
     "output_type": "stream",
     "text": [
      "{} <class 'dict'>\n"
     ]
    }
   ],
   "source": [
    "d = dict()\n",
    "print(d, type(d))"
   ]
  },
  {
   "cell_type": "code",
   "execution_count": null,
   "id": "14f88ab4",
   "metadata": {},
   "outputs": [],
   "source": [
    "# mapping : key -> value\n",
    "#          index -> value (if we think in terms of similarity to a list)\n",
    "# \n",
    "# find something in dict by key -> 1\n",
    "# find something in dict by value -> N\n",
    "\n",
    "# N for dict = no. of key value pairs present = no. of keys = no. of values"
   ]
  },
  {
   "cell_type": "code",
   "execution_count": 4,
   "id": "01365e3f",
   "metadata": {},
   "outputs": [
    {
     "name": "stdout",
     "output_type": "stream",
     "text": [
      "{1: 10} 1\n",
      "{1: 10, 3: -100} 2\n"
     ]
    }
   ],
   "source": [
    "d = {1:10}\n",
    "print(d, len(d))\n",
    "\n",
    "d = {1:10, 3:-100}\n",
    "print(d, len(d))"
   ]
  },
  {
   "cell_type": "code",
   "execution_count": null,
   "id": "d21800ea",
   "metadata": {},
   "outputs": [],
   "source": [
    "# for a list:\n",
    "# type of values -> any type\n",
    "# type of index -> int (0..n-1)"
   ]
  },
  {
   "cell_type": "code",
   "execution_count": null,
   "id": "027d3d3b",
   "metadata": {},
   "outputs": [],
   "source": [
    "# for a dict:\n",
    "# type of values -> any type\n",
    "# type of key -> immutable type.. but it can be something aport from ints"
   ]
  },
  {
   "cell_type": "code",
   "execution_count": null,
   "id": "4ee888f3",
   "metadata": {},
   "outputs": [],
   "source": [
    "# immutable types:\n",
    "# str, int, tuple"
   ]
  },
  {
   "cell_type": "code",
   "execution_count": 8,
   "id": "6c92027b",
   "metadata": {},
   "outputs": [
    {
     "name": "stdout",
     "output_type": "stream",
     "text": [
      "{'a': 10} 1\n",
      "{(1, 2): 10, 3: [1, 2, 3, 4, [3, 4]]} 2\n"
     ]
    },
    {
     "ename": "TypeError",
     "evalue": "unhashable type: 'list'",
     "output_type": "error",
     "traceback": [
      "\u001b[1;31m---------------------------------------------------------------------------\u001b[0m",
      "\u001b[1;31mTypeError\u001b[0m                                 Traceback (most recent call last)",
      "\u001b[1;32mC:\\Users\\LEANGA~1\\AppData\\Local\\Temp/ipykernel_24560/601993985.py\u001b[0m in \u001b[0;36m<module>\u001b[1;34m\u001b[0m\n\u001b[0;32m      6\u001b[0m \u001b[1;33m\u001b[0m\u001b[0m\n\u001b[0;32m      7\u001b[0m \u001b[1;33m\u001b[0m\u001b[0m\n\u001b[1;32m----> 8\u001b[1;33m \u001b[0md\u001b[0m \u001b[1;33m=\u001b[0m \u001b[1;33m{\u001b[0m\u001b[1;33m[\u001b[0m\u001b[1;36m1\u001b[0m\u001b[1;33m,\u001b[0m\u001b[1;36m2\u001b[0m\u001b[1;33m]\u001b[0m\u001b[1;33m:\u001b[0m\u001b[1;36m10\u001b[0m\u001b[1;33m,\u001b[0m \u001b[1;36m3\u001b[0m\u001b[1;33m:\u001b[0m\u001b[1;33m-\u001b[0m\u001b[1;36m100\u001b[0m\u001b[1;33m}\u001b[0m\u001b[1;33m\u001b[0m\u001b[1;33m\u001b[0m\u001b[0m\n\u001b[0m\u001b[0;32m      9\u001b[0m \u001b[0mprint\u001b[0m\u001b[1;33m(\u001b[0m\u001b[0md\u001b[0m\u001b[1;33m,\u001b[0m \u001b[0mlen\u001b[0m\u001b[1;33m(\u001b[0m\u001b[0md\u001b[0m\u001b[1;33m)\u001b[0m\u001b[1;33m)\u001b[0m\u001b[1;33m\u001b[0m\u001b[1;33m\u001b[0m\u001b[0m\n",
      "\u001b[1;31mTypeError\u001b[0m: unhashable type: 'list'"
     ]
    }
   ],
   "source": [
    "d = {\"a\":10}\n",
    "print(d, len(d))\n",
    "\n",
    "d = {(1,2):10, 3:[1,2,3,4,[3,4]]}\n",
    "print(d, len(d))\n",
    "\n",
    "d = {[1,2]:10, 3:-100}\n",
    "print(d, len(d))"
   ]
  },
  {
   "cell_type": "code",
   "execution_count": 14,
   "id": "addd3733",
   "metadata": {},
   "outputs": [
    {
     "name": "stdout",
     "output_type": "stream",
     "text": [
      "10\n",
      "[10, 20]\n"
     ]
    },
    {
     "ename": "KeyError",
     "evalue": "2",
     "output_type": "error",
     "traceback": [
      "\u001b[1;31m---------------------------------------------------------------------------\u001b[0m",
      "\u001b[1;31mKeyError\u001b[0m                                  Traceback (most recent call last)",
      "\u001b[1;32mC:\\Users\\LEANGA~1\\AppData\\Local\\Temp/ipykernel_24560/2908788312.py\u001b[0m in \u001b[0;36m<module>\u001b[1;34m\u001b[0m\n\u001b[0;32m      4\u001b[0m \u001b[0mprint\u001b[0m\u001b[1;33m(\u001b[0m\u001b[0md\u001b[0m\u001b[1;33m[\u001b[0m\u001b[1;36m1\u001b[0m\u001b[1;33m]\u001b[0m\u001b[1;33m)\u001b[0m \u001b[1;31m# you can looup data/value in a dict by the keys\u001b[0m\u001b[1;33m\u001b[0m\u001b[1;33m\u001b[0m\u001b[0m\n\u001b[0;32m      5\u001b[0m \u001b[0mprint\u001b[0m\u001b[1;33m(\u001b[0m\u001b[0md\u001b[0m\u001b[1;33m[\u001b[0m\u001b[1;34m\"abc\"\u001b[0m\u001b[1;33m]\u001b[0m\u001b[1;33m)\u001b[0m \u001b[1;31m# you can looup data/value in a dict by the keys\u001b[0m\u001b[1;33m\u001b[0m\u001b[1;33m\u001b[0m\u001b[0m\n\u001b[1;32m----> 6\u001b[1;33m \u001b[0mprint\u001b[0m\u001b[1;33m(\u001b[0m\u001b[0md\u001b[0m\u001b[1;33m[\u001b[0m\u001b[1;36m2\u001b[0m\u001b[1;33m]\u001b[0m\u001b[1;33m)\u001b[0m \u001b[1;31m# raises key error -> index error of list and tuple\u001b[0m\u001b[1;33m\u001b[0m\u001b[1;33m\u001b[0m\u001b[0m\n\u001b[0m",
      "\u001b[1;31mKeyError\u001b[0m: 2"
     ]
    }
   ],
   "source": [
    "# indexing a dict\n",
    "\n",
    "d = {1:10, \"abc\":[10,20]}\n",
    "print(d[1]) # you can looup data/value in a dict by the keys\n",
    "print(d[\"abc\"]) # you can looup data/value in a dict by the keys\n",
    "print(d[2]) # raises key error -> index error of list and tuple"
   ]
  },
  {
   "cell_type": "code",
   "execution_count": 15,
   "id": "fd0786a0",
   "metadata": {},
   "outputs": [
    {
     "name": "stdout",
     "output_type": "stream",
     "text": [
      "['__class__', '__contains__', '__delattr__', '__delitem__', '__dir__', '__doc__', '__eq__', '__format__', '__ge__', '__getattribute__', '__getitem__', '__gt__', '__hash__', '__init__', '__init_subclass__', '__iter__', '__le__', '__len__', '__lt__', '__ne__', '__new__', '__reduce__', '__reduce_ex__', '__repr__', '__reversed__', '__setattr__', '__setitem__', '__sizeof__', '__str__', '__subclasshook__', 'clear', 'copy', 'fromkeys', 'get', 'items', 'keys', 'pop', 'popitem', 'setdefault', 'update', 'values']\n"
     ]
    }
   ],
   "source": [
    "print(dir(dict))"
   ]
  },
  {
   "cell_type": "code",
   "execution_count": 20,
   "id": "28ccb01e",
   "metadata": {},
   "outputs": [
    {
     "name": "stdout",
     "output_type": "stream",
     "text": [
      "{'two': 2, 'one': 1, 'three': [1, 2, 3]}\n"
     ]
    }
   ],
   "source": [
    "d = dict([('two', 2), ('one', 1), ('three', [1,2,3])])\n",
    "print(d)"
   ]
  },
  {
   "cell_type": "code",
   "execution_count": 21,
   "id": "240a622f",
   "metadata": {},
   "outputs": [
    {
     "data": {
      "text/plain": [
       "10"
      ]
     },
     "execution_count": 21,
     "metadata": {},
     "output_type": "execute_result"
    }
   ],
   "source": [
    "\n",
    "d = {(1,2):10, 3:[1,2,3,4,[3,4]]}\n",
    "d[(1,2)]"
   ]
  },
  {
   "cell_type": "code",
   "execution_count": 27,
   "id": "2e98f04a",
   "metadata": {},
   "outputs": [
    {
     "name": "stdout",
     "output_type": "stream",
     "text": [
      "{10: 'ten'}\n",
      "{10: 'twenty'}\n",
      "{10: 'twenty', 1: 'twenty'}\n"
     ]
    }
   ],
   "source": [
    "d = {}\n",
    "d[10] = \"ten\" # create/update a key \n",
    "print(d)\n",
    "\n",
    "d[10] = \"twenty\" # create/update a key \n",
    "print(d)\n",
    "\n",
    "d[1] = \"twenty\" # create/update a key \n",
    "print(d)"
   ]
  },
  {
   "cell_type": "code",
   "execution_count": null,
   "id": "2842dc14",
   "metadata": {},
   "outputs": [],
   "source": [
    "# all keys inside a dict are unique\n",
    "# all valaues may or may not be uniqueb"
   ]
  },
  {
   "cell_type": "code",
   "execution_count": 28,
   "id": "44b612d3",
   "metadata": {},
   "outputs": [
    {
     "name": "stdout",
     "output_type": "stream",
     "text": [
      "100\n",
      "{10: 1000, 20: 200}\n"
     ]
    }
   ],
   "source": [
    "d = {10:100}\n",
    "# accesing/ getting\n",
    "print(d[10])\n",
    "\n",
    "# inserting/updating\n",
    "d[10] = 1000 # updating\n",
    "d[20] = 200 # inserting\n",
    "print(d)"
   ]
  },
  {
   "cell_type": "code",
   "execution_count": 30,
   "id": "1ff17783",
   "metadata": {},
   "outputs": [
    {
     "name": "stdout",
     "output_type": "stream",
     "text": [
      "{1: 12}\n",
      "{1: 12, 2: 22}\n"
     ]
    }
   ],
   "source": [
    "d = {1:2}\n",
    "d[1] = d[1] + 10\n",
    "print(d)\n",
    "\n",
    "d[2] = d[1] + 10\n",
    "print(d)\n",
    "\n",
    "# {1 :  12, 2:22}"
   ]
  },
  {
   "cell_type": "code",
   "execution_count": null,
   "id": "1a895596",
   "metadata": {},
   "outputs": [],
   "source": []
  },
  {
   "cell_type": "code",
   "execution_count": 33,
   "id": "b765a9bb",
   "metadata": {},
   "outputs": [
    {
     "name": "stdout",
     "output_type": "stream",
     "text": [
      "enter a string:afdfsa\n",
      "2\n"
     ]
    }
   ],
   "source": [
    "# WAP to input a string and count how many times alphabet 'a' appears\n",
    "\n",
    "# \"this is a string\" -> 1\n",
    "# \"language\" -> 2 \n",
    "\n",
    "s = input(\"enter a string:\")\n",
    "\n",
    "count = 0\n",
    "for c in s:\n",
    "    if c == 'a':\n",
    "        count += 1\n",
    "print(count)\n",
    "# TC = N"
   ]
  },
  {
   "cell_type": "code",
   "execution_count": 34,
   "id": "79b7794d",
   "metadata": {},
   "outputs": [
    {
     "name": "stdout",
     "output_type": "stream",
     "text": [
      "enter a string:abcd\n",
      "1\n"
     ]
    }
   ],
   "source": [
    "\n",
    "s = input(\"enter a string:\")\n",
    "print(s.count('a'))\n",
    "# TC = N"
   ]
  },
  {
   "cell_type": "code",
   "execution_count": 35,
   "id": "0901579b",
   "metadata": {},
   "outputs": [
    {
     "name": "stdout",
     "output_type": "stream",
     "text": [
      "enter a string:abcd\n",
      "1\n"
     ]
    }
   ],
   "source": [
    "# WAP to input a string and count how many times alphabet 'a' appears\n",
    "\n",
    "# \"this is a string\" -> 1\n",
    "# \"language\" -> 2 \n",
    "\n",
    "def count_str(s):\n",
    "    count = 0\n",
    "    for c in s:\n",
    "        if c == 'a':\n",
    "            count += 1\n",
    "    return count\n",
    "\n",
    "s = input(\"enter a string:\")\n",
    "print(count_str(s))\n",
    "# TC = N"
   ]
  },
  {
   "cell_type": "code",
   "execution_count": null,
   "id": "00c078c1",
   "metadata": {},
   "outputs": [],
   "source": [
    "a = \"abc\"*1000000"
   ]
  },
  {
   "cell_type": "code",
   "execution_count": 36,
   "id": "e0857cd0",
   "metadata": {},
   "outputs": [
    {
     "name": "stdout",
     "output_type": "stream",
     "text": [
      "enter a string:language\n",
      "l 1\n",
      "a 2\n",
      "n 1\n",
      "g 2\n",
      "u 1\n",
      "a 2\n",
      "g 2\n",
      "e 1\n"
     ]
    }
   ],
   "source": [
    "# WAP to input a string and count  occurence of each character\n",
    "\n",
    "# \"this is a string\" -> t:2 h:1 i:3 s:3... ' ':4..\n",
    "# \"language\" -> l:1 a:2 .....\n",
    "\n",
    "s = input(\"enter a string:\")\n",
    "\n",
    "for c in s:\n",
    "    print(c, s.count(c))\n",
    "    \n",
    "# TC: n^2"
   ]
  },
  {
   "cell_type": "code",
   "execution_count": 37,
   "id": "9ae09b5b",
   "metadata": {},
   "outputs": [
    {
     "name": "stdout",
     "output_type": "stream",
     "text": [
      "True\n",
      "False\n"
     ]
    }
   ],
   "source": [
    "# in keyword and dict\n",
    "d = {1:10}\n",
    "print(1 in d) # looup is always by key -> O(1)\n",
    "print(10 in d)"
   ]
  },
  {
   "cell_type": "code",
   "execution_count": 38,
   "id": "030d9427",
   "metadata": {},
   "outputs": [
    {
     "name": "stdout",
     "output_type": "stream",
     "text": [
      "enter a string:language\n",
      "{'l': 1, 'a': 2, 'n': 1, 'g': 2, 'u': 1, 'e': 1}\n"
     ]
    }
   ],
   "source": [
    "s = input(\"enter a string:\")\n",
    "\n",
    "d = {}\n",
    "for c in s:\n",
    "    if c in d:\n",
    "        d[c] = d[c] + 1\n",
    "    else:\n",
    "        d[c] = 1\n",
    "        \n",
    "print(d)\n",
    "    \n",
    "# TC: n^2\n",
    "# s = abcaca\n",
    "#  c    d\n",
    "#      {}\n",
    "#  'a' {'a':1}\n",
    "#  'b' {'a':1, 'b':1}\n",
    "#  'c' {'a':1, 'b':1, 'c':1}\n",
    "#  'a' {'a':2, 'b':1, 'c':1}\n",
    "#  'c' {'a':2, 'b':1, 'c':2}\n",
    "#  'a' {'a':3, 'b':1, 'c':2}\n",
    "\n",
    "# TC -> N"
   ]
  },
  {
   "cell_type": "code",
   "execution_count": null,
   "id": "6ac652f5",
   "metadata": {},
   "outputs": [],
   "source": []
  },
  {
   "cell_type": "code",
   "execution_count": 39,
   "id": "ca447a8d",
   "metadata": {},
   "outputs": [
    {
     "name": "stdout",
     "output_type": "stream",
     "text": [
      "{1: 10, 2: 20}\n",
      "{1: 10, 2: 'two', 3: 30}\n",
      "{3: 30, 2: 'two'}\n"
     ]
    }
   ],
   "source": [
    "# insertion in dict\n",
    "d1 = {}\n",
    "d1[1] =10\n",
    "d1[2] =20\n",
    "print(d1)\n",
    "\n",
    "d2 = {3:30, 2:\"two\"}\n",
    "d1.update(d2)\n",
    "print(d1)\n",
    "print(d2)"
   ]
  },
  {
   "cell_type": "code",
   "execution_count": 43,
   "id": "91589c6b",
   "metadata": {},
   "outputs": [
    {
     "name": "stdout",
     "output_type": "stream",
     "text": [
      "{1: 10, 2: 20}\n",
      "10\n",
      "{2: 20}\n"
     ]
    }
   ],
   "source": [
    "# deletion\n",
    "d = {1:10, 2:20}\n",
    "print(d)\n",
    "r = d.pop(1)\n",
    "print(r)\n",
    "print(d)"
   ]
  },
  {
   "cell_type": "code",
   "execution_count": 44,
   "id": "d9b7ab67",
   "metadata": {},
   "outputs": [
    {
     "name": "stdout",
     "output_type": "stream",
     "text": [
      "{1: 10, 2: 20}\n"
     ]
    },
    {
     "ename": "KeyError",
     "evalue": "3",
     "output_type": "error",
     "traceback": [
      "\u001b[1;31m---------------------------------------------------------------------------\u001b[0m",
      "\u001b[1;31mKeyError\u001b[0m                                  Traceback (most recent call last)",
      "\u001b[1;32mC:\\Users\\LEANGA~1\\AppData\\Local\\Temp/ipykernel_24560/536199914.py\u001b[0m in \u001b[0;36m<module>\u001b[1;34m\u001b[0m\n\u001b[0;32m      2\u001b[0m \u001b[0md\u001b[0m \u001b[1;33m=\u001b[0m \u001b[1;33m{\u001b[0m\u001b[1;36m1\u001b[0m\u001b[1;33m:\u001b[0m\u001b[1;36m10\u001b[0m\u001b[1;33m,\u001b[0m \u001b[1;36m2\u001b[0m\u001b[1;33m:\u001b[0m\u001b[1;36m20\u001b[0m\u001b[1;33m}\u001b[0m\u001b[1;33m\u001b[0m\u001b[1;33m\u001b[0m\u001b[0m\n\u001b[0;32m      3\u001b[0m \u001b[0mprint\u001b[0m\u001b[1;33m(\u001b[0m\u001b[0md\u001b[0m\u001b[1;33m)\u001b[0m\u001b[1;33m\u001b[0m\u001b[1;33m\u001b[0m\u001b[0m\n\u001b[1;32m----> 4\u001b[1;33m \u001b[0mr\u001b[0m \u001b[1;33m=\u001b[0m \u001b[0md\u001b[0m\u001b[1;33m.\u001b[0m\u001b[0mpop\u001b[0m\u001b[1;33m(\u001b[0m\u001b[1;36m3\u001b[0m\u001b[1;33m)\u001b[0m\u001b[1;33m\u001b[0m\u001b[1;33m\u001b[0m\u001b[0m\n\u001b[0m\u001b[0;32m      5\u001b[0m \u001b[0mprint\u001b[0m\u001b[1;33m(\u001b[0m\u001b[0mr\u001b[0m\u001b[1;33m)\u001b[0m\u001b[1;33m\u001b[0m\u001b[1;33m\u001b[0m\u001b[0m\n\u001b[0;32m      6\u001b[0m \u001b[0mprint\u001b[0m\u001b[1;33m(\u001b[0m\u001b[0md\u001b[0m\u001b[1;33m)\u001b[0m\u001b[1;33m\u001b[0m\u001b[1;33m\u001b[0m\u001b[0m\n",
      "\u001b[1;31mKeyError\u001b[0m: 3"
     ]
    }
   ],
   "source": [
    "# deletion\n",
    "d = {1:10, 2:20}\n",
    "print(d)\n",
    "r = d.pop(3)\n",
    "print(r)\n",
    "print(d)"
   ]
  },
  {
   "cell_type": "code",
   "execution_count": 49,
   "id": "9fdb25cd",
   "metadata": {},
   "outputs": [
    {
     "name": "stdout",
     "output_type": "stream",
     "text": [
      "{1: 10, 2: 20}\n",
      "300\n",
      "20\n",
      "{1: 10}\n"
     ]
    }
   ],
   "source": [
    "# deletion\n",
    "d = {1:10, 2:20}\n",
    "print(d)\n",
    "r = d.pop(3,300)\n",
    "print(r)\n",
    "r = d.pop(2,200)\n",
    "print(r)\n",
    "print(d)"
   ]
  },
  {
   "cell_type": "code",
   "execution_count": 48,
   "id": "7d3d6a9c",
   "metadata": {},
   "outputs": [
    {
     "name": "stdout",
     "output_type": "stream",
     "text": [
      "{1: 10, 2: 20, 3: 30}\n",
      "30\n",
      "20\n",
      "{1: 10}\n"
     ]
    }
   ],
   "source": [
    "# deletion\n",
    "d = {1:10, 2:20, 3:30}\n",
    "print(d)\n",
    "r = d.pop(3,300)\n",
    "print(r)\n",
    "r = d.pop(2,200)\n",
    "print(r)\n",
    "print(d)"
   ]
  },
  {
   "cell_type": "code",
   "execution_count": 50,
   "id": "90068d56",
   "metadata": {},
   "outputs": [
    {
     "name": "stdout",
     "output_type": "stream",
     "text": [
      "{1: 10, 2: 20}\n",
      "{2: 20}\n"
     ]
    }
   ],
   "source": [
    "# deletion\n",
    "d = {1:10, 2:20}\n",
    "print(d)\n",
    "del d[1] # del keyword doesn't return the deleted value for the key\n",
    "print(d)"
   ]
  },
  {
   "cell_type": "code",
   "execution_count": 53,
   "id": "5734aa56",
   "metadata": {},
   "outputs": [
    {
     "name": "stdout",
     "output_type": "stream",
     "text": [
      "10\n",
      "10\n",
      "None\n",
      "30\n"
     ]
    }
   ],
   "source": [
    "# reading/getting from dict\n",
    "d = {1:10, 2:20}\n",
    "print(d[1])\n",
    "print(d.get(1))\n",
    "print(d.get(3))\n",
    "print(d.get(3,30))"
   ]
  },
  {
   "cell_type": "code",
   "execution_count": 55,
   "id": "9f67c90f",
   "metadata": {},
   "outputs": [
    {
     "name": "stdout",
     "output_type": "stream",
     "text": [
      "enter a string:abca\n",
      "{'a': 2, 'b': 1, 'c': 1}\n"
     ]
    }
   ],
   "source": [
    "s = input(\"enter a string:\")\n",
    "\n",
    "d = {}\n",
    "for c in s:\n",
    "    d[c] = d.get(c, 0) + 1\n",
    "        \n",
    "print(d)"
   ]
  },
  {
   "cell_type": "code",
   "execution_count": null,
   "id": "59b62728",
   "metadata": {},
   "outputs": [],
   "source": [
    "# getting all key/values/items"
   ]
  },
  {
   "cell_type": "code",
   "execution_count": 58,
   "id": "f15b1e34",
   "metadata": {},
   "outputs": [
    {
     "name": "stdout",
     "output_type": "stream",
     "text": [
      "dict_keys([1, 2, 'a'])\n",
      "[1, 2, 'a']\n",
      "1\n",
      "2\n",
      "a\n"
     ]
    }
   ],
   "source": [
    "d = {1:10, 2:20, 'a':'A'}\n",
    "print(d.keys())\n",
    "print(list(d.keys()))\n",
    "\n",
    "for v in d.keys():\n",
    "    print(v)"
   ]
  },
  {
   "cell_type": "code",
   "execution_count": 59,
   "id": "5acff360",
   "metadata": {},
   "outputs": [
    {
     "name": "stdout",
     "output_type": "stream",
     "text": [
      "dict_values([10, 20, 'A'])\n",
      "[10, 20, 'A']\n",
      "10\n",
      "20\n",
      "A\n"
     ]
    }
   ],
   "source": [
    "d = {1:10, 2:20, 'a':'A'}\n",
    "print(d.values())\n",
    "print(list(d.values()))\n",
    "\n",
    "for v in d.values():\n",
    "    print(v)"
   ]
  },
  {
   "cell_type": "code",
   "execution_count": 60,
   "id": "0f69240b",
   "metadata": {},
   "outputs": [
    {
     "name": "stdout",
     "output_type": "stream",
     "text": [
      "dict_items([(1, 10), (2, 20), ('a', 'A')])\n",
      "[(1, 10), (2, 20), ('a', 'A')]\n",
      "(1, 10)\n",
      "(2, 20)\n",
      "('a', 'A')\n"
     ]
    }
   ],
   "source": [
    "d = {1:10, 2:20, 'a':'A'}\n",
    "print(d.items())\n",
    "print(list(d.items()))\n",
    "\n",
    "for v in d.items():\n",
    "    print(v)"
   ]
  },
  {
   "cell_type": "code",
   "execution_count": 61,
   "id": "423910e2",
   "metadata": {},
   "outputs": [
    {
     "name": "stdout",
     "output_type": "stream",
     "text": [
      "enter a string:abca\n",
      "a : 2\n",
      "b : 1\n",
      "c : 1\n"
     ]
    }
   ],
   "source": [
    "s = input(\"enter a string:\")\n",
    "\n",
    "d = {}\n",
    "for c in s:\n",
    "    d[c] = d.get(c, 0) + 1\n",
    "        \n",
    "for k in d.keys():\n",
    "    print(k , \":\", d[k])"
   ]
  },
  {
   "cell_type": "code",
   "execution_count": 63,
   "id": "f429fed6",
   "metadata": {},
   "outputs": [
    {
     "name": "stdout",
     "output_type": "stream",
     "text": [
      "1\n",
      "2\n",
      "a\n"
     ]
    }
   ],
   "source": [
    "# a for loop on a dict, gives the keys\n",
    "d = {1:10, 2: 20, 'a': \"A\"}\n",
    "\n",
    "for k in d:\n",
    "    print(k)"
   ]
  },
  {
   "cell_type": "code",
   "execution_count": 64,
   "id": "8850720e",
   "metadata": {},
   "outputs": [
    {
     "name": "stdout",
     "output_type": "stream",
     "text": [
      "enter a string:abca\n",
      "a : 2\n",
      "b : 1\n",
      "c : 1\n"
     ]
    }
   ],
   "source": [
    "s = input(\"enter a string:\")\n",
    "\n",
    "d = {}\n",
    "for c in s:\n",
    "    d[c] = d.get(c, 0) + 1\n",
    "        \n",
    "for k in d:\n",
    "    print(k , \":\", d[k])"
   ]
  },
  {
   "cell_type": "code",
   "execution_count": 65,
   "id": "9a7871e8",
   "metadata": {},
   "outputs": [
    {
     "name": "stdout",
     "output_type": "stream",
     "text": [
      "enter a string:abca\n",
      "a : 2\n",
      "b : 1\n",
      "c : 1\n"
     ]
    }
   ],
   "source": [
    "s = input(\"enter a string:\")\n",
    "\n",
    "d = {}\n",
    "for c in s:\n",
    "    d[c] = d.get(c, 0) + 1\n",
    "\n",
    "for item in d.items():\n",
    "    print(item[0] , \":\", item[1])"
   ]
  },
  {
   "cell_type": "code",
   "execution_count": 67,
   "id": "a6325ad3",
   "metadata": {},
   "outputs": [
    {
     "name": "stdout",
     "output_type": "stream",
     "text": [
      "enter a string:this is a string.\n",
      "t : 2\n",
      "h : 1\n",
      "i : 3\n",
      "s : 3\n",
      "  : 3\n",
      "a : 1\n",
      "r : 1\n",
      "n : 1\n",
      "g : 1\n",
      ". : 1\n"
     ]
    }
   ],
   "source": [
    "s = input(\"enter a string:\")\n",
    "\n",
    "d = {}\n",
    "for c in s:\n",
    "    d[c] = d.get(c, 0) + 1\n",
    "\n",
    "for k,v in d.items():\n",
    "    print(k , \":\", v)"
   ]
  },
  {
   "cell_type": "code",
   "execution_count": 68,
   "id": "3def8f2a",
   "metadata": {},
   "outputs": [
    {
     "name": "stdout",
     "output_type": "stream",
     "text": [
      "enter a string:ABC abc123.,\n",
      "A : 1\n",
      "B : 1\n",
      "C : 1\n",
      "a : 1\n",
      "b : 1\n",
      "c : 1\n"
     ]
    }
   ],
   "source": [
    "# count frequency of all alphabets in a string\n",
    "s = input(\"enter a string:\")\n",
    "\n",
    "d = {}\n",
    "for c in s:\n",
    "    if c.isalpha():\n",
    "        d[c] = d.get(c, 0) + 1\n",
    "\n",
    "for k,v in d.items():\n",
    "    print(k , \":\", v)"
   ]
  }
 ],
 "metadata": {
  "kernelspec": {
   "display_name": "Python 3",
   "language": "python",
   "name": "python3"
  },
  "language_info": {
   "codemirror_mode": {
    "name": "ipython",
    "version": 3
   },
   "file_extension": ".py",
   "mimetype": "text/x-python",
   "name": "python",
   "nbconvert_exporter": "python",
   "pygments_lexer": "ipython3",
   "version": "3.8.8"
  }
 },
 "nbformat": 4,
 "nbformat_minor": 5
}
