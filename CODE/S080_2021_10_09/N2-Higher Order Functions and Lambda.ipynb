{
 "cells": [
  {
   "cell_type": "code",
   "execution_count": 1,
   "id": "cdb85bba",
   "metadata": {},
   "outputs": [
    {
     "name": "stdout",
     "output_type": "stream",
     "text": [
      "10\n"
     ]
    }
   ],
   "source": [
    "def f():\n",
    "    return 10\n",
    "\n",
    "f1 = f\n",
    "\n",
    "print(f1())"
   ]
  },
  {
   "cell_type": "code",
   "execution_count": 4,
   "id": "a6f7e6c8",
   "metadata": {},
   "outputs": [
    {
     "name": "stdout",
     "output_type": "stream",
     "text": [
      "10\n",
      "20\n"
     ]
    },
    {
     "ename": "TypeError",
     "evalue": "f3() missing 1 required positional argument: 'x'",
     "output_type": "error",
     "traceback": [
      "\u001b[1;31m---------------------------------------------------------------------------\u001b[0m",
      "\u001b[1;31mTypeError\u001b[0m                                 Traceback (most recent call last)",
      "\u001b[1;32mC:\\Users\\LEANGA~1\\AppData\\Local\\Temp/ipykernel_17272/2460032317.py\u001b[0m in \u001b[0;36m<module>\u001b[1;34m\u001b[0m\n\u001b[0;32m     15\u001b[0m \u001b[0mprint\u001b[0m\u001b[1;33m(\u001b[0m \u001b[0mcaller\u001b[0m\u001b[1;33m(\u001b[0m\u001b[0mf1\u001b[0m\u001b[1;33m)\u001b[0m \u001b[1;33m)\u001b[0m\u001b[1;33m\u001b[0m\u001b[1;33m\u001b[0m\u001b[0m\n\u001b[0;32m     16\u001b[0m \u001b[0mprint\u001b[0m\u001b[1;33m(\u001b[0m \u001b[0mcaller\u001b[0m\u001b[1;33m(\u001b[0m\u001b[0mf2\u001b[0m\u001b[1;33m)\u001b[0m \u001b[1;33m)\u001b[0m\u001b[1;33m\u001b[0m\u001b[1;33m\u001b[0m\u001b[0m\n\u001b[1;32m---> 17\u001b[1;33m \u001b[0mprint\u001b[0m\u001b[1;33m(\u001b[0m \u001b[0mcaller\u001b[0m\u001b[1;33m(\u001b[0m\u001b[0mf3\u001b[0m\u001b[1;33m)\u001b[0m \u001b[1;33m)\u001b[0m\u001b[1;33m\u001b[0m\u001b[1;33m\u001b[0m\u001b[0m\n\u001b[0m",
      "\u001b[1;32mC:\\Users\\LEANGA~1\\AppData\\Local\\Temp/ipykernel_17272/2460032317.py\u001b[0m in \u001b[0;36mcaller\u001b[1;34m(funct)\u001b[0m\n\u001b[0;32m     11\u001b[0m \u001b[1;33m\u001b[0m\u001b[0m\n\u001b[0;32m     12\u001b[0m \u001b[1;32mdef\u001b[0m \u001b[0mcaller\u001b[0m\u001b[1;33m(\u001b[0m\u001b[0mfunct\u001b[0m\u001b[1;33m)\u001b[0m\u001b[1;33m:\u001b[0m\u001b[1;33m\u001b[0m\u001b[1;33m\u001b[0m\u001b[0m\n\u001b[1;32m---> 13\u001b[1;33m     \u001b[1;32mreturn\u001b[0m \u001b[0mfunct\u001b[0m\u001b[1;33m(\u001b[0m\u001b[1;33m)\u001b[0m\u001b[1;33m\u001b[0m\u001b[1;33m\u001b[0m\u001b[0m\n\u001b[0m\u001b[0;32m     14\u001b[0m \u001b[1;33m\u001b[0m\u001b[0m\n\u001b[0;32m     15\u001b[0m \u001b[0mprint\u001b[0m\u001b[1;33m(\u001b[0m \u001b[0mcaller\u001b[0m\u001b[1;33m(\u001b[0m\u001b[0mf1\u001b[0m\u001b[1;33m)\u001b[0m \u001b[1;33m)\u001b[0m\u001b[1;33m\u001b[0m\u001b[1;33m\u001b[0m\u001b[0m\n",
      "\u001b[1;31mTypeError\u001b[0m: f3() missing 1 required positional argument: 'x'"
     ]
    }
   ],
   "source": [
    "# passing function to a function\n",
    "\n",
    "def f1():\n",
    "    return 10\n",
    "\n",
    "def f2():\n",
    "    return 20\n",
    "\n",
    "def f3(x):\n",
    "    return 10*x\n",
    "\n",
    "def caller(funct):\n",
    "    return funct()\n",
    "\n",
    "print( caller(f1) )\n",
    "print( caller(f2) )\n",
    "print( caller(f3) )"
   ]
  },
  {
   "cell_type": "code",
   "execution_count": 5,
   "id": "77f42a24",
   "metadata": {},
   "outputs": [],
   "source": [
    "def mapper(funct, seq):\n",
    "    res = []\n",
    "    for v in seq:\n",
    "        res.append( funct(v) )\n",
    "        \n",
    "    return res\n"
   ]
  },
  {
   "cell_type": "code",
   "execution_count": 8,
   "id": "4184849a",
   "metadata": {},
   "outputs": [
    {
     "name": "stdout",
     "output_type": "stream",
     "text": [
      "[100, 400, 900, 1600]\n",
      "[0, 1, 4, 9, 16, 25, 36, 49, 64, 81]\n",
      "['a', 'b', 'c', 'd', 'a', 'b', 'c']\n"
     ]
    }
   ],
   "source": [
    "a1 = [10,20,30,40]\n",
    "\n",
    "def square(x):\n",
    "    return x**2\n",
    "\n",
    "r = mapper(square, a1)\n",
    "print(r)\n",
    "\n",
    "r = mapper(square, range(10))\n",
    "print(r)\n",
    "\n",
    "r = mapper(str.lower, 'abcdABC')\n",
    "print(r)"
   ]
  },
  {
   "cell_type": "code",
   "execution_count": null,
   "id": "9babaf2d",
   "metadata": {},
   "outputs": [],
   "source": []
  },
  {
   "cell_type": "code",
   "execution_count": null,
   "id": "f42b6c5e",
   "metadata": {},
   "outputs": [],
   "source": []
  },
  {
   "cell_type": "code",
   "execution_count": null,
   "id": "7cf05348",
   "metadata": {},
   "outputs": [],
   "source": [
    "# built-in functins"
   ]
  },
  {
   "cell_type": "code",
   "execution_count": 11,
   "id": "3116a026",
   "metadata": {},
   "outputs": [
    {
     "name": "stdout",
     "output_type": "stream",
     "text": [
      "<map object at 0x000002034FC0E1C0>\n",
      "[100, 400, 900, 1600]\n",
      "[]\n"
     ]
    }
   ],
   "source": [
    "a1 = [10,20,30,40]\n",
    "\n",
    "def square(x):\n",
    "    return x**2\n",
    "\n",
    "r = map(square, a1) # map object is an iterable/sequence\n",
    "print(r)\n",
    "\n",
    "print(list(r))\n",
    "print(list(r))"
   ]
  },
  {
   "cell_type": "code",
   "execution_count": 12,
   "id": "61e53729",
   "metadata": {},
   "outputs": [
    {
     "name": "stdout",
     "output_type": "stream",
     "text": [
      "[100, 400, 900, 1600]\n"
     ]
    }
   ],
   "source": [
    "a1 = [10,20,30,40]\n",
    "\n",
    "def square(x):\n",
    "    return x**2\n",
    "\n",
    "res = []\n",
    "for v in a1:\n",
    "    res.append( square(v) )\n",
    "    \n",
    "print(res)"
   ]
  },
  {
   "cell_type": "code",
   "execution_count": null,
   "id": "a369b00f",
   "metadata": {},
   "outputs": [],
   "source": [
    "# WAP to input a string and invert the case of all characters using map.\n"
   ]
  },
  {
   "cell_type": "code",
   "execution_count": 15,
   "id": "412d1ec3",
   "metadata": {},
   "outputs": [
    {
     "name": "stdout",
     "output_type": "stream",
     "text": [
      "enter a stringabcAB\n",
      "ABCab\n"
     ]
    }
   ],
   "source": [
    "seq=input(\"enter a string\")\n",
    "def case(seq):\n",
    "    return seq.swapcase()\n",
    "\n",
    "r=map(case,seq)\n",
    "print(''.join(r))\n"
   ]
  },
  {
   "cell_type": "code",
   "execution_count": 18,
   "id": "cc6bce26",
   "metadata": {},
   "outputs": [
    {
     "name": "stdout",
     "output_type": "stream",
     "text": [
      "enter a stringabABC\n",
      "ABabc\n"
     ]
    }
   ],
   "source": [
    "seq=input(\"enter a string\")\n",
    "def case(s):\n",
    "    if s.islower():\n",
    "        return s.upper()\n",
    "    else:\n",
    "        return s.lower()\n",
    "r=map(case,seq)\n",
    "print(''.join(r))\n"
   ]
  },
  {
   "cell_type": "code",
   "execution_count": 19,
   "id": "52df2349",
   "metadata": {},
   "outputs": [
    {
     "data": {
      "text/plain": [
       "'PROCESSINGsTRINGSWITHMAP'"
      ]
     },
     "execution_count": 19,
     "metadata": {},
     "output_type": "execute_result"
    }
   ],
   "source": [
    "string_it = [\"processing\", \"Strings\", \"with\", \"map\"]\n",
    "''.join(map(str.swapcase, string_it))\n"
   ]
  },
  {
   "cell_type": "code",
   "execution_count": null,
   "id": "0f2b14fe",
   "metadata": {},
   "outputs": [],
   "source": []
  },
  {
   "cell_type": "code",
   "execution_count": 21,
   "id": "7be4b606",
   "metadata": {},
   "outputs": [
    {
     "name": "stdout",
     "output_type": "stream",
     "text": [
      "enter numbers separated by space:1 2 3 4\n",
      "[1, 2, 3, 4]\n"
     ]
    }
   ],
   "source": [
    "# WAP to input integers separated by space\n",
    "\n",
    "s = input(\"enter numbers separated by space:\")\n",
    "\n",
    "nums = map(int, s.split())\n",
    "print(list(nums))"
   ]
  },
  {
   "cell_type": "code",
   "execution_count": null,
   "id": "865122d8",
   "metadata": {},
   "outputs": [],
   "source": []
  },
  {
   "cell_type": "code",
   "execution_count": 23,
   "id": "e3b66814",
   "metadata": {},
   "outputs": [
    {
     "name": "stdout",
     "output_type": "stream",
     "text": [
      "['a', 'bb', 'cdcdcd']\n"
     ]
    }
   ],
   "source": [
    "def times(x, y):\n",
    "    return x*y\n",
    "\n",
    "a = ['a', 'b', 'cd', 'q']\n",
    "b = [1,2,3]\n",
    "\n",
    "r = map(times, a, b)\n",
    "\n",
    "print(list(r))"
   ]
  },
  {
   "cell_type": "code",
   "execution_count": null,
   "id": "fa009f30",
   "metadata": {},
   "outputs": [],
   "source": []
  },
  {
   "cell_type": "code",
   "execution_count": 25,
   "id": "0ed2791e",
   "metadata": {},
   "outputs": [
    {
     "name": "stdout",
     "output_type": "stream",
     "text": [
      "True\n",
      "False\n"
     ]
    }
   ],
   "source": [
    "# filter\n",
    "\n",
    "a = [1,2,3,4,5]\n",
    "\n",
    "def is_even(x):\n",
    "    return x%2 == 0\n",
    "\n",
    "\n",
    "print(is_even(10))\n",
    "print(is_even(11))"
   ]
  },
  {
   "cell_type": "code",
   "execution_count": 28,
   "id": "a5672249",
   "metadata": {},
   "outputs": [
    {
     "name": "stdout",
     "output_type": "stream",
     "text": [
      "<filter object at 0x000002034FBCF640>\n",
      "[2, 4]\n"
     ]
    }
   ],
   "source": [
    "r = filter(is_even, a)\n",
    "print(r)\n",
    "print(list(r))"
   ]
  },
  {
   "cell_type": "code",
   "execution_count": 29,
   "id": "134999ac",
   "metadata": {},
   "outputs": [
    {
     "name": "stdout",
     "output_type": "stream",
     "text": [
      "['A', 'B', 'Q']\n"
     ]
    }
   ],
   "source": [
    "s = \"abc AB pQ\"\n",
    "print(list( filter(str.isupper, s)) )"
   ]
  },
  {
   "cell_type": "code",
   "execution_count": 31,
   "id": "73f4a492",
   "metadata": {},
   "outputs": [
    {
     "name": "stdout",
     "output_type": "stream",
     "text": [
      "['AB', 'Pq']\n"
     ]
    }
   ],
   "source": [
    "s = \"abc AB pQ Pq\"\n",
    "\n",
    "def start_with_capital(s):\n",
    "    return len(s) > 0 and s[0].isupper()\n",
    "\n",
    "print(list( filter(start_with_capital, s.split())) )"
   ]
  },
  {
   "cell_type": "code",
   "execution_count": 36,
   "id": "230b4929",
   "metadata": {},
   "outputs": [
    {
     "name": "stdout",
     "output_type": "stream",
     "text": [
      "['Pq', 'Abcd']\n"
     ]
    }
   ],
   "source": [
    "s = \"abc AB pQ Pq Abcd AbC\"\n",
    "\n",
    "print(list( filter(str.istitle, s.split())) )"
   ]
  },
  {
   "cell_type": "code",
   "execution_count": null,
   "id": "754d7bd6",
   "metadata": {},
   "outputs": [],
   "source": []
  },
  {
   "cell_type": "code",
   "execution_count": null,
   "id": "85ec1916",
   "metadata": {},
   "outputs": [],
   "source": [
    "# reduce"
   ]
  },
  {
   "cell_type": "code",
   "execution_count": 43,
   "id": "5bcfebc3",
   "metadata": {},
   "outputs": [
    {
     "name": "stdout",
     "output_type": "stream",
     "text": [
      "1 2\n",
      "3 3\n",
      "6 4\n",
      "10 6\n",
      "16 67\n",
      "83\n",
      "83\n"
     ]
    }
   ],
   "source": [
    "from functools import reduce\n",
    "\n",
    "def add(x,y):\n",
    "    print(x,y)\n",
    "    return x + y\n",
    "\n",
    "a = [1,2,3,4,6,67]\n",
    "\n",
    "print(reduce(add, a))\n",
    "print(sum(a))"
   ]
  },
  {
   "cell_type": "code",
   "execution_count": 42,
   "id": "f7e5cc64",
   "metadata": {},
   "outputs": [
    {
     "name": "stdout",
     "output_type": "stream",
     "text": [
      "3\n",
      "3\n"
     ]
    }
   ],
   "source": [
    "def less(x,y):\n",
    "    return x if x < y else y\n",
    "\n",
    "a = [10,20,3,4,6,67]\n",
    "\n",
    "print(reduce(less, a))\n",
    "print(min(a))"
   ]
  },
  {
   "cell_type": "code",
   "execution_count": null,
   "id": "f850702c",
   "metadata": {},
   "outputs": [],
   "source": []
  },
  {
   "cell_type": "code",
   "execution_count": null,
   "id": "cc623b38",
   "metadata": {},
   "outputs": [],
   "source": [
    "# lambda\n",
    "# anonymous function: doesn't have a name\n",
    "# lambda can have 0 or more arguments\n",
    "# lamdba always returns a value but doesn't require a return statement\n",
    "# lambda can be written in a single line/statemnt"
   ]
  },
  {
   "cell_type": "code",
   "execution_count": 45,
   "id": "a31ac5b8",
   "metadata": {},
   "outputs": [
    {
     "name": "stdout",
     "output_type": "stream",
     "text": [
      "100\n",
      "100\n"
     ]
    }
   ],
   "source": [
    "f = lambda x: x**2\n",
    "\n",
    "def f1(x):\n",
    "    return x**2\n",
    "\n",
    "print(f(10))\n",
    "print(f1(10))\n"
   ]
  },
  {
   "cell_type": "code",
   "execution_count": 47,
   "id": "2b6ac673",
   "metadata": {},
   "outputs": [
    {
     "name": "stdout",
     "output_type": "stream",
     "text": [
      "[1, 4, 9, 16, 25]\n"
     ]
    }
   ],
   "source": [
    "a = [1,2,3,4,5]\n",
    "\n",
    "m = map(lambda x: x**2, a)\n",
    "print(list(m))"
   ]
  },
  {
   "cell_type": "code",
   "execution_count": 49,
   "id": "27f85437",
   "metadata": {},
   "outputs": [
    {
     "name": "stdout",
     "output_type": "stream",
     "text": [
      "[2, 4]\n"
     ]
    }
   ],
   "source": [
    "# filter\n",
    "\n",
    "a = [1,2,3,4,5]\n",
    "\n",
    "f = filter(lambda x: x%2 == 0, a)\n",
    "print(list(f))"
   ]
  },
  {
   "cell_type": "code",
   "execution_count": 50,
   "id": "8b4f70f6",
   "metadata": {},
   "outputs": [
    {
     "name": "stdout",
     "output_type": "stream",
     "text": [
      "1\n"
     ]
    }
   ],
   "source": [
    "print( (lambda : 1)() )"
   ]
  },
  {
   "cell_type": "code",
   "execution_count": 52,
   "id": "fe2a0a77",
   "metadata": {},
   "outputs": [
    {
     "name": "stdout",
     "output_type": "stream",
     "text": [
      "83\n",
      "67\n"
     ]
    }
   ],
   "source": [
    "from functools import reduce\n",
    "\n",
    "a = [1,2,3,4,6,67]\n",
    "\n",
    "print(reduce(lambda x,y : x+y, a))\n",
    "\n",
    "print(reduce(lambda x,y : x if x>y else y, a))"
   ]
  },
  {
   "cell_type": "code",
   "execution_count": null,
   "id": "7d6fd09d",
   "metadata": {},
   "outputs": [],
   "source": []
  },
  {
   "cell_type": "code",
   "execution_count": null,
   "id": "de3b48a9",
   "metadata": {},
   "outputs": [],
   "source": []
  },
  {
   "cell_type": "code",
   "execution_count": 3,
   "id": "f3878d5e",
   "metadata": {},
   "outputs": [
    {
     "name": "stdout",
     "output_type": "stream",
     "text": [
      "enter a operation(+,-,*,/) to do or e to exit:/\n",
      "Enter first operand:10\n",
      "Enter second operand:20\n",
      "10 / 20 = 0.5\n",
      "enter a operation(+,-,*,/) to do or e to exit:+\n",
      "Enter first operand:1\n",
      "Enter second operand:2\n",
      "1 + 2 = 3\n",
      "enter a operation(+,-,*,/) to do or e to exit:e\n"
     ]
    }
   ],
   "source": [
    "d = {\n",
    "    '+': lambda x,y: x + y,\n",
    "    '-': lambda x,y: x - y,\n",
    "    '*': lambda x,y: x * y,\n",
    "    '/': lambda x,y: x / y\n",
    "}\n",
    "\n",
    "\n",
    "while True:\n",
    "    op = input(\"enter a operation(+,-,*,/) to do or e to exit:\")\n",
    "    \n",
    "    if op in d:\n",
    "        n1 = int(input(\"Enter first operand:\"))\n",
    "        n2 = int(input(\"Enter second operand:\"))\n",
    "        \n",
    "        r = d[op](n1, n2)\n",
    "        \n",
    "        print(f\"{n1} {op} {n2} = {r}\")\n",
    "    elif op == \"e\":\n",
    "        break\n"
   ]
  },
  {
   "cell_type": "code",
   "execution_count": null,
   "id": "1d1f4df7",
   "metadata": {},
   "outputs": [],
   "source": []
  }
 ],
 "metadata": {
  "kernelspec": {
   "display_name": "Python 3",
   "language": "python",
   "name": "python3"
  },
  "language_info": {
   "codemirror_mode": {
    "name": "ipython",
    "version": 3
   },
   "file_extension": ".py",
   "mimetype": "text/x-python",
   "name": "python",
   "nbconvert_exporter": "python",
   "pygments_lexer": "ipython3",
   "version": "3.8.8"
  }
 },
 "nbformat": 4,
 "nbformat_minor": 5
}
